{
 "cells": [
  {
   "attachments": {},
   "cell_type": "markdown",
   "metadata": {},
   "source": [
    "# Edamame notebook example"
   ]
  },
  {
   "cell_type": "code",
   "execution_count": 7,
   "metadata": {},
   "outputs": [
    {
     "data": {
      "text/plain": [
       "'0.22'"
      ]
     },
     "execution_count": 7,
     "metadata": {},
     "output_type": "execute_result"
    }
   ],
   "source": [
    "import pandas as pd \n",
    "#from edamame import eda \n",
    "import edamame as eda\n",
    "import numpy as np \n",
    "# eda version\n",
    "eda.__version__"
   ]
  },
  {
   "cell_type": "code",
   "execution_count": 8,
   "metadata": {},
   "outputs": [
    {
     "name": "stdout",
     "output_type": "stream",
     "text": [
      "<class 'pandas.core.frame.DataFrame'>\n",
      "RangeIndex: 13580 entries, 0 to 13579\n",
      "Data columns (total 21 columns):\n",
      " #   Column         Non-Null Count  Dtype  \n",
      "---  ------         --------------  -----  \n",
      " 0   Suburb         13580 non-null  object \n",
      " 1   Address        13580 non-null  object \n",
      " 2   Rooms          13580 non-null  int64  \n",
      " 3   Type           13580 non-null  object \n",
      " 4   Price          13580 non-null  float64\n",
      " 5   Method         13580 non-null  object \n",
      " 6   SellerG        13580 non-null  object \n",
      " 7   Date           13580 non-null  object \n",
      " 8   Distance       13580 non-null  float64\n",
      " 9   Postcode       13580 non-null  float64\n",
      " 10  Bedroom2       13580 non-null  float64\n",
      " 11  Bathroom       13580 non-null  float64\n",
      " 12  Car            13518 non-null  float64\n",
      " 13  Landsize       13580 non-null  float64\n",
      " 14  BuildingArea   7130 non-null   float64\n",
      " 15  YearBuilt      8205 non-null   float64\n",
      " 16  CouncilArea    12211 non-null  object \n",
      " 17  Lattitude      13580 non-null  float64\n",
      " 18  Longtitude     13580 non-null  float64\n",
      " 19  Regionname     13580 non-null  object \n",
      " 20  Propertycount  13580 non-null  float64\n",
      "dtypes: float64(12), int64(1), object(8)\n",
      "memory usage: 2.2+ MB\n"
     ]
    }
   ],
   "source": [
    "# dataset\n",
    "data = pd.read_csv('/Users/marcosalvalaggio/code/python/ds/data/melb_data/melb_data.csv')\n",
    "data.info()"
   ]
  },
  {
   "attachments": {},
   "cell_type": "markdown",
   "metadata": {},
   "source": [
    "### Dimensions"
   ]
  },
  {
   "cell_type": "code",
   "execution_count": 9,
   "metadata": {},
   "outputs": [
    {
     "data": {
      "text/markdown": [
       "Rows: 13580, Columns: 21"
      ],
      "text/plain": [
       "<IPython.core.display.Markdown object>"
      ]
     },
     "metadata": {},
     "output_type": "display_data"
    }
   ],
   "source": [
    "eda.dimensions(data)"
   ]
  },
  {
   "attachments": {},
   "cell_type": "markdown",
   "metadata": {},
   "source": [
    "### Describe distribution"
   ]
  },
  {
   "cell_type": "code",
   "execution_count": 10,
   "metadata": {},
   "outputs": [
    {
     "data": {
      "text/markdown": [
       "### Quantitative columns"
      ],
      "text/plain": [
       "<IPython.core.display.Markdown object>"
      ]
     },
     "metadata": {},
     "output_type": "display_data"
    },
    {
     "data": {
      "text/html": [
       "<div>\n",
       "<style scoped>\n",
       "    .dataframe tbody tr th:only-of-type {\n",
       "        vertical-align: middle;\n",
       "    }\n",
       "\n",
       "    .dataframe tbody tr th {\n",
       "        vertical-align: top;\n",
       "    }\n",
       "\n",
       "    .dataframe thead th {\n",
       "        text-align: right;\n",
       "    }\n",
       "</style>\n",
       "<table border=\"1\" class=\"dataframe\">\n",
       "  <thead>\n",
       "    <tr style=\"text-align: right;\">\n",
       "      <th></th>\n",
       "      <th>Rooms</th>\n",
       "      <th>Price</th>\n",
       "      <th>Distance</th>\n",
       "      <th>Postcode</th>\n",
       "      <th>Bedroom2</th>\n",
       "      <th>Bathroom</th>\n",
       "      <th>Car</th>\n",
       "      <th>Landsize</th>\n",
       "      <th>BuildingArea</th>\n",
       "      <th>YearBuilt</th>\n",
       "      <th>Lattitude</th>\n",
       "      <th>Longtitude</th>\n",
       "      <th>Propertycount</th>\n",
       "    </tr>\n",
       "  </thead>\n",
       "  <tbody>\n",
       "    <tr>\n",
       "      <th>count</th>\n",
       "      <td>13580.000000</td>\n",
       "      <td>1.358000e+04</td>\n",
       "      <td>13580.000000</td>\n",
       "      <td>13580.000000</td>\n",
       "      <td>13580.000000</td>\n",
       "      <td>13580.000000</td>\n",
       "      <td>13518.000000</td>\n",
       "      <td>13580.000000</td>\n",
       "      <td>7130.000000</td>\n",
       "      <td>8205.000000</td>\n",
       "      <td>13580.000000</td>\n",
       "      <td>13580.000000</td>\n",
       "      <td>13580.000000</td>\n",
       "    </tr>\n",
       "    <tr>\n",
       "      <th>mean</th>\n",
       "      <td>2.937997</td>\n",
       "      <td>1.075684e+06</td>\n",
       "      <td>10.137776</td>\n",
       "      <td>3105.301915</td>\n",
       "      <td>2.914728</td>\n",
       "      <td>1.534242</td>\n",
       "      <td>1.610075</td>\n",
       "      <td>558.416127</td>\n",
       "      <td>151.967650</td>\n",
       "      <td>1964.684217</td>\n",
       "      <td>-37.809203</td>\n",
       "      <td>144.995216</td>\n",
       "      <td>7454.417378</td>\n",
       "    </tr>\n",
       "    <tr>\n",
       "      <th>std</th>\n",
       "      <td>0.955748</td>\n",
       "      <td>6.393107e+05</td>\n",
       "      <td>5.868725</td>\n",
       "      <td>90.676964</td>\n",
       "      <td>0.965921</td>\n",
       "      <td>0.691712</td>\n",
       "      <td>0.962634</td>\n",
       "      <td>3990.669241</td>\n",
       "      <td>541.014538</td>\n",
       "      <td>37.273762</td>\n",
       "      <td>0.079260</td>\n",
       "      <td>0.103916</td>\n",
       "      <td>4378.581772</td>\n",
       "    </tr>\n",
       "    <tr>\n",
       "      <th>min</th>\n",
       "      <td>1.000000</td>\n",
       "      <td>8.500000e+04</td>\n",
       "      <td>0.000000</td>\n",
       "      <td>3000.000000</td>\n",
       "      <td>0.000000</td>\n",
       "      <td>0.000000</td>\n",
       "      <td>0.000000</td>\n",
       "      <td>0.000000</td>\n",
       "      <td>0.000000</td>\n",
       "      <td>1196.000000</td>\n",
       "      <td>-38.182550</td>\n",
       "      <td>144.431810</td>\n",
       "      <td>249.000000</td>\n",
       "    </tr>\n",
       "    <tr>\n",
       "      <th>25%</th>\n",
       "      <td>2.000000</td>\n",
       "      <td>6.500000e+05</td>\n",
       "      <td>6.100000</td>\n",
       "      <td>3044.000000</td>\n",
       "      <td>2.000000</td>\n",
       "      <td>1.000000</td>\n",
       "      <td>1.000000</td>\n",
       "      <td>177.000000</td>\n",
       "      <td>93.000000</td>\n",
       "      <td>1940.000000</td>\n",
       "      <td>-37.856822</td>\n",
       "      <td>144.929600</td>\n",
       "      <td>4380.000000</td>\n",
       "    </tr>\n",
       "    <tr>\n",
       "      <th>50%</th>\n",
       "      <td>3.000000</td>\n",
       "      <td>9.030000e+05</td>\n",
       "      <td>9.200000</td>\n",
       "      <td>3084.000000</td>\n",
       "      <td>3.000000</td>\n",
       "      <td>1.000000</td>\n",
       "      <td>2.000000</td>\n",
       "      <td>440.000000</td>\n",
       "      <td>126.000000</td>\n",
       "      <td>1970.000000</td>\n",
       "      <td>-37.802355</td>\n",
       "      <td>145.000100</td>\n",
       "      <td>6555.000000</td>\n",
       "    </tr>\n",
       "    <tr>\n",
       "      <th>75%</th>\n",
       "      <td>3.000000</td>\n",
       "      <td>1.330000e+06</td>\n",
       "      <td>13.000000</td>\n",
       "      <td>3148.000000</td>\n",
       "      <td>3.000000</td>\n",
       "      <td>2.000000</td>\n",
       "      <td>2.000000</td>\n",
       "      <td>651.000000</td>\n",
       "      <td>174.000000</td>\n",
       "      <td>1999.000000</td>\n",
       "      <td>-37.756400</td>\n",
       "      <td>145.058305</td>\n",
       "      <td>10331.000000</td>\n",
       "    </tr>\n",
       "    <tr>\n",
       "      <th>max</th>\n",
       "      <td>10.000000</td>\n",
       "      <td>9.000000e+06</td>\n",
       "      <td>48.100000</td>\n",
       "      <td>3977.000000</td>\n",
       "      <td>20.000000</td>\n",
       "      <td>8.000000</td>\n",
       "      <td>10.000000</td>\n",
       "      <td>433014.000000</td>\n",
       "      <td>44515.000000</td>\n",
       "      <td>2018.000000</td>\n",
       "      <td>-37.408530</td>\n",
       "      <td>145.526350</td>\n",
       "      <td>21650.000000</td>\n",
       "    </tr>\n",
       "  </tbody>\n",
       "</table>\n",
       "</div>"
      ],
      "text/plain": [
       "              Rooms         Price      Distance      Postcode      Bedroom2  \\\n",
       "count  13580.000000  1.358000e+04  13580.000000  13580.000000  13580.000000   \n",
       "mean       2.937997  1.075684e+06     10.137776   3105.301915      2.914728   \n",
       "std        0.955748  6.393107e+05      5.868725     90.676964      0.965921   \n",
       "min        1.000000  8.500000e+04      0.000000   3000.000000      0.000000   \n",
       "25%        2.000000  6.500000e+05      6.100000   3044.000000      2.000000   \n",
       "50%        3.000000  9.030000e+05      9.200000   3084.000000      3.000000   \n",
       "75%        3.000000  1.330000e+06     13.000000   3148.000000      3.000000   \n",
       "max       10.000000  9.000000e+06     48.100000   3977.000000     20.000000   \n",
       "\n",
       "           Bathroom           Car       Landsize  BuildingArea    YearBuilt  \\\n",
       "count  13580.000000  13518.000000   13580.000000   7130.000000  8205.000000   \n",
       "mean       1.534242      1.610075     558.416127    151.967650  1964.684217   \n",
       "std        0.691712      0.962634    3990.669241    541.014538    37.273762   \n",
       "min        0.000000      0.000000       0.000000      0.000000  1196.000000   \n",
       "25%        1.000000      1.000000     177.000000     93.000000  1940.000000   \n",
       "50%        1.000000      2.000000     440.000000    126.000000  1970.000000   \n",
       "75%        2.000000      2.000000     651.000000    174.000000  1999.000000   \n",
       "max        8.000000     10.000000  433014.000000  44515.000000  2018.000000   \n",
       "\n",
       "          Lattitude    Longtitude  Propertycount  \n",
       "count  13580.000000  13580.000000   13580.000000  \n",
       "mean     -37.809203    144.995216    7454.417378  \n",
       "std        0.079260      0.103916    4378.581772  \n",
       "min      -38.182550    144.431810     249.000000  \n",
       "25%      -37.856822    144.929600    4380.000000  \n",
       "50%      -37.802355    145.000100    6555.000000  \n",
       "75%      -37.756400    145.058305   10331.000000  \n",
       "max      -37.408530    145.526350   21650.000000  "
      ]
     },
     "metadata": {},
     "output_type": "display_data"
    },
    {
     "data": {
      "text/markdown": [
       "### Categorical columns"
      ],
      "text/plain": [
       "<IPython.core.display.Markdown object>"
      ]
     },
     "metadata": {},
     "output_type": "display_data"
    },
    {
     "data": {
      "text/html": [
       "<div>\n",
       "<style scoped>\n",
       "    .dataframe tbody tr th:only-of-type {\n",
       "        vertical-align: middle;\n",
       "    }\n",
       "\n",
       "    .dataframe tbody tr th {\n",
       "        vertical-align: top;\n",
       "    }\n",
       "\n",
       "    .dataframe thead th {\n",
       "        text-align: right;\n",
       "    }\n",
       "</style>\n",
       "<table border=\"1\" class=\"dataframe\">\n",
       "  <thead>\n",
       "    <tr style=\"text-align: right;\">\n",
       "      <th></th>\n",
       "      <th>Suburb</th>\n",
       "      <th>Address</th>\n",
       "      <th>Type</th>\n",
       "      <th>Method</th>\n",
       "      <th>SellerG</th>\n",
       "      <th>Date</th>\n",
       "      <th>CouncilArea</th>\n",
       "      <th>Regionname</th>\n",
       "    </tr>\n",
       "  </thead>\n",
       "  <tbody>\n",
       "    <tr>\n",
       "      <th>count</th>\n",
       "      <td>13580</td>\n",
       "      <td>13580</td>\n",
       "      <td>13580</td>\n",
       "      <td>13580</td>\n",
       "      <td>13580</td>\n",
       "      <td>13580</td>\n",
       "      <td>12211</td>\n",
       "      <td>13580</td>\n",
       "    </tr>\n",
       "    <tr>\n",
       "      <th>unique</th>\n",
       "      <td>314</td>\n",
       "      <td>13378</td>\n",
       "      <td>3</td>\n",
       "      <td>5</td>\n",
       "      <td>268</td>\n",
       "      <td>58</td>\n",
       "      <td>33</td>\n",
       "      <td>8</td>\n",
       "    </tr>\n",
       "    <tr>\n",
       "      <th>top</th>\n",
       "      <td>Reservoir</td>\n",
       "      <td>36 Aberfeldie St</td>\n",
       "      <td>h</td>\n",
       "      <td>S</td>\n",
       "      <td>Nelson</td>\n",
       "      <td>27/05/2017</td>\n",
       "      <td>Moreland</td>\n",
       "      <td>Southern Metropolitan</td>\n",
       "    </tr>\n",
       "    <tr>\n",
       "      <th>freq</th>\n",
       "      <td>359</td>\n",
       "      <td>3</td>\n",
       "      <td>9449</td>\n",
       "      <td>9022</td>\n",
       "      <td>1565</td>\n",
       "      <td>473</td>\n",
       "      <td>1163</td>\n",
       "      <td>4695</td>\n",
       "    </tr>\n",
       "  </tbody>\n",
       "</table>\n",
       "</div>"
      ],
      "text/plain": [
       "           Suburb           Address   Type Method SellerG        Date  \\\n",
       "count       13580             13580  13580  13580   13580       13580   \n",
       "unique        314             13378      3      5     268          58   \n",
       "top     Reservoir  36 Aberfeldie St      h      S  Nelson  27/05/2017   \n",
       "freq          359                 3   9449   9022    1565         473   \n",
       "\n",
       "       CouncilArea             Regionname  \n",
       "count        12211                  13580  \n",
       "unique          33                      8  \n",
       "top       Moreland  Southern Metropolitan  \n",
       "freq          1163                   4695  "
      ]
     },
     "metadata": {},
     "output_type": "display_data"
    }
   ],
   "source": [
    "eda.describe_distribution(data)"
   ]
  },
  {
   "attachments": {},
   "cell_type": "markdown",
   "metadata": {},
   "source": [
    "### Column types\n",
    "\n",
    "* num_col = list with columns interpreted as quantitative/numerical by pandas\n",
    "*  cat_col = list with columns interpreted as categorical (\"object\") by pandas"
   ]
  },
  {
   "cell_type": "code",
   "execution_count": 11,
   "metadata": {},
   "outputs": [
    {
     "data": {
      "text/markdown": [
       "|               | variable type   |\n",
       "|:--------------|:----------------|\n",
       "| Suburb        | object          |\n",
       "| Address       | object          |\n",
       "| Rooms         | int64           |\n",
       "| Type          | object          |\n",
       "| Price         | float64         |\n",
       "| Method        | object          |\n",
       "| SellerG       | object          |\n",
       "| Date          | object          |\n",
       "| Distance      | float64         |\n",
       "| Postcode      | float64         |\n",
       "| Bedroom2      | float64         |\n",
       "| Bathroom      | float64         |\n",
       "| Car           | float64         |\n",
       "| Landsize      | float64         |\n",
       "| BuildingArea  | float64         |\n",
       "| YearBuilt     | float64         |\n",
       "| CouncilArea   | object          |\n",
       "| Lattitude     | float64         |\n",
       "| Longtitude    | float64         |\n",
       "| Regionname    | object          |\n",
       "| Propertycount | float64         |"
      ],
      "text/plain": [
       "<IPython.core.display.Markdown object>"
      ]
     },
     "metadata": {},
     "output_type": "display_data"
    },
    {
     "name": "stdout",
     "output_type": "stream",
     "text": [
      "['Rooms', 'Price', 'Distance', 'Postcode', 'Bedroom2', 'Bathroom', 'Car', 'Landsize', 'BuildingArea', 'YearBuilt', 'Lattitude', 'Longtitude', 'Propertycount']\n",
      "['Suburb', 'Address', 'Type', 'Method', 'SellerG', 'Date', 'CouncilArea', 'Regionname']\n"
     ]
    }
   ],
   "source": [
    "num_col, cat_col = eda.identify_types(data)\n",
    "print(num_col)\n",
    "print(cat_col)"
   ]
  },
  {
   "attachments": {},
   "cell_type": "markdown",
   "metadata": {},
   "source": [
    "### Missing"
   ]
  },
  {
   "cell_type": "code",
   "execution_count": 12,
   "metadata": {},
   "outputs": [
    {
     "data": {
      "text/markdown": [
       "### INFO table"
      ],
      "text/plain": [
       "<IPython.core.display.Markdown object>"
      ]
     },
     "metadata": {},
     "output_type": "display_data"
    },
    {
     "data": {
      "text/markdown": [
       "|   Row |   Col |   Rows without NaN |   Quantitative variables |   Categorical variables |\n",
       "|------:|------:|-------------------:|-------------------------:|------------------------:|\n",
       "| 13580 |    21 |               6196 |                       13 |                       8 |"
      ],
      "text/plain": [
       "<IPython.core.display.Markdown object>"
      ]
     },
     "metadata": {},
     "output_type": "display_data"
    },
    {
     "data": {
      "text/markdown": [
       "### Check blank, null or empty values"
      ],
      "text/plain": [
       "<IPython.core.display.Markdown object>"
      ]
     },
     "metadata": {},
     "output_type": "display_data"
    },
    {
     "data": {
      "text/markdown": [
       "| columns      |         % |\n",
       "|:-------------|----------:|\n",
       "| Car          |  0.456554 |\n",
       "| BuildingArea | 47.4963   |\n",
       "| YearBuilt    | 39.5803   |\n",
       "| CouncilArea  | 10.081    |"
      ],
      "text/plain": [
       "<IPython.core.display.Markdown object>"
      ]
     },
     "metadata": {},
     "output_type": "display_data"
    },
    {
     "data": {
      "text/markdown": [
       "### Check zeros"
      ],
      "text/plain": [
       "<IPython.core.display.Markdown object>"
      ]
     },
     "metadata": {},
     "output_type": "display_data"
    },
    {
     "data": {
      "text/markdown": [
       "| columns      |          % |\n",
       "|:-------------|-----------:|\n",
       "| Distance     |  0.0441826 |\n",
       "| Bedroom2     |  0.11782   |\n",
       "| Bathroom     |  0.250368  |\n",
       "| Car          |  7.55523   |\n",
       "| Landsize     | 14.2784    |\n",
       "| BuildingArea |  0.125184  |"
      ],
      "text/plain": [
       "<IPython.core.display.Markdown object>"
      ]
     },
     "metadata": {},
     "output_type": "display_data"
    },
    {
     "data": {
      "text/markdown": [
       "### Check duplicates rows"
      ],
      "text/plain": [
       "<IPython.core.display.Markdown object>"
      ]
     },
     "metadata": {},
     "output_type": "display_data"
    },
    {
     "data": {
      "text/markdown": [
       "|   % |\n",
       "|----:|\n",
       "|   0 |"
      ],
      "text/plain": [
       "<IPython.core.display.Markdown object>"
      ]
     },
     "metadata": {},
     "output_type": "display_data"
    },
    {
     "data": {
      "text/markdown": [
       "### SUMMARY table"
      ],
      "text/plain": [
       "<IPython.core.display.Markdown object>"
      ]
     },
     "metadata": {},
     "output_type": "display_data"
    },
    {
     "data": {
      "text/html": [
       "<style type=\"text/css\">\n",
       "#T_303d9_row0_col12, #T_303d9_row0_col14, #T_303d9_row0_col15, #T_303d9_row0_col16 {\n",
       "  background-color: red;\n",
       "}\n",
       "#T_303d9_row1_col8, #T_303d9_row1_col10, #T_303d9_row1_col11, #T_303d9_row1_col12, #T_303d9_row1_col13, #T_303d9_row1_col14 {\n",
       "  background-color: orange;\n",
       "}\n",
       "</style>\n",
       "<table id=\"T_303d9\">\n",
       "  <thead>\n",
       "    <tr>\n",
       "      <th class=\"blank level0\" >&nbsp;</th>\n",
       "      <th id=\"T_303d9_level0_col0\" class=\"col_heading level0 col0\" >Suburb</th>\n",
       "      <th id=\"T_303d9_level0_col1\" class=\"col_heading level0 col1\" >Address</th>\n",
       "      <th id=\"T_303d9_level0_col2\" class=\"col_heading level0 col2\" >Rooms</th>\n",
       "      <th id=\"T_303d9_level0_col3\" class=\"col_heading level0 col3\" >Type</th>\n",
       "      <th id=\"T_303d9_level0_col4\" class=\"col_heading level0 col4\" >Price</th>\n",
       "      <th id=\"T_303d9_level0_col5\" class=\"col_heading level0 col5\" >Method</th>\n",
       "      <th id=\"T_303d9_level0_col6\" class=\"col_heading level0 col6\" >SellerG</th>\n",
       "      <th id=\"T_303d9_level0_col7\" class=\"col_heading level0 col7\" >Date</th>\n",
       "      <th id=\"T_303d9_level0_col8\" class=\"col_heading level0 col8\" >Distance</th>\n",
       "      <th id=\"T_303d9_level0_col9\" class=\"col_heading level0 col9\" >Postcode</th>\n",
       "      <th id=\"T_303d9_level0_col10\" class=\"col_heading level0 col10\" >Bedroom2</th>\n",
       "      <th id=\"T_303d9_level0_col11\" class=\"col_heading level0 col11\" >Bathroom</th>\n",
       "      <th id=\"T_303d9_level0_col12\" class=\"col_heading level0 col12\" >Car</th>\n",
       "      <th id=\"T_303d9_level0_col13\" class=\"col_heading level0 col13\" >Landsize</th>\n",
       "      <th id=\"T_303d9_level0_col14\" class=\"col_heading level0 col14\" >BuildingArea</th>\n",
       "      <th id=\"T_303d9_level0_col15\" class=\"col_heading level0 col15\" >YearBuilt</th>\n",
       "      <th id=\"T_303d9_level0_col16\" class=\"col_heading level0 col16\" >CouncilArea</th>\n",
       "      <th id=\"T_303d9_level0_col17\" class=\"col_heading level0 col17\" >Lattitude</th>\n",
       "      <th id=\"T_303d9_level0_col18\" class=\"col_heading level0 col18\" >Longtitude</th>\n",
       "      <th id=\"T_303d9_level0_col19\" class=\"col_heading level0 col19\" >Regionname</th>\n",
       "      <th id=\"T_303d9_level0_col20\" class=\"col_heading level0 col20\" >Propertycount</th>\n",
       "    </tr>\n",
       "  </thead>\n",
       "  <tbody>\n",
       "    <tr>\n",
       "      <th id=\"T_303d9_level0_row0\" class=\"row_heading level0 row0\" >nan</th>\n",
       "      <td id=\"T_303d9_row0_col0\" class=\"data row0 col0\" >0.00%</td>\n",
       "      <td id=\"T_303d9_row0_col1\" class=\"data row0 col1\" >0.00%</td>\n",
       "      <td id=\"T_303d9_row0_col2\" class=\"data row0 col2\" >0.00%</td>\n",
       "      <td id=\"T_303d9_row0_col3\" class=\"data row0 col3\" >0.00%</td>\n",
       "      <td id=\"T_303d9_row0_col4\" class=\"data row0 col4\" >0.00%</td>\n",
       "      <td id=\"T_303d9_row0_col5\" class=\"data row0 col5\" >0.00%</td>\n",
       "      <td id=\"T_303d9_row0_col6\" class=\"data row0 col6\" >0.00%</td>\n",
       "      <td id=\"T_303d9_row0_col7\" class=\"data row0 col7\" >0.00%</td>\n",
       "      <td id=\"T_303d9_row0_col8\" class=\"data row0 col8\" >0.00%</td>\n",
       "      <td id=\"T_303d9_row0_col9\" class=\"data row0 col9\" >0.00%</td>\n",
       "      <td id=\"T_303d9_row0_col10\" class=\"data row0 col10\" >0.00%</td>\n",
       "      <td id=\"T_303d9_row0_col11\" class=\"data row0 col11\" >0.00%</td>\n",
       "      <td id=\"T_303d9_row0_col12\" class=\"data row0 col12\" >0.46%</td>\n",
       "      <td id=\"T_303d9_row0_col13\" class=\"data row0 col13\" >0.00%</td>\n",
       "      <td id=\"T_303d9_row0_col14\" class=\"data row0 col14\" >47.50%</td>\n",
       "      <td id=\"T_303d9_row0_col15\" class=\"data row0 col15\" >39.58%</td>\n",
       "      <td id=\"T_303d9_row0_col16\" class=\"data row0 col16\" >10.08%</td>\n",
       "      <td id=\"T_303d9_row0_col17\" class=\"data row0 col17\" >0.00%</td>\n",
       "      <td id=\"T_303d9_row0_col18\" class=\"data row0 col18\" >0.00%</td>\n",
       "      <td id=\"T_303d9_row0_col19\" class=\"data row0 col19\" >0.00%</td>\n",
       "      <td id=\"T_303d9_row0_col20\" class=\"data row0 col20\" >0.00%</td>\n",
       "    </tr>\n",
       "    <tr>\n",
       "      <th id=\"T_303d9_level0_row1\" class=\"row_heading level0 row1\" >zero</th>\n",
       "      <td id=\"T_303d9_row1_col0\" class=\"data row1 col0\" >0.00%</td>\n",
       "      <td id=\"T_303d9_row1_col1\" class=\"data row1 col1\" >0.00%</td>\n",
       "      <td id=\"T_303d9_row1_col2\" class=\"data row1 col2\" >0.00%</td>\n",
       "      <td id=\"T_303d9_row1_col3\" class=\"data row1 col3\" >0.00%</td>\n",
       "      <td id=\"T_303d9_row1_col4\" class=\"data row1 col4\" >0.00%</td>\n",
       "      <td id=\"T_303d9_row1_col5\" class=\"data row1 col5\" >0.00%</td>\n",
       "      <td id=\"T_303d9_row1_col6\" class=\"data row1 col6\" >0.00%</td>\n",
       "      <td id=\"T_303d9_row1_col7\" class=\"data row1 col7\" >0.00%</td>\n",
       "      <td id=\"T_303d9_row1_col8\" class=\"data row1 col8\" >0.04%</td>\n",
       "      <td id=\"T_303d9_row1_col9\" class=\"data row1 col9\" >0.00%</td>\n",
       "      <td id=\"T_303d9_row1_col10\" class=\"data row1 col10\" >0.12%</td>\n",
       "      <td id=\"T_303d9_row1_col11\" class=\"data row1 col11\" >0.25%</td>\n",
       "      <td id=\"T_303d9_row1_col12\" class=\"data row1 col12\" >7.56%</td>\n",
       "      <td id=\"T_303d9_row1_col13\" class=\"data row1 col13\" >14.28%</td>\n",
       "      <td id=\"T_303d9_row1_col14\" class=\"data row1 col14\" >0.13%</td>\n",
       "      <td id=\"T_303d9_row1_col15\" class=\"data row1 col15\" >0.00%</td>\n",
       "      <td id=\"T_303d9_row1_col16\" class=\"data row1 col16\" >0.00%</td>\n",
       "      <td id=\"T_303d9_row1_col17\" class=\"data row1 col17\" >0.00%</td>\n",
       "      <td id=\"T_303d9_row1_col18\" class=\"data row1 col18\" >0.00%</td>\n",
       "      <td id=\"T_303d9_row1_col19\" class=\"data row1 col19\" >0.00%</td>\n",
       "      <td id=\"T_303d9_row1_col20\" class=\"data row1 col20\" >0.00%</td>\n",
       "    </tr>\n",
       "  </tbody>\n",
       "</table>\n"
      ],
      "text/plain": [
       "<pandas.io.formats.style.Styler at 0x7f7fe51a93a0>"
      ]
     },
     "metadata": {},
     "output_type": "display_data"
    },
    {
     "name": "stdout",
     "output_type": "stream",
     "text": [
      "\n",
      "\n"
     ]
    },
    {
     "data": {
      "text/plain": [
       "[['Car', 'BuildingArea', 'YearBuilt'],\n",
       " ['CouncilArea'],\n",
       " ['Distance', 'Bedroom2', 'Bathroom', 'Car', 'Landsize', 'BuildingArea']]"
      ]
     },
     "execution_count": 12,
     "metadata": {},
     "output_type": "execute_result"
    }
   ],
   "source": [
    "eda.missing(data)"
   ]
  }
 ],
 "metadata": {
  "kernelspec": {
   "display_name": "base",
   "language": "python",
   "name": "python3"
  },
  "language_info": {
   "codemirror_mode": {
    "name": "ipython",
    "version": 3
   },
   "file_extension": ".py",
   "mimetype": "text/x-python",
   "name": "python",
   "nbconvert_exporter": "python",
   "pygments_lexer": "ipython3",
   "version": "3.9.12"
  },
  "orig_nbformat": 4,
  "vscode": {
   "interpreter": {
    "hash": "15e176b7a587bacf763a05742bf3c7db92d21fd4b7733f76dbff0ddb1181ff96"
   }
  }
 },
 "nbformat": 4,
 "nbformat_minor": 2
}
