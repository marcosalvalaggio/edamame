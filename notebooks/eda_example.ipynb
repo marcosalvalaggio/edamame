{
 "cells": [
  {
   "attachments": {},
   "cell_type": "markdown",
   "metadata": {},
   "source": [
    "# EDA notebook example\n",
    "\n",
    "This notebook is used to show the functionality of the edamame package. The operations done aren't applied to replicate an optimal EDA step on the dataset  "
   ]
  },
  {
   "attachments": {},
   "cell_type": "markdown",
   "metadata": {},
   "source": [
    "## Table of Contents\n",
    "* [Dimensions](#dim)\n",
    "* [Describe distribution](#describe)\n",
    "* [Column types](#col)\n",
    "* [Missing](#missing)\n",
    "* [Handling missing](#handle)\n",
    "* [Drop columns](#drop)\n",
    "* [Plot categorical variables](#plot-cat)\n",
    "* [Plot numerical variables](#plot-num)"
   ]
  },
  {
   "cell_type": "code",
   "execution_count": 16,
   "metadata": {},
   "outputs": [
    {
     "data": {
      "text/plain": [
       "'0.23'"
      ]
     },
     "execution_count": 16,
     "metadata": {},
     "output_type": "execute_result"
    }
   ],
   "source": [
    "import pandas as pd \n",
    "#from edamame import eda \n",
    "import edamame as eda\n",
    "import numpy as np \n",
    "# eda version\n",
    "eda.__version__"
   ]
  },
  {
   "cell_type": "code",
   "execution_count": 17,
   "metadata": {},
   "outputs": [
    {
     "name": "stdout",
     "output_type": "stream",
     "text": [
      "<class 'pandas.core.frame.DataFrame'>\n",
      "RangeIndex: 13580 entries, 0 to 13579\n",
      "Data columns (total 21 columns):\n",
      " #   Column         Non-Null Count  Dtype  \n",
      "---  ------         --------------  -----  \n",
      " 0   Suburb         13580 non-null  object \n",
      " 1   Address        13580 non-null  object \n",
      " 2   Rooms          13580 non-null  int64  \n",
      " 3   Type           13580 non-null  object \n",
      " 4   Price          13580 non-null  float64\n",
      " 5   Method         13580 non-null  object \n",
      " 6   SellerG        13580 non-null  object \n",
      " 7   Date           13580 non-null  object \n",
      " 8   Distance       13580 non-null  float64\n",
      " 9   Postcode       13580 non-null  float64\n",
      " 10  Bedroom2       13580 non-null  float64\n",
      " 11  Bathroom       13580 non-null  float64\n",
      " 12  Car            13518 non-null  float64\n",
      " 13  Landsize       13580 non-null  float64\n",
      " 14  BuildingArea   7130 non-null   float64\n",
      " 15  YearBuilt      8205 non-null   float64\n",
      " 16  CouncilArea    12211 non-null  object \n",
      " 17  Lattitude      13580 non-null  float64\n",
      " 18  Longtitude     13580 non-null  float64\n",
      " 19  Regionname     13580 non-null  object \n",
      " 20  Propertycount  13580 non-null  float64\n",
      "dtypes: float64(12), int64(1), object(8)\n",
      "memory usage: 2.2+ MB\n"
     ]
    }
   ],
   "source": [
    "# dataset\n",
    "data = pd.read_csv('/Users/marcosalvalaggio/code/python/ds/data/melb_data/melb_data.csv')\n",
    "data.info()"
   ]
  },
  {
   "attachments": {},
   "cell_type": "markdown",
   "metadata": {},
   "source": [
    "## Dimensions  <a class=\"anchor\" id=\"dim\"></a>"
   ]
  },
  {
   "cell_type": "code",
   "execution_count": 18,
   "metadata": {},
   "outputs": [
    {
     "data": {
      "text/markdown": [
       "Rows: 13580, Columns: 21"
      ],
      "text/plain": [
       "<IPython.core.display.Markdown object>"
      ]
     },
     "metadata": {},
     "output_type": "display_data"
    }
   ],
   "source": [
    "eda.dimensions(data)"
   ]
  },
  {
   "attachments": {},
   "cell_type": "markdown",
   "metadata": {},
   "source": [
    "## Describe distribution <a class=\"anchor\" id=\"describe\"></a>"
   ]
  },
  {
   "cell_type": "code",
   "execution_count": 19,
   "metadata": {},
   "outputs": [
    {
     "data": {
      "text/markdown": [
       "### Quantitative columns"
      ],
      "text/plain": [
       "<IPython.core.display.Markdown object>"
      ]
     },
     "metadata": {},
     "output_type": "display_data"
    },
    {
     "data": {
      "text/html": [
       "<div>\n",
       "<style scoped>\n",
       "    .dataframe tbody tr th:only-of-type {\n",
       "        vertical-align: middle;\n",
       "    }\n",
       "\n",
       "    .dataframe tbody tr th {\n",
       "        vertical-align: top;\n",
       "    }\n",
       "\n",
       "    .dataframe thead th {\n",
       "        text-align: right;\n",
       "    }\n",
       "</style>\n",
       "<table border=\"1\" class=\"dataframe\">\n",
       "  <thead>\n",
       "    <tr style=\"text-align: right;\">\n",
       "      <th></th>\n",
       "      <th>Rooms</th>\n",
       "      <th>Price</th>\n",
       "      <th>Distance</th>\n",
       "      <th>Postcode</th>\n",
       "      <th>Bedroom2</th>\n",
       "      <th>Bathroom</th>\n",
       "      <th>Car</th>\n",
       "      <th>Landsize</th>\n",
       "      <th>BuildingArea</th>\n",
       "      <th>YearBuilt</th>\n",
       "      <th>Lattitude</th>\n",
       "      <th>Longtitude</th>\n",
       "      <th>Propertycount</th>\n",
       "    </tr>\n",
       "  </thead>\n",
       "  <tbody>\n",
       "    <tr>\n",
       "      <th>count</th>\n",
       "      <td>13580.000000</td>\n",
       "      <td>1.358000e+04</td>\n",
       "      <td>13580.000000</td>\n",
       "      <td>13580.000000</td>\n",
       "      <td>13580.000000</td>\n",
       "      <td>13580.000000</td>\n",
       "      <td>13518.000000</td>\n",
       "      <td>13580.000000</td>\n",
       "      <td>7130.000000</td>\n",
       "      <td>8205.000000</td>\n",
       "      <td>13580.000000</td>\n",
       "      <td>13580.000000</td>\n",
       "      <td>13580.000000</td>\n",
       "    </tr>\n",
       "    <tr>\n",
       "      <th>mean</th>\n",
       "      <td>2.937997</td>\n",
       "      <td>1.075684e+06</td>\n",
       "      <td>10.137776</td>\n",
       "      <td>3105.301915</td>\n",
       "      <td>2.914728</td>\n",
       "      <td>1.534242</td>\n",
       "      <td>1.610075</td>\n",
       "      <td>558.416127</td>\n",
       "      <td>151.967650</td>\n",
       "      <td>1964.684217</td>\n",
       "      <td>-37.809203</td>\n",
       "      <td>144.995216</td>\n",
       "      <td>7454.417378</td>\n",
       "    </tr>\n",
       "    <tr>\n",
       "      <th>std</th>\n",
       "      <td>0.955748</td>\n",
       "      <td>6.393107e+05</td>\n",
       "      <td>5.868725</td>\n",
       "      <td>90.676964</td>\n",
       "      <td>0.965921</td>\n",
       "      <td>0.691712</td>\n",
       "      <td>0.962634</td>\n",
       "      <td>3990.669241</td>\n",
       "      <td>541.014538</td>\n",
       "      <td>37.273762</td>\n",
       "      <td>0.079260</td>\n",
       "      <td>0.103916</td>\n",
       "      <td>4378.581772</td>\n",
       "    </tr>\n",
       "    <tr>\n",
       "      <th>min</th>\n",
       "      <td>1.000000</td>\n",
       "      <td>8.500000e+04</td>\n",
       "      <td>0.000000</td>\n",
       "      <td>3000.000000</td>\n",
       "      <td>0.000000</td>\n",
       "      <td>0.000000</td>\n",
       "      <td>0.000000</td>\n",
       "      <td>0.000000</td>\n",
       "      <td>0.000000</td>\n",
       "      <td>1196.000000</td>\n",
       "      <td>-38.182550</td>\n",
       "      <td>144.431810</td>\n",
       "      <td>249.000000</td>\n",
       "    </tr>\n",
       "    <tr>\n",
       "      <th>25%</th>\n",
       "      <td>2.000000</td>\n",
       "      <td>6.500000e+05</td>\n",
       "      <td>6.100000</td>\n",
       "      <td>3044.000000</td>\n",
       "      <td>2.000000</td>\n",
       "      <td>1.000000</td>\n",
       "      <td>1.000000</td>\n",
       "      <td>177.000000</td>\n",
       "      <td>93.000000</td>\n",
       "      <td>1940.000000</td>\n",
       "      <td>-37.856822</td>\n",
       "      <td>144.929600</td>\n",
       "      <td>4380.000000</td>\n",
       "    </tr>\n",
       "    <tr>\n",
       "      <th>50%</th>\n",
       "      <td>3.000000</td>\n",
       "      <td>9.030000e+05</td>\n",
       "      <td>9.200000</td>\n",
       "      <td>3084.000000</td>\n",
       "      <td>3.000000</td>\n",
       "      <td>1.000000</td>\n",
       "      <td>2.000000</td>\n",
       "      <td>440.000000</td>\n",
       "      <td>126.000000</td>\n",
       "      <td>1970.000000</td>\n",
       "      <td>-37.802355</td>\n",
       "      <td>145.000100</td>\n",
       "      <td>6555.000000</td>\n",
       "    </tr>\n",
       "    <tr>\n",
       "      <th>75%</th>\n",
       "      <td>3.000000</td>\n",
       "      <td>1.330000e+06</td>\n",
       "      <td>13.000000</td>\n",
       "      <td>3148.000000</td>\n",
       "      <td>3.000000</td>\n",
       "      <td>2.000000</td>\n",
       "      <td>2.000000</td>\n",
       "      <td>651.000000</td>\n",
       "      <td>174.000000</td>\n",
       "      <td>1999.000000</td>\n",
       "      <td>-37.756400</td>\n",
       "      <td>145.058305</td>\n",
       "      <td>10331.000000</td>\n",
       "    </tr>\n",
       "    <tr>\n",
       "      <th>max</th>\n",
       "      <td>10.000000</td>\n",
       "      <td>9.000000e+06</td>\n",
       "      <td>48.100000</td>\n",
       "      <td>3977.000000</td>\n",
       "      <td>20.000000</td>\n",
       "      <td>8.000000</td>\n",
       "      <td>10.000000</td>\n",
       "      <td>433014.000000</td>\n",
       "      <td>44515.000000</td>\n",
       "      <td>2018.000000</td>\n",
       "      <td>-37.408530</td>\n",
       "      <td>145.526350</td>\n",
       "      <td>21650.000000</td>\n",
       "    </tr>\n",
       "  </tbody>\n",
       "</table>\n",
       "</div>"
      ],
      "text/plain": [
       "              Rooms         Price      Distance      Postcode      Bedroom2  \\\n",
       "count  13580.000000  1.358000e+04  13580.000000  13580.000000  13580.000000   \n",
       "mean       2.937997  1.075684e+06     10.137776   3105.301915      2.914728   \n",
       "std        0.955748  6.393107e+05      5.868725     90.676964      0.965921   \n",
       "min        1.000000  8.500000e+04      0.000000   3000.000000      0.000000   \n",
       "25%        2.000000  6.500000e+05      6.100000   3044.000000      2.000000   \n",
       "50%        3.000000  9.030000e+05      9.200000   3084.000000      3.000000   \n",
       "75%        3.000000  1.330000e+06     13.000000   3148.000000      3.000000   \n",
       "max       10.000000  9.000000e+06     48.100000   3977.000000     20.000000   \n",
       "\n",
       "           Bathroom           Car       Landsize  BuildingArea    YearBuilt  \\\n",
       "count  13580.000000  13518.000000   13580.000000   7130.000000  8205.000000   \n",
       "mean       1.534242      1.610075     558.416127    151.967650  1964.684217   \n",
       "std        0.691712      0.962634    3990.669241    541.014538    37.273762   \n",
       "min        0.000000      0.000000       0.000000      0.000000  1196.000000   \n",
       "25%        1.000000      1.000000     177.000000     93.000000  1940.000000   \n",
       "50%        1.000000      2.000000     440.000000    126.000000  1970.000000   \n",
       "75%        2.000000      2.000000     651.000000    174.000000  1999.000000   \n",
       "max        8.000000     10.000000  433014.000000  44515.000000  2018.000000   \n",
       "\n",
       "          Lattitude    Longtitude  Propertycount  \n",
       "count  13580.000000  13580.000000   13580.000000  \n",
       "mean     -37.809203    144.995216    7454.417378  \n",
       "std        0.079260      0.103916    4378.581772  \n",
       "min      -38.182550    144.431810     249.000000  \n",
       "25%      -37.856822    144.929600    4380.000000  \n",
       "50%      -37.802355    145.000100    6555.000000  \n",
       "75%      -37.756400    145.058305   10331.000000  \n",
       "max      -37.408530    145.526350   21650.000000  "
      ]
     },
     "metadata": {},
     "output_type": "display_data"
    },
    {
     "data": {
      "text/markdown": [
       "### Categorical columns"
      ],
      "text/plain": [
       "<IPython.core.display.Markdown object>"
      ]
     },
     "metadata": {},
     "output_type": "display_data"
    },
    {
     "data": {
      "text/html": [
       "<div>\n",
       "<style scoped>\n",
       "    .dataframe tbody tr th:only-of-type {\n",
       "        vertical-align: middle;\n",
       "    }\n",
       "\n",
       "    .dataframe tbody tr th {\n",
       "        vertical-align: top;\n",
       "    }\n",
       "\n",
       "    .dataframe thead th {\n",
       "        text-align: right;\n",
       "    }\n",
       "</style>\n",
       "<table border=\"1\" class=\"dataframe\">\n",
       "  <thead>\n",
       "    <tr style=\"text-align: right;\">\n",
       "      <th></th>\n",
       "      <th>Suburb</th>\n",
       "      <th>Address</th>\n",
       "      <th>Type</th>\n",
       "      <th>Method</th>\n",
       "      <th>SellerG</th>\n",
       "      <th>Date</th>\n",
       "      <th>CouncilArea</th>\n",
       "      <th>Regionname</th>\n",
       "    </tr>\n",
       "  </thead>\n",
       "  <tbody>\n",
       "    <tr>\n",
       "      <th>count</th>\n",
       "      <td>13580</td>\n",
       "      <td>13580</td>\n",
       "      <td>13580</td>\n",
       "      <td>13580</td>\n",
       "      <td>13580</td>\n",
       "      <td>13580</td>\n",
       "      <td>12211</td>\n",
       "      <td>13580</td>\n",
       "    </tr>\n",
       "    <tr>\n",
       "      <th>unique</th>\n",
       "      <td>314</td>\n",
       "      <td>13378</td>\n",
       "      <td>3</td>\n",
       "      <td>5</td>\n",
       "      <td>268</td>\n",
       "      <td>58</td>\n",
       "      <td>33</td>\n",
       "      <td>8</td>\n",
       "    </tr>\n",
       "    <tr>\n",
       "      <th>top</th>\n",
       "      <td>Reservoir</td>\n",
       "      <td>36 Aberfeldie St</td>\n",
       "      <td>h</td>\n",
       "      <td>S</td>\n",
       "      <td>Nelson</td>\n",
       "      <td>27/05/2017</td>\n",
       "      <td>Moreland</td>\n",
       "      <td>Southern Metropolitan</td>\n",
       "    </tr>\n",
       "    <tr>\n",
       "      <th>freq</th>\n",
       "      <td>359</td>\n",
       "      <td>3</td>\n",
       "      <td>9449</td>\n",
       "      <td>9022</td>\n",
       "      <td>1565</td>\n",
       "      <td>473</td>\n",
       "      <td>1163</td>\n",
       "      <td>4695</td>\n",
       "    </tr>\n",
       "  </tbody>\n",
       "</table>\n",
       "</div>"
      ],
      "text/plain": [
       "           Suburb           Address   Type Method SellerG        Date  \\\n",
       "count       13580             13580  13580  13580   13580       13580   \n",
       "unique        314             13378      3      5     268          58   \n",
       "top     Reservoir  36 Aberfeldie St      h      S  Nelson  27/05/2017   \n",
       "freq          359                 3   9449   9022    1565         473   \n",
       "\n",
       "       CouncilArea             Regionname  \n",
       "count        12211                  13580  \n",
       "unique          33                      8  \n",
       "top       Moreland  Southern Metropolitan  \n",
       "freq          1163                   4695  "
      ]
     },
     "metadata": {},
     "output_type": "display_data"
    }
   ],
   "source": [
    "eda.describe_distribution(data)"
   ]
  },
  {
   "attachments": {},
   "cell_type": "markdown",
   "metadata": {},
   "source": [
    "## Column types <a class=\"anchor\" id=\"col\"></a>\n",
    "\n",
    "* num_col = list with columns interpreted as quantitative/numerical by pandas\n",
    "*  cat_col = list with columns interpreted as categorical (\"object\") by pandas"
   ]
  },
  {
   "cell_type": "code",
   "execution_count": 20,
   "metadata": {},
   "outputs": [
    {
     "data": {
      "text/markdown": [
       "|               | variable type   |\n",
       "|:--------------|:----------------|\n",
       "| Suburb        | object          |\n",
       "| Address       | object          |\n",
       "| Rooms         | int64           |\n",
       "| Type          | object          |\n",
       "| Price         | float64         |\n",
       "| Method        | object          |\n",
       "| SellerG       | object          |\n",
       "| Date          | object          |\n",
       "| Distance      | float64         |\n",
       "| Postcode      | float64         |\n",
       "| Bedroom2      | float64         |\n",
       "| Bathroom      | float64         |\n",
       "| Car           | float64         |\n",
       "| Landsize      | float64         |\n",
       "| BuildingArea  | float64         |\n",
       "| YearBuilt     | float64         |\n",
       "| CouncilArea   | object          |\n",
       "| Lattitude     | float64         |\n",
       "| Longtitude    | float64         |\n",
       "| Regionname    | object          |\n",
       "| Propertycount | float64         |"
      ],
      "text/plain": [
       "<IPython.core.display.Markdown object>"
      ]
     },
     "metadata": {},
     "output_type": "display_data"
    },
    {
     "name": "stdout",
     "output_type": "stream",
     "text": [
      "['Rooms', 'Price', 'Distance', 'Postcode', 'Bedroom2', 'Bathroom', 'Car', 'Landsize', 'BuildingArea', 'YearBuilt', 'Lattitude', 'Longtitude', 'Propertycount']\n",
      "['Suburb', 'Address', 'Type', 'Method', 'SellerG', 'Date', 'CouncilArea', 'Regionname']\n"
     ]
    }
   ],
   "source": [
    "num_col, cat_col = eda.identify_types(data)\n",
    "print(num_col)\n",
    "print(cat_col)"
   ]
  },
  {
   "attachments": {},
   "cell_type": "markdown",
   "metadata": {},
   "source": [
    "## Missing <a class=\"anchor\" id=\"missing\"></a>"
   ]
  },
  {
   "cell_type": "code",
   "execution_count": 21,
   "metadata": {},
   "outputs": [
    {
     "data": {
      "text/markdown": [
       "### INFO table"
      ],
      "text/plain": [
       "<IPython.core.display.Markdown object>"
      ]
     },
     "metadata": {},
     "output_type": "display_data"
    },
    {
     "data": {
      "text/markdown": [
       "|   Row |   Col |   Rows without NaN |   Quantitative variables |   Categorical variables |\n",
       "|------:|------:|-------------------:|-------------------------:|------------------------:|\n",
       "| 13580 |    21 |               6196 |                       13 |                       8 |"
      ],
      "text/plain": [
       "<IPython.core.display.Markdown object>"
      ]
     },
     "metadata": {},
     "output_type": "display_data"
    },
    {
     "data": {
      "text/markdown": [
       "### Check blank, null or empty values"
      ],
      "text/plain": [
       "<IPython.core.display.Markdown object>"
      ]
     },
     "metadata": {},
     "output_type": "display_data"
    },
    {
     "data": {
      "text/markdown": [
       "| columns      |         % |\n",
       "|:-------------|----------:|\n",
       "| Car          |  0.456554 |\n",
       "| BuildingArea | 47.4963   |\n",
       "| YearBuilt    | 39.5803   |\n",
       "| CouncilArea  | 10.081    |"
      ],
      "text/plain": [
       "<IPython.core.display.Markdown object>"
      ]
     },
     "metadata": {},
     "output_type": "display_data"
    },
    {
     "data": {
      "text/markdown": [
       "### Check zeros"
      ],
      "text/plain": [
       "<IPython.core.display.Markdown object>"
      ]
     },
     "metadata": {},
     "output_type": "display_data"
    },
    {
     "data": {
      "text/markdown": [
       "| columns      |          % |\n",
       "|:-------------|-----------:|\n",
       "| Distance     |  0.0441826 |\n",
       "| Bedroom2     |  0.11782   |\n",
       "| Bathroom     |  0.250368  |\n",
       "| Car          |  7.55523   |\n",
       "| Landsize     | 14.2784    |\n",
       "| BuildingArea |  0.125184  |"
      ],
      "text/plain": [
       "<IPython.core.display.Markdown object>"
      ]
     },
     "metadata": {},
     "output_type": "display_data"
    },
    {
     "data": {
      "text/markdown": [
       "### Check duplicates rows"
      ],
      "text/plain": [
       "<IPython.core.display.Markdown object>"
      ]
     },
     "metadata": {},
     "output_type": "display_data"
    },
    {
     "data": {
      "text/markdown": [
       "|   % |\n",
       "|----:|\n",
       "|   0 |"
      ],
      "text/plain": [
       "<IPython.core.display.Markdown object>"
      ]
     },
     "metadata": {},
     "output_type": "display_data"
    },
    {
     "data": {
      "text/markdown": [
       "### SUMMARY table"
      ],
      "text/plain": [
       "<IPython.core.display.Markdown object>"
      ]
     },
     "metadata": {},
     "output_type": "display_data"
    },
    {
     "data": {
      "text/html": [
       "<style type=\"text/css\">\n",
       "#T_a8a65_row0_col12, #T_a8a65_row0_col14, #T_a8a65_row0_col15, #T_a8a65_row0_col16 {\n",
       "  background-color: red;\n",
       "}\n",
       "#T_a8a65_row1_col8, #T_a8a65_row1_col10, #T_a8a65_row1_col11, #T_a8a65_row1_col12, #T_a8a65_row1_col13, #T_a8a65_row1_col14 {\n",
       "  background-color: orange;\n",
       "}\n",
       "</style>\n",
       "<table id=\"T_a8a65\">\n",
       "  <thead>\n",
       "    <tr>\n",
       "      <th class=\"blank level0\" >&nbsp;</th>\n",
       "      <th id=\"T_a8a65_level0_col0\" class=\"col_heading level0 col0\" >Suburb</th>\n",
       "      <th id=\"T_a8a65_level0_col1\" class=\"col_heading level0 col1\" >Address</th>\n",
       "      <th id=\"T_a8a65_level0_col2\" class=\"col_heading level0 col2\" >Rooms</th>\n",
       "      <th id=\"T_a8a65_level0_col3\" class=\"col_heading level0 col3\" >Type</th>\n",
       "      <th id=\"T_a8a65_level0_col4\" class=\"col_heading level0 col4\" >Price</th>\n",
       "      <th id=\"T_a8a65_level0_col5\" class=\"col_heading level0 col5\" >Method</th>\n",
       "      <th id=\"T_a8a65_level0_col6\" class=\"col_heading level0 col6\" >SellerG</th>\n",
       "      <th id=\"T_a8a65_level0_col7\" class=\"col_heading level0 col7\" >Date</th>\n",
       "      <th id=\"T_a8a65_level0_col8\" class=\"col_heading level0 col8\" >Distance</th>\n",
       "      <th id=\"T_a8a65_level0_col9\" class=\"col_heading level0 col9\" >Postcode</th>\n",
       "      <th id=\"T_a8a65_level0_col10\" class=\"col_heading level0 col10\" >Bedroom2</th>\n",
       "      <th id=\"T_a8a65_level0_col11\" class=\"col_heading level0 col11\" >Bathroom</th>\n",
       "      <th id=\"T_a8a65_level0_col12\" class=\"col_heading level0 col12\" >Car</th>\n",
       "      <th id=\"T_a8a65_level0_col13\" class=\"col_heading level0 col13\" >Landsize</th>\n",
       "      <th id=\"T_a8a65_level0_col14\" class=\"col_heading level0 col14\" >BuildingArea</th>\n",
       "      <th id=\"T_a8a65_level0_col15\" class=\"col_heading level0 col15\" >YearBuilt</th>\n",
       "      <th id=\"T_a8a65_level0_col16\" class=\"col_heading level0 col16\" >CouncilArea</th>\n",
       "      <th id=\"T_a8a65_level0_col17\" class=\"col_heading level0 col17\" >Lattitude</th>\n",
       "      <th id=\"T_a8a65_level0_col18\" class=\"col_heading level0 col18\" >Longtitude</th>\n",
       "      <th id=\"T_a8a65_level0_col19\" class=\"col_heading level0 col19\" >Regionname</th>\n",
       "      <th id=\"T_a8a65_level0_col20\" class=\"col_heading level0 col20\" >Propertycount</th>\n",
       "    </tr>\n",
       "  </thead>\n",
       "  <tbody>\n",
       "    <tr>\n",
       "      <th id=\"T_a8a65_level0_row0\" class=\"row_heading level0 row0\" >nan</th>\n",
       "      <td id=\"T_a8a65_row0_col0\" class=\"data row0 col0\" >0.00%</td>\n",
       "      <td id=\"T_a8a65_row0_col1\" class=\"data row0 col1\" >0.00%</td>\n",
       "      <td id=\"T_a8a65_row0_col2\" class=\"data row0 col2\" >0.00%</td>\n",
       "      <td id=\"T_a8a65_row0_col3\" class=\"data row0 col3\" >0.00%</td>\n",
       "      <td id=\"T_a8a65_row0_col4\" class=\"data row0 col4\" >0.00%</td>\n",
       "      <td id=\"T_a8a65_row0_col5\" class=\"data row0 col5\" >0.00%</td>\n",
       "      <td id=\"T_a8a65_row0_col6\" class=\"data row0 col6\" >0.00%</td>\n",
       "      <td id=\"T_a8a65_row0_col7\" class=\"data row0 col7\" >0.00%</td>\n",
       "      <td id=\"T_a8a65_row0_col8\" class=\"data row0 col8\" >0.00%</td>\n",
       "      <td id=\"T_a8a65_row0_col9\" class=\"data row0 col9\" >0.00%</td>\n",
       "      <td id=\"T_a8a65_row0_col10\" class=\"data row0 col10\" >0.00%</td>\n",
       "      <td id=\"T_a8a65_row0_col11\" class=\"data row0 col11\" >0.00%</td>\n",
       "      <td id=\"T_a8a65_row0_col12\" class=\"data row0 col12\" >0.46%</td>\n",
       "      <td id=\"T_a8a65_row0_col13\" class=\"data row0 col13\" >0.00%</td>\n",
       "      <td id=\"T_a8a65_row0_col14\" class=\"data row0 col14\" >47.50%</td>\n",
       "      <td id=\"T_a8a65_row0_col15\" class=\"data row0 col15\" >39.58%</td>\n",
       "      <td id=\"T_a8a65_row0_col16\" class=\"data row0 col16\" >10.08%</td>\n",
       "      <td id=\"T_a8a65_row0_col17\" class=\"data row0 col17\" >0.00%</td>\n",
       "      <td id=\"T_a8a65_row0_col18\" class=\"data row0 col18\" >0.00%</td>\n",
       "      <td id=\"T_a8a65_row0_col19\" class=\"data row0 col19\" >0.00%</td>\n",
       "      <td id=\"T_a8a65_row0_col20\" class=\"data row0 col20\" >0.00%</td>\n",
       "    </tr>\n",
       "    <tr>\n",
       "      <th id=\"T_a8a65_level0_row1\" class=\"row_heading level0 row1\" >zero</th>\n",
       "      <td id=\"T_a8a65_row1_col0\" class=\"data row1 col0\" >0.00%</td>\n",
       "      <td id=\"T_a8a65_row1_col1\" class=\"data row1 col1\" >0.00%</td>\n",
       "      <td id=\"T_a8a65_row1_col2\" class=\"data row1 col2\" >0.00%</td>\n",
       "      <td id=\"T_a8a65_row1_col3\" class=\"data row1 col3\" >0.00%</td>\n",
       "      <td id=\"T_a8a65_row1_col4\" class=\"data row1 col4\" >0.00%</td>\n",
       "      <td id=\"T_a8a65_row1_col5\" class=\"data row1 col5\" >0.00%</td>\n",
       "      <td id=\"T_a8a65_row1_col6\" class=\"data row1 col6\" >0.00%</td>\n",
       "      <td id=\"T_a8a65_row1_col7\" class=\"data row1 col7\" >0.00%</td>\n",
       "      <td id=\"T_a8a65_row1_col8\" class=\"data row1 col8\" >0.04%</td>\n",
       "      <td id=\"T_a8a65_row1_col9\" class=\"data row1 col9\" >0.00%</td>\n",
       "      <td id=\"T_a8a65_row1_col10\" class=\"data row1 col10\" >0.12%</td>\n",
       "      <td id=\"T_a8a65_row1_col11\" class=\"data row1 col11\" >0.25%</td>\n",
       "      <td id=\"T_a8a65_row1_col12\" class=\"data row1 col12\" >7.56%</td>\n",
       "      <td id=\"T_a8a65_row1_col13\" class=\"data row1 col13\" >14.28%</td>\n",
       "      <td id=\"T_a8a65_row1_col14\" class=\"data row1 col14\" >0.13%</td>\n",
       "      <td id=\"T_a8a65_row1_col15\" class=\"data row1 col15\" >0.00%</td>\n",
       "      <td id=\"T_a8a65_row1_col16\" class=\"data row1 col16\" >0.00%</td>\n",
       "      <td id=\"T_a8a65_row1_col17\" class=\"data row1 col17\" >0.00%</td>\n",
       "      <td id=\"T_a8a65_row1_col18\" class=\"data row1 col18\" >0.00%</td>\n",
       "      <td id=\"T_a8a65_row1_col19\" class=\"data row1 col19\" >0.00%</td>\n",
       "      <td id=\"T_a8a65_row1_col20\" class=\"data row1 col20\" >0.00%</td>\n",
       "    </tr>\n",
       "  </tbody>\n",
       "</table>\n"
      ],
      "text/plain": [
       "<pandas.io.formats.style.Styler at 0x7f97ffdeb940>"
      ]
     },
     "metadata": {},
     "output_type": "display_data"
    },
    {
     "name": "stdout",
     "output_type": "stream",
     "text": [
      "\n",
      "\n",
      "['Car', 'BuildingArea', 'YearBuilt']\n",
      "['CouncilArea']\n",
      "['Distance', 'Bedroom2', 'Bathroom', 'Car', 'Landsize', 'BuildingArea']\n"
     ]
    }
   ],
   "source": [
    "nan_num, nan_cat, zero_col = eda.missing(data)\n",
    "print(nan_num) # list of numerical variables with nan values\n",
    "print(nan_cat) # list of categorical variables with nan values\n",
    "print(zero_col) # list of variables with 0 as values "
   ]
  },
  {
   "attachments": {},
   "cell_type": "markdown",
   "metadata": {},
   "source": [
    "## Handling Missing <a class=\"anchor\" id=\"handle\"></a>"
   ]
  },
  {
   "cell_type": "code",
   "execution_count": 22,
   "metadata": {},
   "outputs": [
    {
     "data": {
      "text/markdown": [
       "### INFO table"
      ],
      "text/plain": [
       "<IPython.core.display.Markdown object>"
      ]
     },
     "metadata": {},
     "output_type": "display_data"
    },
    {
     "data": {
      "text/markdown": [
       "|   Row |   Col |   Rows without NaN |   Quantitative variables |   Categorical variables |\n",
       "|------:|------:|-------------------:|-------------------------:|------------------------:|\n",
       "| 13580 |    21 |              13580 |                       13 |                       8 |"
      ],
      "text/plain": [
       "<IPython.core.display.Markdown object>"
      ]
     },
     "metadata": {},
     "output_type": "display_data"
    },
    {
     "data": {
      "text/markdown": [
       "### Check blank, null or empty values"
      ],
      "text/plain": [
       "<IPython.core.display.Markdown object>"
      ]
     },
     "metadata": {},
     "output_type": "display_data"
    },
    {
     "data": {
      "text/markdown": [
       "| columns   | %   |\n",
       "|-----------|-----|"
      ],
      "text/plain": [
       "<IPython.core.display.Markdown object>"
      ]
     },
     "metadata": {},
     "output_type": "display_data"
    },
    {
     "data": {
      "text/markdown": [
       "### Check zeros"
      ],
      "text/plain": [
       "<IPython.core.display.Markdown object>"
      ]
     },
     "metadata": {},
     "output_type": "display_data"
    },
    {
     "data": {
      "text/markdown": [
       "| columns   | %   |\n",
       "|-----------|-----|"
      ],
      "text/plain": [
       "<IPython.core.display.Markdown object>"
      ]
     },
     "metadata": {},
     "output_type": "display_data"
    },
    {
     "data": {
      "text/markdown": [
       "### Check duplicates rows"
      ],
      "text/plain": [
       "<IPython.core.display.Markdown object>"
      ]
     },
     "metadata": {},
     "output_type": "display_data"
    },
    {
     "data": {
      "text/markdown": [
       "|   % |\n",
       "|----:|\n",
       "|   0 |"
      ],
      "text/plain": [
       "<IPython.core.display.Markdown object>"
      ]
     },
     "metadata": {},
     "output_type": "display_data"
    },
    {
     "data": {
      "text/markdown": [
       "### SUMMARY table"
      ],
      "text/plain": [
       "<IPython.core.display.Markdown object>"
      ]
     },
     "metadata": {},
     "output_type": "display_data"
    },
    {
     "data": {
      "text/html": [
       "<style type=\"text/css\">\n",
       "</style>\n",
       "<table id=\"T_ef550\">\n",
       "  <thead>\n",
       "    <tr>\n",
       "      <th class=\"blank level0\" >&nbsp;</th>\n",
       "      <th id=\"T_ef550_level0_col0\" class=\"col_heading level0 col0\" >Suburb</th>\n",
       "      <th id=\"T_ef550_level0_col1\" class=\"col_heading level0 col1\" >Address</th>\n",
       "      <th id=\"T_ef550_level0_col2\" class=\"col_heading level0 col2\" >Rooms</th>\n",
       "      <th id=\"T_ef550_level0_col3\" class=\"col_heading level0 col3\" >Type</th>\n",
       "      <th id=\"T_ef550_level0_col4\" class=\"col_heading level0 col4\" >Price</th>\n",
       "      <th id=\"T_ef550_level0_col5\" class=\"col_heading level0 col5\" >Method</th>\n",
       "      <th id=\"T_ef550_level0_col6\" class=\"col_heading level0 col6\" >SellerG</th>\n",
       "      <th id=\"T_ef550_level0_col7\" class=\"col_heading level0 col7\" >Date</th>\n",
       "      <th id=\"T_ef550_level0_col8\" class=\"col_heading level0 col8\" >Distance</th>\n",
       "      <th id=\"T_ef550_level0_col9\" class=\"col_heading level0 col9\" >Postcode</th>\n",
       "      <th id=\"T_ef550_level0_col10\" class=\"col_heading level0 col10\" >Bedroom2</th>\n",
       "      <th id=\"T_ef550_level0_col11\" class=\"col_heading level0 col11\" >Bathroom</th>\n",
       "      <th id=\"T_ef550_level0_col12\" class=\"col_heading level0 col12\" >Car</th>\n",
       "      <th id=\"T_ef550_level0_col13\" class=\"col_heading level0 col13\" >Landsize</th>\n",
       "      <th id=\"T_ef550_level0_col14\" class=\"col_heading level0 col14\" >BuildingArea</th>\n",
       "      <th id=\"T_ef550_level0_col15\" class=\"col_heading level0 col15\" >YearBuilt</th>\n",
       "      <th id=\"T_ef550_level0_col16\" class=\"col_heading level0 col16\" >CouncilArea</th>\n",
       "      <th id=\"T_ef550_level0_col17\" class=\"col_heading level0 col17\" >Lattitude</th>\n",
       "      <th id=\"T_ef550_level0_col18\" class=\"col_heading level0 col18\" >Longtitude</th>\n",
       "      <th id=\"T_ef550_level0_col19\" class=\"col_heading level0 col19\" >Regionname</th>\n",
       "      <th id=\"T_ef550_level0_col20\" class=\"col_heading level0 col20\" >Propertycount</th>\n",
       "    </tr>\n",
       "  </thead>\n",
       "  <tbody>\n",
       "    <tr>\n",
       "      <th id=\"T_ef550_level0_row0\" class=\"row_heading level0 row0\" >nan</th>\n",
       "      <td id=\"T_ef550_row0_col0\" class=\"data row0 col0\" >0.00%</td>\n",
       "      <td id=\"T_ef550_row0_col1\" class=\"data row0 col1\" >0.00%</td>\n",
       "      <td id=\"T_ef550_row0_col2\" class=\"data row0 col2\" >0.00%</td>\n",
       "      <td id=\"T_ef550_row0_col3\" class=\"data row0 col3\" >0.00%</td>\n",
       "      <td id=\"T_ef550_row0_col4\" class=\"data row0 col4\" >0.00%</td>\n",
       "      <td id=\"T_ef550_row0_col5\" class=\"data row0 col5\" >0.00%</td>\n",
       "      <td id=\"T_ef550_row0_col6\" class=\"data row0 col6\" >0.00%</td>\n",
       "      <td id=\"T_ef550_row0_col7\" class=\"data row0 col7\" >0.00%</td>\n",
       "      <td id=\"T_ef550_row0_col8\" class=\"data row0 col8\" >0.00%</td>\n",
       "      <td id=\"T_ef550_row0_col9\" class=\"data row0 col9\" >0.00%</td>\n",
       "      <td id=\"T_ef550_row0_col10\" class=\"data row0 col10\" >0.00%</td>\n",
       "      <td id=\"T_ef550_row0_col11\" class=\"data row0 col11\" >0.00%</td>\n",
       "      <td id=\"T_ef550_row0_col12\" class=\"data row0 col12\" >0.00%</td>\n",
       "      <td id=\"T_ef550_row0_col13\" class=\"data row0 col13\" >0.00%</td>\n",
       "      <td id=\"T_ef550_row0_col14\" class=\"data row0 col14\" >0.00%</td>\n",
       "      <td id=\"T_ef550_row0_col15\" class=\"data row0 col15\" >0.00%</td>\n",
       "      <td id=\"T_ef550_row0_col16\" class=\"data row0 col16\" >0.00%</td>\n",
       "      <td id=\"T_ef550_row0_col17\" class=\"data row0 col17\" >0.00%</td>\n",
       "      <td id=\"T_ef550_row0_col18\" class=\"data row0 col18\" >0.00%</td>\n",
       "      <td id=\"T_ef550_row0_col19\" class=\"data row0 col19\" >0.00%</td>\n",
       "      <td id=\"T_ef550_row0_col20\" class=\"data row0 col20\" >0.00%</td>\n",
       "    </tr>\n",
       "    <tr>\n",
       "      <th id=\"T_ef550_level0_row1\" class=\"row_heading level0 row1\" >zero</th>\n",
       "      <td id=\"T_ef550_row1_col0\" class=\"data row1 col0\" >0.00%</td>\n",
       "      <td id=\"T_ef550_row1_col1\" class=\"data row1 col1\" >0.00%</td>\n",
       "      <td id=\"T_ef550_row1_col2\" class=\"data row1 col2\" >0.00%</td>\n",
       "      <td id=\"T_ef550_row1_col3\" class=\"data row1 col3\" >0.00%</td>\n",
       "      <td id=\"T_ef550_row1_col4\" class=\"data row1 col4\" >0.00%</td>\n",
       "      <td id=\"T_ef550_row1_col5\" class=\"data row1 col5\" >0.00%</td>\n",
       "      <td id=\"T_ef550_row1_col6\" class=\"data row1 col6\" >0.00%</td>\n",
       "      <td id=\"T_ef550_row1_col7\" class=\"data row1 col7\" >0.00%</td>\n",
       "      <td id=\"T_ef550_row1_col8\" class=\"data row1 col8\" >0.00%</td>\n",
       "      <td id=\"T_ef550_row1_col9\" class=\"data row1 col9\" >0.00%</td>\n",
       "      <td id=\"T_ef550_row1_col10\" class=\"data row1 col10\" >0.00%</td>\n",
       "      <td id=\"T_ef550_row1_col11\" class=\"data row1 col11\" >0.00%</td>\n",
       "      <td id=\"T_ef550_row1_col12\" class=\"data row1 col12\" >0.00%</td>\n",
       "      <td id=\"T_ef550_row1_col13\" class=\"data row1 col13\" >0.00%</td>\n",
       "      <td id=\"T_ef550_row1_col14\" class=\"data row1 col14\" >0.00%</td>\n",
       "      <td id=\"T_ef550_row1_col15\" class=\"data row1 col15\" >0.00%</td>\n",
       "      <td id=\"T_ef550_row1_col16\" class=\"data row1 col16\" >0.00%</td>\n",
       "      <td id=\"T_ef550_row1_col17\" class=\"data row1 col17\" >0.00%</td>\n",
       "      <td id=\"T_ef550_row1_col18\" class=\"data row1 col18\" >0.00%</td>\n",
       "      <td id=\"T_ef550_row1_col19\" class=\"data row1 col19\" >0.00%</td>\n",
       "      <td id=\"T_ef550_row1_col20\" class=\"data row1 col20\" >0.00%</td>\n",
       "    </tr>\n",
       "  </tbody>\n",
       "</table>\n"
      ],
      "text/plain": [
       "<pandas.io.formats.style.Styler at 0x7f97fed7f1c0>"
      ]
     },
     "metadata": {},
     "output_type": "display_data"
    },
    {
     "name": "stdout",
     "output_type": "stream",
     "text": [
      "\n",
      "\n"
     ]
    },
    {
     "data": {
      "text/plain": [
       "[[], [], []]"
      ]
     },
     "execution_count": 22,
     "metadata": {},
     "output_type": "execute_result"
    }
   ],
   "source": [
    "# test \n",
    "data_test = data.copy()\n",
    "# quant variables\n",
    "data_test = eda.handling_missing(data_test, col=nan_num, missing_val=np.nan, method=['mean']*len(nan_num))\n",
    "# qual variables \n",
    "data_test = eda.handling_missing(data_test, col=nan_cat, missing_val=np.nan, method=['most_frequent']*len(nan_cat))\n",
    "# zero variables\n",
    "data_test = eda.handling_missing(data_test, col = zero_col, missing_val=0, method=['most_frequent']*len(zero_col))\n",
    "# view missing data in the dataset after the handling phase \n",
    "eda.missing(data_test)"
   ]
  },
  {
   "attachments": {},
   "cell_type": "markdown",
   "metadata": {},
   "source": [
    "As you can see from the result of the missing function, all the missing values it's been treated "
   ]
  },
  {
   "attachments": {},
   "cell_type": "markdown",
   "metadata": {},
   "source": [
    "## Drop columns <a class=\"anchor\" id=\"drop\"></a>"
   ]
  },
  {
   "cell_type": "code",
   "execution_count": 23,
   "metadata": {},
   "outputs": [
    {
     "data": {
      "text/markdown": [
       "Rows: 13580, Columns: 21"
      ],
      "text/plain": [
       "<IPython.core.display.Markdown object>"
      ]
     },
     "metadata": {},
     "output_type": "display_data"
    },
    {
     "data": {
      "text/markdown": [
       "Rows: 13580, Columns: 19"
      ],
      "text/plain": [
       "<IPython.core.display.Markdown object>"
      ]
     },
     "metadata": {},
     "output_type": "display_data"
    }
   ],
   "source": [
    "eda.dimensions(data_test)\n",
    "data_test = eda.drop_columns(data_test, col=['CouncilArea', 'Date'])\n",
    "eda.dimensions(data_test)"
   ]
  },
  {
   "attachments": {},
   "cell_type": "markdown",
   "metadata": {},
   "source": [
    "## Plot categorical variables <a class=\"anchor\" id=\"plot-cat\"></a>"
   ]
  },
  {
   "cell_type": "code",
   "execution_count": 24,
   "metadata": {},
   "outputs": [
    {
     "data": {
      "text/markdown": [
       "|               | variable type   |\n",
       "|:--------------|:----------------|\n",
       "| Suburb        | object          |\n",
       "| Address       | object          |\n",
       "| Rooms         | int64           |\n",
       "| Type          | object          |\n",
       "| Price         | float64         |\n",
       "| Method        | object          |\n",
       "| SellerG       | object          |\n",
       "| Distance      | float64         |\n",
       "| Postcode      | float64         |\n",
       "| Bedroom2      | float64         |\n",
       "| Bathroom      | float64         |\n",
       "| Car           | float64         |\n",
       "| Landsize      | float64         |\n",
       "| BuildingArea  | float64         |\n",
       "| YearBuilt     | float64         |\n",
       "| Lattitude     | float64         |\n",
       "| Longtitude    | float64         |\n",
       "| Regionname    | object          |\n",
       "| Propertycount | float64         |"
      ],
      "text/plain": [
       "<IPython.core.display.Markdown object>"
      ]
     },
     "metadata": {},
     "output_type": "display_data"
    },
    {
     "name": "stdout",
     "output_type": "stream",
     "text": [
      "['Rooms', 'Price', 'Distance', 'Postcode', 'Bedroom2', 'Bathroom', 'Car', 'Landsize', 'BuildingArea', 'YearBuilt', 'Lattitude', 'Longtitude', 'Propertycount']\n",
      "['Suburb', 'Address', 'Type', 'Method', 'SellerG', 'Regionname']\n"
     ]
    }
   ],
   "source": [
    "num_col, cat_col = eda.identify_types(data_test)\n",
    "print(num_col)\n",
    "print(cat_col)"
   ]
  },
  {
   "cell_type": "code",
   "execution_count": 25,
   "metadata": {},
   "outputs": [
    {
     "data": {
      "text/markdown": [
       "### Suburb"
      ],
      "text/plain": [
       "<IPython.core.display.Markdown object>"
      ]
     },
     "metadata": {},
     "output_type": "display_data"
    },
    {
     "data": {
      "text/html": [
       "<style type=\"text/css\">\n",
       "</style>\n",
       "<table id=\"T_baa00\" style='display:inline'>\n",
       "  <caption>Info</caption>\n",
       "  <thead>\n",
       "    <tr>\n",
       "      <th class=\"blank level0\" >&nbsp;</th>\n",
       "      <th id=\"T_baa00_level0_col0\" class=\"col_heading level0 col0\" >Suburb</th>\n",
       "    </tr>\n",
       "  </thead>\n",
       "  <tbody>\n",
       "    <tr>\n",
       "      <th id=\"T_baa00_level0_row0\" class=\"row_heading level0 row0\" >count</th>\n",
       "      <td id=\"T_baa00_row0_col0\" class=\"data row0 col0\" >13580</td>\n",
       "    </tr>\n",
       "    <tr>\n",
       "      <th id=\"T_baa00_level0_row1\" class=\"row_heading level0 row1\" >unique</th>\n",
       "      <td id=\"T_baa00_row1_col0\" class=\"data row1 col0\" >314</td>\n",
       "    </tr>\n",
       "    <tr>\n",
       "      <th id=\"T_baa00_level0_row2\" class=\"row_heading level0 row2\" >top</th>\n",
       "      <td id=\"T_baa00_row2_col0\" class=\"data row2 col0\" >Reservoir</td>\n",
       "    </tr>\n",
       "    <tr>\n",
       "      <th id=\"T_baa00_level0_row3\" class=\"row_heading level0 row3\" >freq</th>\n",
       "      <td id=\"T_baa00_row3_col0\" class=\"data row3 col0\" >359</td>\n",
       "    </tr>\n",
       "  </tbody>\n",
       "</table>\n",
       "   <style type=\"text/css\">\n",
       "</style>\n",
       "<table id=\"T_49c95\" style='display:inline'>\n",
       "  <caption>Top cardinalities</caption>\n",
       "  <thead>\n",
       "    <tr>\n",
       "      <th class=\"blank level0\" >&nbsp;</th>\n",
       "      <th id=\"T_49c95_level0_col0\" class=\"col_heading level0 col0\" >Suburb</th>\n",
       "    </tr>\n",
       "  </thead>\n",
       "  <tbody>\n",
       "    <tr>\n",
       "      <th id=\"T_49c95_level0_row0\" class=\"row_heading level0 row0\" >Reservoir</th>\n",
       "      <td id=\"T_49c95_row0_col0\" class=\"data row0 col0\" >359</td>\n",
       "    </tr>\n",
       "    <tr>\n",
       "      <th id=\"T_49c95_level0_row1\" class=\"row_heading level0 row1\" >Richmond</th>\n",
       "      <td id=\"T_49c95_row1_col0\" class=\"data row1 col0\" >260</td>\n",
       "    </tr>\n",
       "    <tr>\n",
       "      <th id=\"T_49c95_level0_row2\" class=\"row_heading level0 row2\" >Bentleigh East</th>\n",
       "      <td id=\"T_49c95_row2_col0\" class=\"data row2 col0\" >249</td>\n",
       "    </tr>\n",
       "    <tr>\n",
       "      <th id=\"T_49c95_level0_row3\" class=\"row_heading level0 row3\" >Preston</th>\n",
       "      <td id=\"T_49c95_row3_col0\" class=\"data row3 col0\" >239</td>\n",
       "    </tr>\n",
       "    <tr>\n",
       "      <th id=\"T_49c95_level0_row4\" class=\"row_heading level0 row4\" >Brunswick</th>\n",
       "      <td id=\"T_49c95_row4_col0\" class=\"data row4 col0\" >222</td>\n",
       "    </tr>\n",
       "    <tr>\n",
       "      <th id=\"T_49c95_level0_row5\" class=\"row_heading level0 row5\" >Essendon</th>\n",
       "      <td id=\"T_49c95_row5_col0\" class=\"data row5 col0\" >220</td>\n",
       "    </tr>\n",
       "    <tr>\n",
       "      <th id=\"T_49c95_level0_row6\" class=\"row_heading level0 row6\" >South Yarra</th>\n",
       "      <td id=\"T_49c95_row6_col0\" class=\"data row6 col0\" >202</td>\n",
       "    </tr>\n",
       "    <tr>\n",
       "      <th id=\"T_49c95_level0_row7\" class=\"row_heading level0 row7\" >Glen Iris</th>\n",
       "      <td id=\"T_49c95_row7_col0\" class=\"data row7 col0\" >195</td>\n",
       "    </tr>\n",
       "    <tr>\n",
       "      <th id=\"T_49c95_level0_row8\" class=\"row_heading level0 row8\" >Hawthorn</th>\n",
       "      <td id=\"T_49c95_row8_col0\" class=\"data row8 col0\" >191</td>\n",
       "    </tr>\n",
       "    <tr>\n",
       "      <th id=\"T_49c95_level0_row9\" class=\"row_heading level0 row9\" >Coburg</th>\n",
       "      <td id=\"T_49c95_row9_col0\" class=\"data row9 col0\" >190</td>\n",
       "    </tr>\n",
       "  </tbody>\n",
       "</table>\n",
       "   "
      ],
      "text/plain": [
       "<IPython.core.display.HTML object>"
      ]
     },
     "metadata": {},
     "output_type": "display_data"
    },
    {
     "name": "stdout",
     "output_type": "stream",
     "text": [
      "\n",
      "\n"
     ]
    },
    {
     "data": {
      "image/png": "[encoded data removed]",
      "text/plain": [
       "<Figure size 576x288 with 1 Axes>"
      ]
     },
     "metadata": {
      "needs_background": "light"
     },
     "output_type": "display_data"
    },
    {
     "name": "stdout",
     "output_type": "stream",
     "text": [
      "\n",
      "\n"
     ]
    },
    {
     "data": {
      "text/markdown": [
       "### Address"
      ],
      "text/plain": [
       "<IPython.core.display.Markdown object>"
      ]
     },
     "metadata": {},
     "output_type": "display_data"
    },
    {
     "data": {
      "text/html": [
       "<style type=\"text/css\">\n",
       "</style>\n",
       "<table id=\"T_9e55e\" style='display:inline'>\n",
       "  <caption>Info</caption>\n",
       "  <thead>\n",
       "    <tr>\n",
       "      <th class=\"blank level0\" >&nbsp;</th>\n",
       "      <th id=\"T_9e55e_level0_col0\" class=\"col_heading level0 col0\" >Address</th>\n",
       "    </tr>\n",
       "  </thead>\n",
       "  <tbody>\n",
       "    <tr>\n",
       "      <th id=\"T_9e55e_level0_row0\" class=\"row_heading level0 row0\" >count</th>\n",
       "      <td id=\"T_9e55e_row0_col0\" class=\"data row0 col0\" >13580</td>\n",
       "    </tr>\n",
       "    <tr>\n",
       "      <th id=\"T_9e55e_level0_row1\" class=\"row_heading level0 row1\" >unique</th>\n",
       "      <td id=\"T_9e55e_row1_col0\" class=\"data row1 col0\" >13378</td>\n",
       "    </tr>\n",
       "    <tr>\n",
       "      <th id=\"T_9e55e_level0_row2\" class=\"row_heading level0 row2\" >top</th>\n",
       "      <td id=\"T_9e55e_row2_col0\" class=\"data row2 col0\" >36 Aberfeldie St</td>\n",
       "    </tr>\n",
       "    <tr>\n",
       "      <th id=\"T_9e55e_level0_row3\" class=\"row_heading level0 row3\" >freq</th>\n",
       "      <td id=\"T_9e55e_row3_col0\" class=\"data row3 col0\" >3</td>\n",
       "    </tr>\n",
       "  </tbody>\n",
       "</table>\n",
       "   <style type=\"text/css\">\n",
       "</style>\n",
       "<table id=\"T_2f13f\" style='display:inline'>\n",
       "  <caption>Top cardinalities</caption>\n",
       "  <thead>\n",
       "    <tr>\n",
       "      <th class=\"blank level0\" >&nbsp;</th>\n",
       "      <th id=\"T_2f13f_level0_col0\" class=\"col_heading level0 col0\" >Address</th>\n",
       "    </tr>\n",
       "  </thead>\n",
       "  <tbody>\n",
       "    <tr>\n",
       "      <th id=\"T_2f13f_level0_row0\" class=\"row_heading level0 row0\" >36 Aberfeldie St</th>\n",
       "      <td id=\"T_2f13f_row0_col0\" class=\"data row0 col0\" >3</td>\n",
       "    </tr>\n",
       "    <tr>\n",
       "      <th id=\"T_2f13f_level0_row1\" class=\"row_heading level0 row1\" >2 Bruce St</th>\n",
       "      <td id=\"T_2f13f_row1_col0\" class=\"data row1 col0\" >3</td>\n",
       "    </tr>\n",
       "    <tr>\n",
       "      <th id=\"T_2f13f_level0_row2\" class=\"row_heading level0 row2\" >5 Charles St</th>\n",
       "      <td id=\"T_2f13f_row2_col0\" class=\"data row2 col0\" >3</td>\n",
       "    </tr>\n",
       "    <tr>\n",
       "      <th id=\"T_2f13f_level0_row3\" class=\"row_heading level0 row3\" >53 William St</th>\n",
       "      <td id=\"T_2f13f_row3_col0\" class=\"data row3 col0\" >3</td>\n",
       "    </tr>\n",
       "    <tr>\n",
       "      <th id=\"T_2f13f_level0_row4\" class=\"row_heading level0 row4\" >14 Arthur St</th>\n",
       "      <td id=\"T_2f13f_row4_col0\" class=\"data row4 col0\" >3</td>\n",
       "    </tr>\n",
       "    <tr>\n",
       "      <th id=\"T_2f13f_level0_row5\" class=\"row_heading level0 row5\" >28 Blair St</th>\n",
       "      <td id=\"T_2f13f_row5_col0\" class=\"data row5 col0\" >3</td>\n",
       "    </tr>\n",
       "    <tr>\n",
       "      <th id=\"T_2f13f_level0_row6\" class=\"row_heading level0 row6\" >5 Margaret St</th>\n",
       "      <td id=\"T_2f13f_row6_col0\" class=\"data row6 col0\" >3</td>\n",
       "    </tr>\n",
       "    <tr>\n",
       "      <th id=\"T_2f13f_level0_row7\" class=\"row_heading level0 row7\" >1/1 Clarendon St</th>\n",
       "      <td id=\"T_2f13f_row7_col0\" class=\"data row7 col0\" >3</td>\n",
       "    </tr>\n",
       "    <tr>\n",
       "      <th id=\"T_2f13f_level0_row8\" class=\"row_heading level0 row8\" >13 Robinson St</th>\n",
       "      <td id=\"T_2f13f_row8_col0\" class=\"data row8 col0\" >3</td>\n",
       "    </tr>\n",
       "    <tr>\n",
       "      <th id=\"T_2f13f_level0_row9\" class=\"row_heading level0 row9\" >4 Bell St</th>\n",
       "      <td id=\"T_2f13f_row9_col0\" class=\"data row9 col0\" >2</td>\n",
       "    </tr>\n",
       "  </tbody>\n",
       "</table>\n",
       "   "
      ],
      "text/plain": [
       "<IPython.core.display.HTML object>"
      ]
     },
     "metadata": {},
     "output_type": "display_data"
    },
    {
     "name": "stdout",
     "output_type": "stream",
     "text": [
      "\n",
      "\n",
      "\n",
      "\n"
     ]
    },
    {
     "data": {
      "text/markdown": [
       "***too many unique values***"
      ],
      "text/plain": [
       "<IPython.core.display.Markdown object>"
      ]
     },
     "metadata": {},
     "output_type": "display_data"
    },
    {
     "name": "stdout",
     "output_type": "stream",
     "text": [
      "\n",
      "\n"
     ]
    },
    {
     "data": {
      "text/markdown": [
       "### Type"
      ],
      "text/plain": [
       "<IPython.core.display.Markdown object>"
      ]
     },
     "metadata": {},
     "output_type": "display_data"
    },
    {
     "data": {
      "text/html": [
       "<style type=\"text/css\">\n",
       "</style>\n",
       "<table id=\"T_80a12\" style='display:inline'>\n",
       "  <caption>Info</caption>\n",
       "  <thead>\n",
       "    <tr>\n",
       "      <th class=\"blank level0\" >&nbsp;</th>\n",
       "      <th id=\"T_80a12_level0_col0\" class=\"col_heading level0 col0\" >Type</th>\n",
       "    </tr>\n",
       "  </thead>\n",
       "  <tbody>\n",
       "    <tr>\n",
       "      <th id=\"T_80a12_level0_row0\" class=\"row_heading level0 row0\" >count</th>\n",
       "      <td id=\"T_80a12_row0_col0\" class=\"data row0 col0\" >13580</td>\n",
       "    </tr>\n",
       "    <tr>\n",
       "      <th id=\"T_80a12_level0_row1\" class=\"row_heading level0 row1\" >unique</th>\n",
       "      <td id=\"T_80a12_row1_col0\" class=\"data row1 col0\" >3</td>\n",
       "    </tr>\n",
       "    <tr>\n",
       "      <th id=\"T_80a12_level0_row2\" class=\"row_heading level0 row2\" >top</th>\n",
       "      <td id=\"T_80a12_row2_col0\" class=\"data row2 col0\" >h</td>\n",
       "    </tr>\n",
       "    <tr>\n",
       "      <th id=\"T_80a12_level0_row3\" class=\"row_heading level0 row3\" >freq</th>\n",
       "      <td id=\"T_80a12_row3_col0\" class=\"data row3 col0\" >9449</td>\n",
       "    </tr>\n",
       "  </tbody>\n",
       "</table>\n",
       "   <style type=\"text/css\">\n",
       "</style>\n",
       "<table id=\"T_bb1f0\" style='display:inline'>\n",
       "  <caption>Top cardinalities</caption>\n",
       "  <thead>\n",
       "    <tr>\n",
       "      <th class=\"blank level0\" >&nbsp;</th>\n",
       "      <th id=\"T_bb1f0_level0_col0\" class=\"col_heading level0 col0\" >Type</th>\n",
       "    </tr>\n",
       "  </thead>\n",
       "  <tbody>\n",
       "    <tr>\n",
       "      <th id=\"T_bb1f0_level0_row0\" class=\"row_heading level0 row0\" >h</th>\n",
       "      <td id=\"T_bb1f0_row0_col0\" class=\"data row0 col0\" >9449</td>\n",
       "    </tr>\n",
       "    <tr>\n",
       "      <th id=\"T_bb1f0_level0_row1\" class=\"row_heading level0 row1\" >u</th>\n",
       "      <td id=\"T_bb1f0_row1_col0\" class=\"data row1 col0\" >3017</td>\n",
       "    </tr>\n",
       "    <tr>\n",
       "      <th id=\"T_bb1f0_level0_row2\" class=\"row_heading level0 row2\" >t</th>\n",
       "      <td id=\"T_bb1f0_row2_col0\" class=\"data row2 col0\" >1114</td>\n",
       "    </tr>\n",
       "  </tbody>\n",
       "</table>\n",
       "   "
      ],
      "text/plain": [
       "<IPython.core.display.HTML object>"
      ]
     },
     "metadata": {},
     "output_type": "display_data"
    },
    {
     "name": "stdout",
     "output_type": "stream",
     "text": [
      "\n",
      "\n"
     ]
    },
    {
     "data": {
      "image/png": "[encoded data removed]",
      "text/plain": [
       "<Figure size 576x288 with 1 Axes>"
      ]
     },
     "metadata": {
      "needs_background": "light"
     },
     "output_type": "display_data"
    },
    {
     "name": "stdout",
     "output_type": "stream",
     "text": [
      "\n",
      "\n"
     ]
    },
    {
     "data": {
      "text/markdown": [
       "### Method"
      ],
      "text/plain": [
       "<IPython.core.display.Markdown object>"
      ]
     },
     "metadata": {},
     "output_type": "display_data"
    },
    {
     "data": {
      "text/html": [
       "<style type=\"text/css\">\n",
       "</style>\n",
       "<table id=\"T_59c8e\" style='display:inline'>\n",
       "  <caption>Info</caption>\n",
       "  <thead>\n",
       "    <tr>\n",
       "      <th class=\"blank level0\" >&nbsp;</th>\n",
       "      <th id=\"T_59c8e_level0_col0\" class=\"col_heading level0 col0\" >Method</th>\n",
       "    </tr>\n",
       "  </thead>\n",
       "  <tbody>\n",
       "    <tr>\n",
       "      <th id=\"T_59c8e_level0_row0\" class=\"row_heading level0 row0\" >count</th>\n",
       "      <td id=\"T_59c8e_row0_col0\" class=\"data row0 col0\" >13580</td>\n",
       "    </tr>\n",
       "    <tr>\n",
       "      <th id=\"T_59c8e_level0_row1\" class=\"row_heading level0 row1\" >unique</th>\n",
       "      <td id=\"T_59c8e_row1_col0\" class=\"data row1 col0\" >5</td>\n",
       "    </tr>\n",
       "    <tr>\n",
       "      <th id=\"T_59c8e_level0_row2\" class=\"row_heading level0 row2\" >top</th>\n",
       "      <td id=\"T_59c8e_row2_col0\" class=\"data row2 col0\" >S</td>\n",
       "    </tr>\n",
       "    <tr>\n",
       "      <th id=\"T_59c8e_level0_row3\" class=\"row_heading level0 row3\" >freq</th>\n",
       "      <td id=\"T_59c8e_row3_col0\" class=\"data row3 col0\" >9022</td>\n",
       "    </tr>\n",
       "  </tbody>\n",
       "</table>\n",
       "   <style type=\"text/css\">\n",
       "</style>\n",
       "<table id=\"T_75718\" style='display:inline'>\n",
       "  <caption>Top cardinalities</caption>\n",
       "  <thead>\n",
       "    <tr>\n",
       "      <th class=\"blank level0\" >&nbsp;</th>\n",
       "      <th id=\"T_75718_level0_col0\" class=\"col_heading level0 col0\" >Method</th>\n",
       "    </tr>\n",
       "  </thead>\n",
       "  <tbody>\n",
       "    <tr>\n",
       "      <th id=\"T_75718_level0_row0\" class=\"row_heading level0 row0\" >S</th>\n",
       "      <td id=\"T_75718_row0_col0\" class=\"data row0 col0\" >9022</td>\n",
       "    </tr>\n",
       "    <tr>\n",
       "      <th id=\"T_75718_level0_row1\" class=\"row_heading level0 row1\" >SP</th>\n",
       "      <td id=\"T_75718_row1_col0\" class=\"data row1 col0\" >1703</td>\n",
       "    </tr>\n",
       "    <tr>\n",
       "      <th id=\"T_75718_level0_row2\" class=\"row_heading level0 row2\" >PI</th>\n",
       "      <td id=\"T_75718_row2_col0\" class=\"data row2 col0\" >1564</td>\n",
       "    </tr>\n",
       "    <tr>\n",
       "      <th id=\"T_75718_level0_row3\" class=\"row_heading level0 row3\" >VB</th>\n",
       "      <td id=\"T_75718_row3_col0\" class=\"data row3 col0\" >1199</td>\n",
       "    </tr>\n",
       "    <tr>\n",
       "      <th id=\"T_75718_level0_row4\" class=\"row_heading level0 row4\" >SA</th>\n",
       "      <td id=\"T_75718_row4_col0\" class=\"data row4 col0\" >92</td>\n",
       "    </tr>\n",
       "  </tbody>\n",
       "</table>\n",
       "   "
      ],
      "text/plain": [
       "<IPython.core.display.HTML object>"
      ]
     },
     "metadata": {},
     "output_type": "display_data"
    },
    {
     "name": "stdout",
     "output_type": "stream",
     "text": [
      "\n",
      "\n"
     ]
    },
    {
     "data": {
      "image/png": "[encoded data removed]",
      "text/plain": [
       "<Figure size 576x288 with 1 Axes>"
      ]
     },
     "metadata": {
      "needs_background": "light"
     },
     "output_type": "display_data"
    },
    {
     "name": "stdout",
     "output_type": "stream",
     "text": [
      "\n",
      "\n"
     ]
    },
    {
     "data": {
      "text/markdown": [
       "### SellerG"
      ],
      "text/plain": [
       "<IPython.core.display.Markdown object>"
      ]
     },
     "metadata": {},
     "output_type": "display_data"
    },
    {
     "data": {
      "text/html": [
       "<style type=\"text/css\">\n",
       "</style>\n",
       "<table id=\"T_db698\" style='display:inline'>\n",
       "  <caption>Info</caption>\n",
       "  <thead>\n",
       "    <tr>\n",
       "      <th class=\"blank level0\" >&nbsp;</th>\n",
       "      <th id=\"T_db698_level0_col0\" class=\"col_heading level0 col0\" >SellerG</th>\n",
       "    </tr>\n",
       "  </thead>\n",
       "  <tbody>\n",
       "    <tr>\n",
       "      <th id=\"T_db698_level0_row0\" class=\"row_heading level0 row0\" >count</th>\n",
       "      <td id=\"T_db698_row0_col0\" class=\"data row0 col0\" >13580</td>\n",
       "    </tr>\n",
       "    <tr>\n",
       "      <th id=\"T_db698_level0_row1\" class=\"row_heading level0 row1\" >unique</th>\n",
       "      <td id=\"T_db698_row1_col0\" class=\"data row1 col0\" >268</td>\n",
       "    </tr>\n",
       "    <tr>\n",
       "      <th id=\"T_db698_level0_row2\" class=\"row_heading level0 row2\" >top</th>\n",
       "      <td id=\"T_db698_row2_col0\" class=\"data row2 col0\" >Nelson</td>\n",
       "    </tr>\n",
       "    <tr>\n",
       "      <th id=\"T_db698_level0_row3\" class=\"row_heading level0 row3\" >freq</th>\n",
       "      <td id=\"T_db698_row3_col0\" class=\"data row3 col0\" >1565</td>\n",
       "    </tr>\n",
       "  </tbody>\n",
       "</table>\n",
       "   <style type=\"text/css\">\n",
       "</style>\n",
       "<table id=\"T_97dc5\" style='display:inline'>\n",
       "  <caption>Top cardinalities</caption>\n",
       "  <thead>\n",
       "    <tr>\n",
       "      <th class=\"blank level0\" >&nbsp;</th>\n",
       "      <th id=\"T_97dc5_level0_col0\" class=\"col_heading level0 col0\" >SellerG</th>\n",
       "    </tr>\n",
       "  </thead>\n",
       "  <tbody>\n",
       "    <tr>\n",
       "      <th id=\"T_97dc5_level0_row0\" class=\"row_heading level0 row0\" >Nelson</th>\n",
       "      <td id=\"T_97dc5_row0_col0\" class=\"data row0 col0\" >1565</td>\n",
       "    </tr>\n",
       "    <tr>\n",
       "      <th id=\"T_97dc5_level0_row1\" class=\"row_heading level0 row1\" >Jellis</th>\n",
       "      <td id=\"T_97dc5_row1_col0\" class=\"data row1 col0\" >1316</td>\n",
       "    </tr>\n",
       "    <tr>\n",
       "      <th id=\"T_97dc5_level0_row2\" class=\"row_heading level0 row2\" >hockingstuart</th>\n",
       "      <td id=\"T_97dc5_row2_col0\" class=\"data row2 col0\" >1167</td>\n",
       "    </tr>\n",
       "    <tr>\n",
       "      <th id=\"T_97dc5_level0_row3\" class=\"row_heading level0 row3\" >Barry</th>\n",
       "      <td id=\"T_97dc5_row3_col0\" class=\"data row3 col0\" >1011</td>\n",
       "    </tr>\n",
       "    <tr>\n",
       "      <th id=\"T_97dc5_level0_row4\" class=\"row_heading level0 row4\" >Ray</th>\n",
       "      <td id=\"T_97dc5_row4_col0\" class=\"data row4 col0\" >701</td>\n",
       "    </tr>\n",
       "    <tr>\n",
       "      <th id=\"T_97dc5_level0_row5\" class=\"row_heading level0 row5\" >Marshall</th>\n",
       "      <td id=\"T_97dc5_row5_col0\" class=\"data row5 col0\" >659</td>\n",
       "    </tr>\n",
       "    <tr>\n",
       "      <th id=\"T_97dc5_level0_row6\" class=\"row_heading level0 row6\" >Buxton</th>\n",
       "      <td id=\"T_97dc5_row6_col0\" class=\"data row6 col0\" >632</td>\n",
       "    </tr>\n",
       "    <tr>\n",
       "      <th id=\"T_97dc5_level0_row7\" class=\"row_heading level0 row7\" >Biggin</th>\n",
       "      <td id=\"T_97dc5_row7_col0\" class=\"data row7 col0\" >393</td>\n",
       "    </tr>\n",
       "    <tr>\n",
       "      <th id=\"T_97dc5_level0_row8\" class=\"row_heading level0 row8\" >Brad</th>\n",
       "      <td id=\"T_97dc5_row8_col0\" class=\"data row8 col0\" >342</td>\n",
       "    </tr>\n",
       "    <tr>\n",
       "      <th id=\"T_97dc5_level0_row9\" class=\"row_heading level0 row9\" >Fletchers</th>\n",
       "      <td id=\"T_97dc5_row9_col0\" class=\"data row9 col0\" >301</td>\n",
       "    </tr>\n",
       "  </tbody>\n",
       "</table>\n",
       "   "
      ],
      "text/plain": [
       "<IPython.core.display.HTML object>"
      ]
     },
     "metadata": {},
     "output_type": "display_data"
    },
    {
     "name": "stdout",
     "output_type": "stream",
     "text": [
      "\n",
      "\n"
     ]
    },
    {
     "data": {
      "image/png": "[encoded data removed]",
      "text/plain": [
       "<Figure size 576x288 with 1 Axes>"
      ]
     },
     "metadata": {
      "needs_background": "light"
     },
     "output_type": "display_data"
    },
    {
     "name": "stdout",
     "output_type": "stream",
     "text": [
      "\n",
      "\n"
     ]
    },
    {
     "data": {
      "text/markdown": [
       "### Regionname"
      ],
      "text/plain": [
       "<IPython.core.display.Markdown object>"
      ]
     },
     "metadata": {},
     "output_type": "display_data"
    },
    {
     "data": {
      "text/html": [
       "<style type=\"text/css\">\n",
       "</style>\n",
       "<table id=\"T_45f61\" style='display:inline'>\n",
       "  <caption>Info</caption>\n",
       "  <thead>\n",
       "    <tr>\n",
       "      <th class=\"blank level0\" >&nbsp;</th>\n",
       "      <th id=\"T_45f61_level0_col0\" class=\"col_heading level0 col0\" >Regionname</th>\n",
       "    </tr>\n",
       "  </thead>\n",
       "  <tbody>\n",
       "    <tr>\n",
       "      <th id=\"T_45f61_level0_row0\" class=\"row_heading level0 row0\" >count</th>\n",
       "      <td id=\"T_45f61_row0_col0\" class=\"data row0 col0\" >13580</td>\n",
       "    </tr>\n",
       "    <tr>\n",
       "      <th id=\"T_45f61_level0_row1\" class=\"row_heading level0 row1\" >unique</th>\n",
       "      <td id=\"T_45f61_row1_col0\" class=\"data row1 col0\" >8</td>\n",
       "    </tr>\n",
       "    <tr>\n",
       "      <th id=\"T_45f61_level0_row2\" class=\"row_heading level0 row2\" >top</th>\n",
       "      <td id=\"T_45f61_row2_col0\" class=\"data row2 col0\" >Southern Metropolitan</td>\n",
       "    </tr>\n",
       "    <tr>\n",
       "      <th id=\"T_45f61_level0_row3\" class=\"row_heading level0 row3\" >freq</th>\n",
       "      <td id=\"T_45f61_row3_col0\" class=\"data row3 col0\" >4695</td>\n",
       "    </tr>\n",
       "  </tbody>\n",
       "</table>\n",
       "   <style type=\"text/css\">\n",
       "</style>\n",
       "<table id=\"T_584cd\" style='display:inline'>\n",
       "  <caption>Top cardinalities</caption>\n",
       "  <thead>\n",
       "    <tr>\n",
       "      <th class=\"blank level0\" >&nbsp;</th>\n",
       "      <th id=\"T_584cd_level0_col0\" class=\"col_heading level0 col0\" >Regionname</th>\n",
       "    </tr>\n",
       "  </thead>\n",
       "  <tbody>\n",
       "    <tr>\n",
       "      <th id=\"T_584cd_level0_row0\" class=\"row_heading level0 row0\" >Southern Metropolitan</th>\n",
       "      <td id=\"T_584cd_row0_col0\" class=\"data row0 col0\" >4695</td>\n",
       "    </tr>\n",
       "    <tr>\n",
       "      <th id=\"T_584cd_level0_row1\" class=\"row_heading level0 row1\" >Northern Metropolitan</th>\n",
       "      <td id=\"T_584cd_row1_col0\" class=\"data row1 col0\" >3890</td>\n",
       "    </tr>\n",
       "    <tr>\n",
       "      <th id=\"T_584cd_level0_row2\" class=\"row_heading level0 row2\" >Western Metropolitan</th>\n",
       "      <td id=\"T_584cd_row2_col0\" class=\"data row2 col0\" >2948</td>\n",
       "    </tr>\n",
       "    <tr>\n",
       "      <th id=\"T_584cd_level0_row3\" class=\"row_heading level0 row3\" >Eastern Metropolitan</th>\n",
       "      <td id=\"T_584cd_row3_col0\" class=\"data row3 col0\" >1471</td>\n",
       "    </tr>\n",
       "    <tr>\n",
       "      <th id=\"T_584cd_level0_row4\" class=\"row_heading level0 row4\" >South-Eastern Metropolitan</th>\n",
       "      <td id=\"T_584cd_row4_col0\" class=\"data row4 col0\" >450</td>\n",
       "    </tr>\n",
       "    <tr>\n",
       "      <th id=\"T_584cd_level0_row5\" class=\"row_heading level0 row5\" >Eastern Victoria</th>\n",
       "      <td id=\"T_584cd_row5_col0\" class=\"data row5 col0\" >53</td>\n",
       "    </tr>\n",
       "    <tr>\n",
       "      <th id=\"T_584cd_level0_row6\" class=\"row_heading level0 row6\" >Northern Victoria</th>\n",
       "      <td id=\"T_584cd_row6_col0\" class=\"data row6 col0\" >41</td>\n",
       "    </tr>\n",
       "    <tr>\n",
       "      <th id=\"T_584cd_level0_row7\" class=\"row_heading level0 row7\" >Western Victoria</th>\n",
       "      <td id=\"T_584cd_row7_col0\" class=\"data row7 col0\" >32</td>\n",
       "    </tr>\n",
       "  </tbody>\n",
       "</table>\n",
       "   "
      ],
      "text/plain": [
       "<IPython.core.display.HTML object>"
      ]
     },
     "metadata": {},
     "output_type": "display_data"
    },
    {
     "name": "stdout",
     "output_type": "stream",
     "text": [
      "\n",
      "\n"
     ]
    },
    {
     "data": {
      "image/png": "[encoded data removed]",
      "text/plain": [
       "<Figure size 576x288 with 1 Axes>"
      ]
     },
     "metadata": {
      "needs_background": "light"
     },
     "output_type": "display_data"
    },
    {
     "name": "stdout",
     "output_type": "stream",
     "text": [
      "\n",
      "\n"
     ]
    }
   ],
   "source": [
    "eda.plot_categorical(data_test, cat_col)"
   ]
  },
  {
   "attachments": {},
   "cell_type": "markdown",
   "metadata": {},
   "source": [
    "As you can see from the result obtained by the **plot_categoriacal** function, some variables (SellerG, Address and Suburb) show too many unique values to be well-fitted by a model in a future implementation. It's necessary modifying the cardinality of the variables (edamame has the **modify_cadinality** function for this scope that will be presented during the notebook) or drops those variables."
   ]
  },
  {
   "cell_type": "code",
   "execution_count": 26,
   "metadata": {},
   "outputs": [
    {
     "data": {
      "text/markdown": [
       "Rows: 13580, Columns: 18"
      ],
      "text/plain": [
       "<IPython.core.display.Markdown object>"
      ]
     },
     "metadata": {},
     "output_type": "display_data"
    }
   ],
   "source": [
    "# drop address columns far too many unique values \n",
    "data_test = eda.drop_columns(data_test, col=['Address'])\n",
    "eda.dimensions(data_test)"
   ]
  },
  {
   "attachments": {},
   "cell_type": "markdown",
   "metadata": {},
   "source": [
    "## Plot numerical variables <a class=\"anchor\" id=\"plot-num\"></a>"
   ]
  },
  {
   "cell_type": "code",
   "execution_count": 27,
   "metadata": {},
   "outputs": [
    {
     "name": "stdout",
     "output_type": "stream",
     "text": [
      "['Rooms', 'Price', 'Distance', 'Postcode', 'Bedroom2', 'Bathroom', 'Car', 'Landsize', 'BuildingArea', 'YearBuilt', 'Lattitude', 'Longtitude', 'Propertycount']\n"
     ]
    }
   ],
   "source": [
    "print(num_col)"
   ]
  },
  {
   "cell_type": "code",
   "execution_count": 28,
   "metadata": {},
   "outputs": [
    {
     "data": {
      "text/markdown": [
       "### Rooms"
      ],
      "text/plain": [
       "<IPython.core.display.Markdown object>"
      ]
     },
     "metadata": {},
     "output_type": "display_data"
    },
    {
     "data": {
      "text/html": [
       "<style type=\"text/css\">\n",
       "</style>\n",
       "<table id=\"T_3f846\" style='display:inline'>\n",
       "  <caption>Info</caption>\n",
       "  <thead>\n",
       "    <tr>\n",
       "      <th class=\"blank level0\" >&nbsp;</th>\n",
       "      <th id=\"T_3f846_level0_col0\" class=\"col_heading level0 col0\" >Rooms</th>\n",
       "    </tr>\n",
       "  </thead>\n",
       "  <tbody>\n",
       "    <tr>\n",
       "      <th id=\"T_3f846_level0_row0\" class=\"row_heading level0 row0\" >count</th>\n",
       "      <td id=\"T_3f846_row0_col0\" class=\"data row0 col0\" >13580.000000</td>\n",
       "    </tr>\n",
       "    <tr>\n",
       "      <th id=\"T_3f846_level0_row1\" class=\"row_heading level0 row1\" >mean</th>\n",
       "      <td id=\"T_3f846_row1_col0\" class=\"data row1 col0\" >2.937997</td>\n",
       "    </tr>\n",
       "    <tr>\n",
       "      <th id=\"T_3f846_level0_row2\" class=\"row_heading level0 row2\" >std</th>\n",
       "      <td id=\"T_3f846_row2_col0\" class=\"data row2 col0\" >0.955748</td>\n",
       "    </tr>\n",
       "    <tr>\n",
       "      <th id=\"T_3f846_level0_row3\" class=\"row_heading level0 row3\" >min</th>\n",
       "      <td id=\"T_3f846_row3_col0\" class=\"data row3 col0\" >1.000000</td>\n",
       "    </tr>\n",
       "    <tr>\n",
       "      <th id=\"T_3f846_level0_row4\" class=\"row_heading level0 row4\" >25%</th>\n",
       "      <td id=\"T_3f846_row4_col0\" class=\"data row4 col0\" >2.000000</td>\n",
       "    </tr>\n",
       "    <tr>\n",
       "      <th id=\"T_3f846_level0_row5\" class=\"row_heading level0 row5\" >50%</th>\n",
       "      <td id=\"T_3f846_row5_col0\" class=\"data row5 col0\" >3.000000</td>\n",
       "    </tr>\n",
       "    <tr>\n",
       "      <th id=\"T_3f846_level0_row6\" class=\"row_heading level0 row6\" >75%</th>\n",
       "      <td id=\"T_3f846_row6_col0\" class=\"data row6 col0\" >3.000000</td>\n",
       "    </tr>\n",
       "    <tr>\n",
       "      <th id=\"T_3f846_level0_row7\" class=\"row_heading level0 row7\" >max</th>\n",
       "      <td id=\"T_3f846_row7_col0\" class=\"data row7 col0\" >10.000000</td>\n",
       "    </tr>\n",
       "    <tr>\n",
       "      <th id=\"T_3f846_level0_row8\" class=\"row_heading level0 row8\" >unique</th>\n",
       "      <td id=\"T_3f846_row8_col0\" class=\"data row8 col0\" >9.000000</td>\n",
       "    </tr>\n",
       "    <tr>\n",
       "      <th id=\"T_3f846_level0_row9\" class=\"row_heading level0 row9\" >skew</th>\n",
       "      <td id=\"T_3f846_row9_col0\" class=\"data row9 col0\" >0.376478</td>\n",
       "    </tr>\n",
       "  </tbody>\n",
       "</table>\n",
       "   "
      ],
      "text/plain": [
       "<IPython.core.display.HTML object>"
      ]
     },
     "metadata": {},
     "output_type": "display_data"
    },
    {
     "data": {
      "text/plain": [
       "<Figure size 576x288 with 0 Axes>"
      ]
     },
     "metadata": {},
     "output_type": "display_data"
    },
    {
     "data": {
      "image/png": "[encoded data removed]",
      "text/plain": [
       "<Figure size 432x288 with 2 Axes>"
      ]
     },
     "metadata": {
      "needs_background": "light"
     },
     "output_type": "display_data"
    },
    {
     "data": {
      "text/markdown": [
       "### Price"
      ],
      "text/plain": [
       "<IPython.core.display.Markdown object>"
      ]
     },
     "metadata": {},
     "output_type": "display_data"
    },
    {
     "data": {
      "text/html": [
       "<style type=\"text/css\">\n",
       "</style>\n",
       "<table id=\"T_c526e\" style='display:inline'>\n",
       "  <caption>Info</caption>\n",
       "  <thead>\n",
       "    <tr>\n",
       "      <th class=\"blank level0\" >&nbsp;</th>\n",
       "      <th id=\"T_c526e_level0_col0\" class=\"col_heading level0 col0\" >Price</th>\n",
       "    </tr>\n",
       "  </thead>\n",
       "  <tbody>\n",
       "    <tr>\n",
       "      <th id=\"T_c526e_level0_row0\" class=\"row_heading level0 row0\" >count</th>\n",
       "      <td id=\"T_c526e_row0_col0\" class=\"data row0 col0\" >13580.000000</td>\n",
       "    </tr>\n",
       "    <tr>\n",
       "      <th id=\"T_c526e_level0_row1\" class=\"row_heading level0 row1\" >mean</th>\n",
       "      <td id=\"T_c526e_row1_col0\" class=\"data row1 col0\" >1075684.079455</td>\n",
       "    </tr>\n",
       "    <tr>\n",
       "      <th id=\"T_c526e_level0_row2\" class=\"row_heading level0 row2\" >std</th>\n",
       "      <td id=\"T_c526e_row2_col0\" class=\"data row2 col0\" >639310.724296</td>\n",
       "    </tr>\n",
       "    <tr>\n",
       "      <th id=\"T_c526e_level0_row3\" class=\"row_heading level0 row3\" >min</th>\n",
       "      <td id=\"T_c526e_row3_col0\" class=\"data row3 col0\" >85000.000000</td>\n",
       "    </tr>\n",
       "    <tr>\n",
       "      <th id=\"T_c526e_level0_row4\" class=\"row_heading level0 row4\" >25%</th>\n",
       "      <td id=\"T_c526e_row4_col0\" class=\"data row4 col0\" >650000.000000</td>\n",
       "    </tr>\n",
       "    <tr>\n",
       "      <th id=\"T_c526e_level0_row5\" class=\"row_heading level0 row5\" >50%</th>\n",
       "      <td id=\"T_c526e_row5_col0\" class=\"data row5 col0\" >903000.000000</td>\n",
       "    </tr>\n",
       "    <tr>\n",
       "      <th id=\"T_c526e_level0_row6\" class=\"row_heading level0 row6\" >75%</th>\n",
       "      <td id=\"T_c526e_row6_col0\" class=\"data row6 col0\" >1330000.000000</td>\n",
       "    </tr>\n",
       "    <tr>\n",
       "      <th id=\"T_c526e_level0_row7\" class=\"row_heading level0 row7\" >max</th>\n",
       "      <td id=\"T_c526e_row7_col0\" class=\"data row7 col0\" >9000000.000000</td>\n",
       "    </tr>\n",
       "    <tr>\n",
       "      <th id=\"T_c526e_level0_row8\" class=\"row_heading level0 row8\" >unique</th>\n",
       "      <td id=\"T_c526e_row8_col0\" class=\"data row8 col0\" >2204.000000</td>\n",
       "    </tr>\n",
       "    <tr>\n",
       "      <th id=\"T_c526e_level0_row9\" class=\"row_heading level0 row9\" >skew</th>\n",
       "      <td id=\"T_c526e_row9_col0\" class=\"data row9 col0\" >2.239624</td>\n",
       "    </tr>\n",
       "  </tbody>\n",
       "</table>\n",
       "   "
      ],
      "text/plain": [
       "<IPython.core.display.HTML object>"
      ]
     },
     "metadata": {},
     "output_type": "display_data"
    },
    {
     "data": {
      "text/plain": [
       "<Figure size 576x288 with 0 Axes>"
      ]
     },
     "metadata": {},
     "output_type": "display_data"
    },
    {
     "data": {
      "image/png": "[encoded data removed]",
      "text/plain": [
       "<Figure size 432x288 with 2 Axes>"
      ]
     },
     "metadata": {
      "needs_background": "light"
     },
     "output_type": "display_data"
    },
    {
     "data": {
      "text/markdown": [
       "### Distance"
      ],
      "text/plain": [
       "<IPython.core.display.Markdown object>"
      ]
     },
     "metadata": {},
     "output_type": "display_data"
    },
    {
     "data": {
      "text/html": [
       "<style type=\"text/css\">\n",
       "</style>\n",
       "<table id=\"T_3079d\" style='display:inline'>\n",
       "  <caption>Info</caption>\n",
       "  <thead>\n",
       "    <tr>\n",
       "      <th class=\"blank level0\" >&nbsp;</th>\n",
       "      <th id=\"T_3079d_level0_col0\" class=\"col_heading level0 col0\" >Distance</th>\n",
       "    </tr>\n",
       "  </thead>\n",
       "  <tbody>\n",
       "    <tr>\n",
       "      <th id=\"T_3079d_level0_row0\" class=\"row_heading level0 row0\" >count</th>\n",
       "      <td id=\"T_3079d_row0_col0\" class=\"data row0 col0\" >13580.000000</td>\n",
       "    </tr>\n",
       "    <tr>\n",
       "      <th id=\"T_3079d_level0_row1\" class=\"row_heading level0 row1\" >mean</th>\n",
       "      <td id=\"T_3079d_row1_col0\" class=\"data row1 col0\" >10.142725</td>\n",
       "    </tr>\n",
       "    <tr>\n",
       "      <th id=\"T_3079d_level0_row2\" class=\"row_heading level0 row2\" >std</th>\n",
       "      <td id=\"T_3079d_row2_col0\" class=\"data row2 col0\" >5.864895</td>\n",
       "    </tr>\n",
       "    <tr>\n",
       "      <th id=\"T_3079d_level0_row3\" class=\"row_heading level0 row3\" >min</th>\n",
       "      <td id=\"T_3079d_row3_col0\" class=\"data row3 col0\" >0.700000</td>\n",
       "    </tr>\n",
       "    <tr>\n",
       "      <th id=\"T_3079d_level0_row4\" class=\"row_heading level0 row4\" >25%</th>\n",
       "      <td id=\"T_3079d_row4_col0\" class=\"data row4 col0\" >6.200000</td>\n",
       "    </tr>\n",
       "    <tr>\n",
       "      <th id=\"T_3079d_level0_row5\" class=\"row_heading level0 row5\" >50%</th>\n",
       "      <td id=\"T_3079d_row5_col0\" class=\"data row5 col0\" >9.200000</td>\n",
       "    </tr>\n",
       "    <tr>\n",
       "      <th id=\"T_3079d_level0_row6\" class=\"row_heading level0 row6\" >75%</th>\n",
       "      <td id=\"T_3079d_row6_col0\" class=\"data row6 col0\" >13.000000</td>\n",
       "    </tr>\n",
       "    <tr>\n",
       "      <th id=\"T_3079d_level0_row7\" class=\"row_heading level0 row7\" >max</th>\n",
       "      <td id=\"T_3079d_row7_col0\" class=\"data row7 col0\" >48.100000</td>\n",
       "    </tr>\n",
       "    <tr>\n",
       "      <th id=\"T_3079d_level0_row8\" class=\"row_heading level0 row8\" >unique</th>\n",
       "      <td id=\"T_3079d_row8_col0\" class=\"data row8 col0\" >201.000000</td>\n",
       "    </tr>\n",
       "    <tr>\n",
       "      <th id=\"T_3079d_level0_row9\" class=\"row_heading level0 row9\" >skew</th>\n",
       "      <td id=\"T_3079d_row9_col0\" class=\"data row9 col0\" >1.679978</td>\n",
       "    </tr>\n",
       "  </tbody>\n",
       "</table>\n",
       "   "
      ],
      "text/plain": [
       "<IPython.core.display.HTML object>"
      ]
     },
     "metadata": {},
     "output_type": "display_data"
    },
    {
     "data": {
      "text/plain": [
       "<Figure size 576x288 with 0 Axes>"
      ]
     },
     "metadata": {},
     "output_type": "display_data"
    },
    {
     "data": {
      "image/png": "[encoded data removed]",
      "text/plain": [
       "<Figure size 432x288 with 2 Axes>"
      ]
     },
     "metadata": {
      "needs_background": "light"
     },
     "output_type": "display_data"
    },
    {
     "data": {
      "text/markdown": [
       "### Postcode"
      ],
      "text/plain": [
       "<IPython.core.display.Markdown object>"
      ]
     },
     "metadata": {},
     "output_type": "display_data"
    },
    {
     "data": {
      "text/html": [
       "<style type=\"text/css\">\n",
       "</style>\n",
       "<table id=\"T_333c3\" style='display:inline'>\n",
       "  <caption>Info</caption>\n",
       "  <thead>\n",
       "    <tr>\n",
       "      <th class=\"blank level0\" >&nbsp;</th>\n",
       "      <th id=\"T_333c3_level0_col0\" class=\"col_heading level0 col0\" >Postcode</th>\n",
       "    </tr>\n",
       "  </thead>\n",
       "  <tbody>\n",
       "    <tr>\n",
       "      <th id=\"T_333c3_level0_row0\" class=\"row_heading level0 row0\" >count</th>\n",
       "      <td id=\"T_333c3_row0_col0\" class=\"data row0 col0\" >13580.000000</td>\n",
       "    </tr>\n",
       "    <tr>\n",
       "      <th id=\"T_333c3_level0_row1\" class=\"row_heading level0 row1\" >mean</th>\n",
       "      <td id=\"T_333c3_row1_col0\" class=\"data row1 col0\" >3105.301915</td>\n",
       "    </tr>\n",
       "    <tr>\n",
       "      <th id=\"T_333c3_level0_row2\" class=\"row_heading level0 row2\" >std</th>\n",
       "      <td id=\"T_333c3_row2_col0\" class=\"data row2 col0\" >90.676964</td>\n",
       "    </tr>\n",
       "    <tr>\n",
       "      <th id=\"T_333c3_level0_row3\" class=\"row_heading level0 row3\" >min</th>\n",
       "      <td id=\"T_333c3_row3_col0\" class=\"data row3 col0\" >3000.000000</td>\n",
       "    </tr>\n",
       "    <tr>\n",
       "      <th id=\"T_333c3_level0_row4\" class=\"row_heading level0 row4\" >25%</th>\n",
       "      <td id=\"T_333c3_row4_col0\" class=\"data row4 col0\" >3044.000000</td>\n",
       "    </tr>\n",
       "    <tr>\n",
       "      <th id=\"T_333c3_level0_row5\" class=\"row_heading level0 row5\" >50%</th>\n",
       "      <td id=\"T_333c3_row5_col0\" class=\"data row5 col0\" >3084.000000</td>\n",
       "    </tr>\n",
       "    <tr>\n",
       "      <th id=\"T_333c3_level0_row6\" class=\"row_heading level0 row6\" >75%</th>\n",
       "      <td id=\"T_333c3_row6_col0\" class=\"data row6 col0\" >3148.000000</td>\n",
       "    </tr>\n",
       "    <tr>\n",
       "      <th id=\"T_333c3_level0_row7\" class=\"row_heading level0 row7\" >max</th>\n",
       "      <td id=\"T_333c3_row7_col0\" class=\"data row7 col0\" >3977.000000</td>\n",
       "    </tr>\n",
       "    <tr>\n",
       "      <th id=\"T_333c3_level0_row8\" class=\"row_heading level0 row8\" >unique</th>\n",
       "      <td id=\"T_333c3_row8_col0\" class=\"data row8 col0\" >198.000000</td>\n",
       "    </tr>\n",
       "    <tr>\n",
       "      <th id=\"T_333c3_level0_row9\" class=\"row_heading level0 row9\" >skew</th>\n",
       "      <td id=\"T_333c3_row9_col0\" class=\"data row9 col0\" >4.076152</td>\n",
       "    </tr>\n",
       "  </tbody>\n",
       "</table>\n",
       "   "
      ],
      "text/plain": [
       "<IPython.core.display.HTML object>"
      ]
     },
     "metadata": {},
     "output_type": "display_data"
    },
    {
     "data": {
      "text/plain": [
       "<Figure size 576x288 with 0 Axes>"
      ]
     },
     "metadata": {},
     "output_type": "display_data"
    },
    {
     "data": {
      "image/png": "[encoded data removed]",
      "text/plain": [
       "<Figure size 432x288 with 2 Axes>"
      ]
     },
     "metadata": {
      "needs_background": "light"
     },
     "output_type": "display_data"
    },
    {
     "data": {
      "text/markdown": [
       "### Bedroom2"
      ],
      "text/plain": [
       "<IPython.core.display.Markdown object>"
      ]
     },
     "metadata": {},
     "output_type": "display_data"
    },
    {
     "data": {
      "text/html": [
       "<style type=\"text/css\">\n",
       "</style>\n",
       "<table id=\"T_b70cc\" style='display:inline'>\n",
       "  <caption>Info</caption>\n",
       "  <thead>\n",
       "    <tr>\n",
       "      <th class=\"blank level0\" >&nbsp;</th>\n",
       "      <th id=\"T_b70cc_level0_col0\" class=\"col_heading level0 col0\" >Bedroom2</th>\n",
       "    </tr>\n",
       "  </thead>\n",
       "  <tbody>\n",
       "    <tr>\n",
       "      <th id=\"T_b70cc_level0_row0\" class=\"row_heading level0 row0\" >count</th>\n",
       "      <td id=\"T_b70cc_row0_col0\" class=\"data row0 col0\" >13580.000000</td>\n",
       "    </tr>\n",
       "    <tr>\n",
       "      <th id=\"T_b70cc_level0_row1\" class=\"row_heading level0 row1\" >mean</th>\n",
       "      <td id=\"T_b70cc_row1_col0\" class=\"data row1 col0\" >2.918262</td>\n",
       "    </tr>\n",
       "    <tr>\n",
       "      <th id=\"T_b70cc_level0_row2\" class=\"row_heading level0 row2\" >std</th>\n",
       "      <td id=\"T_b70cc_row2_col0\" class=\"data row2 col0\" >0.960723</td>\n",
       "    </tr>\n",
       "    <tr>\n",
       "      <th id=\"T_b70cc_level0_row3\" class=\"row_heading level0 row3\" >min</th>\n",
       "      <td id=\"T_b70cc_row3_col0\" class=\"data row3 col0\" >1.000000</td>\n",
       "    </tr>\n",
       "    <tr>\n",
       "      <th id=\"T_b70cc_level0_row4\" class=\"row_heading level0 row4\" >25%</th>\n",
       "      <td id=\"T_b70cc_row4_col0\" class=\"data row4 col0\" >2.000000</td>\n",
       "    </tr>\n",
       "    <tr>\n",
       "      <th id=\"T_b70cc_level0_row5\" class=\"row_heading level0 row5\" >50%</th>\n",
       "      <td id=\"T_b70cc_row5_col0\" class=\"data row5 col0\" >3.000000</td>\n",
       "    </tr>\n",
       "    <tr>\n",
       "      <th id=\"T_b70cc_level0_row6\" class=\"row_heading level0 row6\" >75%</th>\n",
       "      <td id=\"T_b70cc_row6_col0\" class=\"data row6 col0\" >3.000000</td>\n",
       "    </tr>\n",
       "    <tr>\n",
       "      <th id=\"T_b70cc_level0_row7\" class=\"row_heading level0 row7\" >max</th>\n",
       "      <td id=\"T_b70cc_row7_col0\" class=\"data row7 col0\" >20.000000</td>\n",
       "    </tr>\n",
       "    <tr>\n",
       "      <th id=\"T_b70cc_level0_row8\" class=\"row_heading level0 row8\" >unique</th>\n",
       "      <td id=\"T_b70cc_row8_col0\" class=\"data row8 col0\" >11.000000</td>\n",
       "    </tr>\n",
       "    <tr>\n",
       "      <th id=\"T_b70cc_level0_row9\" class=\"row_heading level0 row9\" >skew</th>\n",
       "      <td id=\"T_b70cc_row9_col0\" class=\"data row9 col0\" >0.808585</td>\n",
       "    </tr>\n",
       "  </tbody>\n",
       "</table>\n",
       "   "
      ],
      "text/plain": [
       "<IPython.core.display.HTML object>"
      ]
     },
     "metadata": {},
     "output_type": "display_data"
    },
    {
     "data": {
      "text/plain": [
       "<Figure size 576x288 with 0 Axes>"
      ]
     },
     "metadata": {},
     "output_type": "display_data"
    },
    {
     "data": {
      "image/png": "[encoded data removed]",
      "text/plain": [
       "<Figure size 432x288 with 2 Axes>"
      ]
     },
     "metadata": {
      "needs_background": "light"
     },
     "output_type": "display_data"
    },
    {
     "data": {
      "text/markdown": [
       "### Bathroom"
      ],
      "text/plain": [
       "<IPython.core.display.Markdown object>"
      ]
     },
     "metadata": {},
     "output_type": "display_data"
    },
    {
     "data": {
      "text/html": [
       "<style type=\"text/css\">\n",
       "</style>\n",
       "<table id=\"T_f7648\" style='display:inline'>\n",
       "  <caption>Info</caption>\n",
       "  <thead>\n",
       "    <tr>\n",
       "      <th class=\"blank level0\" >&nbsp;</th>\n",
       "      <th id=\"T_f7648_level0_col0\" class=\"col_heading level0 col0\" >Bathroom</th>\n",
       "    </tr>\n",
       "  </thead>\n",
       "  <tbody>\n",
       "    <tr>\n",
       "      <th id=\"T_f7648_level0_row0\" class=\"row_heading level0 row0\" >count</th>\n",
       "      <td id=\"T_f7648_row0_col0\" class=\"data row0 col0\" >13580.000000</td>\n",
       "    </tr>\n",
       "    <tr>\n",
       "      <th id=\"T_f7648_level0_row1\" class=\"row_heading level0 row1\" >mean</th>\n",
       "      <td id=\"T_f7648_row1_col0\" class=\"data row1 col0\" >1.536745</td>\n",
       "    </tr>\n",
       "    <tr>\n",
       "      <th id=\"T_f7648_level0_row2\" class=\"row_heading level0 row2\" >std</th>\n",
       "      <td id=\"T_f7648_row2_col0\" class=\"data row2 col0\" >0.687953</td>\n",
       "    </tr>\n",
       "    <tr>\n",
       "      <th id=\"T_f7648_level0_row3\" class=\"row_heading level0 row3\" >min</th>\n",
       "      <td id=\"T_f7648_row3_col0\" class=\"data row3 col0\" >1.000000</td>\n",
       "    </tr>\n",
       "    <tr>\n",
       "      <th id=\"T_f7648_level0_row4\" class=\"row_heading level0 row4\" >25%</th>\n",
       "      <td id=\"T_f7648_row4_col0\" class=\"data row4 col0\" >1.000000</td>\n",
       "    </tr>\n",
       "    <tr>\n",
       "      <th id=\"T_f7648_level0_row5\" class=\"row_heading level0 row5\" >50%</th>\n",
       "      <td id=\"T_f7648_row5_col0\" class=\"data row5 col0\" >1.000000</td>\n",
       "    </tr>\n",
       "    <tr>\n",
       "      <th id=\"T_f7648_level0_row6\" class=\"row_heading level0 row6\" >75%</th>\n",
       "      <td id=\"T_f7648_row6_col0\" class=\"data row6 col0\" >2.000000</td>\n",
       "    </tr>\n",
       "    <tr>\n",
       "      <th id=\"T_f7648_level0_row7\" class=\"row_heading level0 row7\" >max</th>\n",
       "      <td id=\"T_f7648_row7_col0\" class=\"data row7 col0\" >8.000000</td>\n",
       "    </tr>\n",
       "    <tr>\n",
       "      <th id=\"T_f7648_level0_row8\" class=\"row_heading level0 row8\" >unique</th>\n",
       "      <td id=\"T_f7648_row8_col0\" class=\"data row8 col0\" >8.000000</td>\n",
       "    </tr>\n",
       "    <tr>\n",
       "      <th id=\"T_f7648_level0_row9\" class=\"row_heading level0 row9\" >skew</th>\n",
       "      <td id=\"T_f7648_row9_col0\" class=\"data row9 col0\" >1.415789</td>\n",
       "    </tr>\n",
       "  </tbody>\n",
       "</table>\n",
       "   "
      ],
      "text/plain": [
       "<IPython.core.display.HTML object>"
      ]
     },
     "metadata": {},
     "output_type": "display_data"
    },
    {
     "data": {
      "text/plain": [
       "<Figure size 576x288 with 0 Axes>"
      ]
     },
     "metadata": {},
     "output_type": "display_data"
    },
    {
     "data": {
      "image/png": "[encoded data removed]",
      "text/plain": [
       "<Figure size 432x288 with 2 Axes>"
      ]
     },
     "metadata": {
      "needs_background": "light"
     },
     "output_type": "display_data"
    },
    {
     "data": {
      "text/markdown": [
       "### Car"
      ],
      "text/plain": [
       "<IPython.core.display.Markdown object>"
      ]
     },
     "metadata": {},
     "output_type": "display_data"
    },
    {
     "data": {
      "text/html": [
       "<style type=\"text/css\">\n",
       "</style>\n",
       "<table id=\"T_003bc\" style='display:inline'>\n",
       "  <caption>Info</caption>\n",
       "  <thead>\n",
       "    <tr>\n",
       "      <th class=\"blank level0\" >&nbsp;</th>\n",
       "      <th id=\"T_003bc_level0_col0\" class=\"col_heading level0 col0\" >Car</th>\n",
       "    </tr>\n",
       "  </thead>\n",
       "  <tbody>\n",
       "    <tr>\n",
       "      <th id=\"T_003bc_level0_row0\" class=\"row_heading level0 row0\" >count</th>\n",
       "      <td id=\"T_003bc_row0_col0\" class=\"data row0 col0\" >13580.000000</td>\n",
       "    </tr>\n",
       "    <tr>\n",
       "      <th id=\"T_003bc_level0_row1\" class=\"row_heading level0 row1\" >mean</th>\n",
       "      <td id=\"T_003bc_row1_col0\" class=\"data row1 col0\" >1.761180</td>\n",
       "    </tr>\n",
       "    <tr>\n",
       "      <th id=\"T_003bc_level0_row2\" class=\"row_heading level0 row2\" >std</th>\n",
       "      <td id=\"T_003bc_row2_col0\" class=\"data row2 col0\" >0.845703</td>\n",
       "    </tr>\n",
       "    <tr>\n",
       "      <th id=\"T_003bc_level0_row3\" class=\"row_heading level0 row3\" >min</th>\n",
       "      <td id=\"T_003bc_row3_col0\" class=\"data row3 col0\" >1.000000</td>\n",
       "    </tr>\n",
       "    <tr>\n",
       "      <th id=\"T_003bc_level0_row4\" class=\"row_heading level0 row4\" >25%</th>\n",
       "      <td id=\"T_003bc_row4_col0\" class=\"data row4 col0\" >1.000000</td>\n",
       "    </tr>\n",
       "    <tr>\n",
       "      <th id=\"T_003bc_level0_row5\" class=\"row_heading level0 row5\" >50%</th>\n",
       "      <td id=\"T_003bc_row5_col0\" class=\"data row5 col0\" >2.000000</td>\n",
       "    </tr>\n",
       "    <tr>\n",
       "      <th id=\"T_003bc_level0_row6\" class=\"row_heading level0 row6\" >75%</th>\n",
       "      <td id=\"T_003bc_row6_col0\" class=\"data row6 col0\" >2.000000</td>\n",
       "    </tr>\n",
       "    <tr>\n",
       "      <th id=\"T_003bc_level0_row7\" class=\"row_heading level0 row7\" >max</th>\n",
       "      <td id=\"T_003bc_row7_col0\" class=\"data row7 col0\" >10.000000</td>\n",
       "    </tr>\n",
       "    <tr>\n",
       "      <th id=\"T_003bc_level0_row8\" class=\"row_heading level0 row8\" >unique</th>\n",
       "      <td id=\"T_003bc_row8_col0\" class=\"data row8 col0\" >11.000000</td>\n",
       "    </tr>\n",
       "    <tr>\n",
       "      <th id=\"T_003bc_level0_row9\" class=\"row_heading level0 row9\" >skew</th>\n",
       "      <td id=\"T_003bc_row9_col0\" class=\"data row9 col0\" >1.997825</td>\n",
       "    </tr>\n",
       "  </tbody>\n",
       "</table>\n",
       "   "
      ],
      "text/plain": [
       "<IPython.core.display.HTML object>"
      ]
     },
     "metadata": {},
     "output_type": "display_data"
    },
    {
     "data": {
      "text/plain": [
       "<Figure size 576x288 with 0 Axes>"
      ]
     },
     "metadata": {},
     "output_type": "display_data"
    },
    {
     "data": {
      "image/png": "[encoded data removed]",
      "text/plain": [
       "<Figure size 432x288 with 2 Axes>"
      ]
     },
     "metadata": {
      "needs_background": "light"
     },
     "output_type": "display_data"
    },
    {
     "data": {
      "text/markdown": [
       "### Landsize"
      ],
      "text/plain": [
       "<IPython.core.display.Markdown object>"
      ]
     },
     "metadata": {},
     "output_type": "display_data"
    },
    {
     "data": {
      "text/html": [
       "<style type=\"text/css\">\n",
       "</style>\n",
       "<table id=\"T_80d61\" style='display:inline'>\n",
       "  <caption>Info</caption>\n",
       "  <thead>\n",
       "    <tr>\n",
       "      <th class=\"blank level0\" >&nbsp;</th>\n",
       "      <th id=\"T_80d61_level0_col0\" class=\"col_heading level0 col0\" >Landsize</th>\n",
       "    </tr>\n",
       "  </thead>\n",
       "  <tbody>\n",
       "    <tr>\n",
       "      <th id=\"T_80d61_level0_row0\" class=\"row_heading level0 row0\" >count</th>\n",
       "      <td id=\"T_80d61_row0_col0\" class=\"data row0 col0\" >13580.000000</td>\n",
       "    </tr>\n",
       "    <tr>\n",
       "      <th id=\"T_80d61_level0_row1\" class=\"row_heading level0 row1\" >mean</th>\n",
       "      <td id=\"T_80d61_row1_col0\" class=\"data row1 col0\" >651.225405</td>\n",
       "    </tr>\n",
       "    <tr>\n",
       "      <th id=\"T_80d61_level0_row2\" class=\"row_heading level0 row2\" >std</th>\n",
       "      <td id=\"T_80d61_row2_col0\" class=\"data row2 col0\" >3984.155775</td>\n",
       "    </tr>\n",
       "    <tr>\n",
       "      <th id=\"T_80d61_level0_row3\" class=\"row_heading level0 row3\" >min</th>\n",
       "      <td id=\"T_80d61_row3_col0\" class=\"data row3 col0\" >1.000000</td>\n",
       "    </tr>\n",
       "    <tr>\n",
       "      <th id=\"T_80d61_level0_row4\" class=\"row_heading level0 row4\" >25%</th>\n",
       "      <td id=\"T_80d61_row4_col0\" class=\"data row4 col0\" >305.000000</td>\n",
       "    </tr>\n",
       "    <tr>\n",
       "      <th id=\"T_80d61_level0_row5\" class=\"row_heading level0 row5\" >50%</th>\n",
       "      <td id=\"T_80d61_row5_col0\" class=\"data row5 col0\" >585.000000</td>\n",
       "    </tr>\n",
       "    <tr>\n",
       "      <th id=\"T_80d61_level0_row6\" class=\"row_heading level0 row6\" >75%</th>\n",
       "      <td id=\"T_80d61_row6_col0\" class=\"data row6 col0\" >651.000000</td>\n",
       "    </tr>\n",
       "    <tr>\n",
       "      <th id=\"T_80d61_level0_row7\" class=\"row_heading level0 row7\" >max</th>\n",
       "      <td id=\"T_80d61_row7_col0\" class=\"data row7 col0\" >433014.000000</td>\n",
       "    </tr>\n",
       "    <tr>\n",
       "      <th id=\"T_80d61_level0_row8\" class=\"row_heading level0 row8\" >unique</th>\n",
       "      <td id=\"T_80d61_row8_col0\" class=\"data row8 col0\" >1447.000000</td>\n",
       "    </tr>\n",
       "    <tr>\n",
       "      <th id=\"T_80d61_level0_row9\" class=\"row_heading level0 row9\" >skew</th>\n",
       "      <td id=\"T_80d61_row9_col0\" class=\"data row9 col0\" >95.635747</td>\n",
       "    </tr>\n",
       "  </tbody>\n",
       "</table>\n",
       "   "
      ],
      "text/plain": [
       "<IPython.core.display.HTML object>"
      ]
     },
     "metadata": {},
     "output_type": "display_data"
    },
    {
     "data": {
      "text/plain": [
       "<Figure size 576x288 with 0 Axes>"
      ]
     },
     "metadata": {},
     "output_type": "display_data"
    },
    {
     "data": {
      "image/png": "[encoded data removed]",
      "text/plain": [
       "<Figure size 432x288 with 2 Axes>"
      ]
     },
     "metadata": {
      "needs_background": "light"
     },
     "output_type": "display_data"
    },
    {
     "data": {
      "text/markdown": [
       "### BuildingArea"
      ],
      "text/plain": [
       "<IPython.core.display.Markdown object>"
      ]
     },
     "metadata": {},
     "output_type": "display_data"
    },
    {
     "data": {
      "text/html": [
       "<style type=\"text/css\">\n",
       "</style>\n",
       "<table id=\"T_1c4a3\" style='display:inline'>\n",
       "  <caption>Info</caption>\n",
       "  <thead>\n",
       "    <tr>\n",
       "      <th class=\"blank level0\" >&nbsp;</th>\n",
       "      <th id=\"T_1c4a3_level0_col0\" class=\"col_heading level0 col0\" >BuildingArea</th>\n",
       "    </tr>\n",
       "  </thead>\n",
       "  <tbody>\n",
       "    <tr>\n",
       "      <th id=\"T_1c4a3_level0_row0\" class=\"row_heading level0 row0\" >count</th>\n",
       "      <td id=\"T_1c4a3_row0_col0\" class=\"data row0 col0\" >13580.000000</td>\n",
       "    </tr>\n",
       "    <tr>\n",
       "      <th id=\"T_1c4a3_level0_row1\" class=\"row_heading level0 row1\" >mean</th>\n",
       "      <td id=\"T_1c4a3_row1_col0\" class=\"data row1 col0\" >152.157889</td>\n",
       "    </tr>\n",
       "    <tr>\n",
       "      <th id=\"T_1c4a3_level0_row2\" class=\"row_heading level0 row2\" >std</th>\n",
       "      <td id=\"T_1c4a3_row2_col0\" class=\"data row2 col0\" >391.966036</td>\n",
       "    </tr>\n",
       "    <tr>\n",
       "      <th id=\"T_1c4a3_level0_row3\" class=\"row_heading level0 row3\" >min</th>\n",
       "      <td id=\"T_1c4a3_row3_col0\" class=\"data row3 col0\" >1.000000</td>\n",
       "    </tr>\n",
       "    <tr>\n",
       "      <th id=\"T_1c4a3_level0_row4\" class=\"row_heading level0 row4\" >25%</th>\n",
       "      <td id=\"T_1c4a3_row4_col0\" class=\"data row4 col0\" >122.707500</td>\n",
       "    </tr>\n",
       "    <tr>\n",
       "      <th id=\"T_1c4a3_level0_row5\" class=\"row_heading level0 row5\" >50%</th>\n",
       "      <td id=\"T_1c4a3_row5_col0\" class=\"data row5 col0\" >151.967650</td>\n",
       "    </tr>\n",
       "    <tr>\n",
       "      <th id=\"T_1c4a3_level0_row6\" class=\"row_heading level0 row6\" >75%</th>\n",
       "      <td id=\"T_1c4a3_row6_col0\" class=\"data row6 col0\" >151.967650</td>\n",
       "    </tr>\n",
       "    <tr>\n",
       "      <th id=\"T_1c4a3_level0_row7\" class=\"row_heading level0 row7\" >max</th>\n",
       "      <td id=\"T_1c4a3_row7_col0\" class=\"data row7 col0\" >44515.000000</td>\n",
       "    </tr>\n",
       "    <tr>\n",
       "      <th id=\"T_1c4a3_level0_row8\" class=\"row_heading level0 row8\" >unique</th>\n",
       "      <td id=\"T_1c4a3_row8_col0\" class=\"data row8 col0\" >602.000000</td>\n",
       "    </tr>\n",
       "    <tr>\n",
       "      <th id=\"T_1c4a3_level0_row9\" class=\"row_heading level0 row9\" >skew</th>\n",
       "      <td id=\"T_1c4a3_row9_col0\" class=\"data row9 col0\" >107.238957</td>\n",
       "    </tr>\n",
       "  </tbody>\n",
       "</table>\n",
       "   "
      ],
      "text/plain": [
       "<IPython.core.display.HTML object>"
      ]
     },
     "metadata": {},
     "output_type": "display_data"
    },
    {
     "data": {
      "text/plain": [
       "<Figure size 576x288 with 0 Axes>"
      ]
     },
     "metadata": {},
     "output_type": "display_data"
    },
    {
     "data": {
      "image/png": "[encoded data removed]",
      "text/plain": [
       "<Figure size 432x288 with 2 Axes>"
      ]
     },
     "metadata": {
      "needs_background": "light"
     },
     "output_type": "display_data"
    },
    {
     "data": {
      "text/markdown": [
       "### YearBuilt"
      ],
      "text/plain": [
       "<IPython.core.display.Markdown object>"
      ]
     },
     "metadata": {},
     "output_type": "display_data"
    },
    {
     "data": {
      "text/html": [
       "<style type=\"text/css\">\n",
       "</style>\n",
       "<table id=\"T_150f7\" style='display:inline'>\n",
       "  <caption>Info</caption>\n",
       "  <thead>\n",
       "    <tr>\n",
       "      <th class=\"blank level0\" >&nbsp;</th>\n",
       "      <th id=\"T_150f7_level0_col0\" class=\"col_heading level0 col0\" >YearBuilt</th>\n",
       "    </tr>\n",
       "  </thead>\n",
       "  <tbody>\n",
       "    <tr>\n",
       "      <th id=\"T_150f7_level0_row0\" class=\"row_heading level0 row0\" >count</th>\n",
       "      <td id=\"T_150f7_row0_col0\" class=\"data row0 col0\" >13580.000000</td>\n",
       "    </tr>\n",
       "    <tr>\n",
       "      <th id=\"T_150f7_level0_row1\" class=\"row_heading level0 row1\" >mean</th>\n",
       "      <td id=\"T_150f7_row1_col0\" class=\"data row1 col0\" >1964.684217</td>\n",
       "    </tr>\n",
       "    <tr>\n",
       "      <th id=\"T_150f7_level0_row2\" class=\"row_heading level0 row2\" >std</th>\n",
       "      <td id=\"T_150f7_row2_col0\" class=\"data row2 col0\" >28.972246</td>\n",
       "    </tr>\n",
       "    <tr>\n",
       "      <th id=\"T_150f7_level0_row3\" class=\"row_heading level0 row3\" >min</th>\n",
       "      <td id=\"T_150f7_row3_col0\" class=\"data row3 col0\" >1196.000000</td>\n",
       "    </tr>\n",
       "    <tr>\n",
       "      <th id=\"T_150f7_level0_row4\" class=\"row_heading level0 row4\" >25%</th>\n",
       "      <td id=\"T_150f7_row4_col0\" class=\"data row4 col0\" >1960.000000</td>\n",
       "    </tr>\n",
       "    <tr>\n",
       "      <th id=\"T_150f7_level0_row5\" class=\"row_heading level0 row5\" >50%</th>\n",
       "      <td id=\"T_150f7_row5_col0\" class=\"data row5 col0\" >1964.684217</td>\n",
       "    </tr>\n",
       "    <tr>\n",
       "      <th id=\"T_150f7_level0_row6\" class=\"row_heading level0 row6\" >75%</th>\n",
       "      <td id=\"T_150f7_row6_col0\" class=\"data row6 col0\" >1975.000000</td>\n",
       "    </tr>\n",
       "    <tr>\n",
       "      <th id=\"T_150f7_level0_row7\" class=\"row_heading level0 row7\" >max</th>\n",
       "      <td id=\"T_150f7_row7_col0\" class=\"data row7 col0\" >2018.000000</td>\n",
       "    </tr>\n",
       "    <tr>\n",
       "      <th id=\"T_150f7_level0_row8\" class=\"row_heading level0 row8\" >unique</th>\n",
       "      <td id=\"T_150f7_row8_col0\" class=\"data row8 col0\" >145.000000</td>\n",
       "    </tr>\n",
       "    <tr>\n",
       "      <th id=\"T_150f7_level0_row9\" class=\"row_heading level0 row9\" >skew</th>\n",
       "      <td id=\"T_150f7_row9_col0\" class=\"data row9 col0\" >-1.982715</td>\n",
       "    </tr>\n",
       "  </tbody>\n",
       "</table>\n",
       "   "
      ],
      "text/plain": [
       "<IPython.core.display.HTML object>"
      ]
     },
     "metadata": {},
     "output_type": "display_data"
    },
    {
     "data": {
      "text/plain": [
       "<Figure size 576x288 with 0 Axes>"
      ]
     },
     "metadata": {},
     "output_type": "display_data"
    },
    {
     "data": {
      "image/png": "[encoded data removed]",
      "text/plain": [
       "<Figure size 432x288 with 2 Axes>"
      ]
     },
     "metadata": {
      "needs_background": "light"
     },
     "output_type": "display_data"
    },
    {
     "data": {
      "text/markdown": [
       "### Lattitude"
      ],
      "text/plain": [
       "<IPython.core.display.Markdown object>"
      ]
     },
     "metadata": {},
     "output_type": "display_data"
    },
    {
     "data": {
      "text/html": [
       "<style type=\"text/css\">\n",
       "</style>\n",
       "<table id=\"T_e27f5\" style='display:inline'>\n",
       "  <caption>Info</caption>\n",
       "  <thead>\n",
       "    <tr>\n",
       "      <th class=\"blank level0\" >&nbsp;</th>\n",
       "      <th id=\"T_e27f5_level0_col0\" class=\"col_heading level0 col0\" >Lattitude</th>\n",
       "    </tr>\n",
       "  </thead>\n",
       "  <tbody>\n",
       "    <tr>\n",
       "      <th id=\"T_e27f5_level0_row0\" class=\"row_heading level0 row0\" >count</th>\n",
       "      <td id=\"T_e27f5_row0_col0\" class=\"data row0 col0\" >13580.000000</td>\n",
       "    </tr>\n",
       "    <tr>\n",
       "      <th id=\"T_e27f5_level0_row1\" class=\"row_heading level0 row1\" >mean</th>\n",
       "      <td id=\"T_e27f5_row1_col0\" class=\"data row1 col0\" >-37.809203</td>\n",
       "    </tr>\n",
       "    <tr>\n",
       "      <th id=\"T_e27f5_level0_row2\" class=\"row_heading level0 row2\" >std</th>\n",
       "      <td id=\"T_e27f5_row2_col0\" class=\"data row2 col0\" >0.079260</td>\n",
       "    </tr>\n",
       "    <tr>\n",
       "      <th id=\"T_e27f5_level0_row3\" class=\"row_heading level0 row3\" >min</th>\n",
       "      <td id=\"T_e27f5_row3_col0\" class=\"data row3 col0\" >-38.182550</td>\n",
       "    </tr>\n",
       "    <tr>\n",
       "      <th id=\"T_e27f5_level0_row4\" class=\"row_heading level0 row4\" >25%</th>\n",
       "      <td id=\"T_e27f5_row4_col0\" class=\"data row4 col0\" >-37.856822</td>\n",
       "    </tr>\n",
       "    <tr>\n",
       "      <th id=\"T_e27f5_level0_row5\" class=\"row_heading level0 row5\" >50%</th>\n",
       "      <td id=\"T_e27f5_row5_col0\" class=\"data row5 col0\" >-37.802355</td>\n",
       "    </tr>\n",
       "    <tr>\n",
       "      <th id=\"T_e27f5_level0_row6\" class=\"row_heading level0 row6\" >75%</th>\n",
       "      <td id=\"T_e27f5_row6_col0\" class=\"data row6 col0\" >-37.756400</td>\n",
       "    </tr>\n",
       "    <tr>\n",
       "      <th id=\"T_e27f5_level0_row7\" class=\"row_heading level0 row7\" >max</th>\n",
       "      <td id=\"T_e27f5_row7_col0\" class=\"data row7 col0\" >-37.408530</td>\n",
       "    </tr>\n",
       "    <tr>\n",
       "      <th id=\"T_e27f5_level0_row8\" class=\"row_heading level0 row8\" >unique</th>\n",
       "      <td id=\"T_e27f5_row8_col0\" class=\"data row8 col0\" >6503.000000</td>\n",
       "    </tr>\n",
       "    <tr>\n",
       "      <th id=\"T_e27f5_level0_row9\" class=\"row_heading level0 row9\" >skew</th>\n",
       "      <td id=\"T_e27f5_row9_col0\" class=\"data row9 col0\" >-0.426695</td>\n",
       "    </tr>\n",
       "  </tbody>\n",
       "</table>\n",
       "   "
      ],
      "text/plain": [
       "<IPython.core.display.HTML object>"
      ]
     },
     "metadata": {},
     "output_type": "display_data"
    },
    {
     "data": {
      "text/plain": [
       "<Figure size 576x288 with 0 Axes>"
      ]
     },
     "metadata": {},
     "output_type": "display_data"
    },
    {
     "data": {
      "image/png": "[encoded data removed]",
      "text/plain": [
       "<Figure size 432x288 with 2 Axes>"
      ]
     },
     "metadata": {
      "needs_background": "light"
     },
     "output_type": "display_data"
    },
    {
     "data": {
      "text/markdown": [
       "### Longtitude"
      ],
      "text/plain": [
       "<IPython.core.display.Markdown object>"
      ]
     },
     "metadata": {},
     "output_type": "display_data"
    },
    {
     "data": {
      "text/html": [
       "<style type=\"text/css\">\n",
       "</style>\n",
       "<table id=\"T_eed0b\" style='display:inline'>\n",
       "  <caption>Info</caption>\n",
       "  <thead>\n",
       "    <tr>\n",
       "      <th class=\"blank level0\" >&nbsp;</th>\n",
       "      <th id=\"T_eed0b_level0_col0\" class=\"col_heading level0 col0\" >Longtitude</th>\n",
       "    </tr>\n",
       "  </thead>\n",
       "  <tbody>\n",
       "    <tr>\n",
       "      <th id=\"T_eed0b_level0_row0\" class=\"row_heading level0 row0\" >count</th>\n",
       "      <td id=\"T_eed0b_row0_col0\" class=\"data row0 col0\" >13580.000000</td>\n",
       "    </tr>\n",
       "    <tr>\n",
       "      <th id=\"T_eed0b_level0_row1\" class=\"row_heading level0 row1\" >mean</th>\n",
       "      <td id=\"T_eed0b_row1_col0\" class=\"data row1 col0\" >144.995216</td>\n",
       "    </tr>\n",
       "    <tr>\n",
       "      <th id=\"T_eed0b_level0_row2\" class=\"row_heading level0 row2\" >std</th>\n",
       "      <td id=\"T_eed0b_row2_col0\" class=\"data row2 col0\" >0.103916</td>\n",
       "    </tr>\n",
       "    <tr>\n",
       "      <th id=\"T_eed0b_level0_row3\" class=\"row_heading level0 row3\" >min</th>\n",
       "      <td id=\"T_eed0b_row3_col0\" class=\"data row3 col0\" >144.431810</td>\n",
       "    </tr>\n",
       "    <tr>\n",
       "      <th id=\"T_eed0b_level0_row4\" class=\"row_heading level0 row4\" >25%</th>\n",
       "      <td id=\"T_eed0b_row4_col0\" class=\"data row4 col0\" >144.929600</td>\n",
       "    </tr>\n",
       "    <tr>\n",
       "      <th id=\"T_eed0b_level0_row5\" class=\"row_heading level0 row5\" >50%</th>\n",
       "      <td id=\"T_eed0b_row5_col0\" class=\"data row5 col0\" >145.000100</td>\n",
       "    </tr>\n",
       "    <tr>\n",
       "      <th id=\"T_eed0b_level0_row6\" class=\"row_heading level0 row6\" >75%</th>\n",
       "      <td id=\"T_eed0b_row6_col0\" class=\"data row6 col0\" >145.058305</td>\n",
       "    </tr>\n",
       "    <tr>\n",
       "      <th id=\"T_eed0b_level0_row7\" class=\"row_heading level0 row7\" >max</th>\n",
       "      <td id=\"T_eed0b_row7_col0\" class=\"data row7 col0\" >145.526350</td>\n",
       "    </tr>\n",
       "    <tr>\n",
       "      <th id=\"T_eed0b_level0_row8\" class=\"row_heading level0 row8\" >unique</th>\n",
       "      <td id=\"T_eed0b_row8_col0\" class=\"data row8 col0\" >7063.000000</td>\n",
       "    </tr>\n",
       "    <tr>\n",
       "      <th id=\"T_eed0b_level0_row9\" class=\"row_heading level0 row9\" >skew</th>\n",
       "      <td id=\"T_eed0b_row9_col0\" class=\"data row9 col0\" >-0.210991</td>\n",
       "    </tr>\n",
       "  </tbody>\n",
       "</table>\n",
       "   "
      ],
      "text/plain": [
       "<IPython.core.display.HTML object>"
      ]
     },
     "metadata": {},
     "output_type": "display_data"
    },
    {
     "data": {
      "text/plain": [
       "<Figure size 576x288 with 0 Axes>"
      ]
     },
     "metadata": {},
     "output_type": "display_data"
    },
    {
     "data": {
      "image/png": "[encoded data removed]",
      "text/plain": [
       "<Figure size 432x288 with 2 Axes>"
      ]
     },
     "metadata": {
      "needs_background": "light"
     },
     "output_type": "display_data"
    },
    {
     "data": {
      "text/markdown": [
       "### Propertycount"
      ],
      "text/plain": [
       "<IPython.core.display.Markdown object>"
      ]
     },
     "metadata": {},
     "output_type": "display_data"
    },
    {
     "data": {
      "text/html": [
       "<style type=\"text/css\">\n",
       "</style>\n",
       "<table id=\"T_69921\" style='display:inline'>\n",
       "  <caption>Info</caption>\n",
       "  <thead>\n",
       "    <tr>\n",
       "      <th class=\"blank level0\" >&nbsp;</th>\n",
       "      <th id=\"T_69921_level0_col0\" class=\"col_heading level0 col0\" >Propertycount</th>\n",
       "    </tr>\n",
       "  </thead>\n",
       "  <tbody>\n",
       "    <tr>\n",
       "      <th id=\"T_69921_level0_row0\" class=\"row_heading level0 row0\" >count</th>\n",
       "      <td id=\"T_69921_row0_col0\" class=\"data row0 col0\" >13580.000000</td>\n",
       "    </tr>\n",
       "    <tr>\n",
       "      <th id=\"T_69921_level0_row1\" class=\"row_heading level0 row1\" >mean</th>\n",
       "      <td id=\"T_69921_row1_col0\" class=\"data row1 col0\" >7454.417378</td>\n",
       "    </tr>\n",
       "    <tr>\n",
       "      <th id=\"T_69921_level0_row2\" class=\"row_heading level0 row2\" >std</th>\n",
       "      <td id=\"T_69921_row2_col0\" class=\"data row2 col0\" >4378.581772</td>\n",
       "    </tr>\n",
       "    <tr>\n",
       "      <th id=\"T_69921_level0_row3\" class=\"row_heading level0 row3\" >min</th>\n",
       "      <td id=\"T_69921_row3_col0\" class=\"data row3 col0\" >249.000000</td>\n",
       "    </tr>\n",
       "    <tr>\n",
       "      <th id=\"T_69921_level0_row4\" class=\"row_heading level0 row4\" >25%</th>\n",
       "      <td id=\"T_69921_row4_col0\" class=\"data row4 col0\" >4380.000000</td>\n",
       "    </tr>\n",
       "    <tr>\n",
       "      <th id=\"T_69921_level0_row5\" class=\"row_heading level0 row5\" >50%</th>\n",
       "      <td id=\"T_69921_row5_col0\" class=\"data row5 col0\" >6555.000000</td>\n",
       "    </tr>\n",
       "    <tr>\n",
       "      <th id=\"T_69921_level0_row6\" class=\"row_heading level0 row6\" >75%</th>\n",
       "      <td id=\"T_69921_row6_col0\" class=\"data row6 col0\" >10331.000000</td>\n",
       "    </tr>\n",
       "    <tr>\n",
       "      <th id=\"T_69921_level0_row7\" class=\"row_heading level0 row7\" >max</th>\n",
       "      <td id=\"T_69921_row7_col0\" class=\"data row7 col0\" >21650.000000</td>\n",
       "    </tr>\n",
       "    <tr>\n",
       "      <th id=\"T_69921_level0_row8\" class=\"row_heading level0 row8\" >unique</th>\n",
       "      <td id=\"T_69921_row8_col0\" class=\"data row8 col0\" >311.000000</td>\n",
       "    </tr>\n",
       "    <tr>\n",
       "      <th id=\"T_69921_level0_row9\" class=\"row_heading level0 row9\" >skew</th>\n",
       "      <td id=\"T_69921_row9_col0\" class=\"data row9 col0\" >1.069339</td>\n",
       "    </tr>\n",
       "  </tbody>\n",
       "</table>\n",
       "   "
      ],
      "text/plain": [
       "<IPython.core.display.HTML object>"
      ]
     },
     "metadata": {},
     "output_type": "display_data"
    },
    {
     "data": {
      "text/plain": [
       "<Figure size 576x288 with 0 Axes>"
      ]
     },
     "metadata": {},
     "output_type": "display_data"
    },
    {
     "data": {
      "image/png": "[encoded data removed]",
      "text/plain": [
       "<Figure size 432x288 with 2 Axes>"
      ]
     },
     "metadata": {
      "needs_background": "light"
     },
     "output_type": "display_data"
    }
   ],
   "source": [
    "eda.plot_numerical(data_test, num_col)"
   ]
  },
  {
   "attachments": {},
   "cell_type": "markdown",
   "metadata": {},
   "source": [
    "As you can see from the result obtained by the **plot_quantitative** function, some variables (Rooms, Bedroom2, Bathroom, Car) can be treated as categorical. For this purpose, you can apply the function **num_to _categorical**. In addition, some variables present a high level of skewness and for a model fitting purpose we need to apply transformations to obtain more information from the skewed variables  (edamame has function for this scope that will be presented during the notebook)."
   ]
  },
  {
   "attachments": {},
   "cell_type": "markdown",
   "metadata": {},
   "source": [
    "## View cardinalities of variables"
   ]
  },
  {
   "cell_type": "code",
   "execution_count": 29,
   "metadata": {},
   "outputs": [
    {
     "data": {
      "text/markdown": [
       "Rows: 13580, Columns: 18"
      ],
      "text/plain": [
       "<IPython.core.display.Markdown object>"
      ]
     },
     "metadata": {},
     "output_type": "display_data"
    },
    {
     "data": {
      "text/markdown": [
       "|               | variable type   |\n",
       "|:--------------|:----------------|\n",
       "| Suburb        | object          |\n",
       "| Rooms         | int64           |\n",
       "| Type          | object          |\n",
       "| Price         | float64         |\n",
       "| Method        | object          |\n",
       "| SellerG       | object          |\n",
       "| Distance      | float64         |\n",
       "| Postcode      | float64         |\n",
       "| Bedroom2      | float64         |\n",
       "| Bathroom      | float64         |\n",
       "| Car           | float64         |\n",
       "| Landsize      | float64         |\n",
       "| BuildingArea  | float64         |\n",
       "| YearBuilt     | float64         |\n",
       "| Lattitude     | float64         |\n",
       "| Longtitude    | float64         |\n",
       "| Regionname    | object          |\n",
       "| Propertycount | float64         |"
      ],
      "text/plain": [
       "<IPython.core.display.Markdown object>"
      ]
     },
     "metadata": {},
     "output_type": "display_data"
    },
    {
     "name": "stdout",
     "output_type": "stream",
     "text": [
      "Numerical variables: ['Rooms', 'Price', 'Distance', 'Postcode', 'Bedroom2', 'Bathroom', 'Car', 'Landsize', 'BuildingArea', 'YearBuilt', 'Lattitude', 'Longtitude', 'Propertycount']\n",
      "Categorical variables: ['Suburb', 'Type', 'Method', 'SellerG', 'Regionname']\n"
     ]
    }
   ],
   "source": [
    "eda.dimensions(data_test)\n",
    "num_col, cat_col = eda.identify_types(data_test)\n",
    "print(f'Numerical variables: {num_col}')\n",
    "print(f'Categorical variables: {cat_col}')"
   ]
  },
  {
   "attachments": {},
   "cell_type": "markdown",
   "metadata": {},
   "source": [
    "shown just the cardinalities of the categorical variables"
   ]
  },
  {
   "cell_type": "code",
   "execution_count": 30,
   "metadata": {},
   "outputs": [
    {
     "data": {
      "text/markdown": [
       "| columns    |   cardinality |\n",
       "|:-----------|--------------:|\n",
       "| Suburb     |           314 |\n",
       "| Type       |             3 |\n",
       "| Method     |             5 |\n",
       "| SellerG    |           268 |\n",
       "| Regionname |             8 |"
      ],
      "text/plain": [
       "<IPython.core.display.Markdown object>"
      ]
     },
     "metadata": {},
     "output_type": "display_data"
    }
   ],
   "source": [
    "eda.view_cardinality(data_test, col=cat_col)"
   ]
  },
  {
   "attachments": {},
   "cell_type": "markdown",
   "metadata": {},
   "source": [
    "In this case, the variables; Suburb, SellerG and Date present high cardinalities values. We need to reduce these values or drop the variable."
   ]
  },
  {
   "attachments": {},
   "cell_type": "markdown",
   "metadata": {},
   "source": [
    "## Modify the cardinalities of a variable\n",
    "\n",
    "We need to modify the cardinalities of the variables:\n",
    " \n",
    "* SellerG \n",
    "* Suburb"
   ]
  },
  {
   "cell_type": "code",
   "execution_count": 31,
   "metadata": {},
   "outputs": [
    {
     "data": {
      "text/markdown": [
       "| columns   |   old_cardinalities |   new_cardinalities |\n",
       "|:----------|--------------------:|--------------------:|\n",
       "| SellerG   |                 268 |                   8 |\n",
       "| Suburb    |                 314 |                   8 |"
      ],
      "text/plain": [
       "<IPython.core.display.Markdown object>"
      ]
     },
     "metadata": {},
     "output_type": "display_data"
    }
   ],
   "source": [
    "eda.modify_cardinality(data_test, col=['SellerG','Suburb'], threshold=[400,200])"
   ]
  },
  {
   "cell_type": "code",
   "execution_count": 32,
   "metadata": {},
   "outputs": [
    {
     "data": {
      "text/markdown": [
       "| columns    |   cardinality |\n",
       "|:-----------|--------------:|\n",
       "| Suburb     |             8 |\n",
       "| Type       |             3 |\n",
       "| Method     |             5 |\n",
       "| SellerG    |             8 |\n",
       "| Regionname |             8 |"
      ],
      "text/plain": [
       "<IPython.core.display.Markdown object>"
      ]
     },
     "metadata": {},
     "output_type": "display_data"
    }
   ],
   "source": [
    "eda.view_cardinality(data_test, col=cat_col)"
   ]
  }
 ],
 "metadata": {
  "kernelspec": {
   "display_name": "base",
   "language": "python",
   "name": "python3"
  },
  "language_info": {
   "codemirror_mode": {
    "name": "ipython",
    "version": 3
   },
   "file_extension": ".py",
   "mimetype": "text/x-python",
   "name": "python",
   "nbconvert_exporter": "python",
   "pygments_lexer": "ipython3",
   "version": "3.9.12"
  },
  "orig_nbformat": 4,
  "vscode": {
   "interpreter": {
    "hash": "15e176b7a587bacf763a05742bf3c7db92d21fd4b7733f76dbff0ddb1181ff96"
   }
  }
 },
 "nbformat": 4,
 "nbformat_minor": 2
}
