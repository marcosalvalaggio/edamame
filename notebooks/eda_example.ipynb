{
 "cells": [
  {
   "attachments": {},
   "cell_type": "markdown",
   "metadata": {},
   "source": [
    "# EDA notebook example\n",
    "\n",
    "This notebook is used to show the functionality of the edamame package. The operations done aren't applied to replicate an optimal EDA step on the dataset  "
   ]
  },
  {
   "attachments": {},
   "cell_type": "markdown",
   "metadata": {},
   "source": [
    "## Table of Contents\n",
    "* [Dimensions](#dim)\n",
    "* [Describe distribution](#describe)\n",
    "* [Column types](#col)\n",
    "* [Missing](#missing)\n",
    "* [Handling missing](#handle)\n",
    "* [Drop columns](#drop)\n",
    "* [Plot categorical variables](#plot-cat)\n",
    "* [Plot numerical variables](#plot-num)\n",
    "* [View cardinalities of variables](#view-card)\n",
    "* [Modify the cardinalities of a variable](#mod-card)\n",
    "* [Distribution study of a numerical variable](#num-study)\n",
    "* [Pearson's correlation matrix](#pearson)\n",
    "* [Correlation matrix for categorical columns](#cat-corr)\n",
    "* [Phik Correlation matrix](#phik)\n",
    "* [Interaction](#interaction)\n",
    "* [Inspection](#inspection)\n",
    "* [Split and scaling](#split)"
   ]
  },
  {
   "cell_type": "code",
   "execution_count": 1,
   "metadata": {},
   "outputs": [
    {
     "data": {
      "text/plain": [
       "'0.31'"
      ]
     },
     "execution_count": 1,
     "metadata": {},
     "output_type": "execute_result"
    }
   ],
   "source": [
    "import pandas as pd \n",
    "#from edamame import eda \n",
    "import edamame as eda\n",
    "import numpy as np \n",
    "# eda version\n",
    "eda.__version__"
   ]
  },
  {
   "cell_type": "code",
   "execution_count": 2,
   "metadata": {},
   "outputs": [
    {
     "name": "stdout",
     "output_type": "stream",
     "text": [
      "<class 'pandas.core.frame.DataFrame'>\n",
      "RangeIndex: 13580 entries, 0 to 13579\n",
      "Data columns (total 21 columns):\n",
      " #   Column         Non-Null Count  Dtype  \n",
      "---  ------         --------------  -----  \n",
      " 0   Suburb         13580 non-null  object \n",
      " 1   Address        13580 non-null  object \n",
      " 2   Rooms          13580 non-null  int64  \n",
      " 3   Type           13580 non-null  object \n",
      " 4   Price          13580 non-null  float64\n",
      " 5   Method         13580 non-null  object \n",
      " 6   SellerG        13580 non-null  object \n",
      " 7   Date           13580 non-null  object \n",
      " 8   Distance       13580 non-null  float64\n",
      " 9   Postcode       13580 non-null  float64\n",
      " 10  Bedroom2       13580 non-null  float64\n",
      " 11  Bathroom       13580 non-null  float64\n",
      " 12  Car            13518 non-null  float64\n",
      " 13  Landsize       13580 non-null  float64\n",
      " 14  BuildingArea   7130 non-null   float64\n",
      " 15  YearBuilt      8205 non-null   float64\n",
      " 16  CouncilArea    12211 non-null  object \n",
      " 17  Lattitude      13580 non-null  float64\n",
      " 18  Longtitude     13580 non-null  float64\n",
      " 19  Regionname     13580 non-null  object \n",
      " 20  Propertycount  13580 non-null  float64\n",
      "dtypes: float64(12), int64(1), object(8)\n",
      "memory usage: 2.2+ MB\n"
     ]
    }
   ],
   "source": [
    "# dataset\n",
    "data = pd.read_csv('/Users/marcosalvalaggio/code/python/ds/data/melb_data/melb_data.csv')\n",
    "data.info()"
   ]
  },
  {
   "attachments": {},
   "cell_type": "markdown",
   "metadata": {},
   "source": [
    "## Dimensions  <a class=\"anchor\" id=\"dim\"></a>"
   ]
  },
  {
   "cell_type": "code",
   "execution_count": 3,
   "metadata": {},
   "outputs": [
    {
     "data": {
      "text/markdown": [
       "Rows: 13580, Columns: 21"
      ],
      "text/plain": [
       "<IPython.core.display.Markdown object>"
      ]
     },
     "metadata": {},
     "output_type": "display_data"
    }
   ],
   "source": [
    "eda.dimensions(data)"
   ]
  },
  {
   "attachments": {},
   "cell_type": "markdown",
   "metadata": {},
   "source": [
    "## Describe distribution <a class=\"anchor\" id=\"describe\"></a>"
   ]
  },
  {
   "cell_type": "code",
   "execution_count": 4,
   "metadata": {},
   "outputs": [
    {
     "data": {
      "text/markdown": [
       "### Quantitative columns"
      ],
      "text/plain": [
       "<IPython.core.display.Markdown object>"
      ]
     },
     "metadata": {},
     "output_type": "display_data"
    },
    {
     "data": {
      "text/html": [
       "<div>\n",
       "<style scoped>\n",
       "    .dataframe tbody tr th:only-of-type {\n",
       "        vertical-align: middle;\n",
       "    }\n",
       "\n",
       "    .dataframe tbody tr th {\n",
       "        vertical-align: top;\n",
       "    }\n",
       "\n",
       "    .dataframe thead th {\n",
       "        text-align: right;\n",
       "    }\n",
       "</style>\n",
       "<table border=\"1\" class=\"dataframe\">\n",
       "  <thead>\n",
       "    <tr style=\"text-align: right;\">\n",
       "      <th></th>\n",
       "      <th>Rooms</th>\n",
       "      <th>Price</th>\n",
       "      <th>Distance</th>\n",
       "      <th>Postcode</th>\n",
       "      <th>Bedroom2</th>\n",
       "      <th>Bathroom</th>\n",
       "      <th>Car</th>\n",
       "      <th>Landsize</th>\n",
       "      <th>BuildingArea</th>\n",
       "      <th>YearBuilt</th>\n",
       "      <th>Lattitude</th>\n",
       "      <th>Longtitude</th>\n",
       "      <th>Propertycount</th>\n",
       "    </tr>\n",
       "  </thead>\n",
       "  <tbody>\n",
       "    <tr>\n",
       "      <th>count</th>\n",
       "      <td>13580.000000</td>\n",
       "      <td>1.358000e+04</td>\n",
       "      <td>13580.000000</td>\n",
       "      <td>13580.000000</td>\n",
       "      <td>13580.000000</td>\n",
       "      <td>13580.000000</td>\n",
       "      <td>13518.000000</td>\n",
       "      <td>13580.000000</td>\n",
       "      <td>7130.000000</td>\n",
       "      <td>8205.000000</td>\n",
       "      <td>13580.000000</td>\n",
       "      <td>13580.000000</td>\n",
       "      <td>13580.000000</td>\n",
       "    </tr>\n",
       "    <tr>\n",
       "      <th>mean</th>\n",
       "      <td>2.937997</td>\n",
       "      <td>1.075684e+06</td>\n",
       "      <td>10.137776</td>\n",
       "      <td>3105.301915</td>\n",
       "      <td>2.914728</td>\n",
       "      <td>1.534242</td>\n",
       "      <td>1.610075</td>\n",
       "      <td>558.416127</td>\n",
       "      <td>151.967650</td>\n",
       "      <td>1964.684217</td>\n",
       "      <td>-37.809203</td>\n",
       "      <td>144.995216</td>\n",
       "      <td>7454.417378</td>\n",
       "    </tr>\n",
       "    <tr>\n",
       "      <th>std</th>\n",
       "      <td>0.955748</td>\n",
       "      <td>6.393107e+05</td>\n",
       "      <td>5.868725</td>\n",
       "      <td>90.676964</td>\n",
       "      <td>0.965921</td>\n",
       "      <td>0.691712</td>\n",
       "      <td>0.962634</td>\n",
       "      <td>3990.669241</td>\n",
       "      <td>541.014538</td>\n",
       "      <td>37.273762</td>\n",
       "      <td>0.079260</td>\n",
       "      <td>0.103916</td>\n",
       "      <td>4378.581772</td>\n",
       "    </tr>\n",
       "    <tr>\n",
       "      <th>min</th>\n",
       "      <td>1.000000</td>\n",
       "      <td>8.500000e+04</td>\n",
       "      <td>0.000000</td>\n",
       "      <td>3000.000000</td>\n",
       "      <td>0.000000</td>\n",
       "      <td>0.000000</td>\n",
       "      <td>0.000000</td>\n",
       "      <td>0.000000</td>\n",
       "      <td>0.000000</td>\n",
       "      <td>1196.000000</td>\n",
       "      <td>-38.182550</td>\n",
       "      <td>144.431810</td>\n",
       "      <td>249.000000</td>\n",
       "    </tr>\n",
       "    <tr>\n",
       "      <th>25%</th>\n",
       "      <td>2.000000</td>\n",
       "      <td>6.500000e+05</td>\n",
       "      <td>6.100000</td>\n",
       "      <td>3044.000000</td>\n",
       "      <td>2.000000</td>\n",
       "      <td>1.000000</td>\n",
       "      <td>1.000000</td>\n",
       "      <td>177.000000</td>\n",
       "      <td>93.000000</td>\n",
       "      <td>1940.000000</td>\n",
       "      <td>-37.856822</td>\n",
       "      <td>144.929600</td>\n",
       "      <td>4380.000000</td>\n",
       "    </tr>\n",
       "    <tr>\n",
       "      <th>50%</th>\n",
       "      <td>3.000000</td>\n",
       "      <td>9.030000e+05</td>\n",
       "      <td>9.200000</td>\n",
       "      <td>3084.000000</td>\n",
       "      <td>3.000000</td>\n",
       "      <td>1.000000</td>\n",
       "      <td>2.000000</td>\n",
       "      <td>440.000000</td>\n",
       "      <td>126.000000</td>\n",
       "      <td>1970.000000</td>\n",
       "      <td>-37.802355</td>\n",
       "      <td>145.000100</td>\n",
       "      <td>6555.000000</td>\n",
       "    </tr>\n",
       "    <tr>\n",
       "      <th>75%</th>\n",
       "      <td>3.000000</td>\n",
       "      <td>1.330000e+06</td>\n",
       "      <td>13.000000</td>\n",
       "      <td>3148.000000</td>\n",
       "      <td>3.000000</td>\n",
       "      <td>2.000000</td>\n",
       "      <td>2.000000</td>\n",
       "      <td>651.000000</td>\n",
       "      <td>174.000000</td>\n",
       "      <td>1999.000000</td>\n",
       "      <td>-37.756400</td>\n",
       "      <td>145.058305</td>\n",
       "      <td>10331.000000</td>\n",
       "    </tr>\n",
       "    <tr>\n",
       "      <th>max</th>\n",
       "      <td>10.000000</td>\n",
       "      <td>9.000000e+06</td>\n",
       "      <td>48.100000</td>\n",
       "      <td>3977.000000</td>\n",
       "      <td>20.000000</td>\n",
       "      <td>8.000000</td>\n",
       "      <td>10.000000</td>\n",
       "      <td>433014.000000</td>\n",
       "      <td>44515.000000</td>\n",
       "      <td>2018.000000</td>\n",
       "      <td>-37.408530</td>\n",
       "      <td>145.526350</td>\n",
       "      <td>21650.000000</td>\n",
       "    </tr>\n",
       "  </tbody>\n",
       "</table>\n",
       "</div>"
      ],
      "text/plain": [
       "              Rooms         Price      Distance      Postcode      Bedroom2  \\\n",
       "count  13580.000000  1.358000e+04  13580.000000  13580.000000  13580.000000   \n",
       "mean       2.937997  1.075684e+06     10.137776   3105.301915      2.914728   \n",
       "std        0.955748  6.393107e+05      5.868725     90.676964      0.965921   \n",
       "min        1.000000  8.500000e+04      0.000000   3000.000000      0.000000   \n",
       "25%        2.000000  6.500000e+05      6.100000   3044.000000      2.000000   \n",
       "50%        3.000000  9.030000e+05      9.200000   3084.000000      3.000000   \n",
       "75%        3.000000  1.330000e+06     13.000000   3148.000000      3.000000   \n",
       "max       10.000000  9.000000e+06     48.100000   3977.000000     20.000000   \n",
       "\n",
       "           Bathroom           Car       Landsize  BuildingArea    YearBuilt  \\\n",
       "count  13580.000000  13518.000000   13580.000000   7130.000000  8205.000000   \n",
       "mean       1.534242      1.610075     558.416127    151.967650  1964.684217   \n",
       "std        0.691712      0.962634    3990.669241    541.014538    37.273762   \n",
       "min        0.000000      0.000000       0.000000      0.000000  1196.000000   \n",
       "25%        1.000000      1.000000     177.000000     93.000000  1940.000000   \n",
       "50%        1.000000      2.000000     440.000000    126.000000  1970.000000   \n",
       "75%        2.000000      2.000000     651.000000    174.000000  1999.000000   \n",
       "max        8.000000     10.000000  433014.000000  44515.000000  2018.000000   \n",
       "\n",
       "          Lattitude    Longtitude  Propertycount  \n",
       "count  13580.000000  13580.000000   13580.000000  \n",
       "mean     -37.809203    144.995216    7454.417378  \n",
       "std        0.079260      0.103916    4378.581772  \n",
       "min      -38.182550    144.431810     249.000000  \n",
       "25%      -37.856822    144.929600    4380.000000  \n",
       "50%      -37.802355    145.000100    6555.000000  \n",
       "75%      -37.756400    145.058305   10331.000000  \n",
       "max      -37.408530    145.526350   21650.000000  "
      ]
     },
     "metadata": {},
     "output_type": "display_data"
    },
    {
     "data": {
      "text/markdown": [
       "### Categorical columns"
      ],
      "text/plain": [
       "<IPython.core.display.Markdown object>"
      ]
     },
     "metadata": {},
     "output_type": "display_data"
    },
    {
     "data": {
      "text/html": [
       "<div>\n",
       "<style scoped>\n",
       "    .dataframe tbody tr th:only-of-type {\n",
       "        vertical-align: middle;\n",
       "    }\n",
       "\n",
       "    .dataframe tbody tr th {\n",
       "        vertical-align: top;\n",
       "    }\n",
       "\n",
       "    .dataframe thead th {\n",
       "        text-align: right;\n",
       "    }\n",
       "</style>\n",
       "<table border=\"1\" class=\"dataframe\">\n",
       "  <thead>\n",
       "    <tr style=\"text-align: right;\">\n",
       "      <th></th>\n",
       "      <th>Suburb</th>\n",
       "      <th>Address</th>\n",
       "      <th>Type</th>\n",
       "      <th>Method</th>\n",
       "      <th>SellerG</th>\n",
       "      <th>Date</th>\n",
       "      <th>CouncilArea</th>\n",
       "      <th>Regionname</th>\n",
       "    </tr>\n",
       "  </thead>\n",
       "  <tbody>\n",
       "    <tr>\n",
       "      <th>count</th>\n",
       "      <td>13580</td>\n",
       "      <td>13580</td>\n",
       "      <td>13580</td>\n",
       "      <td>13580</td>\n",
       "      <td>13580</td>\n",
       "      <td>13580</td>\n",
       "      <td>12211</td>\n",
       "      <td>13580</td>\n",
       "    </tr>\n",
       "    <tr>\n",
       "      <th>unique</th>\n",
       "      <td>314</td>\n",
       "      <td>13378</td>\n",
       "      <td>3</td>\n",
       "      <td>5</td>\n",
       "      <td>268</td>\n",
       "      <td>58</td>\n",
       "      <td>33</td>\n",
       "      <td>8</td>\n",
       "    </tr>\n",
       "    <tr>\n",
       "      <th>top</th>\n",
       "      <td>Reservoir</td>\n",
       "      <td>36 Aberfeldie St</td>\n",
       "      <td>h</td>\n",
       "      <td>S</td>\n",
       "      <td>Nelson</td>\n",
       "      <td>27/05/2017</td>\n",
       "      <td>Moreland</td>\n",
       "      <td>Southern Metropolitan</td>\n",
       "    </tr>\n",
       "    <tr>\n",
       "      <th>freq</th>\n",
       "      <td>359</td>\n",
       "      <td>3</td>\n",
       "      <td>9449</td>\n",
       "      <td>9022</td>\n",
       "      <td>1565</td>\n",
       "      <td>473</td>\n",
       "      <td>1163</td>\n",
       "      <td>4695</td>\n",
       "    </tr>\n",
       "  </tbody>\n",
       "</table>\n",
       "</div>"
      ],
      "text/plain": [
       "           Suburb           Address   Type Method SellerG        Date  \\\n",
       "count       13580             13580  13580  13580   13580       13580   \n",
       "unique        314             13378      3      5     268          58   \n",
       "top     Reservoir  36 Aberfeldie St      h      S  Nelson  27/05/2017   \n",
       "freq          359                 3   9449   9022    1565         473   \n",
       "\n",
       "       CouncilArea             Regionname  \n",
       "count        12211                  13580  \n",
       "unique          33                      8  \n",
       "top       Moreland  Southern Metropolitan  \n",
       "freq          1163                   4695  "
      ]
     },
     "metadata": {},
     "output_type": "display_data"
    }
   ],
   "source": [
    "eda.describe_distribution(data)"
   ]
  },
  {
   "attachments": {},
   "cell_type": "markdown",
   "metadata": {},
   "source": [
    "## Column types <a class=\"anchor\" id=\"col\"></a>\n",
    "\n",
    "* num_col = list with columns interpreted as quantitative/numerical by pandas\n",
    "*  cat_col = list with columns interpreted as categorical (\"object\") by pandas"
   ]
  },
  {
   "cell_type": "code",
   "execution_count": 5,
   "metadata": {},
   "outputs": [
    {
     "data": {
      "text/markdown": [
       "|               | variable type   |\n",
       "|:--------------|:----------------|\n",
       "| Suburb        | object          |\n",
       "| Address       | object          |\n",
       "| Rooms         | int64           |\n",
       "| Type          | object          |\n",
       "| Price         | float64         |\n",
       "| Method        | object          |\n",
       "| SellerG       | object          |\n",
       "| Date          | object          |\n",
       "| Distance      | float64         |\n",
       "| Postcode      | float64         |\n",
       "| Bedroom2      | float64         |\n",
       "| Bathroom      | float64         |\n",
       "| Car           | float64         |\n",
       "| Landsize      | float64         |\n",
       "| BuildingArea  | float64         |\n",
       "| YearBuilt     | float64         |\n",
       "| CouncilArea   | object          |\n",
       "| Lattitude     | float64         |\n",
       "| Longtitude    | float64         |\n",
       "| Regionname    | object          |\n",
       "| Propertycount | float64         |"
      ],
      "text/plain": [
       "<IPython.core.display.Markdown object>"
      ]
     },
     "metadata": {},
     "output_type": "display_data"
    },
    {
     "name": "stdout",
     "output_type": "stream",
     "text": [
      "['Rooms', 'Price', 'Distance', 'Postcode', 'Bedroom2', 'Bathroom', 'Car', 'Landsize', 'BuildingArea', 'YearBuilt', 'Lattitude', 'Longtitude', 'Propertycount']\n",
      "['Suburb', 'Address', 'Type', 'Method', 'SellerG', 'Date', 'CouncilArea', 'Regionname']\n"
     ]
    }
   ],
   "source": [
    "num_col, cat_col = eda.identify_types(data)\n",
    "print(num_col)\n",
    "print(cat_col)"
   ]
  },
  {
   "attachments": {},
   "cell_type": "markdown",
   "metadata": {},
   "source": [
    "# Convert a Numerical column into categorical \n",
    "\n",
    "In this example, the column \"Rooms\" is converted into categorical to show the functionality of the eda package."
   ]
  },
  {
   "cell_type": "code",
   "execution_count": 6,
   "metadata": {},
   "outputs": [
    {
     "name": "stdout",
     "output_type": "stream",
     "text": [
      "int64\n",
      "object\n"
     ]
    }
   ],
   "source": [
    "# before\n",
    "print(data['Rooms'].dtypes)\n",
    "data = eda.num_to_categorical(data, col=['Rooms'])\n",
    "# after\n",
    "print(data['Rooms'].dtypes)"
   ]
  },
  {
   "attachments": {},
   "cell_type": "markdown",
   "metadata": {},
   "source": [
    "## Missing <a class=\"anchor\" id=\"missing\"></a>"
   ]
  },
  {
   "cell_type": "code",
   "execution_count": 7,
   "metadata": {},
   "outputs": [
    {
     "data": {
      "text/markdown": [
       "### INFO table"
      ],
      "text/plain": [
       "<IPython.core.display.Markdown object>"
      ]
     },
     "metadata": {},
     "output_type": "display_data"
    },
    {
     "data": {
      "text/markdown": [
       "|   Row |   Col |   Rows without NaN |   Quantitative variables |   Categorical variables |\n",
       "|------:|------:|-------------------:|-------------------------:|------------------------:|\n",
       "| 13580 |    21 |               6196 |                       12 |                       9 |"
      ],
      "text/plain": [
       "<IPython.core.display.Markdown object>"
      ]
     },
     "metadata": {},
     "output_type": "display_data"
    },
    {
     "data": {
      "text/markdown": [
       "### Check blank, null or empty values"
      ],
      "text/plain": [
       "<IPython.core.display.Markdown object>"
      ]
     },
     "metadata": {},
     "output_type": "display_data"
    },
    {
     "data": {
      "text/markdown": [
       "| columns      |         % |\n",
       "|:-------------|----------:|\n",
       "| Car          |  0.456554 |\n",
       "| BuildingArea | 47.4963   |\n",
       "| YearBuilt    | 39.5803   |\n",
       "| CouncilArea  | 10.081    |"
      ],
      "text/plain": [
       "<IPython.core.display.Markdown object>"
      ]
     },
     "metadata": {},
     "output_type": "display_data"
    },
    {
     "data": {
      "text/markdown": [
       "### Check zeros"
      ],
      "text/plain": [
       "<IPython.core.display.Markdown object>"
      ]
     },
     "metadata": {},
     "output_type": "display_data"
    },
    {
     "data": {
      "text/markdown": [
       "| columns      |          % |\n",
       "|:-------------|-----------:|\n",
       "| Distance     |  0.0441826 |\n",
       "| Bedroom2     |  0.11782   |\n",
       "| Bathroom     |  0.250368  |\n",
       "| Car          |  7.55523   |\n",
       "| Landsize     | 14.2784    |\n",
       "| BuildingArea |  0.125184  |"
      ],
      "text/plain": [
       "<IPython.core.display.Markdown object>"
      ]
     },
     "metadata": {},
     "output_type": "display_data"
    },
    {
     "data": {
      "text/markdown": [
       "### Check duplicates rows"
      ],
      "text/plain": [
       "<IPython.core.display.Markdown object>"
      ]
     },
     "metadata": {},
     "output_type": "display_data"
    },
    {
     "data": {
      "text/markdown": [
       "|   % |\n",
       "|----:|\n",
       "|   0 |"
      ],
      "text/plain": [
       "<IPython.core.display.Markdown object>"
      ]
     },
     "metadata": {},
     "output_type": "display_data"
    },
    {
     "data": {
      "text/markdown": [
       "### SUMMARY table"
      ],
      "text/plain": [
       "<IPython.core.display.Markdown object>"
      ]
     },
     "metadata": {},
     "output_type": "display_data"
    },
    {
     "data": {
      "text/html": [
       "<style type=\"text/css\">\n",
       "#T_6dc8d_row0_col12, #T_6dc8d_row0_col14, #T_6dc8d_row0_col15, #T_6dc8d_row0_col16 {\n",
       "  background-color: red;\n",
       "}\n",
       "#T_6dc8d_row1_col8, #T_6dc8d_row1_col10, #T_6dc8d_row1_col11, #T_6dc8d_row1_col12, #T_6dc8d_row1_col13, #T_6dc8d_row1_col14 {\n",
       "  background-color: orange;\n",
       "}\n",
       "</style>\n",
       "<table id=\"T_6dc8d\">\n",
       "  <thead>\n",
       "    <tr>\n",
       "      <th class=\"blank level0\" >&nbsp;</th>\n",
       "      <th id=\"T_6dc8d_level0_col0\" class=\"col_heading level0 col0\" >Suburb</th>\n",
       "      <th id=\"T_6dc8d_level0_col1\" class=\"col_heading level0 col1\" >Address</th>\n",
       "      <th id=\"T_6dc8d_level0_col2\" class=\"col_heading level0 col2\" >Rooms</th>\n",
       "      <th id=\"T_6dc8d_level0_col3\" class=\"col_heading level0 col3\" >Type</th>\n",
       "      <th id=\"T_6dc8d_level0_col4\" class=\"col_heading level0 col4\" >Price</th>\n",
       "      <th id=\"T_6dc8d_level0_col5\" class=\"col_heading level0 col5\" >Method</th>\n",
       "      <th id=\"T_6dc8d_level0_col6\" class=\"col_heading level0 col6\" >SellerG</th>\n",
       "      <th id=\"T_6dc8d_level0_col7\" class=\"col_heading level0 col7\" >Date</th>\n",
       "      <th id=\"T_6dc8d_level0_col8\" class=\"col_heading level0 col8\" >Distance</th>\n",
       "      <th id=\"T_6dc8d_level0_col9\" class=\"col_heading level0 col9\" >Postcode</th>\n",
       "      <th id=\"T_6dc8d_level0_col10\" class=\"col_heading level0 col10\" >Bedroom2</th>\n",
       "      <th id=\"T_6dc8d_level0_col11\" class=\"col_heading level0 col11\" >Bathroom</th>\n",
       "      <th id=\"T_6dc8d_level0_col12\" class=\"col_heading level0 col12\" >Car</th>\n",
       "      <th id=\"T_6dc8d_level0_col13\" class=\"col_heading level0 col13\" >Landsize</th>\n",
       "      <th id=\"T_6dc8d_level0_col14\" class=\"col_heading level0 col14\" >BuildingArea</th>\n",
       "      <th id=\"T_6dc8d_level0_col15\" class=\"col_heading level0 col15\" >YearBuilt</th>\n",
       "      <th id=\"T_6dc8d_level0_col16\" class=\"col_heading level0 col16\" >CouncilArea</th>\n",
       "      <th id=\"T_6dc8d_level0_col17\" class=\"col_heading level0 col17\" >Lattitude</th>\n",
       "      <th id=\"T_6dc8d_level0_col18\" class=\"col_heading level0 col18\" >Longtitude</th>\n",
       "      <th id=\"T_6dc8d_level0_col19\" class=\"col_heading level0 col19\" >Regionname</th>\n",
       "      <th id=\"T_6dc8d_level0_col20\" class=\"col_heading level0 col20\" >Propertycount</th>\n",
       "    </tr>\n",
       "  </thead>\n",
       "  <tbody>\n",
       "    <tr>\n",
       "      <th id=\"T_6dc8d_level0_row0\" class=\"row_heading level0 row0\" >nan</th>\n",
       "      <td id=\"T_6dc8d_row0_col0\" class=\"data row0 col0\" >0.00%</td>\n",
       "      <td id=\"T_6dc8d_row0_col1\" class=\"data row0 col1\" >0.00%</td>\n",
       "      <td id=\"T_6dc8d_row0_col2\" class=\"data row0 col2\" >0.00%</td>\n",
       "      <td id=\"T_6dc8d_row0_col3\" class=\"data row0 col3\" >0.00%</td>\n",
       "      <td id=\"T_6dc8d_row0_col4\" class=\"data row0 col4\" >0.00%</td>\n",
       "      <td id=\"T_6dc8d_row0_col5\" class=\"data row0 col5\" >0.00%</td>\n",
       "      <td id=\"T_6dc8d_row0_col6\" class=\"data row0 col6\" >0.00%</td>\n",
       "      <td id=\"T_6dc8d_row0_col7\" class=\"data row0 col7\" >0.00%</td>\n",
       "      <td id=\"T_6dc8d_row0_col8\" class=\"data row0 col8\" >0.00%</td>\n",
       "      <td id=\"T_6dc8d_row0_col9\" class=\"data row0 col9\" >0.00%</td>\n",
       "      <td id=\"T_6dc8d_row0_col10\" class=\"data row0 col10\" >0.00%</td>\n",
       "      <td id=\"T_6dc8d_row0_col11\" class=\"data row0 col11\" >0.00%</td>\n",
       "      <td id=\"T_6dc8d_row0_col12\" class=\"data row0 col12\" >0.46%</td>\n",
       "      <td id=\"T_6dc8d_row0_col13\" class=\"data row0 col13\" >0.00%</td>\n",
       "      <td id=\"T_6dc8d_row0_col14\" class=\"data row0 col14\" >47.50%</td>\n",
       "      <td id=\"T_6dc8d_row0_col15\" class=\"data row0 col15\" >39.58%</td>\n",
       "      <td id=\"T_6dc8d_row0_col16\" class=\"data row0 col16\" >10.08%</td>\n",
       "      <td id=\"T_6dc8d_row0_col17\" class=\"data row0 col17\" >0.00%</td>\n",
       "      <td id=\"T_6dc8d_row0_col18\" class=\"data row0 col18\" >0.00%</td>\n",
       "      <td id=\"T_6dc8d_row0_col19\" class=\"data row0 col19\" >0.00%</td>\n",
       "      <td id=\"T_6dc8d_row0_col20\" class=\"data row0 col20\" >0.00%</td>\n",
       "    </tr>\n",
       "    <tr>\n",
       "      <th id=\"T_6dc8d_level0_row1\" class=\"row_heading level0 row1\" >zero</th>\n",
       "      <td id=\"T_6dc8d_row1_col0\" class=\"data row1 col0\" >0.00%</td>\n",
       "      <td id=\"T_6dc8d_row1_col1\" class=\"data row1 col1\" >0.00%</td>\n",
       "      <td id=\"T_6dc8d_row1_col2\" class=\"data row1 col2\" >0.00%</td>\n",
       "      <td id=\"T_6dc8d_row1_col3\" class=\"data row1 col3\" >0.00%</td>\n",
       "      <td id=\"T_6dc8d_row1_col4\" class=\"data row1 col4\" >0.00%</td>\n",
       "      <td id=\"T_6dc8d_row1_col5\" class=\"data row1 col5\" >0.00%</td>\n",
       "      <td id=\"T_6dc8d_row1_col6\" class=\"data row1 col6\" >0.00%</td>\n",
       "      <td id=\"T_6dc8d_row1_col7\" class=\"data row1 col7\" >0.00%</td>\n",
       "      <td id=\"T_6dc8d_row1_col8\" class=\"data row1 col8\" >0.04%</td>\n",
       "      <td id=\"T_6dc8d_row1_col9\" class=\"data row1 col9\" >0.00%</td>\n",
       "      <td id=\"T_6dc8d_row1_col10\" class=\"data row1 col10\" >0.12%</td>\n",
       "      <td id=\"T_6dc8d_row1_col11\" class=\"data row1 col11\" >0.25%</td>\n",
       "      <td id=\"T_6dc8d_row1_col12\" class=\"data row1 col12\" >7.56%</td>\n",
       "      <td id=\"T_6dc8d_row1_col13\" class=\"data row1 col13\" >14.28%</td>\n",
       "      <td id=\"T_6dc8d_row1_col14\" class=\"data row1 col14\" >0.13%</td>\n",
       "      <td id=\"T_6dc8d_row1_col15\" class=\"data row1 col15\" >0.00%</td>\n",
       "      <td id=\"T_6dc8d_row1_col16\" class=\"data row1 col16\" >0.00%</td>\n",
       "      <td id=\"T_6dc8d_row1_col17\" class=\"data row1 col17\" >0.00%</td>\n",
       "      <td id=\"T_6dc8d_row1_col18\" class=\"data row1 col18\" >0.00%</td>\n",
       "      <td id=\"T_6dc8d_row1_col19\" class=\"data row1 col19\" >0.00%</td>\n",
       "      <td id=\"T_6dc8d_row1_col20\" class=\"data row1 col20\" >0.00%</td>\n",
       "    </tr>\n",
       "  </tbody>\n",
       "</table>\n"
      ],
      "text/plain": [
       "<pandas.io.formats.style.Styler at 0x7fdde9f3e460>"
      ]
     },
     "metadata": {},
     "output_type": "display_data"
    },
    {
     "name": "stdout",
     "output_type": "stream",
     "text": [
      "\n",
      "\n",
      "['Car', 'BuildingArea', 'YearBuilt']\n",
      "['CouncilArea']\n",
      "['Distance', 'Bedroom2', 'Bathroom', 'Car', 'Landsize', 'BuildingArea']\n"
     ]
    }
   ],
   "source": [
    "nan_num, nan_cat, zero_col = eda.missing(data)\n",
    "print(nan_num) # list of numerical variables with nan values\n",
    "print(nan_cat) # list of categorical variables with nan values\n",
    "print(zero_col) # list of variables with 0 as values "
   ]
  },
  {
   "attachments": {},
   "cell_type": "markdown",
   "metadata": {},
   "source": [
    "## Handling Missing <a class=\"anchor\" id=\"handle\"></a>"
   ]
  },
  {
   "cell_type": "code",
   "execution_count": 8,
   "metadata": {},
   "outputs": [
    {
     "data": {
      "text/markdown": [
       "### INFO table"
      ],
      "text/plain": [
       "<IPython.core.display.Markdown object>"
      ]
     },
     "metadata": {},
     "output_type": "display_data"
    },
    {
     "data": {
      "text/markdown": [
       "|   Row |   Col |   Rows without NaN |   Quantitative variables |   Categorical variables |\n",
       "|------:|------:|-------------------:|-------------------------:|------------------------:|\n",
       "| 13580 |    21 |              13580 |                       12 |                       9 |"
      ],
      "text/plain": [
       "<IPython.core.display.Markdown object>"
      ]
     },
     "metadata": {},
     "output_type": "display_data"
    },
    {
     "data": {
      "text/markdown": [
       "### Check blank, null or empty values"
      ],
      "text/plain": [
       "<IPython.core.display.Markdown object>"
      ]
     },
     "metadata": {},
     "output_type": "display_data"
    },
    {
     "data": {
      "text/markdown": [
       "| columns   | %   |\n",
       "|-----------|-----|"
      ],
      "text/plain": [
       "<IPython.core.display.Markdown object>"
      ]
     },
     "metadata": {},
     "output_type": "display_data"
    },
    {
     "data": {
      "text/markdown": [
       "### Check zeros"
      ],
      "text/plain": [
       "<IPython.core.display.Markdown object>"
      ]
     },
     "metadata": {},
     "output_type": "display_data"
    },
    {
     "data": {
      "text/markdown": [
       "| columns   | %   |\n",
       "|-----------|-----|"
      ],
      "text/plain": [
       "<IPython.core.display.Markdown object>"
      ]
     },
     "metadata": {},
     "output_type": "display_data"
    },
    {
     "data": {
      "text/markdown": [
       "### Check duplicates rows"
      ],
      "text/plain": [
       "<IPython.core.display.Markdown object>"
      ]
     },
     "metadata": {},
     "output_type": "display_data"
    },
    {
     "data": {
      "text/markdown": [
       "|   % |\n",
       "|----:|\n",
       "|   0 |"
      ],
      "text/plain": [
       "<IPython.core.display.Markdown object>"
      ]
     },
     "metadata": {},
     "output_type": "display_data"
    },
    {
     "data": {
      "text/markdown": [
       "### SUMMARY table"
      ],
      "text/plain": [
       "<IPython.core.display.Markdown object>"
      ]
     },
     "metadata": {},
     "output_type": "display_data"
    },
    {
     "data": {
      "text/html": [
       "<style type=\"text/css\">\n",
       "</style>\n",
       "<table id=\"T_58254\">\n",
       "  <thead>\n",
       "    <tr>\n",
       "      <th class=\"blank level0\" >&nbsp;</th>\n",
       "      <th id=\"T_58254_level0_col0\" class=\"col_heading level0 col0\" >Suburb</th>\n",
       "      <th id=\"T_58254_level0_col1\" class=\"col_heading level0 col1\" >Address</th>\n",
       "      <th id=\"T_58254_level0_col2\" class=\"col_heading level0 col2\" >Rooms</th>\n",
       "      <th id=\"T_58254_level0_col3\" class=\"col_heading level0 col3\" >Type</th>\n",
       "      <th id=\"T_58254_level0_col4\" class=\"col_heading level0 col4\" >Price</th>\n",
       "      <th id=\"T_58254_level0_col5\" class=\"col_heading level0 col5\" >Method</th>\n",
       "      <th id=\"T_58254_level0_col6\" class=\"col_heading level0 col6\" >SellerG</th>\n",
       "      <th id=\"T_58254_level0_col7\" class=\"col_heading level0 col7\" >Date</th>\n",
       "      <th id=\"T_58254_level0_col8\" class=\"col_heading level0 col8\" >Distance</th>\n",
       "      <th id=\"T_58254_level0_col9\" class=\"col_heading level0 col9\" >Postcode</th>\n",
       "      <th id=\"T_58254_level0_col10\" class=\"col_heading level0 col10\" >Bedroom2</th>\n",
       "      <th id=\"T_58254_level0_col11\" class=\"col_heading level0 col11\" >Bathroom</th>\n",
       "      <th id=\"T_58254_level0_col12\" class=\"col_heading level0 col12\" >Car</th>\n",
       "      <th id=\"T_58254_level0_col13\" class=\"col_heading level0 col13\" >Landsize</th>\n",
       "      <th id=\"T_58254_level0_col14\" class=\"col_heading level0 col14\" >BuildingArea</th>\n",
       "      <th id=\"T_58254_level0_col15\" class=\"col_heading level0 col15\" >YearBuilt</th>\n",
       "      <th id=\"T_58254_level0_col16\" class=\"col_heading level0 col16\" >CouncilArea</th>\n",
       "      <th id=\"T_58254_level0_col17\" class=\"col_heading level0 col17\" >Lattitude</th>\n",
       "      <th id=\"T_58254_level0_col18\" class=\"col_heading level0 col18\" >Longtitude</th>\n",
       "      <th id=\"T_58254_level0_col19\" class=\"col_heading level0 col19\" >Regionname</th>\n",
       "      <th id=\"T_58254_level0_col20\" class=\"col_heading level0 col20\" >Propertycount</th>\n",
       "    </tr>\n",
       "  </thead>\n",
       "  <tbody>\n",
       "    <tr>\n",
       "      <th id=\"T_58254_level0_row0\" class=\"row_heading level0 row0\" >nan</th>\n",
       "      <td id=\"T_58254_row0_col0\" class=\"data row0 col0\" >0.00%</td>\n",
       "      <td id=\"T_58254_row0_col1\" class=\"data row0 col1\" >0.00%</td>\n",
       "      <td id=\"T_58254_row0_col2\" class=\"data row0 col2\" >0.00%</td>\n",
       "      <td id=\"T_58254_row0_col3\" class=\"data row0 col3\" >0.00%</td>\n",
       "      <td id=\"T_58254_row0_col4\" class=\"data row0 col4\" >0.00%</td>\n",
       "      <td id=\"T_58254_row0_col5\" class=\"data row0 col5\" >0.00%</td>\n",
       "      <td id=\"T_58254_row0_col6\" class=\"data row0 col6\" >0.00%</td>\n",
       "      <td id=\"T_58254_row0_col7\" class=\"data row0 col7\" >0.00%</td>\n",
       "      <td id=\"T_58254_row0_col8\" class=\"data row0 col8\" >0.00%</td>\n",
       "      <td id=\"T_58254_row0_col9\" class=\"data row0 col9\" >0.00%</td>\n",
       "      <td id=\"T_58254_row0_col10\" class=\"data row0 col10\" >0.00%</td>\n",
       "      <td id=\"T_58254_row0_col11\" class=\"data row0 col11\" >0.00%</td>\n",
       "      <td id=\"T_58254_row0_col12\" class=\"data row0 col12\" >0.00%</td>\n",
       "      <td id=\"T_58254_row0_col13\" class=\"data row0 col13\" >0.00%</td>\n",
       "      <td id=\"T_58254_row0_col14\" class=\"data row0 col14\" >0.00%</td>\n",
       "      <td id=\"T_58254_row0_col15\" class=\"data row0 col15\" >0.00%</td>\n",
       "      <td id=\"T_58254_row0_col16\" class=\"data row0 col16\" >0.00%</td>\n",
       "      <td id=\"T_58254_row0_col17\" class=\"data row0 col17\" >0.00%</td>\n",
       "      <td id=\"T_58254_row0_col18\" class=\"data row0 col18\" >0.00%</td>\n",
       "      <td id=\"T_58254_row0_col19\" class=\"data row0 col19\" >0.00%</td>\n",
       "      <td id=\"T_58254_row0_col20\" class=\"data row0 col20\" >0.00%</td>\n",
       "    </tr>\n",
       "    <tr>\n",
       "      <th id=\"T_58254_level0_row1\" class=\"row_heading level0 row1\" >zero</th>\n",
       "      <td id=\"T_58254_row1_col0\" class=\"data row1 col0\" >0.00%</td>\n",
       "      <td id=\"T_58254_row1_col1\" class=\"data row1 col1\" >0.00%</td>\n",
       "      <td id=\"T_58254_row1_col2\" class=\"data row1 col2\" >0.00%</td>\n",
       "      <td id=\"T_58254_row1_col3\" class=\"data row1 col3\" >0.00%</td>\n",
       "      <td id=\"T_58254_row1_col4\" class=\"data row1 col4\" >0.00%</td>\n",
       "      <td id=\"T_58254_row1_col5\" class=\"data row1 col5\" >0.00%</td>\n",
       "      <td id=\"T_58254_row1_col6\" class=\"data row1 col6\" >0.00%</td>\n",
       "      <td id=\"T_58254_row1_col7\" class=\"data row1 col7\" >0.00%</td>\n",
       "      <td id=\"T_58254_row1_col8\" class=\"data row1 col8\" >0.00%</td>\n",
       "      <td id=\"T_58254_row1_col9\" class=\"data row1 col9\" >0.00%</td>\n",
       "      <td id=\"T_58254_row1_col10\" class=\"data row1 col10\" >0.00%</td>\n",
       "      <td id=\"T_58254_row1_col11\" class=\"data row1 col11\" >0.00%</td>\n",
       "      <td id=\"T_58254_row1_col12\" class=\"data row1 col12\" >0.00%</td>\n",
       "      <td id=\"T_58254_row1_col13\" class=\"data row1 col13\" >0.00%</td>\n",
       "      <td id=\"T_58254_row1_col14\" class=\"data row1 col14\" >0.00%</td>\n",
       "      <td id=\"T_58254_row1_col15\" class=\"data row1 col15\" >0.00%</td>\n",
       "      <td id=\"T_58254_row1_col16\" class=\"data row1 col16\" >0.00%</td>\n",
       "      <td id=\"T_58254_row1_col17\" class=\"data row1 col17\" >0.00%</td>\n",
       "      <td id=\"T_58254_row1_col18\" class=\"data row1 col18\" >0.00%</td>\n",
       "      <td id=\"T_58254_row1_col19\" class=\"data row1 col19\" >0.00%</td>\n",
       "      <td id=\"T_58254_row1_col20\" class=\"data row1 col20\" >0.00%</td>\n",
       "    </tr>\n",
       "  </tbody>\n",
       "</table>\n"
      ],
      "text/plain": [
       "<pandas.io.formats.style.Styler at 0x7fddefe4fbe0>"
      ]
     },
     "metadata": {},
     "output_type": "display_data"
    },
    {
     "name": "stdout",
     "output_type": "stream",
     "text": [
      "\n",
      "\n"
     ]
    },
    {
     "data": {
      "text/plain": [
       "[[], [], []]"
      ]
     },
     "execution_count": 8,
     "metadata": {},
     "output_type": "execute_result"
    }
   ],
   "source": [
    "# quant variables\n",
    "data_test = eda.handling_missing(data, col=nan_num, missing_val=np.nan, method=['mean']*len(nan_num))\n",
    "# qual variables \n",
    "data_test = eda.handling_missing(data_test, col=nan_cat, missing_val=np.nan, method=['most_frequent']*len(nan_cat))\n",
    "# zero variables\n",
    "data_test = eda.handling_missing(data_test, col = zero_col, missing_val=0, method=['most_frequent']*len(zero_col))\n",
    "# view missing data in the dataset after the handling phase \n",
    "eda.missing(data_test)"
   ]
  },
  {
   "attachments": {},
   "cell_type": "markdown",
   "metadata": {},
   "source": [
    "As you can see from the result of the missing function, all the missing values it's been treated "
   ]
  },
  {
   "attachments": {},
   "cell_type": "markdown",
   "metadata": {},
   "source": [
    "## Drop columns <a class=\"anchor\" id=\"drop\"></a>"
   ]
  },
  {
   "cell_type": "code",
   "execution_count": 9,
   "metadata": {},
   "outputs": [
    {
     "data": {
      "text/markdown": [
       "Rows: 13580, Columns: 21"
      ],
      "text/plain": [
       "<IPython.core.display.Markdown object>"
      ]
     },
     "metadata": {},
     "output_type": "display_data"
    },
    {
     "data": {
      "text/markdown": [
       "Rows: 13580, Columns: 19"
      ],
      "text/plain": [
       "<IPython.core.display.Markdown object>"
      ]
     },
     "metadata": {},
     "output_type": "display_data"
    }
   ],
   "source": [
    "eda.dimensions(data_test)\n",
    "data_test = eda.drop_columns(data_test, col=['CouncilArea', 'Date'])\n",
    "eda.dimensions(data_test)"
   ]
  },
  {
   "attachments": {},
   "cell_type": "markdown",
   "metadata": {},
   "source": [
    "## Plot categorical variables <a class=\"anchor\" id=\"plot-cat\"></a>"
   ]
  },
  {
   "cell_type": "code",
   "execution_count": 10,
   "metadata": {},
   "outputs": [
    {
     "data": {
      "text/markdown": [
       "|               | variable type   |\n",
       "|:--------------|:----------------|\n",
       "| Suburb        | object          |\n",
       "| Address       | object          |\n",
       "| Rooms         | object          |\n",
       "| Type          | object          |\n",
       "| Price         | float64         |\n",
       "| Method        | object          |\n",
       "| SellerG       | object          |\n",
       "| Distance      | float64         |\n",
       "| Postcode      | float64         |\n",
       "| Bedroom2      | float64         |\n",
       "| Bathroom      | float64         |\n",
       "| Car           | float64         |\n",
       "| Landsize      | float64         |\n",
       "| BuildingArea  | float64         |\n",
       "| YearBuilt     | float64         |\n",
       "| Lattitude     | float64         |\n",
       "| Longtitude    | float64         |\n",
       "| Regionname    | object          |\n",
       "| Propertycount | float64         |"
      ],
      "text/plain": [
       "<IPython.core.display.Markdown object>"
      ]
     },
     "metadata": {},
     "output_type": "display_data"
    },
    {
     "name": "stdout",
     "output_type": "stream",
     "text": [
      "['Price', 'Distance', 'Postcode', 'Bedroom2', 'Bathroom', 'Car', 'Landsize', 'BuildingArea', 'YearBuilt', 'Lattitude', 'Longtitude', 'Propertycount']\n",
      "['Suburb', 'Address', 'Rooms', 'Type', 'Method', 'SellerG', 'Regionname']\n"
     ]
    }
   ],
   "source": [
    "num_col, cat_col = eda.identify_types(data_test)\n",
    "print(num_col)\n",
    "print(cat_col)"
   ]
  },
  {
   "cell_type": "code",
   "execution_count": 11,
   "metadata": {},
   "outputs": [
    {
     "data": {
      "text/markdown": [
       "### Suburb"
      ],
      "text/plain": [
       "<IPython.core.display.Markdown object>"
      ]
     },
     "metadata": {},
     "output_type": "display_data"
    },
    {
     "data": {
      "text/html": [
       "<style type=\"text/css\">\n",
       "</style>\n",
       "<table id=\"T_c99b3\" style='display:inline'>\n",
       "  <caption>Info</caption>\n",
       "  <thead>\n",
       "    <tr>\n",
       "      <th class=\"blank level0\" >&nbsp;</th>\n",
       "      <th id=\"T_c99b3_level0_col0\" class=\"col_heading level0 col0\" >Suburb</th>\n",
       "    </tr>\n",
       "  </thead>\n",
       "  <tbody>\n",
       "    <tr>\n",
       "      <th id=\"T_c99b3_level0_row0\" class=\"row_heading level0 row0\" >count</th>\n",
       "      <td id=\"T_c99b3_row0_col0\" class=\"data row0 col0\" >13580</td>\n",
       "    </tr>\n",
       "    <tr>\n",
       "      <th id=\"T_c99b3_level0_row1\" class=\"row_heading level0 row1\" >unique</th>\n",
       "      <td id=\"T_c99b3_row1_col0\" class=\"data row1 col0\" >314</td>\n",
       "    </tr>\n",
       "    <tr>\n",
       "      <th id=\"T_c99b3_level0_row2\" class=\"row_heading level0 row2\" >top</th>\n",
       "      <td id=\"T_c99b3_row2_col0\" class=\"data row2 col0\" >Reservoir</td>\n",
       "    </tr>\n",
       "    <tr>\n",
       "      <th id=\"T_c99b3_level0_row3\" class=\"row_heading level0 row3\" >freq</th>\n",
       "      <td id=\"T_c99b3_row3_col0\" class=\"data row3 col0\" >359</td>\n",
       "    </tr>\n",
       "  </tbody>\n",
       "</table>\n",
       "   <style type=\"text/css\">\n",
       "</style>\n",
       "<table id=\"T_ee37b\" style='display:inline'>\n",
       "  <caption>Top cardinalities</caption>\n",
       "  <thead>\n",
       "    <tr>\n",
       "      <th class=\"blank level0\" >&nbsp;</th>\n",
       "      <th id=\"T_ee37b_level0_col0\" class=\"col_heading level0 col0\" >Suburb</th>\n",
       "    </tr>\n",
       "  </thead>\n",
       "  <tbody>\n",
       "    <tr>\n",
       "      <th id=\"T_ee37b_level0_row0\" class=\"row_heading level0 row0\" >Reservoir</th>\n",
       "      <td id=\"T_ee37b_row0_col0\" class=\"data row0 col0\" >359</td>\n",
       "    </tr>\n",
       "    <tr>\n",
       "      <th id=\"T_ee37b_level0_row1\" class=\"row_heading level0 row1\" >Richmond</th>\n",
       "      <td id=\"T_ee37b_row1_col0\" class=\"data row1 col0\" >260</td>\n",
       "    </tr>\n",
       "    <tr>\n",
       "      <th id=\"T_ee37b_level0_row2\" class=\"row_heading level0 row2\" >Bentleigh East</th>\n",
       "      <td id=\"T_ee37b_row2_col0\" class=\"data row2 col0\" >249</td>\n",
       "    </tr>\n",
       "    <tr>\n",
       "      <th id=\"T_ee37b_level0_row3\" class=\"row_heading level0 row3\" >Preston</th>\n",
       "      <td id=\"T_ee37b_row3_col0\" class=\"data row3 col0\" >239</td>\n",
       "    </tr>\n",
       "    <tr>\n",
       "      <th id=\"T_ee37b_level0_row4\" class=\"row_heading level0 row4\" >Brunswick</th>\n",
       "      <td id=\"T_ee37b_row4_col0\" class=\"data row4 col0\" >222</td>\n",
       "    </tr>\n",
       "    <tr>\n",
       "      <th id=\"T_ee37b_level0_row5\" class=\"row_heading level0 row5\" >Essendon</th>\n",
       "      <td id=\"T_ee37b_row5_col0\" class=\"data row5 col0\" >220</td>\n",
       "    </tr>\n",
       "    <tr>\n",
       "      <th id=\"T_ee37b_level0_row6\" class=\"row_heading level0 row6\" >South Yarra</th>\n",
       "      <td id=\"T_ee37b_row6_col0\" class=\"data row6 col0\" >202</td>\n",
       "    </tr>\n",
       "    <tr>\n",
       "      <th id=\"T_ee37b_level0_row7\" class=\"row_heading level0 row7\" >Glen Iris</th>\n",
       "      <td id=\"T_ee37b_row7_col0\" class=\"data row7 col0\" >195</td>\n",
       "    </tr>\n",
       "    <tr>\n",
       "      <th id=\"T_ee37b_level0_row8\" class=\"row_heading level0 row8\" >Hawthorn</th>\n",
       "      <td id=\"T_ee37b_row8_col0\" class=\"data row8 col0\" >191</td>\n",
       "    </tr>\n",
       "    <tr>\n",
       "      <th id=\"T_ee37b_level0_row9\" class=\"row_heading level0 row9\" >Coburg</th>\n",
       "      <td id=\"T_ee37b_row9_col0\" class=\"data row9 col0\" >190</td>\n",
       "    </tr>\n",
       "  </tbody>\n",
       "</table>\n",
       "   "
      ],
      "text/plain": [
       "<IPython.core.display.HTML object>"
      ]
     },
     "metadata": {},
     "output_type": "display_data"
    },
    {
     "name": "stdout",
     "output_type": "stream",
     "text": [
      "\n",
      "\n"
     ]
    },
    {
     "data": {
      "image/png": "[encoded data removed]",
      "text/plain": [
       "<Figure size 576x288 with 1 Axes>"
      ]
     },
     "metadata": {
      "needs_background": "light"
     },
     "output_type": "display_data"
    },
    {
     "name": "stdout",
     "output_type": "stream",
     "text": [
      "\n",
      "\n"
     ]
    },
    {
     "data": {
      "text/markdown": [
       "### Address"
      ],
      "text/plain": [
       "<IPython.core.display.Markdown object>"
      ]
     },
     "metadata": {},
     "output_type": "display_data"
    },
    {
     "data": {
      "text/html": [
       "<style type=\"text/css\">\n",
       "</style>\n",
       "<table id=\"T_0631a\" style='display:inline'>\n",
       "  <caption>Info</caption>\n",
       "  <thead>\n",
       "    <tr>\n",
       "      <th class=\"blank level0\" >&nbsp;</th>\n",
       "      <th id=\"T_0631a_level0_col0\" class=\"col_heading level0 col0\" >Address</th>\n",
       "    </tr>\n",
       "  </thead>\n",
       "  <tbody>\n",
       "    <tr>\n",
       "      <th id=\"T_0631a_level0_row0\" class=\"row_heading level0 row0\" >count</th>\n",
       "      <td id=\"T_0631a_row0_col0\" class=\"data row0 col0\" >13580</td>\n",
       "    </tr>\n",
       "    <tr>\n",
       "      <th id=\"T_0631a_level0_row1\" class=\"row_heading level0 row1\" >unique</th>\n",
       "      <td id=\"T_0631a_row1_col0\" class=\"data row1 col0\" >13378</td>\n",
       "    </tr>\n",
       "    <tr>\n",
       "      <th id=\"T_0631a_level0_row2\" class=\"row_heading level0 row2\" >top</th>\n",
       "      <td id=\"T_0631a_row2_col0\" class=\"data row2 col0\" >36 Aberfeldie St</td>\n",
       "    </tr>\n",
       "    <tr>\n",
       "      <th id=\"T_0631a_level0_row3\" class=\"row_heading level0 row3\" >freq</th>\n",
       "      <td id=\"T_0631a_row3_col0\" class=\"data row3 col0\" >3</td>\n",
       "    </tr>\n",
       "  </tbody>\n",
       "</table>\n",
       "   <style type=\"text/css\">\n",
       "</style>\n",
       "<table id=\"T_4cef3\" style='display:inline'>\n",
       "  <caption>Top cardinalities</caption>\n",
       "  <thead>\n",
       "    <tr>\n",
       "      <th class=\"blank level0\" >&nbsp;</th>\n",
       "      <th id=\"T_4cef3_level0_col0\" class=\"col_heading level0 col0\" >Address</th>\n",
       "    </tr>\n",
       "  </thead>\n",
       "  <tbody>\n",
       "    <tr>\n",
       "      <th id=\"T_4cef3_level0_row0\" class=\"row_heading level0 row0\" >36 Aberfeldie St</th>\n",
       "      <td id=\"T_4cef3_row0_col0\" class=\"data row0 col0\" >3</td>\n",
       "    </tr>\n",
       "    <tr>\n",
       "      <th id=\"T_4cef3_level0_row1\" class=\"row_heading level0 row1\" >2 Bruce St</th>\n",
       "      <td id=\"T_4cef3_row1_col0\" class=\"data row1 col0\" >3</td>\n",
       "    </tr>\n",
       "    <tr>\n",
       "      <th id=\"T_4cef3_level0_row2\" class=\"row_heading level0 row2\" >5 Charles St</th>\n",
       "      <td id=\"T_4cef3_row2_col0\" class=\"data row2 col0\" >3</td>\n",
       "    </tr>\n",
       "    <tr>\n",
       "      <th id=\"T_4cef3_level0_row3\" class=\"row_heading level0 row3\" >53 William St</th>\n",
       "      <td id=\"T_4cef3_row3_col0\" class=\"data row3 col0\" >3</td>\n",
       "    </tr>\n",
       "    <tr>\n",
       "      <th id=\"T_4cef3_level0_row4\" class=\"row_heading level0 row4\" >14 Arthur St</th>\n",
       "      <td id=\"T_4cef3_row4_col0\" class=\"data row4 col0\" >3</td>\n",
       "    </tr>\n",
       "    <tr>\n",
       "      <th id=\"T_4cef3_level0_row5\" class=\"row_heading level0 row5\" >28 Blair St</th>\n",
       "      <td id=\"T_4cef3_row5_col0\" class=\"data row5 col0\" >3</td>\n",
       "    </tr>\n",
       "    <tr>\n",
       "      <th id=\"T_4cef3_level0_row6\" class=\"row_heading level0 row6\" >5 Margaret St</th>\n",
       "      <td id=\"T_4cef3_row6_col0\" class=\"data row6 col0\" >3</td>\n",
       "    </tr>\n",
       "    <tr>\n",
       "      <th id=\"T_4cef3_level0_row7\" class=\"row_heading level0 row7\" >1/1 Clarendon St</th>\n",
       "      <td id=\"T_4cef3_row7_col0\" class=\"data row7 col0\" >3</td>\n",
       "    </tr>\n",
       "    <tr>\n",
       "      <th id=\"T_4cef3_level0_row8\" class=\"row_heading level0 row8\" >13 Robinson St</th>\n",
       "      <td id=\"T_4cef3_row8_col0\" class=\"data row8 col0\" >3</td>\n",
       "    </tr>\n",
       "    <tr>\n",
       "      <th id=\"T_4cef3_level0_row9\" class=\"row_heading level0 row9\" >4 Bell St</th>\n",
       "      <td id=\"T_4cef3_row9_col0\" class=\"data row9 col0\" >2</td>\n",
       "    </tr>\n",
       "  </tbody>\n",
       "</table>\n",
       "   "
      ],
      "text/plain": [
       "<IPython.core.display.HTML object>"
      ]
     },
     "metadata": {},
     "output_type": "display_data"
    },
    {
     "name": "stdout",
     "output_type": "stream",
     "text": [
      "\n",
      "\n",
      "\n",
      "\n"
     ]
    },
    {
     "data": {
      "text/markdown": [
       "***too many unique values***"
      ],
      "text/plain": [
       "<IPython.core.display.Markdown object>"
      ]
     },
     "metadata": {},
     "output_type": "display_data"
    },
    {
     "name": "stdout",
     "output_type": "stream",
     "text": [
      "\n",
      "\n"
     ]
    },
    {
     "data": {
      "text/markdown": [
       "### Rooms"
      ],
      "text/plain": [
       "<IPython.core.display.Markdown object>"
      ]
     },
     "metadata": {},
     "output_type": "display_data"
    },
    {
     "data": {
      "text/html": [
       "<style type=\"text/css\">\n",
       "</style>\n",
       "<table id=\"T_ab9b9\" style='display:inline'>\n",
       "  <caption>Info</caption>\n",
       "  <thead>\n",
       "    <tr>\n",
       "      <th class=\"blank level0\" >&nbsp;</th>\n",
       "      <th id=\"T_ab9b9_level0_col0\" class=\"col_heading level0 col0\" >Rooms</th>\n",
       "    </tr>\n",
       "  </thead>\n",
       "  <tbody>\n",
       "    <tr>\n",
       "      <th id=\"T_ab9b9_level0_row0\" class=\"row_heading level0 row0\" >count</th>\n",
       "      <td id=\"T_ab9b9_row0_col0\" class=\"data row0 col0\" >13580</td>\n",
       "    </tr>\n",
       "    <tr>\n",
       "      <th id=\"T_ab9b9_level0_row1\" class=\"row_heading level0 row1\" >unique</th>\n",
       "      <td id=\"T_ab9b9_row1_col0\" class=\"data row1 col0\" >9</td>\n",
       "    </tr>\n",
       "    <tr>\n",
       "      <th id=\"T_ab9b9_level0_row2\" class=\"row_heading level0 row2\" >top</th>\n",
       "      <td id=\"T_ab9b9_row2_col0\" class=\"data row2 col0\" >3</td>\n",
       "    </tr>\n",
       "    <tr>\n",
       "      <th id=\"T_ab9b9_level0_row3\" class=\"row_heading level0 row3\" >freq</th>\n",
       "      <td id=\"T_ab9b9_row3_col0\" class=\"data row3 col0\" >5881</td>\n",
       "    </tr>\n",
       "  </tbody>\n",
       "</table>\n",
       "   <style type=\"text/css\">\n",
       "</style>\n",
       "<table id=\"T_46fde\" style='display:inline'>\n",
       "  <caption>Top cardinalities</caption>\n",
       "  <thead>\n",
       "    <tr>\n",
       "      <th class=\"blank level0\" >&nbsp;</th>\n",
       "      <th id=\"T_46fde_level0_col0\" class=\"col_heading level0 col0\" >Rooms</th>\n",
       "    </tr>\n",
       "  </thead>\n",
       "  <tbody>\n",
       "    <tr>\n",
       "      <th id=\"T_46fde_level0_row0\" class=\"row_heading level0 row0\" >3</th>\n",
       "      <td id=\"T_46fde_row0_col0\" class=\"data row0 col0\" >5881</td>\n",
       "    </tr>\n",
       "    <tr>\n",
       "      <th id=\"T_46fde_level0_row1\" class=\"row_heading level0 row1\" >2</th>\n",
       "      <td id=\"T_46fde_row1_col0\" class=\"data row1 col0\" >3648</td>\n",
       "    </tr>\n",
       "    <tr>\n",
       "      <th id=\"T_46fde_level0_row2\" class=\"row_heading level0 row2\" >4</th>\n",
       "      <td id=\"T_46fde_row2_col0\" class=\"data row2 col0\" >2688</td>\n",
       "    </tr>\n",
       "    <tr>\n",
       "      <th id=\"T_46fde_level0_row3\" class=\"row_heading level0 row3\" >1</th>\n",
       "      <td id=\"T_46fde_row3_col0\" class=\"data row3 col0\" >681</td>\n",
       "    </tr>\n",
       "    <tr>\n",
       "      <th id=\"T_46fde_level0_row4\" class=\"row_heading level0 row4\" >5</th>\n",
       "      <td id=\"T_46fde_row4_col0\" class=\"data row4 col0\" >596</td>\n",
       "    </tr>\n",
       "    <tr>\n",
       "      <th id=\"T_46fde_level0_row5\" class=\"row_heading level0 row5\" >6</th>\n",
       "      <td id=\"T_46fde_row5_col0\" class=\"data row5 col0\" >67</td>\n",
       "    </tr>\n",
       "    <tr>\n",
       "      <th id=\"T_46fde_level0_row6\" class=\"row_heading level0 row6\" >7</th>\n",
       "      <td id=\"T_46fde_row6_col0\" class=\"data row6 col0\" >10</td>\n",
       "    </tr>\n",
       "    <tr>\n",
       "      <th id=\"T_46fde_level0_row7\" class=\"row_heading level0 row7\" >8</th>\n",
       "      <td id=\"T_46fde_row7_col0\" class=\"data row7 col0\" >8</td>\n",
       "    </tr>\n",
       "    <tr>\n",
       "      <th id=\"T_46fde_level0_row8\" class=\"row_heading level0 row8\" >10</th>\n",
       "      <td id=\"T_46fde_row8_col0\" class=\"data row8 col0\" >1</td>\n",
       "    </tr>\n",
       "  </tbody>\n",
       "</table>\n",
       "   "
      ],
      "text/plain": [
       "<IPython.core.display.HTML object>"
      ]
     },
     "metadata": {},
     "output_type": "display_data"
    },
    {
     "name": "stdout",
     "output_type": "stream",
     "text": [
      "\n",
      "\n"
     ]
    },
    {
     "data": {
      "image/png": "[encoded data removed]",
      "text/plain": [
       "<Figure size 576x288 with 1 Axes>"
      ]
     },
     "metadata": {
      "needs_background": "light"
     },
     "output_type": "display_data"
    },
    {
     "name": "stdout",
     "output_type": "stream",
     "text": [
      "\n",
      "\n"
     ]
    },
    {
     "data": {
      "text/markdown": [
       "### Type"
      ],
      "text/plain": [
       "<IPython.core.display.Markdown object>"
      ]
     },
     "metadata": {},
     "output_type": "display_data"
    },
    {
     "data": {
      "text/html": [
       "<style type=\"text/css\">\n",
       "</style>\n",
       "<table id=\"T_6f435\" style='display:inline'>\n",
       "  <caption>Info</caption>\n",
       "  <thead>\n",
       "    <tr>\n",
       "      <th class=\"blank level0\" >&nbsp;</th>\n",
       "      <th id=\"T_6f435_level0_col0\" class=\"col_heading level0 col0\" >Type</th>\n",
       "    </tr>\n",
       "  </thead>\n",
       "  <tbody>\n",
       "    <tr>\n",
       "      <th id=\"T_6f435_level0_row0\" class=\"row_heading level0 row0\" >count</th>\n",
       "      <td id=\"T_6f435_row0_col0\" class=\"data row0 col0\" >13580</td>\n",
       "    </tr>\n",
       "    <tr>\n",
       "      <th id=\"T_6f435_level0_row1\" class=\"row_heading level0 row1\" >unique</th>\n",
       "      <td id=\"T_6f435_row1_col0\" class=\"data row1 col0\" >3</td>\n",
       "    </tr>\n",
       "    <tr>\n",
       "      <th id=\"T_6f435_level0_row2\" class=\"row_heading level0 row2\" >top</th>\n",
       "      <td id=\"T_6f435_row2_col0\" class=\"data row2 col0\" >h</td>\n",
       "    </tr>\n",
       "    <tr>\n",
       "      <th id=\"T_6f435_level0_row3\" class=\"row_heading level0 row3\" >freq</th>\n",
       "      <td id=\"T_6f435_row3_col0\" class=\"data row3 col0\" >9449</td>\n",
       "    </tr>\n",
       "  </tbody>\n",
       "</table>\n",
       "   <style type=\"text/css\">\n",
       "</style>\n",
       "<table id=\"T_8dc33\" style='display:inline'>\n",
       "  <caption>Top cardinalities</caption>\n",
       "  <thead>\n",
       "    <tr>\n",
       "      <th class=\"blank level0\" >&nbsp;</th>\n",
       "      <th id=\"T_8dc33_level0_col0\" class=\"col_heading level0 col0\" >Type</th>\n",
       "    </tr>\n",
       "  </thead>\n",
       "  <tbody>\n",
       "    <tr>\n",
       "      <th id=\"T_8dc33_level0_row0\" class=\"row_heading level0 row0\" >h</th>\n",
       "      <td id=\"T_8dc33_row0_col0\" class=\"data row0 col0\" >9449</td>\n",
       "    </tr>\n",
       "    <tr>\n",
       "      <th id=\"T_8dc33_level0_row1\" class=\"row_heading level0 row1\" >u</th>\n",
       "      <td id=\"T_8dc33_row1_col0\" class=\"data row1 col0\" >3017</td>\n",
       "    </tr>\n",
       "    <tr>\n",
       "      <th id=\"T_8dc33_level0_row2\" class=\"row_heading level0 row2\" >t</th>\n",
       "      <td id=\"T_8dc33_row2_col0\" class=\"data row2 col0\" >1114</td>\n",
       "    </tr>\n",
       "  </tbody>\n",
       "</table>\n",
       "   "
      ],
      "text/plain": [
       "<IPython.core.display.HTML object>"
      ]
     },
     "metadata": {},
     "output_type": "display_data"
    },
    {
     "name": "stdout",
     "output_type": "stream",
     "text": [
      "\n",
      "\n"
     ]
    },
    {
     "data": {
      "image/png": "[encoded data removed]",
      "text/plain": [
       "<Figure size 576x288 with 1 Axes>"
      ]
     },
     "metadata": {
      "needs_background": "light"
     },
     "output_type": "display_data"
    },
    {
     "name": "stdout",
     "output_type": "stream",
     "text": [
      "\n",
      "\n"
     ]
    },
    {
     "data": {
      "text/markdown": [
       "### Method"
      ],
      "text/plain": [
       "<IPython.core.display.Markdown object>"
      ]
     },
     "metadata": {},
     "output_type": "display_data"
    },
    {
     "data": {
      "text/html": [
       "<style type=\"text/css\">\n",
       "</style>\n",
       "<table id=\"T_1fb8f\" style='display:inline'>\n",
       "  <caption>Info</caption>\n",
       "  <thead>\n",
       "    <tr>\n",
       "      <th class=\"blank level0\" >&nbsp;</th>\n",
       "      <th id=\"T_1fb8f_level0_col0\" class=\"col_heading level0 col0\" >Method</th>\n",
       "    </tr>\n",
       "  </thead>\n",
       "  <tbody>\n",
       "    <tr>\n",
       "      <th id=\"T_1fb8f_level0_row0\" class=\"row_heading level0 row0\" >count</th>\n",
       "      <td id=\"T_1fb8f_row0_col0\" class=\"data row0 col0\" >13580</td>\n",
       "    </tr>\n",
       "    <tr>\n",
       "      <th id=\"T_1fb8f_level0_row1\" class=\"row_heading level0 row1\" >unique</th>\n",
       "      <td id=\"T_1fb8f_row1_col0\" class=\"data row1 col0\" >5</td>\n",
       "    </tr>\n",
       "    <tr>\n",
       "      <th id=\"T_1fb8f_level0_row2\" class=\"row_heading level0 row2\" >top</th>\n",
       "      <td id=\"T_1fb8f_row2_col0\" class=\"data row2 col0\" >S</td>\n",
       "    </tr>\n",
       "    <tr>\n",
       "      <th id=\"T_1fb8f_level0_row3\" class=\"row_heading level0 row3\" >freq</th>\n",
       "      <td id=\"T_1fb8f_row3_col0\" class=\"data row3 col0\" >9022</td>\n",
       "    </tr>\n",
       "  </tbody>\n",
       "</table>\n",
       "   <style type=\"text/css\">\n",
       "</style>\n",
       "<table id=\"T_85606\" style='display:inline'>\n",
       "  <caption>Top cardinalities</caption>\n",
       "  <thead>\n",
       "    <tr>\n",
       "      <th class=\"blank level0\" >&nbsp;</th>\n",
       "      <th id=\"T_85606_level0_col0\" class=\"col_heading level0 col0\" >Method</th>\n",
       "    </tr>\n",
       "  </thead>\n",
       "  <tbody>\n",
       "    <tr>\n",
       "      <th id=\"T_85606_level0_row0\" class=\"row_heading level0 row0\" >S</th>\n",
       "      <td id=\"T_85606_row0_col0\" class=\"data row0 col0\" >9022</td>\n",
       "    </tr>\n",
       "    <tr>\n",
       "      <th id=\"T_85606_level0_row1\" class=\"row_heading level0 row1\" >SP</th>\n",
       "      <td id=\"T_85606_row1_col0\" class=\"data row1 col0\" >1703</td>\n",
       "    </tr>\n",
       "    <tr>\n",
       "      <th id=\"T_85606_level0_row2\" class=\"row_heading level0 row2\" >PI</th>\n",
       "      <td id=\"T_85606_row2_col0\" class=\"data row2 col0\" >1564</td>\n",
       "    </tr>\n",
       "    <tr>\n",
       "      <th id=\"T_85606_level0_row3\" class=\"row_heading level0 row3\" >VB</th>\n",
       "      <td id=\"T_85606_row3_col0\" class=\"data row3 col0\" >1199</td>\n",
       "    </tr>\n",
       "    <tr>\n",
       "      <th id=\"T_85606_level0_row4\" class=\"row_heading level0 row4\" >SA</th>\n",
       "      <td id=\"T_85606_row4_col0\" class=\"data row4 col0\" >92</td>\n",
       "    </tr>\n",
       "  </tbody>\n",
       "</table>\n",
       "   "
      ],
      "text/plain": [
       "<IPython.core.display.HTML object>"
      ]
     },
     "metadata": {},
     "output_type": "display_data"
    },
    {
     "name": "stdout",
     "output_type": "stream",
     "text": [
      "\n",
      "\n"
     ]
    },
    {
     "data": {
      "image/png": "[encoded data removed]",
      "text/plain": [
       "<Figure size 576x288 with 1 Axes>"
      ]
     },
     "metadata": {
      "needs_background": "light"
     },
     "output_type": "display_data"
    },
    {
     "name": "stdout",
     "output_type": "stream",
     "text": [
      "\n",
      "\n"
     ]
    },
    {
     "data": {
      "text/markdown": [
       "### SellerG"
      ],
      "text/plain": [
       "<IPython.core.display.Markdown object>"
      ]
     },
     "metadata": {},
     "output_type": "display_data"
    },
    {
     "data": {
      "text/html": [
       "<style type=\"text/css\">\n",
       "</style>\n",
       "<table id=\"T_cba1d\" style='display:inline'>\n",
       "  <caption>Info</caption>\n",
       "  <thead>\n",
       "    <tr>\n",
       "      <th class=\"blank level0\" >&nbsp;</th>\n",
       "      <th id=\"T_cba1d_level0_col0\" class=\"col_heading level0 col0\" >SellerG</th>\n",
       "    </tr>\n",
       "  </thead>\n",
       "  <tbody>\n",
       "    <tr>\n",
       "      <th id=\"T_cba1d_level0_row0\" class=\"row_heading level0 row0\" >count</th>\n",
       "      <td id=\"T_cba1d_row0_col0\" class=\"data row0 col0\" >13580</td>\n",
       "    </tr>\n",
       "    <tr>\n",
       "      <th id=\"T_cba1d_level0_row1\" class=\"row_heading level0 row1\" >unique</th>\n",
       "      <td id=\"T_cba1d_row1_col0\" class=\"data row1 col0\" >268</td>\n",
       "    </tr>\n",
       "    <tr>\n",
       "      <th id=\"T_cba1d_level0_row2\" class=\"row_heading level0 row2\" >top</th>\n",
       "      <td id=\"T_cba1d_row2_col0\" class=\"data row2 col0\" >Nelson</td>\n",
       "    </tr>\n",
       "    <tr>\n",
       "      <th id=\"T_cba1d_level0_row3\" class=\"row_heading level0 row3\" >freq</th>\n",
       "      <td id=\"T_cba1d_row3_col0\" class=\"data row3 col0\" >1565</td>\n",
       "    </tr>\n",
       "  </tbody>\n",
       "</table>\n",
       "   <style type=\"text/css\">\n",
       "</style>\n",
       "<table id=\"T_30843\" style='display:inline'>\n",
       "  <caption>Top cardinalities</caption>\n",
       "  <thead>\n",
       "    <tr>\n",
       "      <th class=\"blank level0\" >&nbsp;</th>\n",
       "      <th id=\"T_30843_level0_col0\" class=\"col_heading level0 col0\" >SellerG</th>\n",
       "    </tr>\n",
       "  </thead>\n",
       "  <tbody>\n",
       "    <tr>\n",
       "      <th id=\"T_30843_level0_row0\" class=\"row_heading level0 row0\" >Nelson</th>\n",
       "      <td id=\"T_30843_row0_col0\" class=\"data row0 col0\" >1565</td>\n",
       "    </tr>\n",
       "    <tr>\n",
       "      <th id=\"T_30843_level0_row1\" class=\"row_heading level0 row1\" >Jellis</th>\n",
       "      <td id=\"T_30843_row1_col0\" class=\"data row1 col0\" >1316</td>\n",
       "    </tr>\n",
       "    <tr>\n",
       "      <th id=\"T_30843_level0_row2\" class=\"row_heading level0 row2\" >hockingstuart</th>\n",
       "      <td id=\"T_30843_row2_col0\" class=\"data row2 col0\" >1167</td>\n",
       "    </tr>\n",
       "    <tr>\n",
       "      <th id=\"T_30843_level0_row3\" class=\"row_heading level0 row3\" >Barry</th>\n",
       "      <td id=\"T_30843_row3_col0\" class=\"data row3 col0\" >1011</td>\n",
       "    </tr>\n",
       "    <tr>\n",
       "      <th id=\"T_30843_level0_row4\" class=\"row_heading level0 row4\" >Ray</th>\n",
       "      <td id=\"T_30843_row4_col0\" class=\"data row4 col0\" >701</td>\n",
       "    </tr>\n",
       "    <tr>\n",
       "      <th id=\"T_30843_level0_row5\" class=\"row_heading level0 row5\" >Marshall</th>\n",
       "      <td id=\"T_30843_row5_col0\" class=\"data row5 col0\" >659</td>\n",
       "    </tr>\n",
       "    <tr>\n",
       "      <th id=\"T_30843_level0_row6\" class=\"row_heading level0 row6\" >Buxton</th>\n",
       "      <td id=\"T_30843_row6_col0\" class=\"data row6 col0\" >632</td>\n",
       "    </tr>\n",
       "    <tr>\n",
       "      <th id=\"T_30843_level0_row7\" class=\"row_heading level0 row7\" >Biggin</th>\n",
       "      <td id=\"T_30843_row7_col0\" class=\"data row7 col0\" >393</td>\n",
       "    </tr>\n",
       "    <tr>\n",
       "      <th id=\"T_30843_level0_row8\" class=\"row_heading level0 row8\" >Brad</th>\n",
       "      <td id=\"T_30843_row8_col0\" class=\"data row8 col0\" >342</td>\n",
       "    </tr>\n",
       "    <tr>\n",
       "      <th id=\"T_30843_level0_row9\" class=\"row_heading level0 row9\" >Fletchers</th>\n",
       "      <td id=\"T_30843_row9_col0\" class=\"data row9 col0\" >301</td>\n",
       "    </tr>\n",
       "  </tbody>\n",
       "</table>\n",
       "   "
      ],
      "text/plain": [
       "<IPython.core.display.HTML object>"
      ]
     },
     "metadata": {},
     "output_type": "display_data"
    },
    {
     "name": "stdout",
     "output_type": "stream",
     "text": [
      "\n",
      "\n"
     ]
    },
    {
     "data": {
      "image/png": "[encoded data removed]",
      "text/plain": [
       "<Figure size 576x288 with 1 Axes>"
      ]
     },
     "metadata": {
      "needs_background": "light"
     },
     "output_type": "display_data"
    },
    {
     "name": "stdout",
     "output_type": "stream",
     "text": [
      "\n",
      "\n"
     ]
    },
    {
     "data": {
      "text/markdown": [
       "### Regionname"
      ],
      "text/plain": [
       "<IPython.core.display.Markdown object>"
      ]
     },
     "metadata": {},
     "output_type": "display_data"
    },
    {
     "data": {
      "text/html": [
       "<style type=\"text/css\">\n",
       "</style>\n",
       "<table id=\"T_1cc59\" style='display:inline'>\n",
       "  <caption>Info</caption>\n",
       "  <thead>\n",
       "    <tr>\n",
       "      <th class=\"blank level0\" >&nbsp;</th>\n",
       "      <th id=\"T_1cc59_level0_col0\" class=\"col_heading level0 col0\" >Regionname</th>\n",
       "    </tr>\n",
       "  </thead>\n",
       "  <tbody>\n",
       "    <tr>\n",
       "      <th id=\"T_1cc59_level0_row0\" class=\"row_heading level0 row0\" >count</th>\n",
       "      <td id=\"T_1cc59_row0_col0\" class=\"data row0 col0\" >13580</td>\n",
       "    </tr>\n",
       "    <tr>\n",
       "      <th id=\"T_1cc59_level0_row1\" class=\"row_heading level0 row1\" >unique</th>\n",
       "      <td id=\"T_1cc59_row1_col0\" class=\"data row1 col0\" >8</td>\n",
       "    </tr>\n",
       "    <tr>\n",
       "      <th id=\"T_1cc59_level0_row2\" class=\"row_heading level0 row2\" >top</th>\n",
       "      <td id=\"T_1cc59_row2_col0\" class=\"data row2 col0\" >Southern Metropolitan</td>\n",
       "    </tr>\n",
       "    <tr>\n",
       "      <th id=\"T_1cc59_level0_row3\" class=\"row_heading level0 row3\" >freq</th>\n",
       "      <td id=\"T_1cc59_row3_col0\" class=\"data row3 col0\" >4695</td>\n",
       "    </tr>\n",
       "  </tbody>\n",
       "</table>\n",
       "   <style type=\"text/css\">\n",
       "</style>\n",
       "<table id=\"T_995e8\" style='display:inline'>\n",
       "  <caption>Top cardinalities</caption>\n",
       "  <thead>\n",
       "    <tr>\n",
       "      <th class=\"blank level0\" >&nbsp;</th>\n",
       "      <th id=\"T_995e8_level0_col0\" class=\"col_heading level0 col0\" >Regionname</th>\n",
       "    </tr>\n",
       "  </thead>\n",
       "  <tbody>\n",
       "    <tr>\n",
       "      <th id=\"T_995e8_level0_row0\" class=\"row_heading level0 row0\" >Southern Metropolitan</th>\n",
       "      <td id=\"T_995e8_row0_col0\" class=\"data row0 col0\" >4695</td>\n",
       "    </tr>\n",
       "    <tr>\n",
       "      <th id=\"T_995e8_level0_row1\" class=\"row_heading level0 row1\" >Northern Metropolitan</th>\n",
       "      <td id=\"T_995e8_row1_col0\" class=\"data row1 col0\" >3890</td>\n",
       "    </tr>\n",
       "    <tr>\n",
       "      <th id=\"T_995e8_level0_row2\" class=\"row_heading level0 row2\" >Western Metropolitan</th>\n",
       "      <td id=\"T_995e8_row2_col0\" class=\"data row2 col0\" >2948</td>\n",
       "    </tr>\n",
       "    <tr>\n",
       "      <th id=\"T_995e8_level0_row3\" class=\"row_heading level0 row3\" >Eastern Metropolitan</th>\n",
       "      <td id=\"T_995e8_row3_col0\" class=\"data row3 col0\" >1471</td>\n",
       "    </tr>\n",
       "    <tr>\n",
       "      <th id=\"T_995e8_level0_row4\" class=\"row_heading level0 row4\" >South-Eastern Metropolitan</th>\n",
       "      <td id=\"T_995e8_row4_col0\" class=\"data row4 col0\" >450</td>\n",
       "    </tr>\n",
       "    <tr>\n",
       "      <th id=\"T_995e8_level0_row5\" class=\"row_heading level0 row5\" >Eastern Victoria</th>\n",
       "      <td id=\"T_995e8_row5_col0\" class=\"data row5 col0\" >53</td>\n",
       "    </tr>\n",
       "    <tr>\n",
       "      <th id=\"T_995e8_level0_row6\" class=\"row_heading level0 row6\" >Northern Victoria</th>\n",
       "      <td id=\"T_995e8_row6_col0\" class=\"data row6 col0\" >41</td>\n",
       "    </tr>\n",
       "    <tr>\n",
       "      <th id=\"T_995e8_level0_row7\" class=\"row_heading level0 row7\" >Western Victoria</th>\n",
       "      <td id=\"T_995e8_row7_col0\" class=\"data row7 col0\" >32</td>\n",
       "    </tr>\n",
       "  </tbody>\n",
       "</table>\n",
       "   "
      ],
      "text/plain": [
       "<IPython.core.display.HTML object>"
      ]
     },
     "metadata": {},
     "output_type": "display_data"
    },
    {
     "name": "stdout",
     "output_type": "stream",
     "text": [
      "\n",
      "\n"
     ]
    },
    {
     "data": {
      "image/png": "[encoded data removed]",
      "text/plain": [
       "<Figure size 576x288 with 1 Axes>"
      ]
     },
     "metadata": {
      "needs_background": "light"
     },
     "output_type": "display_data"
    },
    {
     "name": "stdout",
     "output_type": "stream",
     "text": [
      "\n",
      "\n"
     ]
    }
   ],
   "source": [
    "eda.plot_categorical(data_test, cat_col)"
   ]
  },
  {
   "attachments": {},
   "cell_type": "markdown",
   "metadata": {},
   "source": [
    "As you can see from the result obtained by the **plot_categoriacal** function, some variables (SellerG, Address and Suburb) show too many unique values to be well-fitted by a model in a future implementation. It's necessary modifying the cardinality of the variables (edamame has the **modify_cadinality** function for this scope that will be presented during the notebook) or drops those variables."
   ]
  },
  {
   "cell_type": "code",
   "execution_count": 12,
   "metadata": {},
   "outputs": [
    {
     "data": {
      "text/markdown": [
       "Rows: 13580, Columns: 18"
      ],
      "text/plain": [
       "<IPython.core.display.Markdown object>"
      ]
     },
     "metadata": {},
     "output_type": "display_data"
    }
   ],
   "source": [
    "# drop address columns far too many unique values \n",
    "data_test = eda.drop_columns(data_test, col=['Address'])\n",
    "eda.dimensions(data_test)"
   ]
  },
  {
   "attachments": {},
   "cell_type": "markdown",
   "metadata": {},
   "source": [
    "## Plot numerical variables <a class=\"anchor\" id=\"plot-num\"></a>"
   ]
  },
  {
   "cell_type": "code",
   "execution_count": 13,
   "metadata": {},
   "outputs": [
    {
     "name": "stdout",
     "output_type": "stream",
     "text": [
      "['Price', 'Distance', 'Postcode', 'Bedroom2', 'Bathroom', 'Car', 'Landsize', 'BuildingArea', 'YearBuilt', 'Lattitude', 'Longtitude', 'Propertycount']\n"
     ]
    }
   ],
   "source": [
    "print(num_col)"
   ]
  },
  {
   "cell_type": "code",
   "execution_count": 14,
   "metadata": {},
   "outputs": [
    {
     "data": {
      "text/markdown": [
       "### Price"
      ],
      "text/plain": [
       "<IPython.core.display.Markdown object>"
      ]
     },
     "metadata": {},
     "output_type": "display_data"
    },
    {
     "data": {
      "text/html": [
       "<style type=\"text/css\">\n",
       "</style>\n",
       "<table id=\"T_4f9e2\" style='display:inline'>\n",
       "  <caption>Info</caption>\n",
       "  <thead>\n",
       "    <tr>\n",
       "      <th class=\"blank level0\" >&nbsp;</th>\n",
       "      <th id=\"T_4f9e2_level0_col0\" class=\"col_heading level0 col0\" >Price</th>\n",
       "    </tr>\n",
       "  </thead>\n",
       "  <tbody>\n",
       "    <tr>\n",
       "      <th id=\"T_4f9e2_level0_row0\" class=\"row_heading level0 row0\" >count</th>\n",
       "      <td id=\"T_4f9e2_row0_col0\" class=\"data row0 col0\" >13580.000000</td>\n",
       "    </tr>\n",
       "    <tr>\n",
       "      <th id=\"T_4f9e2_level0_row1\" class=\"row_heading level0 row1\" >mean</th>\n",
       "      <td id=\"T_4f9e2_row1_col0\" class=\"data row1 col0\" >1075684.079455</td>\n",
       "    </tr>\n",
       "    <tr>\n",
       "      <th id=\"T_4f9e2_level0_row2\" class=\"row_heading level0 row2\" >std</th>\n",
       "      <td id=\"T_4f9e2_row2_col0\" class=\"data row2 col0\" >639310.724296</td>\n",
       "    </tr>\n",
       "    <tr>\n",
       "      <th id=\"T_4f9e2_level0_row3\" class=\"row_heading level0 row3\" >min</th>\n",
       "      <td id=\"T_4f9e2_row3_col0\" class=\"data row3 col0\" >85000.000000</td>\n",
       "    </tr>\n",
       "    <tr>\n",
       "      <th id=\"T_4f9e2_level0_row4\" class=\"row_heading level0 row4\" >25%</th>\n",
       "      <td id=\"T_4f9e2_row4_col0\" class=\"data row4 col0\" >650000.000000</td>\n",
       "    </tr>\n",
       "    <tr>\n",
       "      <th id=\"T_4f9e2_level0_row5\" class=\"row_heading level0 row5\" >50%</th>\n",
       "      <td id=\"T_4f9e2_row5_col0\" class=\"data row5 col0\" >903000.000000</td>\n",
       "    </tr>\n",
       "    <tr>\n",
       "      <th id=\"T_4f9e2_level0_row6\" class=\"row_heading level0 row6\" >75%</th>\n",
       "      <td id=\"T_4f9e2_row6_col0\" class=\"data row6 col0\" >1330000.000000</td>\n",
       "    </tr>\n",
       "    <tr>\n",
       "      <th id=\"T_4f9e2_level0_row7\" class=\"row_heading level0 row7\" >max</th>\n",
       "      <td id=\"T_4f9e2_row7_col0\" class=\"data row7 col0\" >9000000.000000</td>\n",
       "    </tr>\n",
       "    <tr>\n",
       "      <th id=\"T_4f9e2_level0_row8\" class=\"row_heading level0 row8\" >unique</th>\n",
       "      <td id=\"T_4f9e2_row8_col0\" class=\"data row8 col0\" >2204.000000</td>\n",
       "    </tr>\n",
       "    <tr>\n",
       "      <th id=\"T_4f9e2_level0_row9\" class=\"row_heading level0 row9\" >skew</th>\n",
       "      <td id=\"T_4f9e2_row9_col0\" class=\"data row9 col0\" >2.239624</td>\n",
       "    </tr>\n",
       "  </tbody>\n",
       "</table>\n",
       "   "
      ],
      "text/plain": [
       "<IPython.core.display.HTML object>"
      ]
     },
     "metadata": {},
     "output_type": "display_data"
    },
    {
     "data": {
      "text/plain": [
       "<Figure size 576x288 with 0 Axes>"
      ]
     },
     "metadata": {},
     "output_type": "display_data"
    },
    {
     "data": {
      "image/png": "[encoded data removed]",
      "text/plain": [
       "<Figure size 432x288 with 2 Axes>"
      ]
     },
     "metadata": {
      "needs_background": "light"
     },
     "output_type": "display_data"
    },
    {
     "data": {
      "text/markdown": [
       "### Distance"
      ],
      "text/plain": [
       "<IPython.core.display.Markdown object>"
      ]
     },
     "metadata": {},
     "output_type": "display_data"
    },
    {
     "data": {
      "text/html": [
       "<style type=\"text/css\">\n",
       "</style>\n",
       "<table id=\"T_e283b\" style='display:inline'>\n",
       "  <caption>Info</caption>\n",
       "  <thead>\n",
       "    <tr>\n",
       "      <th class=\"blank level0\" >&nbsp;</th>\n",
       "      <th id=\"T_e283b_level0_col0\" class=\"col_heading level0 col0\" >Distance</th>\n",
       "    </tr>\n",
       "  </thead>\n",
       "  <tbody>\n",
       "    <tr>\n",
       "      <th id=\"T_e283b_level0_row0\" class=\"row_heading level0 row0\" >count</th>\n",
       "      <td id=\"T_e283b_row0_col0\" class=\"data row0 col0\" >13580.000000</td>\n",
       "    </tr>\n",
       "    <tr>\n",
       "      <th id=\"T_e283b_level0_row1\" class=\"row_heading level0 row1\" >mean</th>\n",
       "      <td id=\"T_e283b_row1_col0\" class=\"data row1 col0\" >10.142725</td>\n",
       "    </tr>\n",
       "    <tr>\n",
       "      <th id=\"T_e283b_level0_row2\" class=\"row_heading level0 row2\" >std</th>\n",
       "      <td id=\"T_e283b_row2_col0\" class=\"data row2 col0\" >5.864895</td>\n",
       "    </tr>\n",
       "    <tr>\n",
       "      <th id=\"T_e283b_level0_row3\" class=\"row_heading level0 row3\" >min</th>\n",
       "      <td id=\"T_e283b_row3_col0\" class=\"data row3 col0\" >0.700000</td>\n",
       "    </tr>\n",
       "    <tr>\n",
       "      <th id=\"T_e283b_level0_row4\" class=\"row_heading level0 row4\" >25%</th>\n",
       "      <td id=\"T_e283b_row4_col0\" class=\"data row4 col0\" >6.200000</td>\n",
       "    </tr>\n",
       "    <tr>\n",
       "      <th id=\"T_e283b_level0_row5\" class=\"row_heading level0 row5\" >50%</th>\n",
       "      <td id=\"T_e283b_row5_col0\" class=\"data row5 col0\" >9.200000</td>\n",
       "    </tr>\n",
       "    <tr>\n",
       "      <th id=\"T_e283b_level0_row6\" class=\"row_heading level0 row6\" >75%</th>\n",
       "      <td id=\"T_e283b_row6_col0\" class=\"data row6 col0\" >13.000000</td>\n",
       "    </tr>\n",
       "    <tr>\n",
       "      <th id=\"T_e283b_level0_row7\" class=\"row_heading level0 row7\" >max</th>\n",
       "      <td id=\"T_e283b_row7_col0\" class=\"data row7 col0\" >48.100000</td>\n",
       "    </tr>\n",
       "    <tr>\n",
       "      <th id=\"T_e283b_level0_row8\" class=\"row_heading level0 row8\" >unique</th>\n",
       "      <td id=\"T_e283b_row8_col0\" class=\"data row8 col0\" >201.000000</td>\n",
       "    </tr>\n",
       "    <tr>\n",
       "      <th id=\"T_e283b_level0_row9\" class=\"row_heading level0 row9\" >skew</th>\n",
       "      <td id=\"T_e283b_row9_col0\" class=\"data row9 col0\" >1.679978</td>\n",
       "    </tr>\n",
       "  </tbody>\n",
       "</table>\n",
       "   "
      ],
      "text/plain": [
       "<IPython.core.display.HTML object>"
      ]
     },
     "metadata": {},
     "output_type": "display_data"
    },
    {
     "data": {
      "text/plain": [
       "<Figure size 576x288 with 0 Axes>"
      ]
     },
     "metadata": {},
     "output_type": "display_data"
    },
    {
     "data": {
      "image/png": "[encoded data removed]",
      "text/plain": [
       "<Figure size 432x288 with 2 Axes>"
      ]
     },
     "metadata": {
      "needs_background": "light"
     },
     "output_type": "display_data"
    },
    {
     "data": {
      "text/markdown": [
       "### Postcode"
      ],
      "text/plain": [
       "<IPython.core.display.Markdown object>"
      ]
     },
     "metadata": {},
     "output_type": "display_data"
    },
    {
     "data": {
      "text/html": [
       "<style type=\"text/css\">\n",
       "</style>\n",
       "<table id=\"T_a8941\" style='display:inline'>\n",
       "  <caption>Info</caption>\n",
       "  <thead>\n",
       "    <tr>\n",
       "      <th class=\"blank level0\" >&nbsp;</th>\n",
       "      <th id=\"T_a8941_level0_col0\" class=\"col_heading level0 col0\" >Postcode</th>\n",
       "    </tr>\n",
       "  </thead>\n",
       "  <tbody>\n",
       "    <tr>\n",
       "      <th id=\"T_a8941_level0_row0\" class=\"row_heading level0 row0\" >count</th>\n",
       "      <td id=\"T_a8941_row0_col0\" class=\"data row0 col0\" >13580.000000</td>\n",
       "    </tr>\n",
       "    <tr>\n",
       "      <th id=\"T_a8941_level0_row1\" class=\"row_heading level0 row1\" >mean</th>\n",
       "      <td id=\"T_a8941_row1_col0\" class=\"data row1 col0\" >3105.301915</td>\n",
       "    </tr>\n",
       "    <tr>\n",
       "      <th id=\"T_a8941_level0_row2\" class=\"row_heading level0 row2\" >std</th>\n",
       "      <td id=\"T_a8941_row2_col0\" class=\"data row2 col0\" >90.676964</td>\n",
       "    </tr>\n",
       "    <tr>\n",
       "      <th id=\"T_a8941_level0_row3\" class=\"row_heading level0 row3\" >min</th>\n",
       "      <td id=\"T_a8941_row3_col0\" class=\"data row3 col0\" >3000.000000</td>\n",
       "    </tr>\n",
       "    <tr>\n",
       "      <th id=\"T_a8941_level0_row4\" class=\"row_heading level0 row4\" >25%</th>\n",
       "      <td id=\"T_a8941_row4_col0\" class=\"data row4 col0\" >3044.000000</td>\n",
       "    </tr>\n",
       "    <tr>\n",
       "      <th id=\"T_a8941_level0_row5\" class=\"row_heading level0 row5\" >50%</th>\n",
       "      <td id=\"T_a8941_row5_col0\" class=\"data row5 col0\" >3084.000000</td>\n",
       "    </tr>\n",
       "    <tr>\n",
       "      <th id=\"T_a8941_level0_row6\" class=\"row_heading level0 row6\" >75%</th>\n",
       "      <td id=\"T_a8941_row6_col0\" class=\"data row6 col0\" >3148.000000</td>\n",
       "    </tr>\n",
       "    <tr>\n",
       "      <th id=\"T_a8941_level0_row7\" class=\"row_heading level0 row7\" >max</th>\n",
       "      <td id=\"T_a8941_row7_col0\" class=\"data row7 col0\" >3977.000000</td>\n",
       "    </tr>\n",
       "    <tr>\n",
       "      <th id=\"T_a8941_level0_row8\" class=\"row_heading level0 row8\" >unique</th>\n",
       "      <td id=\"T_a8941_row8_col0\" class=\"data row8 col0\" >198.000000</td>\n",
       "    </tr>\n",
       "    <tr>\n",
       "      <th id=\"T_a8941_level0_row9\" class=\"row_heading level0 row9\" >skew</th>\n",
       "      <td id=\"T_a8941_row9_col0\" class=\"data row9 col0\" >4.076152</td>\n",
       "    </tr>\n",
       "  </tbody>\n",
       "</table>\n",
       "   "
      ],
      "text/plain": [
       "<IPython.core.display.HTML object>"
      ]
     },
     "metadata": {},
     "output_type": "display_data"
    },
    {
     "data": {
      "text/plain": [
       "<Figure size 576x288 with 0 Axes>"
      ]
     },
     "metadata": {},
     "output_type": "display_data"
    },
    {
     "data": {
      "image/png": "[encoded data removed]",
      "text/plain": [
       "<Figure size 432x288 with 2 Axes>"
      ]
     },
     "metadata": {
      "needs_background": "light"
     },
     "output_type": "display_data"
    },
    {
     "data": {
      "text/markdown": [
       "### Bedroom2"
      ],
      "text/plain": [
       "<IPython.core.display.Markdown object>"
      ]
     },
     "metadata": {},
     "output_type": "display_data"
    },
    {
     "data": {
      "text/html": [
       "<style type=\"text/css\">\n",
       "</style>\n",
       "<table id=\"T_be9fc\" style='display:inline'>\n",
       "  <caption>Info</caption>\n",
       "  <thead>\n",
       "    <tr>\n",
       "      <th class=\"blank level0\" >&nbsp;</th>\n",
       "      <th id=\"T_be9fc_level0_col0\" class=\"col_heading level0 col0\" >Bedroom2</th>\n",
       "    </tr>\n",
       "  </thead>\n",
       "  <tbody>\n",
       "    <tr>\n",
       "      <th id=\"T_be9fc_level0_row0\" class=\"row_heading level0 row0\" >count</th>\n",
       "      <td id=\"T_be9fc_row0_col0\" class=\"data row0 col0\" >13580.000000</td>\n",
       "    </tr>\n",
       "    <tr>\n",
       "      <th id=\"T_be9fc_level0_row1\" class=\"row_heading level0 row1\" >mean</th>\n",
       "      <td id=\"T_be9fc_row1_col0\" class=\"data row1 col0\" >2.918262</td>\n",
       "    </tr>\n",
       "    <tr>\n",
       "      <th id=\"T_be9fc_level0_row2\" class=\"row_heading level0 row2\" >std</th>\n",
       "      <td id=\"T_be9fc_row2_col0\" class=\"data row2 col0\" >0.960723</td>\n",
       "    </tr>\n",
       "    <tr>\n",
       "      <th id=\"T_be9fc_level0_row3\" class=\"row_heading level0 row3\" >min</th>\n",
       "      <td id=\"T_be9fc_row3_col0\" class=\"data row3 col0\" >1.000000</td>\n",
       "    </tr>\n",
       "    <tr>\n",
       "      <th id=\"T_be9fc_level0_row4\" class=\"row_heading level0 row4\" >25%</th>\n",
       "      <td id=\"T_be9fc_row4_col0\" class=\"data row4 col0\" >2.000000</td>\n",
       "    </tr>\n",
       "    <tr>\n",
       "      <th id=\"T_be9fc_level0_row5\" class=\"row_heading level0 row5\" >50%</th>\n",
       "      <td id=\"T_be9fc_row5_col0\" class=\"data row5 col0\" >3.000000</td>\n",
       "    </tr>\n",
       "    <tr>\n",
       "      <th id=\"T_be9fc_level0_row6\" class=\"row_heading level0 row6\" >75%</th>\n",
       "      <td id=\"T_be9fc_row6_col0\" class=\"data row6 col0\" >3.000000</td>\n",
       "    </tr>\n",
       "    <tr>\n",
       "      <th id=\"T_be9fc_level0_row7\" class=\"row_heading level0 row7\" >max</th>\n",
       "      <td id=\"T_be9fc_row7_col0\" class=\"data row7 col0\" >20.000000</td>\n",
       "    </tr>\n",
       "    <tr>\n",
       "      <th id=\"T_be9fc_level0_row8\" class=\"row_heading level0 row8\" >unique</th>\n",
       "      <td id=\"T_be9fc_row8_col0\" class=\"data row8 col0\" >11.000000</td>\n",
       "    </tr>\n",
       "    <tr>\n",
       "      <th id=\"T_be9fc_level0_row9\" class=\"row_heading level0 row9\" >skew</th>\n",
       "      <td id=\"T_be9fc_row9_col0\" class=\"data row9 col0\" >0.808585</td>\n",
       "    </tr>\n",
       "  </tbody>\n",
       "</table>\n",
       "   "
      ],
      "text/plain": [
       "<IPython.core.display.HTML object>"
      ]
     },
     "metadata": {},
     "output_type": "display_data"
    },
    {
     "data": {
      "text/plain": [
       "<Figure size 576x288 with 0 Axes>"
      ]
     },
     "metadata": {},
     "output_type": "display_data"
    },
    {
     "data": {
      "image/png": "[encoded data removed]",
      "text/plain": [
       "<Figure size 432x288 with 2 Axes>"
      ]
     },
     "metadata": {
      "needs_background": "light"
     },
     "output_type": "display_data"
    },
    {
     "data": {
      "text/markdown": [
       "### Bathroom"
      ],
      "text/plain": [
       "<IPython.core.display.Markdown object>"
      ]
     },
     "metadata": {},
     "output_type": "display_data"
    },
    {
     "data": {
      "text/html": [
       "<style type=\"text/css\">\n",
       "</style>\n",
       "<table id=\"T_554d3\" style='display:inline'>\n",
       "  <caption>Info</caption>\n",
       "  <thead>\n",
       "    <tr>\n",
       "      <th class=\"blank level0\" >&nbsp;</th>\n",
       "      <th id=\"T_554d3_level0_col0\" class=\"col_heading level0 col0\" >Bathroom</th>\n",
       "    </tr>\n",
       "  </thead>\n",
       "  <tbody>\n",
       "    <tr>\n",
       "      <th id=\"T_554d3_level0_row0\" class=\"row_heading level0 row0\" >count</th>\n",
       "      <td id=\"T_554d3_row0_col0\" class=\"data row0 col0\" >13580.000000</td>\n",
       "    </tr>\n",
       "    <tr>\n",
       "      <th id=\"T_554d3_level0_row1\" class=\"row_heading level0 row1\" >mean</th>\n",
       "      <td id=\"T_554d3_row1_col0\" class=\"data row1 col0\" >1.536745</td>\n",
       "    </tr>\n",
       "    <tr>\n",
       "      <th id=\"T_554d3_level0_row2\" class=\"row_heading level0 row2\" >std</th>\n",
       "      <td id=\"T_554d3_row2_col0\" class=\"data row2 col0\" >0.687953</td>\n",
       "    </tr>\n",
       "    <tr>\n",
       "      <th id=\"T_554d3_level0_row3\" class=\"row_heading level0 row3\" >min</th>\n",
       "      <td id=\"T_554d3_row3_col0\" class=\"data row3 col0\" >1.000000</td>\n",
       "    </tr>\n",
       "    <tr>\n",
       "      <th id=\"T_554d3_level0_row4\" class=\"row_heading level0 row4\" >25%</th>\n",
       "      <td id=\"T_554d3_row4_col0\" class=\"data row4 col0\" >1.000000</td>\n",
       "    </tr>\n",
       "    <tr>\n",
       "      <th id=\"T_554d3_level0_row5\" class=\"row_heading level0 row5\" >50%</th>\n",
       "      <td id=\"T_554d3_row5_col0\" class=\"data row5 col0\" >1.000000</td>\n",
       "    </tr>\n",
       "    <tr>\n",
       "      <th id=\"T_554d3_level0_row6\" class=\"row_heading level0 row6\" >75%</th>\n",
       "      <td id=\"T_554d3_row6_col0\" class=\"data row6 col0\" >2.000000</td>\n",
       "    </tr>\n",
       "    <tr>\n",
       "      <th id=\"T_554d3_level0_row7\" class=\"row_heading level0 row7\" >max</th>\n",
       "      <td id=\"T_554d3_row7_col0\" class=\"data row7 col0\" >8.000000</td>\n",
       "    </tr>\n",
       "    <tr>\n",
       "      <th id=\"T_554d3_level0_row8\" class=\"row_heading level0 row8\" >unique</th>\n",
       "      <td id=\"T_554d3_row8_col0\" class=\"data row8 col0\" >8.000000</td>\n",
       "    </tr>\n",
       "    <tr>\n",
       "      <th id=\"T_554d3_level0_row9\" class=\"row_heading level0 row9\" >skew</th>\n",
       "      <td id=\"T_554d3_row9_col0\" class=\"data row9 col0\" >1.415789</td>\n",
       "    </tr>\n",
       "  </tbody>\n",
       "</table>\n",
       "   "
      ],
      "text/plain": [
       "<IPython.core.display.HTML object>"
      ]
     },
     "metadata": {},
     "output_type": "display_data"
    },
    {
     "data": {
      "text/plain": [
       "<Figure size 576x288 with 0 Axes>"
      ]
     },
     "metadata": {},
     "output_type": "display_data"
    },
    {
     "data": {
      "image/png": "[encoded data removed]",
      "text/plain": [
       "<Figure size 432x288 with 2 Axes>"
      ]
     },
     "metadata": {
      "needs_background": "light"
     },
     "output_type": "display_data"
    },
    {
     "data": {
      "text/markdown": [
       "### Car"
      ],
      "text/plain": [
       "<IPython.core.display.Markdown object>"
      ]
     },
     "metadata": {},
     "output_type": "display_data"
    },
    {
     "data": {
      "text/html": [
       "<style type=\"text/css\">\n",
       "</style>\n",
       "<table id=\"T_059a5\" style='display:inline'>\n",
       "  <caption>Info</caption>\n",
       "  <thead>\n",
       "    <tr>\n",
       "      <th class=\"blank level0\" >&nbsp;</th>\n",
       "      <th id=\"T_059a5_level0_col0\" class=\"col_heading level0 col0\" >Car</th>\n",
       "    </tr>\n",
       "  </thead>\n",
       "  <tbody>\n",
       "    <tr>\n",
       "      <th id=\"T_059a5_level0_row0\" class=\"row_heading level0 row0\" >count</th>\n",
       "      <td id=\"T_059a5_row0_col0\" class=\"data row0 col0\" >13580.000000</td>\n",
       "    </tr>\n",
       "    <tr>\n",
       "      <th id=\"T_059a5_level0_row1\" class=\"row_heading level0 row1\" >mean</th>\n",
       "      <td id=\"T_059a5_row1_col0\" class=\"data row1 col0\" >1.761180</td>\n",
       "    </tr>\n",
       "    <tr>\n",
       "      <th id=\"T_059a5_level0_row2\" class=\"row_heading level0 row2\" >std</th>\n",
       "      <td id=\"T_059a5_row2_col0\" class=\"data row2 col0\" >0.845703</td>\n",
       "    </tr>\n",
       "    <tr>\n",
       "      <th id=\"T_059a5_level0_row3\" class=\"row_heading level0 row3\" >min</th>\n",
       "      <td id=\"T_059a5_row3_col0\" class=\"data row3 col0\" >1.000000</td>\n",
       "    </tr>\n",
       "    <tr>\n",
       "      <th id=\"T_059a5_level0_row4\" class=\"row_heading level0 row4\" >25%</th>\n",
       "      <td id=\"T_059a5_row4_col0\" class=\"data row4 col0\" >1.000000</td>\n",
       "    </tr>\n",
       "    <tr>\n",
       "      <th id=\"T_059a5_level0_row5\" class=\"row_heading level0 row5\" >50%</th>\n",
       "      <td id=\"T_059a5_row5_col0\" class=\"data row5 col0\" >2.000000</td>\n",
       "    </tr>\n",
       "    <tr>\n",
       "      <th id=\"T_059a5_level0_row6\" class=\"row_heading level0 row6\" >75%</th>\n",
       "      <td id=\"T_059a5_row6_col0\" class=\"data row6 col0\" >2.000000</td>\n",
       "    </tr>\n",
       "    <tr>\n",
       "      <th id=\"T_059a5_level0_row7\" class=\"row_heading level0 row7\" >max</th>\n",
       "      <td id=\"T_059a5_row7_col0\" class=\"data row7 col0\" >10.000000</td>\n",
       "    </tr>\n",
       "    <tr>\n",
       "      <th id=\"T_059a5_level0_row8\" class=\"row_heading level0 row8\" >unique</th>\n",
       "      <td id=\"T_059a5_row8_col0\" class=\"data row8 col0\" >11.000000</td>\n",
       "    </tr>\n",
       "    <tr>\n",
       "      <th id=\"T_059a5_level0_row9\" class=\"row_heading level0 row9\" >skew</th>\n",
       "      <td id=\"T_059a5_row9_col0\" class=\"data row9 col0\" >1.997825</td>\n",
       "    </tr>\n",
       "  </tbody>\n",
       "</table>\n",
       "   "
      ],
      "text/plain": [
       "<IPython.core.display.HTML object>"
      ]
     },
     "metadata": {},
     "output_type": "display_data"
    },
    {
     "data": {
      "text/plain": [
       "<Figure size 576x288 with 0 Axes>"
      ]
     },
     "metadata": {},
     "output_type": "display_data"
    },
    {
     "data": {
      "image/png": "[encoded data removed]",
      "text/plain": [
       "<Figure size 432x288 with 2 Axes>"
      ]
     },
     "metadata": {
      "needs_background": "light"
     },
     "output_type": "display_data"
    },
    {
     "data": {
      "text/markdown": [
       "### Landsize"
      ],
      "text/plain": [
       "<IPython.core.display.Markdown object>"
      ]
     },
     "metadata": {},
     "output_type": "display_data"
    },
    {
     "data": {
      "text/html": [
       "<style type=\"text/css\">\n",
       "</style>\n",
       "<table id=\"T_01cbe\" style='display:inline'>\n",
       "  <caption>Info</caption>\n",
       "  <thead>\n",
       "    <tr>\n",
       "      <th class=\"blank level0\" >&nbsp;</th>\n",
       "      <th id=\"T_01cbe_level0_col0\" class=\"col_heading level0 col0\" >Landsize</th>\n",
       "    </tr>\n",
       "  </thead>\n",
       "  <tbody>\n",
       "    <tr>\n",
       "      <th id=\"T_01cbe_level0_row0\" class=\"row_heading level0 row0\" >count</th>\n",
       "      <td id=\"T_01cbe_row0_col0\" class=\"data row0 col0\" >13580.000000</td>\n",
       "    </tr>\n",
       "    <tr>\n",
       "      <th id=\"T_01cbe_level0_row1\" class=\"row_heading level0 row1\" >mean</th>\n",
       "      <td id=\"T_01cbe_row1_col0\" class=\"data row1 col0\" >651.225405</td>\n",
       "    </tr>\n",
       "    <tr>\n",
       "      <th id=\"T_01cbe_level0_row2\" class=\"row_heading level0 row2\" >std</th>\n",
       "      <td id=\"T_01cbe_row2_col0\" class=\"data row2 col0\" >3984.155775</td>\n",
       "    </tr>\n",
       "    <tr>\n",
       "      <th id=\"T_01cbe_level0_row3\" class=\"row_heading level0 row3\" >min</th>\n",
       "      <td id=\"T_01cbe_row3_col0\" class=\"data row3 col0\" >1.000000</td>\n",
       "    </tr>\n",
       "    <tr>\n",
       "      <th id=\"T_01cbe_level0_row4\" class=\"row_heading level0 row4\" >25%</th>\n",
       "      <td id=\"T_01cbe_row4_col0\" class=\"data row4 col0\" >305.000000</td>\n",
       "    </tr>\n",
       "    <tr>\n",
       "      <th id=\"T_01cbe_level0_row5\" class=\"row_heading level0 row5\" >50%</th>\n",
       "      <td id=\"T_01cbe_row5_col0\" class=\"data row5 col0\" >585.000000</td>\n",
       "    </tr>\n",
       "    <tr>\n",
       "      <th id=\"T_01cbe_level0_row6\" class=\"row_heading level0 row6\" >75%</th>\n",
       "      <td id=\"T_01cbe_row6_col0\" class=\"data row6 col0\" >651.000000</td>\n",
       "    </tr>\n",
       "    <tr>\n",
       "      <th id=\"T_01cbe_level0_row7\" class=\"row_heading level0 row7\" >max</th>\n",
       "      <td id=\"T_01cbe_row7_col0\" class=\"data row7 col0\" >433014.000000</td>\n",
       "    </tr>\n",
       "    <tr>\n",
       "      <th id=\"T_01cbe_level0_row8\" class=\"row_heading level0 row8\" >unique</th>\n",
       "      <td id=\"T_01cbe_row8_col0\" class=\"data row8 col0\" >1447.000000</td>\n",
       "    </tr>\n",
       "    <tr>\n",
       "      <th id=\"T_01cbe_level0_row9\" class=\"row_heading level0 row9\" >skew</th>\n",
       "      <td id=\"T_01cbe_row9_col0\" class=\"data row9 col0\" >95.635747</td>\n",
       "    </tr>\n",
       "  </tbody>\n",
       "</table>\n",
       "   "
      ],
      "text/plain": [
       "<IPython.core.display.HTML object>"
      ]
     },
     "metadata": {},
     "output_type": "display_data"
    },
    {
     "data": {
      "text/plain": [
       "<Figure size 576x288 with 0 Axes>"
      ]
     },
     "metadata": {},
     "output_type": "display_data"
    },
    {
     "data": {
      "image/png": "[encoded data removed]",
      "text/plain": [
       "<Figure size 432x288 with 2 Axes>"
      ]
     },
     "metadata": {
      "needs_background": "light"
     },
     "output_type": "display_data"
    },
    {
     "data": {
      "text/markdown": [
       "### BuildingArea"
      ],
      "text/plain": [
       "<IPython.core.display.Markdown object>"
      ]
     },
     "metadata": {},
     "output_type": "display_data"
    },
    {
     "data": {
      "text/html": [
       "<style type=\"text/css\">\n",
       "</style>\n",
       "<table id=\"T_7660f\" style='display:inline'>\n",
       "  <caption>Info</caption>\n",
       "  <thead>\n",
       "    <tr>\n",
       "      <th class=\"blank level0\" >&nbsp;</th>\n",
       "      <th id=\"T_7660f_level0_col0\" class=\"col_heading level0 col0\" >BuildingArea</th>\n",
       "    </tr>\n",
       "  </thead>\n",
       "  <tbody>\n",
       "    <tr>\n",
       "      <th id=\"T_7660f_level0_row0\" class=\"row_heading level0 row0\" >count</th>\n",
       "      <td id=\"T_7660f_row0_col0\" class=\"data row0 col0\" >13580.000000</td>\n",
       "    </tr>\n",
       "    <tr>\n",
       "      <th id=\"T_7660f_level0_row1\" class=\"row_heading level0 row1\" >mean</th>\n",
       "      <td id=\"T_7660f_row1_col0\" class=\"data row1 col0\" >152.157889</td>\n",
       "    </tr>\n",
       "    <tr>\n",
       "      <th id=\"T_7660f_level0_row2\" class=\"row_heading level0 row2\" >std</th>\n",
       "      <td id=\"T_7660f_row2_col0\" class=\"data row2 col0\" >391.966036</td>\n",
       "    </tr>\n",
       "    <tr>\n",
       "      <th id=\"T_7660f_level0_row3\" class=\"row_heading level0 row3\" >min</th>\n",
       "      <td id=\"T_7660f_row3_col0\" class=\"data row3 col0\" >1.000000</td>\n",
       "    </tr>\n",
       "    <tr>\n",
       "      <th id=\"T_7660f_level0_row4\" class=\"row_heading level0 row4\" >25%</th>\n",
       "      <td id=\"T_7660f_row4_col0\" class=\"data row4 col0\" >122.707500</td>\n",
       "    </tr>\n",
       "    <tr>\n",
       "      <th id=\"T_7660f_level0_row5\" class=\"row_heading level0 row5\" >50%</th>\n",
       "      <td id=\"T_7660f_row5_col0\" class=\"data row5 col0\" >151.967650</td>\n",
       "    </tr>\n",
       "    <tr>\n",
       "      <th id=\"T_7660f_level0_row6\" class=\"row_heading level0 row6\" >75%</th>\n",
       "      <td id=\"T_7660f_row6_col0\" class=\"data row6 col0\" >151.967650</td>\n",
       "    </tr>\n",
       "    <tr>\n",
       "      <th id=\"T_7660f_level0_row7\" class=\"row_heading level0 row7\" >max</th>\n",
       "      <td id=\"T_7660f_row7_col0\" class=\"data row7 col0\" >44515.000000</td>\n",
       "    </tr>\n",
       "    <tr>\n",
       "      <th id=\"T_7660f_level0_row8\" class=\"row_heading level0 row8\" >unique</th>\n",
       "      <td id=\"T_7660f_row8_col0\" class=\"data row8 col0\" >602.000000</td>\n",
       "    </tr>\n",
       "    <tr>\n",
       "      <th id=\"T_7660f_level0_row9\" class=\"row_heading level0 row9\" >skew</th>\n",
       "      <td id=\"T_7660f_row9_col0\" class=\"data row9 col0\" >107.238957</td>\n",
       "    </tr>\n",
       "  </tbody>\n",
       "</table>\n",
       "   "
      ],
      "text/plain": [
       "<IPython.core.display.HTML object>"
      ]
     },
     "metadata": {},
     "output_type": "display_data"
    },
    {
     "data": {
      "text/plain": [
       "<Figure size 576x288 with 0 Axes>"
      ]
     },
     "metadata": {},
     "output_type": "display_data"
    },
    {
     "data": {
      "image/png": "[encoded data removed]",
      "text/plain": [
       "<Figure size 432x288 with 2 Axes>"
      ]
     },
     "metadata": {
      "needs_background": "light"
     },
     "output_type": "display_data"
    },
    {
     "data": {
      "text/markdown": [
       "### YearBuilt"
      ],
      "text/plain": [
       "<IPython.core.display.Markdown object>"
      ]
     },
     "metadata": {},
     "output_type": "display_data"
    },
    {
     "data": {
      "text/html": [
       "<style type=\"text/css\">\n",
       "</style>\n",
       "<table id=\"T_b431b\" style='display:inline'>\n",
       "  <caption>Info</caption>\n",
       "  <thead>\n",
       "    <tr>\n",
       "      <th class=\"blank level0\" >&nbsp;</th>\n",
       "      <th id=\"T_b431b_level0_col0\" class=\"col_heading level0 col0\" >YearBuilt</th>\n",
       "    </tr>\n",
       "  </thead>\n",
       "  <tbody>\n",
       "    <tr>\n",
       "      <th id=\"T_b431b_level0_row0\" class=\"row_heading level0 row0\" >count</th>\n",
       "      <td id=\"T_b431b_row0_col0\" class=\"data row0 col0\" >13580.000000</td>\n",
       "    </tr>\n",
       "    <tr>\n",
       "      <th id=\"T_b431b_level0_row1\" class=\"row_heading level0 row1\" >mean</th>\n",
       "      <td id=\"T_b431b_row1_col0\" class=\"data row1 col0\" >1964.684217</td>\n",
       "    </tr>\n",
       "    <tr>\n",
       "      <th id=\"T_b431b_level0_row2\" class=\"row_heading level0 row2\" >std</th>\n",
       "      <td id=\"T_b431b_row2_col0\" class=\"data row2 col0\" >28.972246</td>\n",
       "    </tr>\n",
       "    <tr>\n",
       "      <th id=\"T_b431b_level0_row3\" class=\"row_heading level0 row3\" >min</th>\n",
       "      <td id=\"T_b431b_row3_col0\" class=\"data row3 col0\" >1196.000000</td>\n",
       "    </tr>\n",
       "    <tr>\n",
       "      <th id=\"T_b431b_level0_row4\" class=\"row_heading level0 row4\" >25%</th>\n",
       "      <td id=\"T_b431b_row4_col0\" class=\"data row4 col0\" >1960.000000</td>\n",
       "    </tr>\n",
       "    <tr>\n",
       "      <th id=\"T_b431b_level0_row5\" class=\"row_heading level0 row5\" >50%</th>\n",
       "      <td id=\"T_b431b_row5_col0\" class=\"data row5 col0\" >1964.684217</td>\n",
       "    </tr>\n",
       "    <tr>\n",
       "      <th id=\"T_b431b_level0_row6\" class=\"row_heading level0 row6\" >75%</th>\n",
       "      <td id=\"T_b431b_row6_col0\" class=\"data row6 col0\" >1975.000000</td>\n",
       "    </tr>\n",
       "    <tr>\n",
       "      <th id=\"T_b431b_level0_row7\" class=\"row_heading level0 row7\" >max</th>\n",
       "      <td id=\"T_b431b_row7_col0\" class=\"data row7 col0\" >2018.000000</td>\n",
       "    </tr>\n",
       "    <tr>\n",
       "      <th id=\"T_b431b_level0_row8\" class=\"row_heading level0 row8\" >unique</th>\n",
       "      <td id=\"T_b431b_row8_col0\" class=\"data row8 col0\" >145.000000</td>\n",
       "    </tr>\n",
       "    <tr>\n",
       "      <th id=\"T_b431b_level0_row9\" class=\"row_heading level0 row9\" >skew</th>\n",
       "      <td id=\"T_b431b_row9_col0\" class=\"data row9 col0\" >-1.982715</td>\n",
       "    </tr>\n",
       "  </tbody>\n",
       "</table>\n",
       "   "
      ],
      "text/plain": [
       "<IPython.core.display.HTML object>"
      ]
     },
     "metadata": {},
     "output_type": "display_data"
    },
    {
     "data": {
      "text/plain": [
       "<Figure size 576x288 with 0 Axes>"
      ]
     },
     "metadata": {},
     "output_type": "display_data"
    },
    {
     "data": {
      "image/png": "[encoded data removed]",
      "text/plain": [
       "<Figure size 432x288 with 2 Axes>"
      ]
     },
     "metadata": {
      "needs_background": "light"
     },
     "output_type": "display_data"
    },
    {
     "data": {
      "text/markdown": [
       "### Lattitude"
      ],
      "text/plain": [
       "<IPython.core.display.Markdown object>"
      ]
     },
     "metadata": {},
     "output_type": "display_data"
    },
    {
     "data": {
      "text/html": [
       "<style type=\"text/css\">\n",
       "</style>\n",
       "<table id=\"T_d4907\" style='display:inline'>\n",
       "  <caption>Info</caption>\n",
       "  <thead>\n",
       "    <tr>\n",
       "      <th class=\"blank level0\" >&nbsp;</th>\n",
       "      <th id=\"T_d4907_level0_col0\" class=\"col_heading level0 col0\" >Lattitude</th>\n",
       "    </tr>\n",
       "  </thead>\n",
       "  <tbody>\n",
       "    <tr>\n",
       "      <th id=\"T_d4907_level0_row0\" class=\"row_heading level0 row0\" >count</th>\n",
       "      <td id=\"T_d4907_row0_col0\" class=\"data row0 col0\" >13580.000000</td>\n",
       "    </tr>\n",
       "    <tr>\n",
       "      <th id=\"T_d4907_level0_row1\" class=\"row_heading level0 row1\" >mean</th>\n",
       "      <td id=\"T_d4907_row1_col0\" class=\"data row1 col0\" >-37.809203</td>\n",
       "    </tr>\n",
       "    <tr>\n",
       "      <th id=\"T_d4907_level0_row2\" class=\"row_heading level0 row2\" >std</th>\n",
       "      <td id=\"T_d4907_row2_col0\" class=\"data row2 col0\" >0.079260</td>\n",
       "    </tr>\n",
       "    <tr>\n",
       "      <th id=\"T_d4907_level0_row3\" class=\"row_heading level0 row3\" >min</th>\n",
       "      <td id=\"T_d4907_row3_col0\" class=\"data row3 col0\" >-38.182550</td>\n",
       "    </tr>\n",
       "    <tr>\n",
       "      <th id=\"T_d4907_level0_row4\" class=\"row_heading level0 row4\" >25%</th>\n",
       "      <td id=\"T_d4907_row4_col0\" class=\"data row4 col0\" >-37.856822</td>\n",
       "    </tr>\n",
       "    <tr>\n",
       "      <th id=\"T_d4907_level0_row5\" class=\"row_heading level0 row5\" >50%</th>\n",
       "      <td id=\"T_d4907_row5_col0\" class=\"data row5 col0\" >-37.802355</td>\n",
       "    </tr>\n",
       "    <tr>\n",
       "      <th id=\"T_d4907_level0_row6\" class=\"row_heading level0 row6\" >75%</th>\n",
       "      <td id=\"T_d4907_row6_col0\" class=\"data row6 col0\" >-37.756400</td>\n",
       "    </tr>\n",
       "    <tr>\n",
       "      <th id=\"T_d4907_level0_row7\" class=\"row_heading level0 row7\" >max</th>\n",
       "      <td id=\"T_d4907_row7_col0\" class=\"data row7 col0\" >-37.408530</td>\n",
       "    </tr>\n",
       "    <tr>\n",
       "      <th id=\"T_d4907_level0_row8\" class=\"row_heading level0 row8\" >unique</th>\n",
       "      <td id=\"T_d4907_row8_col0\" class=\"data row8 col0\" >6503.000000</td>\n",
       "    </tr>\n",
       "    <tr>\n",
       "      <th id=\"T_d4907_level0_row9\" class=\"row_heading level0 row9\" >skew</th>\n",
       "      <td id=\"T_d4907_row9_col0\" class=\"data row9 col0\" >-0.426695</td>\n",
       "    </tr>\n",
       "  </tbody>\n",
       "</table>\n",
       "   "
      ],
      "text/plain": [
       "<IPython.core.display.HTML object>"
      ]
     },
     "metadata": {},
     "output_type": "display_data"
    },
    {
     "data": {
      "text/plain": [
       "<Figure size 576x288 with 0 Axes>"
      ]
     },
     "metadata": {},
     "output_type": "display_data"
    },
    {
     "data": {
      "image/png": "[encoded data removed]",
      "text/plain": [
       "<Figure size 432x288 with 2 Axes>"
      ]
     },
     "metadata": {
      "needs_background": "light"
     },
     "output_type": "display_data"
    },
    {
     "data": {
      "text/markdown": [
       "### Longtitude"
      ],
      "text/plain": [
       "<IPython.core.display.Markdown object>"
      ]
     },
     "metadata": {},
     "output_type": "display_data"
    },
    {
     "data": {
      "text/html": [
       "<style type=\"text/css\">\n",
       "</style>\n",
       "<table id=\"T_88c4a\" style='display:inline'>\n",
       "  <caption>Info</caption>\n",
       "  <thead>\n",
       "    <tr>\n",
       "      <th class=\"blank level0\" >&nbsp;</th>\n",
       "      <th id=\"T_88c4a_level0_col0\" class=\"col_heading level0 col0\" >Longtitude</th>\n",
       "    </tr>\n",
       "  </thead>\n",
       "  <tbody>\n",
       "    <tr>\n",
       "      <th id=\"T_88c4a_level0_row0\" class=\"row_heading level0 row0\" >count</th>\n",
       "      <td id=\"T_88c4a_row0_col0\" class=\"data row0 col0\" >13580.000000</td>\n",
       "    </tr>\n",
       "    <tr>\n",
       "      <th id=\"T_88c4a_level0_row1\" class=\"row_heading level0 row1\" >mean</th>\n",
       "      <td id=\"T_88c4a_row1_col0\" class=\"data row1 col0\" >144.995216</td>\n",
       "    </tr>\n",
       "    <tr>\n",
       "      <th id=\"T_88c4a_level0_row2\" class=\"row_heading level0 row2\" >std</th>\n",
       "      <td id=\"T_88c4a_row2_col0\" class=\"data row2 col0\" >0.103916</td>\n",
       "    </tr>\n",
       "    <tr>\n",
       "      <th id=\"T_88c4a_level0_row3\" class=\"row_heading level0 row3\" >min</th>\n",
       "      <td id=\"T_88c4a_row3_col0\" class=\"data row3 col0\" >144.431810</td>\n",
       "    </tr>\n",
       "    <tr>\n",
       "      <th id=\"T_88c4a_level0_row4\" class=\"row_heading level0 row4\" >25%</th>\n",
       "      <td id=\"T_88c4a_row4_col0\" class=\"data row4 col0\" >144.929600</td>\n",
       "    </tr>\n",
       "    <tr>\n",
       "      <th id=\"T_88c4a_level0_row5\" class=\"row_heading level0 row5\" >50%</th>\n",
       "      <td id=\"T_88c4a_row5_col0\" class=\"data row5 col0\" >145.000100</td>\n",
       "    </tr>\n",
       "    <tr>\n",
       "      <th id=\"T_88c4a_level0_row6\" class=\"row_heading level0 row6\" >75%</th>\n",
       "      <td id=\"T_88c4a_row6_col0\" class=\"data row6 col0\" >145.058305</td>\n",
       "    </tr>\n",
       "    <tr>\n",
       "      <th id=\"T_88c4a_level0_row7\" class=\"row_heading level0 row7\" >max</th>\n",
       "      <td id=\"T_88c4a_row7_col0\" class=\"data row7 col0\" >145.526350</td>\n",
       "    </tr>\n",
       "    <tr>\n",
       "      <th id=\"T_88c4a_level0_row8\" class=\"row_heading level0 row8\" >unique</th>\n",
       "      <td id=\"T_88c4a_row8_col0\" class=\"data row8 col0\" >7063.000000</td>\n",
       "    </tr>\n",
       "    <tr>\n",
       "      <th id=\"T_88c4a_level0_row9\" class=\"row_heading level0 row9\" >skew</th>\n",
       "      <td id=\"T_88c4a_row9_col0\" class=\"data row9 col0\" >-0.210991</td>\n",
       "    </tr>\n",
       "  </tbody>\n",
       "</table>\n",
       "   "
      ],
      "text/plain": [
       "<IPython.core.display.HTML object>"
      ]
     },
     "metadata": {},
     "output_type": "display_data"
    },
    {
     "data": {
      "text/plain": [
       "<Figure size 576x288 with 0 Axes>"
      ]
     },
     "metadata": {},
     "output_type": "display_data"
    },
    {
     "data": {
      "image/png": "[encoded data removed]",
      "text/plain": [
       "<Figure size 432x288 with 2 Axes>"
      ]
     },
     "metadata": {
      "needs_background": "light"
     },
     "output_type": "display_data"
    },
    {
     "data": {
      "text/markdown": [
       "### Propertycount"
      ],
      "text/plain": [
       "<IPython.core.display.Markdown object>"
      ]
     },
     "metadata": {},
     "output_type": "display_data"
    },
    {
     "data": {
      "text/html": [
       "<style type=\"text/css\">\n",
       "</style>\n",
       "<table id=\"T_9c9a2\" style='display:inline'>\n",
       "  <caption>Info</caption>\n",
       "  <thead>\n",
       "    <tr>\n",
       "      <th class=\"blank level0\" >&nbsp;</th>\n",
       "      <th id=\"T_9c9a2_level0_col0\" class=\"col_heading level0 col0\" >Propertycount</th>\n",
       "    </tr>\n",
       "  </thead>\n",
       "  <tbody>\n",
       "    <tr>\n",
       "      <th id=\"T_9c9a2_level0_row0\" class=\"row_heading level0 row0\" >count</th>\n",
       "      <td id=\"T_9c9a2_row0_col0\" class=\"data row0 col0\" >13580.000000</td>\n",
       "    </tr>\n",
       "    <tr>\n",
       "      <th id=\"T_9c9a2_level0_row1\" class=\"row_heading level0 row1\" >mean</th>\n",
       "      <td id=\"T_9c9a2_row1_col0\" class=\"data row1 col0\" >7454.417378</td>\n",
       "    </tr>\n",
       "    <tr>\n",
       "      <th id=\"T_9c9a2_level0_row2\" class=\"row_heading level0 row2\" >std</th>\n",
       "      <td id=\"T_9c9a2_row2_col0\" class=\"data row2 col0\" >4378.581772</td>\n",
       "    </tr>\n",
       "    <tr>\n",
       "      <th id=\"T_9c9a2_level0_row3\" class=\"row_heading level0 row3\" >min</th>\n",
       "      <td id=\"T_9c9a2_row3_col0\" class=\"data row3 col0\" >249.000000</td>\n",
       "    </tr>\n",
       "    <tr>\n",
       "      <th id=\"T_9c9a2_level0_row4\" class=\"row_heading level0 row4\" >25%</th>\n",
       "      <td id=\"T_9c9a2_row4_col0\" class=\"data row4 col0\" >4380.000000</td>\n",
       "    </tr>\n",
       "    <tr>\n",
       "      <th id=\"T_9c9a2_level0_row5\" class=\"row_heading level0 row5\" >50%</th>\n",
       "      <td id=\"T_9c9a2_row5_col0\" class=\"data row5 col0\" >6555.000000</td>\n",
       "    </tr>\n",
       "    <tr>\n",
       "      <th id=\"T_9c9a2_level0_row6\" class=\"row_heading level0 row6\" >75%</th>\n",
       "      <td id=\"T_9c9a2_row6_col0\" class=\"data row6 col0\" >10331.000000</td>\n",
       "    </tr>\n",
       "    <tr>\n",
       "      <th id=\"T_9c9a2_level0_row7\" class=\"row_heading level0 row7\" >max</th>\n",
       "      <td id=\"T_9c9a2_row7_col0\" class=\"data row7 col0\" >21650.000000</td>\n",
       "    </tr>\n",
       "    <tr>\n",
       "      <th id=\"T_9c9a2_level0_row8\" class=\"row_heading level0 row8\" >unique</th>\n",
       "      <td id=\"T_9c9a2_row8_col0\" class=\"data row8 col0\" >311.000000</td>\n",
       "    </tr>\n",
       "    <tr>\n",
       "      <th id=\"T_9c9a2_level0_row9\" class=\"row_heading level0 row9\" >skew</th>\n",
       "      <td id=\"T_9c9a2_row9_col0\" class=\"data row9 col0\" >1.069339</td>\n",
       "    </tr>\n",
       "  </tbody>\n",
       "</table>\n",
       "   "
      ],
      "text/plain": [
       "<IPython.core.display.HTML object>"
      ]
     },
     "metadata": {},
     "output_type": "display_data"
    },
    {
     "data": {
      "text/plain": [
       "<Figure size 576x288 with 0 Axes>"
      ]
     },
     "metadata": {},
     "output_type": "display_data"
    },
    {
     "data": {
      "image/png": "[encoded data removed]",
      "text/plain": [
       "<Figure size 432x288 with 2 Axes>"
      ]
     },
     "metadata": {
      "needs_background": "light"
     },
     "output_type": "display_data"
    }
   ],
   "source": [
    "eda.plot_numerical(data_test, num_col)"
   ]
  },
  {
   "attachments": {},
   "cell_type": "markdown",
   "metadata": {},
   "source": [
    "As you can see from the result obtained by the **plot_quantitative** function, some variables (Rooms, Bedroom2, Bathroom, Car) can be treated as categorical. For this purpose, you can apply the function **num_to _categorical**. In addition, some variables present a high level of skewness and for a model fitting purpose we need to apply transformations to obtain more information from the skewed variables  (edamame has the **num_variable_study** function for this scope that will be presented during the notebook)."
   ]
  },
  {
   "attachments": {},
   "cell_type": "markdown",
   "metadata": {},
   "source": [
    "## View cardinalities of variables <a class=\"anchor\" id=\"view-card\"></a>"
   ]
  },
  {
   "cell_type": "code",
   "execution_count": 15,
   "metadata": {},
   "outputs": [
    {
     "data": {
      "text/markdown": [
       "Rows: 13580, Columns: 18"
      ],
      "text/plain": [
       "<IPython.core.display.Markdown object>"
      ]
     },
     "metadata": {},
     "output_type": "display_data"
    },
    {
     "data": {
      "text/markdown": [
       "|               | variable type   |\n",
       "|:--------------|:----------------|\n",
       "| Suburb        | object          |\n",
       "| Rooms         | object          |\n",
       "| Type          | object          |\n",
       "| Price         | float64         |\n",
       "| Method        | object          |\n",
       "| SellerG       | object          |\n",
       "| Distance      | float64         |\n",
       "| Postcode      | float64         |\n",
       "| Bedroom2      | float64         |\n",
       "| Bathroom      | float64         |\n",
       "| Car           | float64         |\n",
       "| Landsize      | float64         |\n",
       "| BuildingArea  | float64         |\n",
       "| YearBuilt     | float64         |\n",
       "| Lattitude     | float64         |\n",
       "| Longtitude    | float64         |\n",
       "| Regionname    | object          |\n",
       "| Propertycount | float64         |"
      ],
      "text/plain": [
       "<IPython.core.display.Markdown object>"
      ]
     },
     "metadata": {},
     "output_type": "display_data"
    },
    {
     "name": "stdout",
     "output_type": "stream",
     "text": [
      "Numerical variables: ['Price', 'Distance', 'Postcode', 'Bedroom2', 'Bathroom', 'Car', 'Landsize', 'BuildingArea', 'YearBuilt', 'Lattitude', 'Longtitude', 'Propertycount']\n",
      "Categorical variables: ['Suburb', 'Rooms', 'Type', 'Method', 'SellerG', 'Regionname']\n"
     ]
    }
   ],
   "source": [
    "eda.dimensions(data_test)\n",
    "num_col, cat_col = eda.identify_types(data_test)\n",
    "print(f'Numerical variables: {num_col}')\n",
    "print(f'Categorical variables: {cat_col}')"
   ]
  },
  {
   "attachments": {},
   "cell_type": "markdown",
   "metadata": {},
   "source": [
    "shown just the cardinalities of the categorical variables"
   ]
  },
  {
   "cell_type": "code",
   "execution_count": 16,
   "metadata": {},
   "outputs": [
    {
     "data": {
      "text/markdown": [
       "| columns    |   cardinality |\n",
       "|:-----------|--------------:|\n",
       "| Suburb     |           314 |\n",
       "| Rooms      |             9 |\n",
       "| Type       |             3 |\n",
       "| Method     |             5 |\n",
       "| SellerG    |           268 |\n",
       "| Regionname |             8 |"
      ],
      "text/plain": [
       "<IPython.core.display.Markdown object>"
      ]
     },
     "metadata": {},
     "output_type": "display_data"
    }
   ],
   "source": [
    "eda.view_cardinality(data_test, col=cat_col)"
   ]
  },
  {
   "attachments": {},
   "cell_type": "markdown",
   "metadata": {},
   "source": [
    "In this case, the variables; Suburb, SellerG and Date present high cardinalities values. We need to reduce these values or drop the variable."
   ]
  },
  {
   "attachments": {},
   "cell_type": "markdown",
   "metadata": {},
   "source": [
    "## Modify the cardinalities of a variable <a class=\"anchor\" id=\"mod-card\"></a>\n",
    "\n",
    "We need to modify the cardinalities of the variables:\n",
    " \n",
    "* SellerG \n",
    "* Suburb"
   ]
  },
  {
   "cell_type": "code",
   "execution_count": 17,
   "metadata": {},
   "outputs": [
    {
     "data": {
      "text/markdown": [
       "| columns   |   old_cardinalities |   new_cardinalities |\n",
       "|:----------|--------------------:|--------------------:|\n",
       "| SellerG   |                 268 |                   8 |\n",
       "| Suburb    |                 314 |                   8 |"
      ],
      "text/plain": [
       "<IPython.core.display.Markdown object>"
      ]
     },
     "metadata": {},
     "output_type": "display_data"
    }
   ],
   "source": [
    "data_test = eda.modify_cardinality(data_test, col=['SellerG','Suburb'], threshold=[400,200])"
   ]
  },
  {
   "cell_type": "code",
   "execution_count": 18,
   "metadata": {},
   "outputs": [
    {
     "data": {
      "text/markdown": [
       "| columns    |   cardinality |\n",
       "|:-----------|--------------:|\n",
       "| Suburb     |             8 |\n",
       "| Rooms      |             9 |\n",
       "| Type       |             3 |\n",
       "| Method     |             5 |\n",
       "| SellerG    |             8 |\n",
       "| Regionname |             8 |"
      ],
      "text/plain": [
       "<IPython.core.display.Markdown object>"
      ]
     },
     "metadata": {},
     "output_type": "display_data"
    }
   ],
   "source": [
    "eda.view_cardinality(data_test, col=cat_col)"
   ]
  },
  {
   "attachments": {},
   "cell_type": "markdown",
   "metadata": {},
   "source": [
    "## Distribution study of a numerical variable <a class=\"anchor\" id=\"num-study\"></a>\n",
    "\n",
    "In this example, we study the response variable \"Price\", which has a right-skewed distribution"
   ]
  },
  {
   "cell_type": "code",
   "execution_count": 19,
   "metadata": {},
   "outputs": [
    {
     "data": {
      "text/markdown": [
       "## Strickt positive variable"
      ],
      "text/plain": [
       "<IPython.core.display.Markdown object>"
      ]
     },
     "metadata": {},
     "output_type": "display_data"
    },
    {
     "data": {
      "image/png": "[encoded data removed]",
      "text/plain": [
       "<Figure size 1584x864 with 6 Axes>"
      ]
     },
     "metadata": {
      "needs_background": "light"
     },
     "output_type": "display_data"
    },
    {
     "data": {
      "text/markdown": [
       "## Effects of transformations:"
      ],
      "text/plain": [
       "<IPython.core.display.Markdown object>"
      ]
     },
     "metadata": {},
     "output_type": "display_data"
    },
    {
     "data": {
      "text/markdown": [
       "### log transformation"
      ],
      "text/plain": [
       "<IPython.core.display.Markdown object>"
      ]
     },
     "metadata": {},
     "output_type": "display_data"
    },
    {
     "data": {
      "text/markdown": [
       "* positive effect on right-skewed distributions and de-emphasize outliers"
      ],
      "text/plain": [
       "<IPython.core.display.Markdown object>"
      ]
     },
     "metadata": {},
     "output_type": "display_data"
    },
    {
     "data": {
      "text/markdown": [
       "* gets worse when applied to distributions left-skewed or already normal"
      ],
      "text/plain": [
       "<IPython.core.display.Markdown object>"
      ]
     },
     "metadata": {},
     "output_type": "display_data"
    },
    {
     "data": {
      "text/markdown": [
       "### Square root transformation"
      ],
      "text/plain": [
       "<IPython.core.display.Markdown object>"
      ]
     },
     "metadata": {},
     "output_type": "display_data"
    },
    {
     "data": {
      "text/markdown": [
       "* normalizing effect on right-skewed distributions, it is weaker than the logarithm and cube root"
      ],
      "text/plain": [
       "<IPython.core.display.Markdown object>"
      ]
     },
     "metadata": {},
     "output_type": "display_data"
    },
    {
     "data": {
      "text/markdown": [
       "* variables with a left skew will become worst after a square root transformation."
      ],
      "text/plain": [
       "<IPython.core.display.Markdown object>"
      ]
     },
     "metadata": {},
     "output_type": "display_data"
    },
    {
     "data": {
      "text/markdown": [
       "* high values get compressed and low values become more spread out"
      ],
      "text/plain": [
       "<IPython.core.display.Markdown object>"
      ]
     },
     "metadata": {},
     "output_type": "display_data"
    },
    {
     "data": {
      "text/markdown": [
       "### Square transformation"
      ],
      "text/plain": [
       "<IPython.core.display.Markdown object>"
      ]
     },
     "metadata": {},
     "output_type": "display_data"
    },
    {
     "data": {
      "text/markdown": [
       "* used to reduce left skewness"
      ],
      "text/plain": [
       "<IPython.core.display.Markdown object>"
      ]
     },
     "metadata": {},
     "output_type": "display_data"
    },
    {
     "data": {
      "text/markdown": [
       "* gets worse when applied to distributions without skewness"
      ],
      "text/plain": [
       "<IPython.core.display.Markdown object>"
      ]
     },
     "metadata": {},
     "output_type": "display_data"
    },
    {
     "data": {
      "text/markdown": [
       "### Box-Cox"
      ],
      "text/plain": [
       "<IPython.core.display.Markdown object>"
      ]
     },
     "metadata": {},
     "output_type": "display_data"
    },
    {
     "data": {
      "text/markdown": [
       "* if $\\lambda$ is a non-zero number, then the transformed variable may be more difficult to interpret than if we simply applied a log transform."
      ],
      "text/plain": [
       "<IPython.core.display.Markdown object>"
      ]
     },
     "metadata": {},
     "output_type": "display_data"
    },
    {
     "data": {
      "text/markdown": [
       "* works well for left and right skewness"
      ],
      "text/plain": [
       "<IPython.core.display.Markdown object>"
      ]
     },
     "metadata": {},
     "output_type": "display_data"
    },
    {
     "data": {
      "text/markdown": [
       "* only works for positive data"
      ],
      "text/plain": [
       "<IPython.core.display.Markdown object>"
      ]
     },
     "metadata": {},
     "output_type": "display_data"
    },
    {
     "data": {
      "text/markdown": [
       "### Reciprocal"
      ],
      "text/plain": [
       "<IPython.core.display.Markdown object>"
      ]
     },
     "metadata": {},
     "output_type": "display_data"
    },
    {
     "data": {
      "text/markdown": [
       "* It can not be applied to zero values"
      ],
      "text/plain": [
       "<IPython.core.display.Markdown object>"
      ]
     },
     "metadata": {},
     "output_type": "display_data"
    },
    {
     "data": {
      "text/markdown": [
       "* The reciprocal reverses order among values of the same sign: largestbecomes smallest, etc."
      ],
      "text/plain": [
       "<IPython.core.display.Markdown object>"
      ]
     },
     "metadata": {},
     "output_type": "display_data"
    }
   ],
   "source": [
    "eda.num_variable_study(data_test, col='Price', theory=True)"
   ]
  },
  {
   "attachments": {},
   "cell_type": "markdown",
   "metadata": {},
   "source": [
    "## Pearson correlation <a class=\"anchor\" id=\"pearson\"></a>\n",
    "Correlation matrix between numeric columns only "
   ]
  },
  {
   "cell_type": "code",
   "execution_count": 20,
   "metadata": {},
   "outputs": [
    {
     "data": {
      "text/markdown": [
       "### Pearson's correlation matrix"
      ],
      "text/plain": [
       "<IPython.core.display.Markdown object>"
      ]
     },
     "metadata": {},
     "output_type": "display_data"
    },
    {
     "data": {
      "text/html": [
       "<style type=\"text/css\">\n",
       "#T_6e560_row0_col0, #T_6e560_row1_col1, #T_6e560_row2_col2, #T_6e560_row3_col3, #T_6e560_row4_col4, #T_6e560_row5_col5, #T_6e560_row6_col6, #T_6e560_row7_col7, #T_6e560_row8_col8, #T_6e560_row9_col9, #T_6e560_row10_col10, #T_6e560_row11_col11 {\n",
       "  background-color: #023858;\n",
       "  color: #f1f1f1;\n",
       "}\n",
       "#T_6e560_row0_col1, #T_6e560_row0_col8, #T_6e560_row2_col9, #T_6e560_row3_col11, #T_6e560_row8_col0, #T_6e560_row8_col5, #T_6e560_row9_col2, #T_6e560_row9_col4, #T_6e560_row9_col10, #T_6e560_row10_col7, #T_6e560_row11_col3, #T_6e560_row11_col6, #T_6e560_row11_col7 {\n",
       "  background-color: #fff7fb;\n",
       "  color: #000000;\n",
       "}\n",
       "#T_6e560_row0_col2 {\n",
       "  background-color: #a9bfdc;\n",
       "  color: #000000;\n",
       "}\n",
       "#T_6e560_row0_col3 {\n",
       "  background-color: #6ba5cd;\n",
       "  color: #f1f1f1;\n",
       "}\n",
       "#T_6e560_row0_col4 {\n",
       "  background-color: #71a8ce;\n",
       "  color: #f1f1f1;\n",
       "}\n",
       "#T_6e560_row0_col5, #T_6e560_row4_col5, #T_6e560_row4_col8 {\n",
       "  background-color: #bfc9e1;\n",
       "  color: #000000;\n",
       "}\n",
       "#T_6e560_row0_col6, #T_6e560_row1_col11, #T_6e560_row4_col11, #T_6e560_row8_col7 {\n",
       "  background-color: #fbf4f9;\n",
       "  color: #000000;\n",
       "}\n",
       "#T_6e560_row0_col7, #T_6e560_row5_col7, #T_6e560_row9_col3 {\n",
       "  background-color: #f2ecf5;\n",
       "  color: #000000;\n",
       "}\n",
       "#T_6e560_row0_col9 {\n",
       "  background-color: #e9e5f1;\n",
       "  color: #000000;\n",
       "}\n",
       "#T_6e560_row0_col10 {\n",
       "  background-color: #97b7d7;\n",
       "  color: #000000;\n",
       "}\n",
       "#T_6e560_row0_col11, #T_6e560_row8_col3, #T_6e560_row9_col0 {\n",
       "  background-color: #faf2f8;\n",
       "  color: #000000;\n",
       "}\n",
       "#T_6e560_row1_col0, #T_6e560_row2_col5, #T_6e560_row8_col11 {\n",
       "  background-color: #f3edf5;\n",
       "  color: #000000;\n",
       "}\n",
       "#T_6e560_row1_col2 {\n",
       "  background-color: #4496c3;\n",
       "  color: #f1f1f1;\n",
       "}\n",
       "#T_6e560_row1_col3 {\n",
       "  background-color: #afc1dd;\n",
       "  color: #000000;\n",
       "}\n",
       "#T_6e560_row1_col4 {\n",
       "  background-color: #dfddec;\n",
       "  color: #000000;\n",
       "}\n",
       "#T_6e560_row1_col5, #T_6e560_row6_col8 {\n",
       "  background-color: #d7d6e9;\n",
       "  color: #000000;\n",
       "}\n",
       "#T_6e560_row1_col6, #T_6e560_row8_col6, #T_6e560_row10_col6, #T_6e560_row11_col4, #T_6e560_row11_col5 {\n",
       "  background-color: #fdf5fa;\n",
       "  color: #000000;\n",
       "}\n",
       "#T_6e560_row1_col7, #T_6e560_row6_col4 {\n",
       "  background-color: #f1ebf5;\n",
       "  color: #000000;\n",
       "}\n",
       "#T_6e560_row1_col8 {\n",
       "  background-color: #abbfdc;\n",
       "  color: #000000;\n",
       "}\n",
       "#T_6e560_row1_col9 {\n",
       "  background-color: #dcdaeb;\n",
       "  color: #000000;\n",
       "}\n",
       "#T_6e560_row1_col10 {\n",
       "  background-color: #8cb3d5;\n",
       "  color: #000000;\n",
       "}\n",
       "#T_6e560_row2_col0 {\n",
       "  background-color: #c1cae2;\n",
       "  color: #000000;\n",
       "}\n",
       "#T_6e560_row2_col1 {\n",
       "  background-color: #6fa7ce;\n",
       "  color: #f1f1f1;\n",
       "}\n",
       "#T_6e560_row2_col3, #T_6e560_row2_col11 {\n",
       "  background-color: #ebe6f2;\n",
       "  color: #000000;\n",
       "}\n",
       "#T_6e560_row2_col4, #T_6e560_row3_col8, #T_6e560_row5_col8, #T_6e560_row11_col0 {\n",
       "  background-color: #e1dfed;\n",
       "  color: #000000;\n",
       "}\n",
       "#T_6e560_row2_col6, #T_6e560_row4_col6, #T_6e560_row9_col1 {\n",
       "  background-color: #fbf3f9;\n",
       "  color: #000000;\n",
       "}\n",
       "#T_6e560_row2_col7 {\n",
       "  background-color: #f6eff7;\n",
       "  color: #000000;\n",
       "}\n",
       "#T_6e560_row2_col8 {\n",
       "  background-color: #d5d5e8;\n",
       "  color: #000000;\n",
       "}\n",
       "#T_6e560_row2_col10 {\n",
       "  background-color: #4697c4;\n",
       "  color: #f1f1f1;\n",
       "}\n",
       "#T_6e560_row3_col0 {\n",
       "  background-color: #4897c4;\n",
       "  color: #f1f1f1;\n",
       "}\n",
       "#T_6e560_row3_col1 {\n",
       "  background-color: #9ebad9;\n",
       "  color: #000000;\n",
       "}\n",
       "#T_6e560_row3_col2 {\n",
       "  background-color: #b5c4df;\n",
       "  color: #000000;\n",
       "}\n",
       "#T_6e560_row3_col4 {\n",
       "  background-color: #3b92c1;\n",
       "  color: #f1f1f1;\n",
       "}\n",
       "#T_6e560_row3_col5 {\n",
       "  background-color: #99b8d8;\n",
       "  color: #000000;\n",
       "}\n",
       "#T_6e560_row3_col6, #T_6e560_row9_col6 {\n",
       "  background-color: #fef6fb;\n",
       "  color: #000000;\n",
       "}\n",
       "#T_6e560_row3_col7, #T_6e560_row7_col5 {\n",
       "  background-color: #efe9f3;\n",
       "  color: #000000;\n",
       "}\n",
       "#T_6e560_row3_col9, #T_6e560_row5_col1 {\n",
       "  background-color: #c0c9e2;\n",
       "  color: #000000;\n",
       "}\n",
       "#T_6e560_row3_col10 {\n",
       "  background-color: #b3c3de;\n",
       "  color: #000000;\n",
       "}\n",
       "#T_6e560_row4_col0 {\n",
       "  background-color: #4c99c5;\n",
       "  color: #f1f1f1;\n",
       "}\n",
       "#T_6e560_row4_col1 {\n",
       "  background-color: #d1d2e6;\n",
       "  color: #000000;\n",
       "}\n",
       "#T_6e560_row4_col2, #T_6e560_row10_col0 {\n",
       "  background-color: #a8bedc;\n",
       "  color: #000000;\n",
       "}\n",
       "#T_6e560_row4_col3 {\n",
       "  background-color: #3991c1;\n",
       "  color: #f1f1f1;\n",
       "}\n",
       "#T_6e560_row4_col7 {\n",
       "  background-color: #f0eaf4;\n",
       "  color: #000000;\n",
       "}\n",
       "#T_6e560_row4_col9 {\n",
       "  background-color: #d3d4e7;\n",
       "  color: #000000;\n",
       "}\n",
       "#T_6e560_row4_col10 {\n",
       "  background-color: #adc1dd;\n",
       "  color: #000000;\n",
       "}\n",
       "#T_6e560_row5_col0 {\n",
       "  background-color: #93b5d6;\n",
       "  color: #000000;\n",
       "}\n",
       "#T_6e560_row5_col2, #T_6e560_row7_col2 {\n",
       "  background-color: #b9c6e0;\n",
       "  color: #000000;\n",
       "}\n",
       "#T_6e560_row5_col3 {\n",
       "  background-color: #91b5d6;\n",
       "  color: #000000;\n",
       "}\n",
       "#T_6e560_row5_col4, #T_6e560_row8_col9, #T_6e560_row11_col9 {\n",
       "  background-color: #b8c6e0;\n",
       "  color: #000000;\n",
       "}\n",
       "#T_6e560_row5_col6 {\n",
       "  background-color: #fef6fa;\n",
       "  color: #000000;\n",
       "}\n",
       "#T_6e560_row5_col9 {\n",
       "  background-color: #c4cbe3;\n",
       "  color: #000000;\n",
       "}\n",
       "#T_6e560_row5_col10, #T_6e560_row6_col9 {\n",
       "  background-color: #c2cbe2;\n",
       "  color: #000000;\n",
       "}\n",
       "#T_6e560_row5_col11, #T_6e560_row6_col5 {\n",
       "  background-color: #f8f1f8;\n",
       "  color: #000000;\n",
       "}\n",
       "#T_6e560_row6_col0 {\n",
       "  background-color: #d6d6e9;\n",
       "  color: #000000;\n",
       "}\n",
       "#T_6e560_row6_col1, #T_6e560_row7_col4 {\n",
       "  background-color: #e7e3f0;\n",
       "  color: #000000;\n",
       "}\n",
       "#T_6e560_row6_col2, #T_6e560_row8_col1, #T_6e560_row8_col2 {\n",
       "  background-color: #bdc8e1;\n",
       "  color: #000000;\n",
       "}\n",
       "#T_6e560_row6_col3, #T_6e560_row10_col5 {\n",
       "  background-color: #f4edf6;\n",
       "  color: #000000;\n",
       "}\n",
       "#T_6e560_row6_col7 {\n",
       "  background-color: #eee9f3;\n",
       "  color: #000000;\n",
       "}\n",
       "#T_6e560_row6_col10 {\n",
       "  background-color: #c9cee4;\n",
       "  color: #000000;\n",
       "}\n",
       "#T_6e560_row6_col11 {\n",
       "  background-color: #f4eef6;\n",
       "  color: #000000;\n",
       "}\n",
       "#T_6e560_row7_col0 {\n",
       "  background-color: #cccfe5;\n",
       "  color: #000000;\n",
       "}\n",
       "#T_6e560_row7_col1, #T_6e560_row10_col8 {\n",
       "  background-color: #dad9ea;\n",
       "  color: #000000;\n",
       "}\n",
       "#T_6e560_row7_col3 {\n",
       "  background-color: #e5e1ef;\n",
       "  color: #000000;\n",
       "}\n",
       "#T_6e560_row7_col6, #T_6e560_row11_col1 {\n",
       "  background-color: #f1ebf4;\n",
       "  color: #000000;\n",
       "}\n",
       "#T_6e560_row7_col8, #T_6e560_row11_col8 {\n",
       "  background-color: #d9d8ea;\n",
       "  color: #000000;\n",
       "}\n",
       "#T_6e560_row7_col9, #T_6e560_row11_col10 {\n",
       "  background-color: #bcc7e1;\n",
       "  color: #000000;\n",
       "}\n",
       "#T_6e560_row7_col10 {\n",
       "  background-color: #d0d1e6;\n",
       "  color: #000000;\n",
       "}\n",
       "#T_6e560_row7_col11, #T_6e560_row9_col7 {\n",
       "  background-color: #f7f0f7;\n",
       "  color: #000000;\n",
       "}\n",
       "#T_6e560_row8_col4 {\n",
       "  background-color: #e0dded;\n",
       "  color: #000000;\n",
       "}\n",
       "#T_6e560_row8_col10 {\n",
       "  background-color: #cdd0e5;\n",
       "  color: #000000;\n",
       "}\n",
       "#T_6e560_row9_col5 {\n",
       "  background-color: #f9f2f8;\n",
       "  color: #000000;\n",
       "}\n",
       "#T_6e560_row9_col8 {\n",
       "  background-color: #d2d2e7;\n",
       "  color: #000000;\n",
       "}\n",
       "#T_6e560_row9_col11 {\n",
       "  background-color: #ede8f3;\n",
       "  color: #000000;\n",
       "}\n",
       "#T_6e560_row10_col1 {\n",
       "  background-color: #b0c2de;\n",
       "  color: #000000;\n",
       "}\n",
       "#T_6e560_row10_col2 {\n",
       "  background-color: #3f93c2;\n",
       "  color: #f1f1f1;\n",
       "}\n",
       "#T_6e560_row10_col3 {\n",
       "  background-color: #e2dfee;\n",
       "  color: #000000;\n",
       "}\n",
       "#T_6e560_row10_col4 {\n",
       "  background-color: #e0deed;\n",
       "  color: #000000;\n",
       "}\n",
       "#T_6e560_row10_col9 {\n",
       "  background-color: #faf3f9;\n",
       "  color: #000000;\n",
       "}\n",
       "#T_6e560_row10_col11 {\n",
       "  background-color: #eae6f1;\n",
       "  color: #000000;\n",
       "}\n",
       "#T_6e560_row11_col2 {\n",
       "  background-color: #b4c4df;\n",
       "  color: #000000;\n",
       "}\n",
       "</style>\n",
       "<table id=\"T_6e560\">\n",
       "  <thead>\n",
       "    <tr>\n",
       "      <th class=\"blank level0\" >&nbsp;</th>\n",
       "      <th id=\"T_6e560_level0_col0\" class=\"col_heading level0 col0\" >Price</th>\n",
       "      <th id=\"T_6e560_level0_col1\" class=\"col_heading level0 col1\" >Distance</th>\n",
       "      <th id=\"T_6e560_level0_col2\" class=\"col_heading level0 col2\" >Postcode</th>\n",
       "      <th id=\"T_6e560_level0_col3\" class=\"col_heading level0 col3\" >Bedroom2</th>\n",
       "      <th id=\"T_6e560_level0_col4\" class=\"col_heading level0 col4\" >Bathroom</th>\n",
       "      <th id=\"T_6e560_level0_col5\" class=\"col_heading level0 col5\" >Car</th>\n",
       "      <th id=\"T_6e560_level0_col6\" class=\"col_heading level0 col6\" >Landsize</th>\n",
       "      <th id=\"T_6e560_level0_col7\" class=\"col_heading level0 col7\" >BuildingArea</th>\n",
       "      <th id=\"T_6e560_level0_col8\" class=\"col_heading level0 col8\" >YearBuilt</th>\n",
       "      <th id=\"T_6e560_level0_col9\" class=\"col_heading level0 col9\" >Lattitude</th>\n",
       "      <th id=\"T_6e560_level0_col10\" class=\"col_heading level0 col10\" >Longtitude</th>\n",
       "      <th id=\"T_6e560_level0_col11\" class=\"col_heading level0 col11\" >Propertycount</th>\n",
       "    </tr>\n",
       "  </thead>\n",
       "  <tbody>\n",
       "    <tr>\n",
       "      <th id=\"T_6e560_level0_row0\" class=\"row_heading level0 row0\" >Price</th>\n",
       "      <td id=\"T_6e560_row0_col0\" class=\"data row0 col0\" >1.000000</td>\n",
       "      <td id=\"T_6e560_row0_col1\" class=\"data row0 col1\" >-0.163162</td>\n",
       "      <td id=\"T_6e560_row0_col2\" class=\"data row0 col2\" >0.107867</td>\n",
       "      <td id=\"T_6e560_row0_col3\" class=\"data row0 col3\" >0.478264</td>\n",
       "      <td id=\"T_6e560_row0_col4\" class=\"data row0 col4\" >0.468559</td>\n",
       "      <td id=\"T_6e560_row0_col5\" class=\"data row0 col5\" >0.271963</td>\n",
       "      <td id=\"T_6e560_row0_col6\" class=\"data row0 col6\" >0.021849</td>\n",
       "      <td id=\"T_6e560_row0_col7\" class=\"data row0 col7\" >0.069860</td>\n",
       "      <td id=\"T_6e560_row0_col8\" class=\"data row0 col8\" >-0.262144</td>\n",
       "      <td id=\"T_6e560_row0_col9\" class=\"data row0 col9\" >-0.212934</td>\n",
       "      <td id=\"T_6e560_row0_col10\" class=\"data row0 col10\" >0.203656</td>\n",
       "      <td id=\"T_6e560_row0_col11\" class=\"data row0 col11\" >-0.042153</td>\n",
       "    </tr>\n",
       "    <tr>\n",
       "      <th id=\"T_6e560_level0_row1\" class=\"row_heading level0 row1\" >Distance</th>\n",
       "      <td id=\"T_6e560_row1_col0\" class=\"data row1 col0\" >-0.163162</td>\n",
       "      <td id=\"T_6e560_row1_col1\" class=\"data row1 col1\" >1.000000</td>\n",
       "      <td id=\"T_6e560_row1_col2\" class=\"data row1 col2\" >0.430816</td>\n",
       "      <td id=\"T_6e560_row1_col3\" class=\"data row1 col3\" >0.296496</td>\n",
       "      <td id=\"T_6e560_row1_col4\" class=\"data row1 col4\" >0.125810</td>\n",
       "      <td id=\"T_6e560_row1_col5\" class=\"data row1 col5\" >0.185808</td>\n",
       "      <td id=\"T_6e560_row1_col6\" class=\"data row1 col6\" >0.010131</td>\n",
       "      <td id=\"T_6e560_row1_col7\" class=\"data row1 col7\" >0.074067</td>\n",
       "      <td id=\"T_6e560_row1_col8\" class=\"data row1 col8\" >0.193870</td>\n",
       "      <td id=\"T_6e560_row1_col9\" class=\"data row1 col9\" >-0.130838</td>\n",
       "      <td id=\"T_6e560_row1_col10\" class=\"data row1 col10\" >0.239317</td>\n",
       "      <td id=\"T_6e560_row1_col11\" class=\"data row1 col11\" >-0.053011</td>\n",
       "    </tr>\n",
       "    <tr>\n",
       "      <th id=\"T_6e560_level0_row2\" class=\"row_heading level0 row2\" >Postcode</th>\n",
       "      <td id=\"T_6e560_row2_col0\" class=\"data row2 col0\" >0.107867</td>\n",
       "      <td id=\"T_6e560_row2_col1\" class=\"data row2 col1\" >0.430816</td>\n",
       "      <td id=\"T_6e560_row2_col2\" class=\"data row2 col2\" >1.000000</td>\n",
       "      <td id=\"T_6e560_row2_col3\" class=\"data row2 col3\" >0.060555</td>\n",
       "      <td id=\"T_6e560_row2_col4\" class=\"data row2 col4\" >0.114516</td>\n",
       "      <td id=\"T_6e560_row2_col5\" class=\"data row2 col5\" >0.038879</td>\n",
       "      <td id=\"T_6e560_row2_col6\" class=\"data row2 col6\" >0.025420</td>\n",
       "      <td id=\"T_6e560_row2_col7\" class=\"data row2 col7\" >0.040788</td>\n",
       "      <td id=\"T_6e560_row2_col8\" class=\"data row2 col8\" >0.025406</td>\n",
       "      <td id=\"T_6e560_row2_col9\" class=\"data row2 col9\" >-0.406104</td>\n",
       "      <td id=\"T_6e560_row2_col10\" class=\"data row2 col10\" >0.445357</td>\n",
       "      <td id=\"T_6e560_row2_col11\" class=\"data row2 col11\" >0.062304</td>\n",
       "    </tr>\n",
       "    <tr>\n",
       "      <th id=\"T_6e560_level0_row3\" class=\"row_heading level0 row3\" >Bedroom2</th>\n",
       "      <td id=\"T_6e560_row3_col0\" class=\"data row3 col0\" >0.478264</td>\n",
       "      <td id=\"T_6e560_row3_col1\" class=\"data row3 col1\" >0.296496</td>\n",
       "      <td id=\"T_6e560_row3_col2\" class=\"data row3 col2\" >0.060555</td>\n",
       "      <td id=\"T_6e560_row3_col3\" class=\"data row3 col3\" >1.000000</td>\n",
       "      <td id=\"T_6e560_row3_col4\" class=\"data row3 col4\" >0.586507</td>\n",
       "      <td id=\"T_6e560_row3_col5\" class=\"data row3 col5\" >0.381485</td>\n",
       "      <td id=\"T_6e560_row3_col6\" class=\"data row3 col6\" >0.002836</td>\n",
       "      <td id=\"T_6e560_row3_col7\" class=\"data row3 col7\" >0.089876</td>\n",
       "      <td id=\"T_6e560_row3_col8\" class=\"data row3 col8\" >-0.041711</td>\n",
       "      <td id=\"T_6e560_row3_col9\" class=\"data row3 col9\" >0.015869</td>\n",
       "      <td id=\"T_6e560_row3_col10\" class=\"data row3 col10\" >0.102947</td>\n",
       "      <td id=\"T_6e560_row3_col11\" class=\"data row3 col11\" >-0.081055</td>\n",
       "    </tr>\n",
       "    <tr>\n",
       "      <th id=\"T_6e560_level0_row4\" class=\"row_heading level0 row4\" >Bathroom</th>\n",
       "      <td id=\"T_6e560_row4_col0\" class=\"data row4 col0\" >0.468559</td>\n",
       "      <td id=\"T_6e560_row4_col1\" class=\"data row4 col1\" >0.125810</td>\n",
       "      <td id=\"T_6e560_row4_col2\" class=\"data row4 col2\" >0.114516</td>\n",
       "      <td id=\"T_6e560_row4_col3\" class=\"data row4 col3\" >0.586507</td>\n",
       "      <td id=\"T_6e560_row4_col4\" class=\"data row4 col4\" >1.000000</td>\n",
       "      <td id=\"T_6e560_row4_col5\" class=\"data row4 col5\" >0.272867</td>\n",
       "      <td id=\"T_6e560_row4_col6\" class=\"data row4 col6\" >0.027220</td>\n",
       "      <td id=\"T_6e560_row4_col7\" class=\"data row4 col7\" >0.085134</td>\n",
       "      <td id=\"T_6e560_row4_col8\" class=\"data row4 col8\" >0.121518</td>\n",
       "      <td id=\"T_6e560_row4_col9\" class=\"data row4 col9\" >-0.071730</td>\n",
       "      <td id=\"T_6e560_row4_col10\" class=\"data row4 col10\" >0.120019</td>\n",
       "      <td id=\"T_6e560_row4_col11\" class=\"data row4 col11\" >-0.052112</td>\n",
       "    </tr>\n",
       "    <tr>\n",
       "      <th id=\"T_6e560_level0_row5\" class=\"row_heading level0 row5\" >Car</th>\n",
       "      <td id=\"T_6e560_row5_col0\" class=\"data row5 col0\" >0.271963</td>\n",
       "      <td id=\"T_6e560_row5_col1\" class=\"data row5 col1\" >0.185808</td>\n",
       "      <td id=\"T_6e560_row5_col2\" class=\"data row5 col2\" >0.038879</td>\n",
       "      <td id=\"T_6e560_row5_col3\" class=\"data row5 col3\" >0.381485</td>\n",
       "      <td id=\"T_6e560_row5_col4\" class=\"data row5 col4\" >0.272867</td>\n",
       "      <td id=\"T_6e560_row5_col5\" class=\"data row5 col5\" >1.000000</td>\n",
       "      <td id=\"T_6e560_row5_col6\" class=\"data row5 col6\" >0.006587</td>\n",
       "      <td id=\"T_6e560_row5_col7\" class=\"data row5 col7\" >0.070674</td>\n",
       "      <td id=\"T_6e560_row5_col8\" class=\"data row5 col8\" >-0.043050</td>\n",
       "      <td id=\"T_6e560_row5_col9\" class=\"data row5 col9\" >-0.002018</td>\n",
       "      <td id=\"T_6e560_row5_col10\" class=\"data row5 col10\" >0.035562</td>\n",
       "      <td id=\"T_6e560_row5_col11\" class=\"data row5 col11\" >-0.027853</td>\n",
       "    </tr>\n",
       "    <tr>\n",
       "      <th id=\"T_6e560_level0_row6\" class=\"row_heading level0 row6\" >Landsize</th>\n",
       "      <td id=\"T_6e560_row6_col0\" class=\"data row6 col0\" >0.021849</td>\n",
       "      <td id=\"T_6e560_row6_col1\" class=\"data row6 col1\" >0.010131</td>\n",
       "      <td id=\"T_6e560_row6_col2\" class=\"data row6 col2\" >0.025420</td>\n",
       "      <td id=\"T_6e560_row6_col3\" class=\"data row6 col3\" >0.002836</td>\n",
       "      <td id=\"T_6e560_row6_col4\" class=\"data row6 col4\" >0.027220</td>\n",
       "      <td id=\"T_6e560_row6_col5\" class=\"data row6 col5\" >0.006587</td>\n",
       "      <td id=\"T_6e560_row6_col6\" class=\"data row6 col6\" >1.000000</td>\n",
       "      <td id=\"T_6e560_row6_col7\" class=\"data row6 col7\" >0.092614</td>\n",
       "      <td id=\"T_6e560_row6_col8\" class=\"data row6 col8\" >0.014425</td>\n",
       "      <td id=\"T_6e560_row6_col9\" class=\"data row6 col9\" >0.005079</td>\n",
       "      <td id=\"T_6e560_row6_col10\" class=\"data row6 col10\" >0.009157</td>\n",
       "      <td id=\"T_6e560_row6_col11\" class=\"data row6 col11\" >-0.002682</td>\n",
       "    </tr>\n",
       "    <tr>\n",
       "      <th id=\"T_6e560_level0_row7\" class=\"row_heading level0 row7\" >BuildingArea</th>\n",
       "      <td id=\"T_6e560_row7_col0\" class=\"data row7 col0\" >0.069860</td>\n",
       "      <td id=\"T_6e560_row7_col1\" class=\"data row7 col1\" >0.074067</td>\n",
       "      <td id=\"T_6e560_row7_col2\" class=\"data row7 col2\" >0.040788</td>\n",
       "      <td id=\"T_6e560_row7_col3\" class=\"data row7 col3\" >0.089876</td>\n",
       "      <td id=\"T_6e560_row7_col4\" class=\"data row7 col4\" >0.085134</td>\n",
       "      <td id=\"T_6e560_row7_col5\" class=\"data row7 col5\" >0.070674</td>\n",
       "      <td id=\"T_6e560_row7_col6\" class=\"data row7 col6\" >0.092614</td>\n",
       "      <td id=\"T_6e560_row7_col7\" class=\"data row7 col7\" >1.000000</td>\n",
       "      <td id=\"T_6e560_row7_col8\" class=\"data row7 col8\" >0.003337</td>\n",
       "      <td id=\"T_6e560_row7_col9\" class=\"data row7 col9\" >0.031947</td>\n",
       "      <td id=\"T_6e560_row7_col10\" class=\"data row7 col10\" >-0.017238</td>\n",
       "      <td id=\"T_6e560_row7_col11\" class=\"data row7 col11\" >-0.020678</td>\n",
       "    </tr>\n",
       "    <tr>\n",
       "      <th id=\"T_6e560_level0_row8\" class=\"row_heading level0 row8\" >YearBuilt</th>\n",
       "      <td id=\"T_6e560_row8_col0\" class=\"data row8 col0\" >-0.262144</td>\n",
       "      <td id=\"T_6e560_row8_col1\" class=\"data row8 col1\" >0.193870</td>\n",
       "      <td id=\"T_6e560_row8_col2\" class=\"data row8 col2\" >0.025406</td>\n",
       "      <td id=\"T_6e560_row8_col3\" class=\"data row8 col3\" >-0.041711</td>\n",
       "      <td id=\"T_6e560_row8_col4\" class=\"data row8 col4\" >0.121518</td>\n",
       "      <td id=\"T_6e560_row8_col5\" class=\"data row8 col5\" >-0.043050</td>\n",
       "      <td id=\"T_6e560_row8_col6\" class=\"data row8 col6\" >0.014425</td>\n",
       "      <td id=\"T_6e560_row8_col7\" class=\"data row8 col7\" >0.003337</td>\n",
       "      <td id=\"T_6e560_row8_col8\" class=\"data row8 col8\" >1.000000</td>\n",
       "      <td id=\"T_6e560_row8_col9\" class=\"data row8 col9\" >0.046938</td>\n",
       "      <td id=\"T_6e560_row8_col10\" class=\"data row8 col10\" >-0.002672</td>\n",
       "      <td id=\"T_6e560_row8_col11\" class=\"data row8 col11\" >0.004909</td>\n",
       "    </tr>\n",
       "    <tr>\n",
       "      <th id=\"T_6e560_level0_row9\" class=\"row_heading level0 row9\" >Lattitude</th>\n",
       "      <td id=\"T_6e560_row9_col0\" class=\"data row9 col0\" >-0.212934</td>\n",
       "      <td id=\"T_6e560_row9_col1\" class=\"data row9 col1\" >-0.130838</td>\n",
       "      <td id=\"T_6e560_row9_col2\" class=\"data row9 col2\" >-0.406104</td>\n",
       "      <td id=\"T_6e560_row9_col3\" class=\"data row9 col3\" >0.015869</td>\n",
       "      <td id=\"T_6e560_row9_col4\" class=\"data row9 col4\" >-0.071730</td>\n",
       "      <td id=\"T_6e560_row9_col5\" class=\"data row9 col5\" >-0.002018</td>\n",
       "      <td id=\"T_6e560_row9_col6\" class=\"data row9 col6\" >0.005079</td>\n",
       "      <td id=\"T_6e560_row9_col7\" class=\"data row9 col7\" >0.031947</td>\n",
       "      <td id=\"T_6e560_row9_col8\" class=\"data row9 col8\" >0.046938</td>\n",
       "      <td id=\"T_6e560_row9_col9\" class=\"data row9 col9\" >1.000000</td>\n",
       "      <td id=\"T_6e560_row9_col10\" class=\"data row9 col10\" >-0.357634</td>\n",
       "      <td id=\"T_6e560_row9_col11\" class=\"data row9 col11\" >0.047086</td>\n",
       "    </tr>\n",
       "    <tr>\n",
       "      <th id=\"T_6e560_level0_row10\" class=\"row_heading level0 row10\" >Longtitude</th>\n",
       "      <td id=\"T_6e560_row10_col0\" class=\"data row10 col0\" >0.203656</td>\n",
       "      <td id=\"T_6e560_row10_col1\" class=\"data row10 col1\" >0.239317</td>\n",
       "      <td id=\"T_6e560_row10_col2\" class=\"data row10 col2\" >0.445357</td>\n",
       "      <td id=\"T_6e560_row10_col3\" class=\"data row10 col3\" >0.102947</td>\n",
       "      <td id=\"T_6e560_row10_col4\" class=\"data row10 col4\" >0.120019</td>\n",
       "      <td id=\"T_6e560_row10_col5\" class=\"data row10 col5\" >0.035562</td>\n",
       "      <td id=\"T_6e560_row10_col6\" class=\"data row10 col6\" >0.009157</td>\n",
       "      <td id=\"T_6e560_row10_col7\" class=\"data row10 col7\" >-0.017238</td>\n",
       "      <td id=\"T_6e560_row10_col8\" class=\"data row10 col8\" >-0.002672</td>\n",
       "      <td id=\"T_6e560_row10_col9\" class=\"data row10 col9\" >-0.357634</td>\n",
       "      <td id=\"T_6e560_row10_col10\" class=\"data row10 col10\" >1.000000</td>\n",
       "      <td id=\"T_6e560_row10_col11\" class=\"data row10 col11\" >0.065988</td>\n",
       "    </tr>\n",
       "    <tr>\n",
       "      <th id=\"T_6e560_level0_row11\" class=\"row_heading level0 row11\" >Propertycount</th>\n",
       "      <td id=\"T_6e560_row11_col0\" class=\"data row11 col0\" >-0.042153</td>\n",
       "      <td id=\"T_6e560_row11_col1\" class=\"data row11 col1\" >-0.053011</td>\n",
       "      <td id=\"T_6e560_row11_col2\" class=\"data row11 col2\" >0.062304</td>\n",
       "      <td id=\"T_6e560_row11_col3\" class=\"data row11 col3\" >-0.081055</td>\n",
       "      <td id=\"T_6e560_row11_col4\" class=\"data row11 col4\" >-0.052112</td>\n",
       "      <td id=\"T_6e560_row11_col5\" class=\"data row11 col5\" >-0.027853</td>\n",
       "      <td id=\"T_6e560_row11_col6\" class=\"data row11 col6\" >-0.002682</td>\n",
       "      <td id=\"T_6e560_row11_col7\" class=\"data row11 col7\" >-0.020678</td>\n",
       "      <td id=\"T_6e560_row11_col8\" class=\"data row11 col8\" >0.004909</td>\n",
       "      <td id=\"T_6e560_row11_col9\" class=\"data row11 col9\" >0.047086</td>\n",
       "      <td id=\"T_6e560_row11_col10\" class=\"data row11 col10\" >0.065988</td>\n",
       "      <td id=\"T_6e560_row11_col11\" class=\"data row11 col11\" >1.000000</td>\n",
       "    </tr>\n",
       "  </tbody>\n",
       "</table>\n"
      ],
      "text/plain": [
       "<pandas.io.formats.style.Styler at 0x7fddf12a6bb0>"
      ]
     },
     "metadata": {},
     "output_type": "display_data"
    }
   ],
   "source": [
    "eda.correlation_pearson(data_test)"
   ]
  },
  {
   "cell_type": "code",
   "execution_count": 21,
   "metadata": {},
   "outputs": [
    {
     "data": {
      "text/markdown": [
       "### Pearson's correlation matrix"
      ],
      "text/plain": [
       "<IPython.core.display.Markdown object>"
      ]
     },
     "metadata": {},
     "output_type": "display_data"
    },
    {
     "data": {
      "text/html": [
       "<div>\n",
       "<style scoped>\n",
       "    .dataframe tbody tr th:only-of-type {\n",
       "        vertical-align: middle;\n",
       "    }\n",
       "\n",
       "    .dataframe tbody tr th {\n",
       "        vertical-align: top;\n",
       "    }\n",
       "\n",
       "    .dataframe thead th {\n",
       "        text-align: right;\n",
       "    }\n",
       "</style>\n",
       "<table border=\"1\" class=\"dataframe\">\n",
       "  <thead>\n",
       "    <tr style=\"text-align: right;\">\n",
       "      <th></th>\n",
       "      <th>Price</th>\n",
       "      <th>Distance</th>\n",
       "      <th>Postcode</th>\n",
       "      <th>Bedroom2</th>\n",
       "      <th>Bathroom</th>\n",
       "      <th>Car</th>\n",
       "      <th>Landsize</th>\n",
       "      <th>BuildingArea</th>\n",
       "      <th>YearBuilt</th>\n",
       "      <th>Lattitude</th>\n",
       "      <th>Longtitude</th>\n",
       "      <th>Propertycount</th>\n",
       "    </tr>\n",
       "  </thead>\n",
       "  <tbody>\n",
       "    <tr>\n",
       "      <th>Price</th>\n",
       "      <td>1.0</td>\n",
       "      <td>NaN</td>\n",
       "      <td>NaN</td>\n",
       "      <td>NaN</td>\n",
       "      <td>NaN</td>\n",
       "      <td>NaN</td>\n",
       "      <td>NaN</td>\n",
       "      <td>NaN</td>\n",
       "      <td>NaN</td>\n",
       "      <td>NaN</td>\n",
       "      <td>NaN</td>\n",
       "      <td>NaN</td>\n",
       "    </tr>\n",
       "    <tr>\n",
       "      <th>Distance</th>\n",
       "      <td>NaN</td>\n",
       "      <td>1.0</td>\n",
       "      <td>NaN</td>\n",
       "      <td>NaN</td>\n",
       "      <td>NaN</td>\n",
       "      <td>NaN</td>\n",
       "      <td>NaN</td>\n",
       "      <td>NaN</td>\n",
       "      <td>NaN</td>\n",
       "      <td>NaN</td>\n",
       "      <td>NaN</td>\n",
       "      <td>NaN</td>\n",
       "    </tr>\n",
       "    <tr>\n",
       "      <th>Postcode</th>\n",
       "      <td>NaN</td>\n",
       "      <td>NaN</td>\n",
       "      <td>1.0</td>\n",
       "      <td>NaN</td>\n",
       "      <td>NaN</td>\n",
       "      <td>NaN</td>\n",
       "      <td>NaN</td>\n",
       "      <td>NaN</td>\n",
       "      <td>NaN</td>\n",
       "      <td>NaN</td>\n",
       "      <td>NaN</td>\n",
       "      <td>NaN</td>\n",
       "    </tr>\n",
       "    <tr>\n",
       "      <th>Bedroom2</th>\n",
       "      <td>NaN</td>\n",
       "      <td>NaN</td>\n",
       "      <td>NaN</td>\n",
       "      <td>1.0</td>\n",
       "      <td>NaN</td>\n",
       "      <td>NaN</td>\n",
       "      <td>NaN</td>\n",
       "      <td>NaN</td>\n",
       "      <td>NaN</td>\n",
       "      <td>NaN</td>\n",
       "      <td>NaN</td>\n",
       "      <td>NaN</td>\n",
       "    </tr>\n",
       "    <tr>\n",
       "      <th>Bathroom</th>\n",
       "      <td>NaN</td>\n",
       "      <td>NaN</td>\n",
       "      <td>NaN</td>\n",
       "      <td>NaN</td>\n",
       "      <td>1.0</td>\n",
       "      <td>NaN</td>\n",
       "      <td>NaN</td>\n",
       "      <td>NaN</td>\n",
       "      <td>NaN</td>\n",
       "      <td>NaN</td>\n",
       "      <td>NaN</td>\n",
       "      <td>NaN</td>\n",
       "    </tr>\n",
       "    <tr>\n",
       "      <th>Car</th>\n",
       "      <td>NaN</td>\n",
       "      <td>NaN</td>\n",
       "      <td>NaN</td>\n",
       "      <td>NaN</td>\n",
       "      <td>NaN</td>\n",
       "      <td>1.0</td>\n",
       "      <td>NaN</td>\n",
       "      <td>NaN</td>\n",
       "      <td>NaN</td>\n",
       "      <td>NaN</td>\n",
       "      <td>NaN</td>\n",
       "      <td>NaN</td>\n",
       "    </tr>\n",
       "    <tr>\n",
       "      <th>Landsize</th>\n",
       "      <td>NaN</td>\n",
       "      <td>NaN</td>\n",
       "      <td>NaN</td>\n",
       "      <td>NaN</td>\n",
       "      <td>NaN</td>\n",
       "      <td>NaN</td>\n",
       "      <td>1.0</td>\n",
       "      <td>NaN</td>\n",
       "      <td>NaN</td>\n",
       "      <td>NaN</td>\n",
       "      <td>NaN</td>\n",
       "      <td>NaN</td>\n",
       "    </tr>\n",
       "    <tr>\n",
       "      <th>BuildingArea</th>\n",
       "      <td>NaN</td>\n",
       "      <td>NaN</td>\n",
       "      <td>NaN</td>\n",
       "      <td>NaN</td>\n",
       "      <td>NaN</td>\n",
       "      <td>NaN</td>\n",
       "      <td>NaN</td>\n",
       "      <td>1.0</td>\n",
       "      <td>NaN</td>\n",
       "      <td>NaN</td>\n",
       "      <td>NaN</td>\n",
       "      <td>NaN</td>\n",
       "    </tr>\n",
       "    <tr>\n",
       "      <th>YearBuilt</th>\n",
       "      <td>NaN</td>\n",
       "      <td>NaN</td>\n",
       "      <td>NaN</td>\n",
       "      <td>NaN</td>\n",
       "      <td>NaN</td>\n",
       "      <td>NaN</td>\n",
       "      <td>NaN</td>\n",
       "      <td>NaN</td>\n",
       "      <td>1.0</td>\n",
       "      <td>NaN</td>\n",
       "      <td>NaN</td>\n",
       "      <td>NaN</td>\n",
       "    </tr>\n",
       "    <tr>\n",
       "      <th>Lattitude</th>\n",
       "      <td>NaN</td>\n",
       "      <td>NaN</td>\n",
       "      <td>NaN</td>\n",
       "      <td>NaN</td>\n",
       "      <td>NaN</td>\n",
       "      <td>NaN</td>\n",
       "      <td>NaN</td>\n",
       "      <td>NaN</td>\n",
       "      <td>NaN</td>\n",
       "      <td>1.0</td>\n",
       "      <td>NaN</td>\n",
       "      <td>NaN</td>\n",
       "    </tr>\n",
       "    <tr>\n",
       "      <th>Longtitude</th>\n",
       "      <td>NaN</td>\n",
       "      <td>NaN</td>\n",
       "      <td>NaN</td>\n",
       "      <td>NaN</td>\n",
       "      <td>NaN</td>\n",
       "      <td>NaN</td>\n",
       "      <td>NaN</td>\n",
       "      <td>NaN</td>\n",
       "      <td>NaN</td>\n",
       "      <td>NaN</td>\n",
       "      <td>1.0</td>\n",
       "      <td>NaN</td>\n",
       "    </tr>\n",
       "    <tr>\n",
       "      <th>Propertycount</th>\n",
       "      <td>NaN</td>\n",
       "      <td>NaN</td>\n",
       "      <td>NaN</td>\n",
       "      <td>NaN</td>\n",
       "      <td>NaN</td>\n",
       "      <td>NaN</td>\n",
       "      <td>NaN</td>\n",
       "      <td>NaN</td>\n",
       "      <td>NaN</td>\n",
       "      <td>NaN</td>\n",
       "      <td>NaN</td>\n",
       "      <td>1.0</td>\n",
       "    </tr>\n",
       "  </tbody>\n",
       "</table>\n",
       "</div>"
      ],
      "text/plain": [
       "               Price  Distance  Postcode  Bedroom2  Bathroom  Car  Landsize  \\\n",
       "Price            1.0       NaN       NaN       NaN       NaN  NaN       NaN   \n",
       "Distance         NaN       1.0       NaN       NaN       NaN  NaN       NaN   \n",
       "Postcode         NaN       NaN       1.0       NaN       NaN  NaN       NaN   \n",
       "Bedroom2         NaN       NaN       NaN       1.0       NaN  NaN       NaN   \n",
       "Bathroom         NaN       NaN       NaN       NaN       1.0  NaN       NaN   \n",
       "Car              NaN       NaN       NaN       NaN       NaN  1.0       NaN   \n",
       "Landsize         NaN       NaN       NaN       NaN       NaN  NaN       1.0   \n",
       "BuildingArea     NaN       NaN       NaN       NaN       NaN  NaN       NaN   \n",
       "YearBuilt        NaN       NaN       NaN       NaN       NaN  NaN       NaN   \n",
       "Lattitude        NaN       NaN       NaN       NaN       NaN  NaN       NaN   \n",
       "Longtitude       NaN       NaN       NaN       NaN       NaN  NaN       NaN   \n",
       "Propertycount    NaN       NaN       NaN       NaN       NaN  NaN       NaN   \n",
       "\n",
       "               BuildingArea  YearBuilt  Lattitude  Longtitude  Propertycount  \n",
       "Price                   NaN        NaN        NaN         NaN            NaN  \n",
       "Distance                NaN        NaN        NaN         NaN            NaN  \n",
       "Postcode                NaN        NaN        NaN         NaN            NaN  \n",
       "Bedroom2                NaN        NaN        NaN         NaN            NaN  \n",
       "Bathroom                NaN        NaN        NaN         NaN            NaN  \n",
       "Car                     NaN        NaN        NaN         NaN            NaN  \n",
       "Landsize                NaN        NaN        NaN         NaN            NaN  \n",
       "BuildingArea            1.0        NaN        NaN         NaN            NaN  \n",
       "YearBuilt               NaN        1.0        NaN         NaN            NaN  \n",
       "Lattitude               NaN        NaN        1.0         NaN            NaN  \n",
       "Longtitude              NaN        NaN        NaN         1.0            NaN  \n",
       "Propertycount           NaN        NaN        NaN         NaN            1.0  "
      ]
     },
     "metadata": {},
     "output_type": "display_data"
    }
   ],
   "source": [
    "eda.correlation_pearson(data_test, threshold=0.7)"
   ]
  },
  {
   "attachments": {},
   "cell_type": "markdown",
   "metadata": {},
   "source": [
    "## "
   ]
  },
  {
   "attachments": {},
   "cell_type": "markdown",
   "metadata": {},
   "source": [
    "## Correlation matrix for categorical columns <a class=\"anchor\" id=\"cat-corr\"></a>"
   ]
  },
  {
   "cell_type": "code",
   "execution_count": 22,
   "metadata": {},
   "outputs": [
    {
     "data": {
      "text/markdown": [
       "### $\\chi^2$ test statistic $p$-values"
      ],
      "text/plain": [
       "<IPython.core.display.Markdown object>"
      ]
     },
     "metadata": {},
     "output_type": "display_data"
    },
    {
     "data": {
      "text/html": [
       "<style type=\"text/css\">\n",
       "#T_78e82_row0_col0, #T_78e82_row1_col1, #T_78e82_row2_col2, #T_78e82_row3_col3, #T_78e82_row4_col4, #T_78e82_row5_col5 {\n",
       "  background-color: ;\n",
       "}\n",
       "#T_78e82_row0_col1, #T_78e82_row0_col2, #T_78e82_row0_col3, #T_78e82_row0_col4, #T_78e82_row0_col5, #T_78e82_row1_col0, #T_78e82_row1_col2, #T_78e82_row1_col3, #T_78e82_row1_col4, #T_78e82_row1_col5, #T_78e82_row2_col0, #T_78e82_row2_col1, #T_78e82_row2_col3, #T_78e82_row2_col4, #T_78e82_row2_col5, #T_78e82_row3_col0, #T_78e82_row3_col1, #T_78e82_row3_col2, #T_78e82_row3_col4, #T_78e82_row3_col5, #T_78e82_row4_col0, #T_78e82_row4_col1, #T_78e82_row4_col2, #T_78e82_row4_col3, #T_78e82_row4_col5, #T_78e82_row5_col0, #T_78e82_row5_col1, #T_78e82_row5_col2, #T_78e82_row5_col3, #T_78e82_row5_col4 {\n",
       "  background-color: orange;\n",
       "}\n",
       "</style>\n",
       "<table id=\"T_78e82\">\n",
       "  <thead>\n",
       "    <tr>\n",
       "      <th class=\"blank level0\" >&nbsp;</th>\n",
       "      <th id=\"T_78e82_level0_col0\" class=\"col_heading level0 col0\" >Method</th>\n",
       "      <th id=\"T_78e82_level0_col1\" class=\"col_heading level0 col1\" >Regionname</th>\n",
       "      <th id=\"T_78e82_level0_col2\" class=\"col_heading level0 col2\" >Rooms</th>\n",
       "      <th id=\"T_78e82_level0_col3\" class=\"col_heading level0 col3\" >SellerG</th>\n",
       "      <th id=\"T_78e82_level0_col4\" class=\"col_heading level0 col4\" >Suburb</th>\n",
       "      <th id=\"T_78e82_level0_col5\" class=\"col_heading level0 col5\" >Type</th>\n",
       "    </tr>\n",
       "  </thead>\n",
       "  <tbody>\n",
       "    <tr>\n",
       "      <th id=\"T_78e82_level0_row0\" class=\"row_heading level0 row0\" >Method</th>\n",
       "      <td id=\"T_78e82_row0_col0\" class=\"data row0 col0\" >nan</td>\n",
       "      <td id=\"T_78e82_row0_col1\" class=\"data row0 col1\" >0.000000</td>\n",
       "      <td id=\"T_78e82_row0_col2\" class=\"data row0 col2\" >0.000000</td>\n",
       "      <td id=\"T_78e82_row0_col3\" class=\"data row0 col3\" >0.000000</td>\n",
       "      <td id=\"T_78e82_row0_col4\" class=\"data row0 col4\" >0.000000</td>\n",
       "      <td id=\"T_78e82_row0_col5\" class=\"data row0 col5\" >0.000000</td>\n",
       "    </tr>\n",
       "    <tr>\n",
       "      <th id=\"T_78e82_level0_row1\" class=\"row_heading level0 row1\" >Regionname</th>\n",
       "      <td id=\"T_78e82_row1_col0\" class=\"data row1 col0\" >0.000000</td>\n",
       "      <td id=\"T_78e82_row1_col1\" class=\"data row1 col1\" >nan</td>\n",
       "      <td id=\"T_78e82_row1_col2\" class=\"data row1 col2\" >0.000000</td>\n",
       "      <td id=\"T_78e82_row1_col3\" class=\"data row1 col3\" >0.000000</td>\n",
       "      <td id=\"T_78e82_row1_col4\" class=\"data row1 col4\" >0.000000</td>\n",
       "      <td id=\"T_78e82_row1_col5\" class=\"data row1 col5\" >0.000000</td>\n",
       "    </tr>\n",
       "    <tr>\n",
       "      <th id=\"T_78e82_level0_row2\" class=\"row_heading level0 row2\" >Rooms</th>\n",
       "      <td id=\"T_78e82_row2_col0\" class=\"data row2 col0\" >0.000000</td>\n",
       "      <td id=\"T_78e82_row2_col1\" class=\"data row2 col1\" >0.000000</td>\n",
       "      <td id=\"T_78e82_row2_col2\" class=\"data row2 col2\" >nan</td>\n",
       "      <td id=\"T_78e82_row2_col3\" class=\"data row2 col3\" >0.000000</td>\n",
       "      <td id=\"T_78e82_row2_col4\" class=\"data row2 col4\" >0.000000</td>\n",
       "      <td id=\"T_78e82_row2_col5\" class=\"data row2 col5\" >0.000000</td>\n",
       "    </tr>\n",
       "    <tr>\n",
       "      <th id=\"T_78e82_level0_row3\" class=\"row_heading level0 row3\" >SellerG</th>\n",
       "      <td id=\"T_78e82_row3_col0\" class=\"data row3 col0\" >0.000000</td>\n",
       "      <td id=\"T_78e82_row3_col1\" class=\"data row3 col1\" >0.000000</td>\n",
       "      <td id=\"T_78e82_row3_col2\" class=\"data row3 col2\" >0.000000</td>\n",
       "      <td id=\"T_78e82_row3_col3\" class=\"data row3 col3\" >nan</td>\n",
       "      <td id=\"T_78e82_row3_col4\" class=\"data row3 col4\" >0.000000</td>\n",
       "      <td id=\"T_78e82_row3_col5\" class=\"data row3 col5\" >0.000000</td>\n",
       "    </tr>\n",
       "    <tr>\n",
       "      <th id=\"T_78e82_level0_row4\" class=\"row_heading level0 row4\" >Suburb</th>\n",
       "      <td id=\"T_78e82_row4_col0\" class=\"data row4 col0\" >0.000000</td>\n",
       "      <td id=\"T_78e82_row4_col1\" class=\"data row4 col1\" >0.000000</td>\n",
       "      <td id=\"T_78e82_row4_col2\" class=\"data row4 col2\" >0.000000</td>\n",
       "      <td id=\"T_78e82_row4_col3\" class=\"data row4 col3\" >0.000000</td>\n",
       "      <td id=\"T_78e82_row4_col4\" class=\"data row4 col4\" >nan</td>\n",
       "      <td id=\"T_78e82_row4_col5\" class=\"data row4 col5\" >0.000000</td>\n",
       "    </tr>\n",
       "    <tr>\n",
       "      <th id=\"T_78e82_level0_row5\" class=\"row_heading level0 row5\" >Type</th>\n",
       "      <td id=\"T_78e82_row5_col0\" class=\"data row5 col0\" >0.000000</td>\n",
       "      <td id=\"T_78e82_row5_col1\" class=\"data row5 col1\" >0.000000</td>\n",
       "      <td id=\"T_78e82_row5_col2\" class=\"data row5 col2\" >0.000000</td>\n",
       "      <td id=\"T_78e82_row5_col3\" class=\"data row5 col3\" >0.000000</td>\n",
       "      <td id=\"T_78e82_row5_col4\" class=\"data row5 col4\" >0.000000</td>\n",
       "      <td id=\"T_78e82_row5_col5\" class=\"data row5 col5\" >nan</td>\n",
       "    </tr>\n",
       "  </tbody>\n",
       "</table>\n"
      ],
      "text/plain": [
       "<pandas.io.formats.style.Styler at 0x7fddf1123670>"
      ]
     },
     "metadata": {},
     "output_type": "display_data"
    }
   ],
   "source": [
    "eda.correlation_categorical(data_test)"
   ]
  },
  {
   "attachments": {},
   "cell_type": "markdown",
   "metadata": {},
   "source": [
    "All the variables show a significant p-value against the H0 of the chisq test."
   ]
  },
  {
   "attachments": {},
   "cell_type": "markdown",
   "metadata": {},
   "source": [
    "## $\\phi_k$ Correlation matrix <a class=\"anchor\" id=\"phik\"></a>"
   ]
  },
  {
   "cell_type": "code",
   "execution_count": 23,
   "metadata": {},
   "outputs": [
    {
     "data": {
      "text/markdown": [
       "### $\\phi_K$ correlation matrix"
      ],
      "text/plain": [
       "<IPython.core.display.Markdown object>"
      ]
     },
     "metadata": {},
     "output_type": "display_data"
    },
    {
     "data": {
      "text/html": [
       "<style type=\"text/css\">\n",
       "#T_f1206_row0_col0, #T_f1206_row1_col1, #T_f1206_row2_col2, #T_f1206_row3_col3, #T_f1206_row4_col4, #T_f1206_row5_col5, #T_f1206_row6_col6, #T_f1206_row7_col7, #T_f1206_row8_col8, #T_f1206_row9_col9, #T_f1206_row10_col10, #T_f1206_row11_col11, #T_f1206_row12_col12, #T_f1206_row13_col13, #T_f1206_row14_col14, #T_f1206_row15_col15, #T_f1206_row16_col16, #T_f1206_row17_col17 {\n",
       "  background-color: #023858;\n",
       "  color: #f1f1f1;\n",
       "}\n",
       "#T_f1206_row0_col1, #T_f1206_row0_col13, #T_f1206_row1_col0, #T_f1206_row13_col0, #T_f1206_row14_col4, #T_f1206_row14_col10 {\n",
       "  background-color: #eae6f1;\n",
       "  color: #000000;\n",
       "}\n",
       "#T_f1206_row0_col2, #T_f1206_row2_col0, #T_f1206_row7_col9, #T_f1206_row16_col1 {\n",
       "  background-color: #dedcec;\n",
       "  color: #000000;\n",
       "}\n",
       "#T_f1206_row0_col3, #T_f1206_row0_col8, #T_f1206_row3_col0, #T_f1206_row8_col0, #T_f1206_row11_col15 {\n",
       "  background-color: #ede7f2;\n",
       "  color: #000000;\n",
       "}\n",
       "#T_f1206_row0_col4, #T_f1206_row1_col7, #T_f1206_row4_col0, #T_f1206_row11_col6, #T_f1206_row13_col16 {\n",
       "  background-color: #f9f2f8;\n",
       "  color: #000000;\n",
       "}\n",
       "#T_f1206_row0_col5, #T_f1206_row2_col10, #T_f1206_row5_col0 {\n",
       "  background-color: #94b6d7;\n",
       "  color: #000000;\n",
       "}\n",
       "#T_f1206_row0_col6, #T_f1206_row6_col5, #T_f1206_row15_col5 {\n",
       "  background-color: #b1c2de;\n",
       "  color: #000000;\n",
       "}\n",
       "#T_f1206_row0_col7, #T_f1206_row3_col8, #T_f1206_row8_col3, #T_f1206_row10_col1 {\n",
       "  background-color: #b0c2de;\n",
       "  color: #000000;\n",
       "}\n",
       "#T_f1206_row0_col9, #T_f1206_row1_col5, #T_f1206_row1_col13, #T_f1206_row5_col1, #T_f1206_row7_col1, #T_f1206_row9_col0, #T_f1206_row9_col7, #T_f1206_row13_col1, #T_f1206_row14_col9 {\n",
       "  background-color: #ede8f3;\n",
       "  color: #000000;\n",
       "}\n",
       "#T_f1206_row0_col10, #T_f1206_row1_col14, #T_f1206_row7_col10, #T_f1206_row8_col13, #T_f1206_row8_col14, #T_f1206_row10_col14, #T_f1206_row11_col7, #T_f1206_row12_col16, #T_f1206_row13_col8 {\n",
       "  background-color: #f7f0f7;\n",
       "  color: #000000;\n",
       "}\n",
       "#T_f1206_row0_col11, #T_f1206_row0_col12, #T_f1206_row1_col11, #T_f1206_row2_col11, #T_f1206_row2_col12, #T_f1206_row3_col12, #T_f1206_row4_col12, #T_f1206_row5_col11, #T_f1206_row5_col12, #T_f1206_row8_col11, #T_f1206_row9_col6, #T_f1206_row9_col13, #T_f1206_row9_col14, #T_f1206_row10_col16, #T_f1206_row11_col0, #T_f1206_row11_col1, #T_f1206_row11_col2, #T_f1206_row11_col5, #T_f1206_row11_col8, #T_f1206_row11_col13, #T_f1206_row12_col0, #T_f1206_row12_col2, #T_f1206_row12_col3, #T_f1206_row12_col4, #T_f1206_row12_col5, #T_f1206_row12_col13, #T_f1206_row12_col15, #T_f1206_row12_col17, #T_f1206_row13_col7, #T_f1206_row13_col9, #T_f1206_row13_col10, #T_f1206_row13_col11, #T_f1206_row13_col12, #T_f1206_row17_col12 {\n",
       "  background-color: #fff7fb;\n",
       "  color: #000000;\n",
       "}\n",
       "#T_f1206_row0_col14, #T_f1206_row8_col10 {\n",
       "  background-color: #adc1dd;\n",
       "  color: #000000;\n",
       "}\n",
       "#T_f1206_row0_col15, #T_f1206_row15_col8 {\n",
       "  background-color: #d7d6e9;\n",
       "  color: #000000;\n",
       "}\n",
       "#T_f1206_row0_col16 {\n",
       "  background-color: #75a9cf;\n",
       "  color: #f1f1f1;\n",
       "}\n",
       "#T_f1206_row0_col17, #T_f1206_row17_col0 {\n",
       "  background-color: #0566a0;\n",
       "  color: #f1f1f1;\n",
       "}\n",
       "#T_f1206_row1_col2, #T_f1206_row2_col1, #T_f1206_row11_col12, #T_f1206_row12_col11 {\n",
       "  background-color: #056faf;\n",
       "  color: #f1f1f1;\n",
       "}\n",
       "#T_f1206_row1_col3, #T_f1206_row3_col1 {\n",
       "  background-color: #a7bddb;\n",
       "  color: #000000;\n",
       "}\n",
       "#T_f1206_row1_col4, #T_f1206_row2_col16, #T_f1206_row4_col1, #T_f1206_row7_col11 {\n",
       "  background-color: #ece7f2;\n",
       "  color: #000000;\n",
       "}\n",
       "#T_f1206_row1_col6 {\n",
       "  background-color: #e6e2ef;\n",
       "  color: #000000;\n",
       "}\n",
       "#T_f1206_row1_col8, #T_f1206_row8_col1 {\n",
       "  background-color: #03517e;\n",
       "  color: #f1f1f1;\n",
       "}\n",
       "#T_f1206_row1_col9, #T_f1206_row9_col1 {\n",
       "  background-color: #63a2cb;\n",
       "  color: #f1f1f1;\n",
       "}\n",
       "#T_f1206_row1_col10, #T_f1206_row14_col11 {\n",
       "  background-color: #b8c6e0;\n",
       "  color: #000000;\n",
       "}\n",
       "#T_f1206_row1_col12, #T_f1206_row5_col10, #T_f1206_row8_col12, #T_f1206_row10_col4, #T_f1206_row11_col10, #T_f1206_row12_col1, #T_f1206_row12_col8 {\n",
       "  background-color: #f8f1f8;\n",
       "  color: #000000;\n",
       "}\n",
       "#T_f1206_row1_col15, #T_f1206_row8_col15, #T_f1206_row13_col14 {\n",
       "  background-color: #f1ebf5;\n",
       "  color: #000000;\n",
       "}\n",
       "#T_f1206_row1_col16, #T_f1206_row4_col8, #T_f1206_row8_col4, #T_f1206_row10_col5, #T_f1206_row10_col11, #T_f1206_row13_col15 {\n",
       "  background-color: #f4edf6;\n",
       "  color: #000000;\n",
       "}\n",
       "#T_f1206_row1_col17, #T_f1206_row2_col14, #T_f1206_row3_col4, #T_f1206_row4_col3, #T_f1206_row7_col12, #T_f1206_row13_col17, #T_f1206_row17_col1, #T_f1206_row17_col13 {\n",
       "  background-color: #e7e3f0;\n",
       "  color: #000000;\n",
       "}\n",
       "#T_f1206_row2_col3, #T_f1206_row3_col2, #T_f1206_row3_col9, #T_f1206_row9_col3 {\n",
       "  background-color: #88b1d4;\n",
       "  color: #000000;\n",
       "}\n",
       "#T_f1206_row2_col4, #T_f1206_row2_col7, #T_f1206_row4_col2, #T_f1206_row7_col8, #T_f1206_row10_col0 {\n",
       "  background-color: #f2ecf5;\n",
       "  color: #000000;\n",
       "}\n",
       "#T_f1206_row2_col5, #T_f1206_row5_col2, #T_f1206_row5_col9, #T_f1206_row7_col2, #T_f1206_row9_col5 {\n",
       "  background-color: #e5e1ef;\n",
       "  color: #000000;\n",
       "}\n",
       "#T_f1206_row2_col6, #T_f1206_row14_col8, #T_f1206_row15_col10, #T_f1206_row16_col12 {\n",
       "  background-color: #e2dfee;\n",
       "  color: #000000;\n",
       "}\n",
       "#T_f1206_row2_col8, #T_f1206_row8_col2 {\n",
       "  background-color: #0872b1;\n",
       "  color: #f1f1f1;\n",
       "}\n",
       "#T_f1206_row2_col9, #T_f1206_row9_col2, #T_f1206_row15_col0, #T_f1206_row17_col16 {\n",
       "  background-color: #b5c4df;\n",
       "  color: #000000;\n",
       "}\n",
       "#T_f1206_row2_col13, #T_f1206_row7_col0, #T_f1206_row13_col2 {\n",
       "  background-color: #9cb9d9;\n",
       "  color: #000000;\n",
       "}\n",
       "#T_f1206_row2_col15, #T_f1206_row4_col9, #T_f1206_row4_col17, #T_f1206_row9_col4, #T_f1206_row9_col17, #T_f1206_row10_col17, #T_f1206_row17_col4, #T_f1206_row17_col9 {\n",
       "  background-color: #f0eaf4;\n",
       "  color: #000000;\n",
       "}\n",
       "#T_f1206_row2_col17, #T_f1206_row3_col15, #T_f1206_row16_col9, #T_f1206_row17_col2 {\n",
       "  background-color: #d9d8ea;\n",
       "  color: #000000;\n",
       "}\n",
       "#T_f1206_row3_col5, #T_f1206_row5_col3, #T_f1206_row6_col2, #T_f1206_row6_col8, #T_f1206_row16_col3 {\n",
       "  background-color: #c4cbe3;\n",
       "  color: #000000;\n",
       "}\n",
       "#T_f1206_row3_col6, #T_f1206_row17_col10 {\n",
       "  background-color: #f4eef6;\n",
       "  color: #000000;\n",
       "}\n",
       "#T_f1206_row3_col7, #T_f1206_row14_col13 {\n",
       "  background-color: #dbdaeb;\n",
       "  color: #000000;\n",
       "}\n",
       "#T_f1206_row3_col10, #T_f1206_row9_col10 {\n",
       "  background-color: #bfc9e1;\n",
       "  color: #000000;\n",
       "}\n",
       "#T_f1206_row3_col11, #T_f1206_row4_col16, #T_f1206_row9_col12, #T_f1206_row9_col15, #T_f1206_row11_col3, #T_f1206_row11_col16, #T_f1206_row12_col9 {\n",
       "  background-color: #fef6fb;\n",
       "  color: #000000;\n",
       "}\n",
       "#T_f1206_row3_col13, #T_f1206_row10_col3, #T_f1206_row10_col9, #T_f1206_row13_col3 {\n",
       "  background-color: #b7c5df;\n",
       "  color: #000000;\n",
       "}\n",
       "#T_f1206_row3_col14 {\n",
       "  background-color: #cdd0e5;\n",
       "  color: #000000;\n",
       "}\n",
       "#T_f1206_row3_col16 {\n",
       "  background-color: #dfddec;\n",
       "  color: #000000;\n",
       "}\n",
       "#T_f1206_row3_col17, #T_f1206_row11_col14, #T_f1206_row15_col2, #T_f1206_row17_col3 {\n",
       "  background-color: #d5d5e8;\n",
       "  color: #000000;\n",
       "}\n",
       "#T_f1206_row4_col5, #T_f1206_row5_col4, #T_f1206_row12_col10 {\n",
       "  background-color: #eee8f3;\n",
       "  color: #000000;\n",
       "}\n",
       "#T_f1206_row4_col6 {\n",
       "  background-color: #fbf4f9;\n",
       "  color: #000000;\n",
       "}\n",
       "#T_f1206_row4_col7, #T_f1206_row4_col15, #T_f1206_row10_col13 {\n",
       "  background-color: #faf3f9;\n",
       "  color: #000000;\n",
       "}\n",
       "#T_f1206_row4_col10, #T_f1206_row4_col11, #T_f1206_row4_col13, #T_f1206_row4_col14, #T_f1206_row9_col11, #T_f1206_row11_col4, #T_f1206_row11_col9, #T_f1206_row11_col17, #T_f1206_row13_col4, #T_f1206_row17_col11 {\n",
       "  background-color: #fdf5fa;\n",
       "  color: #000000;\n",
       "}\n",
       "#T_f1206_row5_col6 {\n",
       "  background-color: #d4d4e8;\n",
       "  color: #000000;\n",
       "}\n",
       "#T_f1206_row5_col7 {\n",
       "  background-color: #7eadd1;\n",
       "  color: #f1f1f1;\n",
       "}\n",
       "#T_f1206_row5_col8, #T_f1206_row8_col5 {\n",
       "  background-color: #eee9f3;\n",
       "  color: #000000;\n",
       "}\n",
       "#T_f1206_row5_col13, #T_f1206_row13_col5, #T_f1206_row15_col1 {\n",
       "  background-color: #d8d7e9;\n",
       "  color: #000000;\n",
       "}\n",
       "#T_f1206_row5_col14 {\n",
       "  background-color: #99b8d8;\n",
       "  color: #000000;\n",
       "}\n",
       "#T_f1206_row5_col15, #T_f1206_row6_col10, #T_f1206_row16_col2 {\n",
       "  background-color: #d3d4e7;\n",
       "  color: #000000;\n",
       "}\n",
       "#T_f1206_row5_col16 {\n",
       "  background-color: #65a3cb;\n",
       "  color: #f1f1f1;\n",
       "}\n",
       "#T_f1206_row5_col17, #T_f1206_row6_col1, #T_f1206_row17_col5 {\n",
       "  background-color: #c8cde4;\n",
       "  color: #000000;\n",
       "}\n",
       "#T_f1206_row6_col0 {\n",
       "  background-color: #8eb3d5;\n",
       "  color: #000000;\n",
       "}\n",
       "#T_f1206_row6_col3, #T_f1206_row15_col13 {\n",
       "  background-color: #dad9ea;\n",
       "  color: #000000;\n",
       "}\n",
       "#T_f1206_row6_col4, #T_f1206_row12_col6, #T_f1206_row16_col13 {\n",
       "  background-color: #e4e1ef;\n",
       "  color: #000000;\n",
       "}\n",
       "#T_f1206_row6_col7 {\n",
       "  background-color: #167bb6;\n",
       "  color: #f1f1f1;\n",
       "}\n",
       "#T_f1206_row6_col9, #T_f1206_row10_col12, #T_f1206_row15_col9 {\n",
       "  background-color: #e8e4f0;\n",
       "  color: #000000;\n",
       "}\n",
       "#T_f1206_row6_col11, #T_f1206_row13_col6 {\n",
       "  background-color: #e0deed;\n",
       "  color: #000000;\n",
       "}\n",
       "#T_f1206_row6_col12 {\n",
       "  background-color: #c6cce3;\n",
       "  color: #000000;\n",
       "}\n",
       "#T_f1206_row6_col13 {\n",
       "  background-color: #c1cae2;\n",
       "  color: #000000;\n",
       "}\n",
       "#T_f1206_row6_col14 {\n",
       "  background-color: #04588a;\n",
       "  color: #f1f1f1;\n",
       "}\n",
       "#T_f1206_row6_col15, #T_f1206_row15_col6 {\n",
       "  background-color: #0567a2;\n",
       "  color: #f1f1f1;\n",
       "}\n",
       "#T_f1206_row6_col16, #T_f1206_row7_col6 {\n",
       "  background-color: #1e80b8;\n",
       "  color: #f1f1f1;\n",
       "}\n",
       "#T_f1206_row6_col17 {\n",
       "  background-color: #589ec8;\n",
       "  color: #f1f1f1;\n",
       "}\n",
       "#T_f1206_row7_col3 {\n",
       "  background-color: #cccfe5;\n",
       "  color: #000000;\n",
       "}\n",
       "#T_f1206_row7_col4 {\n",
       "  background-color: #efe9f3;\n",
       "  color: #000000;\n",
       "}\n",
       "#T_f1206_row7_col5 {\n",
       "  background-color: #6da6cd;\n",
       "  color: #f1f1f1;\n",
       "}\n",
       "#T_f1206_row7_col13, #T_f1206_row12_col7 {\n",
       "  background-color: #f3edf5;\n",
       "  color: #000000;\n",
       "}\n",
       "#T_f1206_row7_col14 {\n",
       "  background-color: #197db7;\n",
       "  color: #f1f1f1;\n",
       "}\n",
       "#T_f1206_row7_col15 {\n",
       "  background-color: #0f76b3;\n",
       "  color: #f1f1f1;\n",
       "}\n",
       "#T_f1206_row7_col16 {\n",
       "  background-color: #045483;\n",
       "  color: #f1f1f1;\n",
       "}\n",
       "#T_f1206_row7_col17 {\n",
       "  background-color: #a2bcda;\n",
       "  color: #000000;\n",
       "}\n",
       "#T_f1206_row8_col6, #T_f1206_row14_col1, #T_f1206_row15_col4 {\n",
       "  background-color: #e3e0ee;\n",
       "  color: #000000;\n",
       "}\n",
       "#T_f1206_row8_col7, #T_f1206_row10_col7 {\n",
       "  background-color: #fef6fa;\n",
       "  color: #000000;\n",
       "}\n",
       "#T_f1206_row8_col9, #T_f1206_row9_col8 {\n",
       "  background-color: #4a98c5;\n",
       "  color: #f1f1f1;\n",
       "}\n",
       "#T_f1206_row8_col16 {\n",
       "  background-color: #f5eff6;\n",
       "  color: #000000;\n",
       "}\n",
       "#T_f1206_row8_col17, #T_f1206_row16_col4, #T_f1206_row16_col11, #T_f1206_row17_col8 {\n",
       "  background-color: #ebe6f2;\n",
       "  color: #000000;\n",
       "}\n",
       "#T_f1206_row9_col16, #T_f1206_row16_col10 {\n",
       "  background-color: #f1ebf4;\n",
       "  color: #000000;\n",
       "}\n",
       "#T_f1206_row10_col2, #T_f1206_row12_col14 {\n",
       "  background-color: #8cb3d5;\n",
       "  color: #000000;\n",
       "}\n",
       "#T_f1206_row10_col6, #T_f1206_row15_col12 {\n",
       "  background-color: #e9e5f1;\n",
       "  color: #000000;\n",
       "}\n",
       "#T_f1206_row10_col8 {\n",
       "  background-color: #a5bddb;\n",
       "  color: #000000;\n",
       "}\n",
       "#T_f1206_row10_col15 {\n",
       "  background-color: #f5eef6;\n",
       "  color: #000000;\n",
       "}\n",
       "#T_f1206_row14_col0 {\n",
       "  background-color: #91b5d6;\n",
       "  color: #000000;\n",
       "}\n",
       "#T_f1206_row14_col2 {\n",
       "  background-color: #d1d2e6;\n",
       "  color: #000000;\n",
       "}\n",
       "#T_f1206_row14_col3 {\n",
       "  background-color: #afc1dd;\n",
       "  color: #000000;\n",
       "}\n",
       "#T_f1206_row14_col5 {\n",
       "  background-color: #7dacd1;\n",
       "  color: #f1f1f1;\n",
       "}\n",
       "#T_f1206_row14_col6 {\n",
       "  background-color: #04598c;\n",
       "  color: #f1f1f1;\n",
       "}\n",
       "#T_f1206_row14_col7 {\n",
       "  background-color: #157ab5;\n",
       "  color: #f1f1f1;\n",
       "}\n",
       "#T_f1206_row14_col12 {\n",
       "  background-color: #71a8ce;\n",
       "  color: #f1f1f1;\n",
       "}\n",
       "#T_f1206_row14_col15 {\n",
       "  background-color: #4496c3;\n",
       "  color: #f1f1f1;\n",
       "}\n",
       "#T_f1206_row14_col16 {\n",
       "  background-color: #2182b9;\n",
       "  color: #f1f1f1;\n",
       "}\n",
       "#T_f1206_row14_col17 {\n",
       "  background-color: #4e9ac6;\n",
       "  color: #f1f1f1;\n",
       "}\n",
       "#T_f1206_row15_col3 {\n",
       "  background-color: #b9c6e0;\n",
       "  color: #000000;\n",
       "}\n",
       "#T_f1206_row15_col7 {\n",
       "  background-color: #0771b1;\n",
       "  color: #f1f1f1;\n",
       "}\n",
       "#T_f1206_row15_col11 {\n",
       "  background-color: #d2d2e7;\n",
       "  color: #000000;\n",
       "}\n",
       "#T_f1206_row15_col14 {\n",
       "  background-color: #3f93c2;\n",
       "  color: #f1f1f1;\n",
       "}\n",
       "#T_f1206_row15_col16 {\n",
       "  background-color: #0569a4;\n",
       "  color: #f1f1f1;\n",
       "}\n",
       "#T_f1206_row15_col17 {\n",
       "  background-color: #97b7d7;\n",
       "  color: #000000;\n",
       "}\n",
       "#T_f1206_row16_col0 {\n",
       "  background-color: #569dc8;\n",
       "  color: #f1f1f1;\n",
       "}\n",
       "#T_f1206_row16_col5 {\n",
       "  background-color: #4897c4;\n",
       "  color: #f1f1f1;\n",
       "}\n",
       "#T_f1206_row16_col6, #T_f1206_row16_col14 {\n",
       "  background-color: #2081b9;\n",
       "  color: #f1f1f1;\n",
       "}\n",
       "#T_f1206_row16_col7 {\n",
       "  background-color: #045382;\n",
       "  color: #f1f1f1;\n",
       "}\n",
       "#T_f1206_row16_col8 {\n",
       "  background-color: #e0dded;\n",
       "  color: #000000;\n",
       "}\n",
       "#T_f1206_row16_col15 {\n",
       "  background-color: #0569a5;\n",
       "  color: #f1f1f1;\n",
       "}\n",
       "#T_f1206_row16_col17 {\n",
       "  background-color: #96b6d7;\n",
       "  color: #000000;\n",
       "}\n",
       "#T_f1206_row17_col6 {\n",
       "  background-color: #79abd0;\n",
       "  color: #f1f1f1;\n",
       "}\n",
       "#T_f1206_row17_col7 {\n",
       "  background-color: #b4c4df;\n",
       "  color: #000000;\n",
       "}\n",
       "#T_f1206_row17_col14 {\n",
       "  background-color: #6ba5cd;\n",
       "  color: #f1f1f1;\n",
       "}\n",
       "#T_f1206_row17_col15 {\n",
       "  background-color: #bbc7e0;\n",
       "  color: #000000;\n",
       "}\n",
       "</style>\n",
       "<table id=\"T_f1206\">\n",
       "  <thead>\n",
       "    <tr>\n",
       "      <th class=\"blank level0\" >&nbsp;</th>\n",
       "      <th id=\"T_f1206_level0_col0\" class=\"col_heading level0 col0\" >Suburb</th>\n",
       "      <th id=\"T_f1206_level0_col1\" class=\"col_heading level0 col1\" >Rooms</th>\n",
       "      <th id=\"T_f1206_level0_col2\" class=\"col_heading level0 col2\" >Type</th>\n",
       "      <th id=\"T_f1206_level0_col3\" class=\"col_heading level0 col3\" >Price</th>\n",
       "      <th id=\"T_f1206_level0_col4\" class=\"col_heading level0 col4\" >Method</th>\n",
       "      <th id=\"T_f1206_level0_col5\" class=\"col_heading level0 col5\" >SellerG</th>\n",
       "      <th id=\"T_f1206_level0_col6\" class=\"col_heading level0 col6\" >Distance</th>\n",
       "      <th id=\"T_f1206_level0_col7\" class=\"col_heading level0 col7\" >Postcode</th>\n",
       "      <th id=\"T_f1206_level0_col8\" class=\"col_heading level0 col8\" >Bedroom2</th>\n",
       "      <th id=\"T_f1206_level0_col9\" class=\"col_heading level0 col9\" >Bathroom</th>\n",
       "      <th id=\"T_f1206_level0_col10\" class=\"col_heading level0 col10\" >Car</th>\n",
       "      <th id=\"T_f1206_level0_col11\" class=\"col_heading level0 col11\" >Landsize</th>\n",
       "      <th id=\"T_f1206_level0_col12\" class=\"col_heading level0 col12\" >BuildingArea</th>\n",
       "      <th id=\"T_f1206_level0_col13\" class=\"col_heading level0 col13\" >YearBuilt</th>\n",
       "      <th id=\"T_f1206_level0_col14\" class=\"col_heading level0 col14\" >Lattitude</th>\n",
       "      <th id=\"T_f1206_level0_col15\" class=\"col_heading level0 col15\" >Longtitude</th>\n",
       "      <th id=\"T_f1206_level0_col16\" class=\"col_heading level0 col16\" >Regionname</th>\n",
       "      <th id=\"T_f1206_level0_col17\" class=\"col_heading level0 col17\" >Propertycount</th>\n",
       "    </tr>\n",
       "  </thead>\n",
       "  <tbody>\n",
       "    <tr>\n",
       "      <th id=\"T_f1206_level0_row0\" class=\"row_heading level0 row0\" >Suburb</th>\n",
       "      <td id=\"T_f1206_row0_col0\" class=\"data row0 col0\" >1.0</td>\n",
       "      <td id=\"T_f1206_row0_col1\" class=\"data row0 col1\" >0.13</td>\n",
       "      <td id=\"T_f1206_row0_col2\" class=\"data row0 col2\" >0.19</td>\n",
       "      <td id=\"T_f1206_row0_col3\" class=\"data row0 col3\" >0.12</td>\n",
       "      <td id=\"T_f1206_row0_col4\" class=\"data row0 col4\" >0.041</td>\n",
       "      <td id=\"T_f1206_row0_col5\" class=\"data row0 col5\" >0.42</td>\n",
       "      <td id=\"T_f1206_row0_col6\" class=\"data row0 col6\" >0.44</td>\n",
       "      <td id=\"T_f1206_row0_col7\" class=\"data row0 col7\" >0.4</td>\n",
       "      <td id=\"T_f1206_row0_col8\" class=\"data row0 col8\" >0.12</td>\n",
       "      <td id=\"T_f1206_row0_col9\" class=\"data row0 col9\" >0.12</td>\n",
       "      <td id=\"T_f1206_row0_col10\" class=\"data row0 col10\" >0.089</td>\n",
       "      <td id=\"T_f1206_row0_col11\" class=\"data row0 col11\" >0.0</td>\n",
       "      <td id=\"T_f1206_row0_col12\" class=\"data row0 col12\" >0.0</td>\n",
       "      <td id=\"T_f1206_row0_col13\" class=\"data row0 col13\" >0.13</td>\n",
       "      <td id=\"T_f1206_row0_col14\" class=\"data row0 col14\" >0.43</td>\n",
       "      <td id=\"T_f1206_row0_col15\" class=\"data row0 col15\" >0.33</td>\n",
       "      <td id=\"T_f1206_row0_col16\" class=\"data row0 col16\" >0.56</td>\n",
       "      <td id=\"T_f1206_row0_col17\" class=\"data row0 col17\" >0.8</td>\n",
       "    </tr>\n",
       "    <tr>\n",
       "      <th id=\"T_f1206_level0_row1\" class=\"row_heading level0 row1\" >Rooms</th>\n",
       "      <td id=\"T_f1206_row1_col0\" class=\"data row1 col0\" >0.13</td>\n",
       "      <td id=\"T_f1206_row1_col1\" class=\"data row1 col1\" >1.0</td>\n",
       "      <td id=\"T_f1206_row1_col2\" class=\"data row1 col2\" >0.75</td>\n",
       "      <td id=\"T_f1206_row1_col3\" class=\"data row1 col3\" >0.37</td>\n",
       "      <td id=\"T_f1206_row1_col4\" class=\"data row1 col4\" >0.13</td>\n",
       "      <td id=\"T_f1206_row1_col5\" class=\"data row1 col5\" >0.12</td>\n",
       "      <td id=\"T_f1206_row1_col6\" class=\"data row1 col6\" >0.27</td>\n",
       "      <td id=\"T_f1206_row1_col7\" class=\"data row1 col7\" >0.12</td>\n",
       "      <td id=\"T_f1206_row1_col8\" class=\"data row1 col8\" >0.91</td>\n",
       "      <td id=\"T_f1206_row1_col9\" class=\"data row1 col9\" >0.53</td>\n",
       "      <td id=\"T_f1206_row1_col10\" class=\"data row1 col10\" >0.34</td>\n",
       "      <td id=\"T_f1206_row1_col11\" class=\"data row1 col11\" >0.0</td>\n",
       "      <td id=\"T_f1206_row1_col12\" class=\"data row1 col12\" >0.044</td>\n",
       "      <td id=\"T_f1206_row1_col13\" class=\"data row1 col13\" >0.12</td>\n",
       "      <td id=\"T_f1206_row1_col14\" class=\"data row1 col14\" >0.17</td>\n",
       "      <td id=\"T_f1206_row1_col15\" class=\"data row1 col15\" >0.22</td>\n",
       "      <td id=\"T_f1206_row1_col16\" class=\"data row1 col16\" >0.19</td>\n",
       "      <td id=\"T_f1206_row1_col17\" class=\"data row1 col17\" >0.14</td>\n",
       "    </tr>\n",
       "    <tr>\n",
       "      <th id=\"T_f1206_level0_row2\" class=\"row_heading level0 row2\" >Type</th>\n",
       "      <td id=\"T_f1206_row2_col0\" class=\"data row2 col0\" >0.19</td>\n",
       "      <td id=\"T_f1206_row2_col1\" class=\"data row2 col1\" >0.75</td>\n",
       "      <td id=\"T_f1206_row2_col2\" class=\"data row2 col2\" >1.0</td>\n",
       "      <td id=\"T_f1206_row2_col3\" class=\"data row2 col3\" >0.45</td>\n",
       "      <td id=\"T_f1206_row2_col4\" class=\"data row2 col4\" >0.086</td>\n",
       "      <td id=\"T_f1206_row2_col5\" class=\"data row2 col5\" >0.16</td>\n",
       "      <td id=\"T_f1206_row2_col6\" class=\"data row2 col6\" >0.29</td>\n",
       "      <td id=\"T_f1206_row2_col7\" class=\"data row2 col7\" >0.16</td>\n",
       "      <td id=\"T_f1206_row2_col8\" class=\"data row2 col8\" >0.74</td>\n",
       "      <td id=\"T_f1206_row2_col9\" class=\"data row2 col9\" >0.33</td>\n",
       "      <td id=\"T_f1206_row2_col10\" class=\"data row2 col10\" >0.44</td>\n",
       "      <td id=\"T_f1206_row2_col11\" class=\"data row2 col11\" >0.0</td>\n",
       "      <td id=\"T_f1206_row2_col12\" class=\"data row2 col12\" >0.0</td>\n",
       "      <td id=\"T_f1206_row2_col13\" class=\"data row2 col13\" >0.4</td>\n",
       "      <td id=\"T_f1206_row2_col14\" class=\"data row2 col14\" >0.25</td>\n",
       "      <td id=\"T_f1206_row2_col15\" class=\"data row2 col15\" >0.23</td>\n",
       "      <td id=\"T_f1206_row2_col16\" class=\"data row2 col16\" >0.24</td>\n",
       "      <td id=\"T_f1206_row2_col17\" class=\"data row2 col17\" >0.21</td>\n",
       "    </tr>\n",
       "    <tr>\n",
       "      <th id=\"T_f1206_level0_row3\" class=\"row_heading level0 row3\" >Price</th>\n",
       "      <td id=\"T_f1206_row3_col0\" class=\"data row3 col0\" >0.12</td>\n",
       "      <td id=\"T_f1206_row3_col1\" class=\"data row3 col1\" >0.37</td>\n",
       "      <td id=\"T_f1206_row3_col2\" class=\"data row3 col2\" >0.45</td>\n",
       "      <td id=\"T_f1206_row3_col3\" class=\"data row3 col3\" >1.0</td>\n",
       "      <td id=\"T_f1206_row3_col4\" class=\"data row3 col4\" >0.15</td>\n",
       "      <td id=\"T_f1206_row3_col5\" class=\"data row3 col5\" >0.29</td>\n",
       "      <td id=\"T_f1206_row3_col6\" class=\"data row3 col6\" >0.2</td>\n",
       "      <td id=\"T_f1206_row3_col7\" class=\"data row3 col7\" >0.26</td>\n",
       "      <td id=\"T_f1206_row3_col8\" class=\"data row3 col8\" >0.35</td>\n",
       "      <td id=\"T_f1206_row3_col9\" class=\"data row3 col9\" >0.45</td>\n",
       "      <td id=\"T_f1206_row3_col10\" class=\"data row3 col10\" >0.33</td>\n",
       "      <td id=\"T_f1206_row3_col11\" class=\"data row3 col11\" >0.0056</td>\n",
       "      <td id=\"T_f1206_row3_col12\" class=\"data row3 col12\" >0.0</td>\n",
       "      <td id=\"T_f1206_row3_col13\" class=\"data row3 col13\" >0.33</td>\n",
       "      <td id=\"T_f1206_row3_col14\" class=\"data row3 col14\" >0.35</td>\n",
       "      <td id=\"T_f1206_row3_col15\" class=\"data row3 col15\" >0.32</td>\n",
       "      <td id=\"T_f1206_row3_col16\" class=\"data row3 col16\" >0.29</td>\n",
       "      <td id=\"T_f1206_row3_col17\" class=\"data row3 col17\" >0.23</td>\n",
       "    </tr>\n",
       "    <tr>\n",
       "      <th id=\"T_f1206_level0_row4\" class=\"row_heading level0 row4\" >Method</th>\n",
       "      <td id=\"T_f1206_row4_col0\" class=\"data row4 col0\" >0.041</td>\n",
       "      <td id=\"T_f1206_row4_col1\" class=\"data row4 col1\" >0.13</td>\n",
       "      <td id=\"T_f1206_row4_col2\" class=\"data row4 col2\" >0.086</td>\n",
       "      <td id=\"T_f1206_row4_col3\" class=\"data row4 col3\" >0.15</td>\n",
       "      <td id=\"T_f1206_row4_col4\" class=\"data row4 col4\" >1.0</td>\n",
       "      <td id=\"T_f1206_row4_col5\" class=\"data row4 col5\" >0.11</td>\n",
       "      <td id=\"T_f1206_row4_col6\" class=\"data row4 col6\" >0.16</td>\n",
       "      <td id=\"T_f1206_row4_col7\" class=\"data row4 col7\" >0.11</td>\n",
       "      <td id=\"T_f1206_row4_col8\" class=\"data row4 col8\" >0.075</td>\n",
       "      <td id=\"T_f1206_row4_col9\" class=\"data row4 col9\" >0.1</td>\n",
       "      <td id=\"T_f1206_row4_col10\" class=\"data row4 col10\" >0.05</td>\n",
       "      <td id=\"T_f1206_row4_col11\" class=\"data row4 col11\" >0.018</td>\n",
       "      <td id=\"T_f1206_row4_col12\" class=\"data row4 col12\" >0.0</td>\n",
       "      <td id=\"T_f1206_row4_col13\" class=\"data row4 col13\" >0.013</td>\n",
       "      <td id=\"T_f1206_row4_col14\" class=\"data row4 col14\" >0.14</td>\n",
       "      <td id=\"T_f1206_row4_col15\" class=\"data row4 col15\" >0.17</td>\n",
       "      <td id=\"T_f1206_row4_col16\" class=\"data row4 col16\" >0.13</td>\n",
       "      <td id=\"T_f1206_row4_col17\" class=\"data row4 col17\" >0.1</td>\n",
       "    </tr>\n",
       "    <tr>\n",
       "      <th id=\"T_f1206_level0_row5\" class=\"row_heading level0 row5\" >SellerG</th>\n",
       "      <td id=\"T_f1206_row5_col0\" class=\"data row5 col0\" >0.42</td>\n",
       "      <td id=\"T_f1206_row5_col1\" class=\"data row5 col1\" >0.12</td>\n",
       "      <td id=\"T_f1206_row5_col2\" class=\"data row5 col2\" >0.16</td>\n",
       "      <td id=\"T_f1206_row5_col3\" class=\"data row5 col3\" >0.29</td>\n",
       "      <td id=\"T_f1206_row5_col4\" class=\"data row5 col4\" >0.11</td>\n",
       "      <td id=\"T_f1206_row5_col5\" class=\"data row5 col5\" >1.0</td>\n",
       "      <td id=\"T_f1206_row5_col6\" class=\"data row5 col6\" >0.34</td>\n",
       "      <td id=\"T_f1206_row5_col7\" class=\"data row5 col7\" >0.51</td>\n",
       "      <td id=\"T_f1206_row5_col8\" class=\"data row5 col8\" >0.11</td>\n",
       "      <td id=\"T_f1206_row5_col9\" class=\"data row5 col9\" >0.16</td>\n",
       "      <td id=\"T_f1206_row5_col10\" class=\"data row5 col10\" >0.077</td>\n",
       "      <td id=\"T_f1206_row5_col11\" class=\"data row5 col11\" >0.0</td>\n",
       "      <td id=\"T_f1206_row5_col12\" class=\"data row5 col12\" >0.0</td>\n",
       "      <td id=\"T_f1206_row5_col13\" class=\"data row5 col13\" >0.22</td>\n",
       "      <td id=\"T_f1206_row5_col14\" class=\"data row5 col14\" >0.48</td>\n",
       "      <td id=\"T_f1206_row5_col15\" class=\"data row5 col15\" >0.34</td>\n",
       "      <td id=\"T_f1206_row5_col16\" class=\"data row5 col16\" >0.59</td>\n",
       "      <td id=\"T_f1206_row5_col17\" class=\"data row5 col17\" >0.27</td>\n",
       "    </tr>\n",
       "    <tr>\n",
       "      <th id=\"T_f1206_level0_row6\" class=\"row_heading level0 row6\" >Distance</th>\n",
       "      <td id=\"T_f1206_row6_col0\" class=\"data row6 col0\" >0.44</td>\n",
       "      <td id=\"T_f1206_row6_col1\" class=\"data row6 col1\" >0.27</td>\n",
       "      <td id=\"T_f1206_row6_col2\" class=\"data row6 col2\" >0.29</td>\n",
       "      <td id=\"T_f1206_row6_col3\" class=\"data row6 col3\" >0.2</td>\n",
       "      <td id=\"T_f1206_row6_col4\" class=\"data row6 col4\" >0.16</td>\n",
       "      <td id=\"T_f1206_row6_col5\" class=\"data row6 col5\" >0.34</td>\n",
       "      <td id=\"T_f1206_row6_col6\" class=\"data row6 col6\" >1.0</td>\n",
       "      <td id=\"T_f1206_row6_col7\" class=\"data row6 col7\" >0.73</td>\n",
       "      <td id=\"T_f1206_row6_col8\" class=\"data row6 col8\" >0.29</td>\n",
       "      <td id=\"T_f1206_row6_col9\" class=\"data row6 col9\" >0.14</td>\n",
       "      <td id=\"T_f1206_row6_col10\" class=\"data row6 col10\" >0.26</td>\n",
       "      <td id=\"T_f1206_row6_col11\" class=\"data row6 col11\" >0.18</td>\n",
       "      <td id=\"T_f1206_row6_col12\" class=\"data row6 col12\" >0.28</td>\n",
       "      <td id=\"T_f1206_row6_col13\" class=\"data row6 col13\" >0.29</td>\n",
       "      <td id=\"T_f1206_row6_col14\" class=\"data row6 col14\" >0.9</td>\n",
       "      <td id=\"T_f1206_row6_col15\" class=\"data row6 col15\" >0.83</td>\n",
       "      <td id=\"T_f1206_row6_col16\" class=\"data row6 col16\" >0.73</td>\n",
       "      <td id=\"T_f1206_row6_col17\" class=\"data row6 col17\" >0.56</td>\n",
       "    </tr>\n",
       "    <tr>\n",
       "      <th id=\"T_f1206_level0_row7\" class=\"row_heading level0 row7\" >Postcode</th>\n",
       "      <td id=\"T_f1206_row7_col0\" class=\"data row7 col0\" >0.4</td>\n",
       "      <td id=\"T_f1206_row7_col1\" class=\"data row7 col1\" >0.12</td>\n",
       "      <td id=\"T_f1206_row7_col2\" class=\"data row7 col2\" >0.16</td>\n",
       "      <td id=\"T_f1206_row7_col3\" class=\"data row7 col3\" >0.26</td>\n",
       "      <td id=\"T_f1206_row7_col4\" class=\"data row7 col4\" >0.11</td>\n",
       "      <td id=\"T_f1206_row7_col5\" class=\"data row7 col5\" >0.51</td>\n",
       "      <td id=\"T_f1206_row7_col6\" class=\"data row7 col6\" >0.73</td>\n",
       "      <td id=\"T_f1206_row7_col7\" class=\"data row7 col7\" >1.0</td>\n",
       "      <td id=\"T_f1206_row7_col8\" class=\"data row7 col8\" >0.088</td>\n",
       "      <td id=\"T_f1206_row7_col9\" class=\"data row7 col9\" >0.19</td>\n",
       "      <td id=\"T_f1206_row7_col10\" class=\"data row7 col10\" >0.088</td>\n",
       "      <td id=\"T_f1206_row7_col11\" class=\"data row7 col11\" >0.13</td>\n",
       "      <td id=\"T_f1206_row7_col12\" class=\"data row7 col12\" >0.15</td>\n",
       "      <td id=\"T_f1206_row7_col13\" class=\"data row7 col13\" >0.079</td>\n",
       "      <td id=\"T_f1206_row7_col14\" class=\"data row7 col14\" >0.73</td>\n",
       "      <td id=\"T_f1206_row7_col15\" class=\"data row7 col15\" >0.76</td>\n",
       "      <td id=\"T_f1206_row7_col16\" class=\"data row7 col16\" >0.91</td>\n",
       "      <td id=\"T_f1206_row7_col17\" class=\"data row7 col17\" >0.39</td>\n",
       "    </tr>\n",
       "    <tr>\n",
       "      <th id=\"T_f1206_level0_row8\" class=\"row_heading level0 row8\" >Bedroom2</th>\n",
       "      <td id=\"T_f1206_row8_col0\" class=\"data row8 col0\" >0.12</td>\n",
       "      <td id=\"T_f1206_row8_col1\" class=\"data row8 col1\" >0.91</td>\n",
       "      <td id=\"T_f1206_row8_col2\" class=\"data row8 col2\" >0.74</td>\n",
       "      <td id=\"T_f1206_row8_col3\" class=\"data row8 col3\" >0.35</td>\n",
       "      <td id=\"T_f1206_row8_col4\" class=\"data row8 col4\" >0.075</td>\n",
       "      <td id=\"T_f1206_row8_col5\" class=\"data row8 col5\" >0.11</td>\n",
       "      <td id=\"T_f1206_row8_col6\" class=\"data row8 col6\" >0.29</td>\n",
       "      <td id=\"T_f1206_row8_col7\" class=\"data row8 col7\" >0.088</td>\n",
       "      <td id=\"T_f1206_row8_col8\" class=\"data row8 col8\" >1.0</td>\n",
       "      <td id=\"T_f1206_row8_col9\" class=\"data row8 col9\" >0.58</td>\n",
       "      <td id=\"T_f1206_row8_col10\" class=\"data row8 col10\" >0.38</td>\n",
       "      <td id=\"T_f1206_row8_col11\" class=\"data row8 col11\" >0.0</td>\n",
       "      <td id=\"T_f1206_row8_col12\" class=\"data row8 col12\" >0.05</td>\n",
       "      <td id=\"T_f1206_row8_col13\" class=\"data row8 col13\" >0.057</td>\n",
       "      <td id=\"T_f1206_row8_col14\" class=\"data row8 col14\" >0.17</td>\n",
       "      <td id=\"T_f1206_row8_col15\" class=\"data row8 col15\" >0.22</td>\n",
       "      <td id=\"T_f1206_row8_col16\" class=\"data row8 col16\" >0.18</td>\n",
       "      <td id=\"T_f1206_row8_col17\" class=\"data row8 col17\" >0.13</td>\n",
       "    </tr>\n",
       "    <tr>\n",
       "      <th id=\"T_f1206_level0_row9\" class=\"row_heading level0 row9\" >Bathroom</th>\n",
       "      <td id=\"T_f1206_row9_col0\" class=\"data row9 col0\" >0.12</td>\n",
       "      <td id=\"T_f1206_row9_col1\" class=\"data row9 col1\" >0.53</td>\n",
       "      <td id=\"T_f1206_row9_col2\" class=\"data row9 col2\" >0.33</td>\n",
       "      <td id=\"T_f1206_row9_col3\" class=\"data row9 col3\" >0.45</td>\n",
       "      <td id=\"T_f1206_row9_col4\" class=\"data row9 col4\" >0.1</td>\n",
       "      <td id=\"T_f1206_row9_col5\" class=\"data row9 col5\" >0.16</td>\n",
       "      <td id=\"T_f1206_row9_col6\" class=\"data row9 col6\" >0.14</td>\n",
       "      <td id=\"T_f1206_row9_col7\" class=\"data row9 col7\" >0.19</td>\n",
       "      <td id=\"T_f1206_row9_col8\" class=\"data row9 col8\" >0.58</td>\n",
       "      <td id=\"T_f1206_row9_col9\" class=\"data row9 col9\" >1.0</td>\n",
       "      <td id=\"T_f1206_row9_col10\" class=\"data row9 col10\" >0.32</td>\n",
       "      <td id=\"T_f1206_row9_col11\" class=\"data row9 col11\" >0.017</td>\n",
       "      <td id=\"T_f1206_row9_col12\" class=\"data row9 col12\" >0.0076</td>\n",
       "      <td id=\"T_f1206_row9_col13\" class=\"data row9 col13\" >0.0</td>\n",
       "      <td id=\"T_f1206_row9_col14\" class=\"data row9 col14\" >0.12</td>\n",
       "      <td id=\"T_f1206_row9_col15\" class=\"data row9 col15\" >0.14</td>\n",
       "      <td id=\"T_f1206_row9_col16\" class=\"data row9 col16\" >0.21</td>\n",
       "      <td id=\"T_f1206_row9_col17\" class=\"data row9 col17\" >0.1</td>\n",
       "    </tr>\n",
       "    <tr>\n",
       "      <th id=\"T_f1206_level0_row10\" class=\"row_heading level0 row10\" >Car</th>\n",
       "      <td id=\"T_f1206_row10_col0\" class=\"data row10 col0\" >0.089</td>\n",
       "      <td id=\"T_f1206_row10_col1\" class=\"data row10 col1\" >0.34</td>\n",
       "      <td id=\"T_f1206_row10_col2\" class=\"data row10 col2\" >0.44</td>\n",
       "      <td id=\"T_f1206_row10_col3\" class=\"data row10 col3\" >0.33</td>\n",
       "      <td id=\"T_f1206_row10_col4\" class=\"data row10 col4\" >0.05</td>\n",
       "      <td id=\"T_f1206_row10_col5\" class=\"data row10 col5\" >0.077</td>\n",
       "      <td id=\"T_f1206_row10_col6\" class=\"data row10 col6\" >0.26</td>\n",
       "      <td id=\"T_f1206_row10_col7\" class=\"data row10 col7\" >0.088</td>\n",
       "      <td id=\"T_f1206_row10_col8\" class=\"data row10 col8\" >0.38</td>\n",
       "      <td id=\"T_f1206_row10_col9\" class=\"data row10 col9\" >0.32</td>\n",
       "      <td id=\"T_f1206_row10_col10\" class=\"data row10 col10\" >1.0</td>\n",
       "      <td id=\"T_f1206_row10_col11\" class=\"data row10 col11\" >0.076</td>\n",
       "      <td id=\"T_f1206_row10_col12\" class=\"data row10 col12\" >0.14</td>\n",
       "      <td id=\"T_f1206_row10_col13\" class=\"data row10 col13\" >0.033</td>\n",
       "      <td id=\"T_f1206_row10_col14\" class=\"data row10 col14\" >0.16</td>\n",
       "      <td id=\"T_f1206_row10_col15\" class=\"data row10 col15\" >0.2</td>\n",
       "      <td id=\"T_f1206_row10_col16\" class=\"data row10 col16\" >0.13</td>\n",
       "      <td id=\"T_f1206_row10_col17\" class=\"data row10 col17\" >0.1</td>\n",
       "    </tr>\n",
       "    <tr>\n",
       "      <th id=\"T_f1206_level0_row11\" class=\"row_heading level0 row11\" >Landsize</th>\n",
       "      <td id=\"T_f1206_row11_col0\" class=\"data row11 col0\" >0.0</td>\n",
       "      <td id=\"T_f1206_row11_col1\" class=\"data row11 col1\" >0.0</td>\n",
       "      <td id=\"T_f1206_row11_col2\" class=\"data row11 col2\" >0.0</td>\n",
       "      <td id=\"T_f1206_row11_col3\" class=\"data row11 col3\" >0.0056</td>\n",
       "      <td id=\"T_f1206_row11_col4\" class=\"data row11 col4\" >0.018</td>\n",
       "      <td id=\"T_f1206_row11_col5\" class=\"data row11 col5\" >0.0</td>\n",
       "      <td id=\"T_f1206_row11_col6\" class=\"data row11 col6\" >0.18</td>\n",
       "      <td id=\"T_f1206_row11_col7\" class=\"data row11 col7\" >0.13</td>\n",
       "      <td id=\"T_f1206_row11_col8\" class=\"data row11 col8\" >0.0</td>\n",
       "      <td id=\"T_f1206_row11_col9\" class=\"data row11 col9\" >0.017</td>\n",
       "      <td id=\"T_f1206_row11_col10\" class=\"data row11 col10\" >0.076</td>\n",
       "      <td id=\"T_f1206_row11_col11\" class=\"data row11 col11\" >1.0</td>\n",
       "      <td id=\"T_f1206_row11_col12\" class=\"data row11 col12\" >0.75</td>\n",
       "      <td id=\"T_f1206_row11_col13\" class=\"data row11 col13\" >0.0</td>\n",
       "      <td id=\"T_f1206_row11_col14\" class=\"data row11 col14\" >0.32</td>\n",
       "      <td id=\"T_f1206_row11_col15\" class=\"data row11 col15\" >0.24</td>\n",
       "      <td id=\"T_f1206_row11_col16\" class=\"data row11 col16\" >0.13</td>\n",
       "      <td id=\"T_f1206_row11_col17\" class=\"data row11 col17\" >0.015</td>\n",
       "    </tr>\n",
       "    <tr>\n",
       "      <th id=\"T_f1206_level0_row12\" class=\"row_heading level0 row12\" >BuildingArea</th>\n",
       "      <td id=\"T_f1206_row12_col0\" class=\"data row12 col0\" >0.0</td>\n",
       "      <td id=\"T_f1206_row12_col1\" class=\"data row12 col1\" >0.044</td>\n",
       "      <td id=\"T_f1206_row12_col2\" class=\"data row12 col2\" >0.0</td>\n",
       "      <td id=\"T_f1206_row12_col3\" class=\"data row12 col3\" >0.0</td>\n",
       "      <td id=\"T_f1206_row12_col4\" class=\"data row12 col4\" >0.0</td>\n",
       "      <td id=\"T_f1206_row12_col5\" class=\"data row12 col5\" >0.0</td>\n",
       "      <td id=\"T_f1206_row12_col6\" class=\"data row12 col6\" >0.28</td>\n",
       "      <td id=\"T_f1206_row12_col7\" class=\"data row12 col7\" >0.15</td>\n",
       "      <td id=\"T_f1206_row12_col8\" class=\"data row12 col8\" >0.05</td>\n",
       "      <td id=\"T_f1206_row12_col9\" class=\"data row12 col9\" >0.0076</td>\n",
       "      <td id=\"T_f1206_row12_col10\" class=\"data row12 col10\" >0.14</td>\n",
       "      <td id=\"T_f1206_row12_col11\" class=\"data row12 col11\" >0.75</td>\n",
       "      <td id=\"T_f1206_row12_col12\" class=\"data row12 col12\" >1.0</td>\n",
       "      <td id=\"T_f1206_row12_col13\" class=\"data row12 col13\" >0.0</td>\n",
       "      <td id=\"T_f1206_row12_col14\" class=\"data row12 col14\" >0.51</td>\n",
       "      <td id=\"T_f1206_row12_col15\" class=\"data row12 col15\" >0.14</td>\n",
       "      <td id=\"T_f1206_row12_col16\" class=\"data row12 col16\" >0.17</td>\n",
       "      <td id=\"T_f1206_row12_col17\" class=\"data row12 col17\" >0.0</td>\n",
       "    </tr>\n",
       "    <tr>\n",
       "      <th id=\"T_f1206_level0_row13\" class=\"row_heading level0 row13\" >YearBuilt</th>\n",
       "      <td id=\"T_f1206_row13_col0\" class=\"data row13 col0\" >0.13</td>\n",
       "      <td id=\"T_f1206_row13_col1\" class=\"data row13 col1\" >0.12</td>\n",
       "      <td id=\"T_f1206_row13_col2\" class=\"data row13 col2\" >0.4</td>\n",
       "      <td id=\"T_f1206_row13_col3\" class=\"data row13 col3\" >0.33</td>\n",
       "      <td id=\"T_f1206_row13_col4\" class=\"data row13 col4\" >0.013</td>\n",
       "      <td id=\"T_f1206_row13_col5\" class=\"data row13 col5\" >0.22</td>\n",
       "      <td id=\"T_f1206_row13_col6\" class=\"data row13 col6\" >0.29</td>\n",
       "      <td id=\"T_f1206_row13_col7\" class=\"data row13 col7\" >0.079</td>\n",
       "      <td id=\"T_f1206_row13_col8\" class=\"data row13 col8\" >0.057</td>\n",
       "      <td id=\"T_f1206_row13_col9\" class=\"data row13 col9\" >0.0</td>\n",
       "      <td id=\"T_f1206_row13_col10\" class=\"data row13 col10\" >0.033</td>\n",
       "      <td id=\"T_f1206_row13_col11\" class=\"data row13 col11\" >0.0</td>\n",
       "      <td id=\"T_f1206_row13_col12\" class=\"data row13 col12\" >0.0</td>\n",
       "      <td id=\"T_f1206_row13_col13\" class=\"data row13 col13\" >1.0</td>\n",
       "      <td id=\"T_f1206_row13_col14\" class=\"data row13 col14\" >0.2</td>\n",
       "      <td id=\"T_f1206_row13_col15\" class=\"data row13 col15\" >0.2</td>\n",
       "      <td id=\"T_f1206_row13_col16\" class=\"data row13 col16\" >0.16</td>\n",
       "      <td id=\"T_f1206_row13_col17\" class=\"data row13 col17\" >0.15</td>\n",
       "    </tr>\n",
       "    <tr>\n",
       "      <th id=\"T_f1206_level0_row14\" class=\"row_heading level0 row14\" >Lattitude</th>\n",
       "      <td id=\"T_f1206_row14_col0\" class=\"data row14 col0\" >0.43</td>\n",
       "      <td id=\"T_f1206_row14_col1\" class=\"data row14 col1\" >0.17</td>\n",
       "      <td id=\"T_f1206_row14_col2\" class=\"data row14 col2\" >0.25</td>\n",
       "      <td id=\"T_f1206_row14_col3\" class=\"data row14 col3\" >0.35</td>\n",
       "      <td id=\"T_f1206_row14_col4\" class=\"data row14 col4\" >0.14</td>\n",
       "      <td id=\"T_f1206_row14_col5\" class=\"data row14 col5\" >0.48</td>\n",
       "      <td id=\"T_f1206_row14_col6\" class=\"data row14 col6\" >0.9</td>\n",
       "      <td id=\"T_f1206_row14_col7\" class=\"data row14 col7\" >0.73</td>\n",
       "      <td id=\"T_f1206_row14_col8\" class=\"data row14 col8\" >0.17</td>\n",
       "      <td id=\"T_f1206_row14_col9\" class=\"data row14 col9\" >0.12</td>\n",
       "      <td id=\"T_f1206_row14_col10\" class=\"data row14 col10\" >0.16</td>\n",
       "      <td id=\"T_f1206_row14_col11\" class=\"data row14 col11\" >0.32</td>\n",
       "      <td id=\"T_f1206_row14_col12\" class=\"data row14 col12\" >0.51</td>\n",
       "      <td id=\"T_f1206_row14_col13\" class=\"data row14 col13\" >0.2</td>\n",
       "      <td id=\"T_f1206_row14_col14\" class=\"data row14 col14\" >1.0</td>\n",
       "      <td id=\"T_f1206_row14_col15\" class=\"data row14 col15\" >0.65</td>\n",
       "      <td id=\"T_f1206_row14_col16\" class=\"data row14 col16\" >0.72</td>\n",
       "      <td id=\"T_f1206_row14_col17\" class=\"data row14 col17\" >0.58</td>\n",
       "    </tr>\n",
       "    <tr>\n",
       "      <th id=\"T_f1206_level0_row15\" class=\"row_heading level0 row15\" >Longtitude</th>\n",
       "      <td id=\"T_f1206_row15_col0\" class=\"data row15 col0\" >0.33</td>\n",
       "      <td id=\"T_f1206_row15_col1\" class=\"data row15 col1\" >0.22</td>\n",
       "      <td id=\"T_f1206_row15_col2\" class=\"data row15 col2\" >0.23</td>\n",
       "      <td id=\"T_f1206_row15_col3\" class=\"data row15 col3\" >0.32</td>\n",
       "      <td id=\"T_f1206_row15_col4\" class=\"data row15 col4\" >0.17</td>\n",
       "      <td id=\"T_f1206_row15_col5\" class=\"data row15 col5\" >0.34</td>\n",
       "      <td id=\"T_f1206_row15_col6\" class=\"data row15 col6\" >0.83</td>\n",
       "      <td id=\"T_f1206_row15_col7\" class=\"data row15 col7\" >0.76</td>\n",
       "      <td id=\"T_f1206_row15_col8\" class=\"data row15 col8\" >0.22</td>\n",
       "      <td id=\"T_f1206_row15_col9\" class=\"data row15 col9\" >0.14</td>\n",
       "      <td id=\"T_f1206_row15_col10\" class=\"data row15 col10\" >0.2</td>\n",
       "      <td id=\"T_f1206_row15_col11\" class=\"data row15 col11\" >0.24</td>\n",
       "      <td id=\"T_f1206_row15_col12\" class=\"data row15 col12\" >0.14</td>\n",
       "      <td id=\"T_f1206_row15_col13\" class=\"data row15 col13\" >0.2</td>\n",
       "      <td id=\"T_f1206_row15_col14\" class=\"data row15 col14\" >0.65</td>\n",
       "      <td id=\"T_f1206_row15_col15\" class=\"data row15 col15\" >1.0</td>\n",
       "      <td id=\"T_f1206_row15_col16\" class=\"data row15 col16\" >0.82</td>\n",
       "      <td id=\"T_f1206_row15_col17\" class=\"data row15 col17\" >0.41</td>\n",
       "    </tr>\n",
       "    <tr>\n",
       "      <th id=\"T_f1206_level0_row16\" class=\"row_heading level0 row16\" >Regionname</th>\n",
       "      <td id=\"T_f1206_row16_col0\" class=\"data row16 col0\" >0.56</td>\n",
       "      <td id=\"T_f1206_row16_col1\" class=\"data row16 col1\" >0.19</td>\n",
       "      <td id=\"T_f1206_row16_col2\" class=\"data row16 col2\" >0.24</td>\n",
       "      <td id=\"T_f1206_row16_col3\" class=\"data row16 col3\" >0.29</td>\n",
       "      <td id=\"T_f1206_row16_col4\" class=\"data row16 col4\" >0.13</td>\n",
       "      <td id=\"T_f1206_row16_col5\" class=\"data row16 col5\" >0.59</td>\n",
       "      <td id=\"T_f1206_row16_col6\" class=\"data row16 col6\" >0.73</td>\n",
       "      <td id=\"T_f1206_row16_col7\" class=\"data row16 col7\" >0.91</td>\n",
       "      <td id=\"T_f1206_row16_col8\" class=\"data row16 col8\" >0.18</td>\n",
       "      <td id=\"T_f1206_row16_col9\" class=\"data row16 col9\" >0.21</td>\n",
       "      <td id=\"T_f1206_row16_col10\" class=\"data row16 col10\" >0.13</td>\n",
       "      <td id=\"T_f1206_row16_col11\" class=\"data row16 col11\" >0.13</td>\n",
       "      <td id=\"T_f1206_row16_col12\" class=\"data row16 col12\" >0.17</td>\n",
       "      <td id=\"T_f1206_row16_col13\" class=\"data row16 col13\" >0.16</td>\n",
       "      <td id=\"T_f1206_row16_col14\" class=\"data row16 col14\" >0.72</td>\n",
       "      <td id=\"T_f1206_row16_col15\" class=\"data row16 col15\" >0.82</td>\n",
       "      <td id=\"T_f1206_row16_col16\" class=\"data row16 col16\" >1.0</td>\n",
       "      <td id=\"T_f1206_row16_col17\" class=\"data row16 col17\" >0.41</td>\n",
       "    </tr>\n",
       "    <tr>\n",
       "      <th id=\"T_f1206_level0_row17\" class=\"row_heading level0 row17\" >Propertycount</th>\n",
       "      <td id=\"T_f1206_row17_col0\" class=\"data row17 col0\" >0.8</td>\n",
       "      <td id=\"T_f1206_row17_col1\" class=\"data row17 col1\" >0.14</td>\n",
       "      <td id=\"T_f1206_row17_col2\" class=\"data row17 col2\" >0.21</td>\n",
       "      <td id=\"T_f1206_row17_col3\" class=\"data row17 col3\" >0.23</td>\n",
       "      <td id=\"T_f1206_row17_col4\" class=\"data row17 col4\" >0.1</td>\n",
       "      <td id=\"T_f1206_row17_col5\" class=\"data row17 col5\" >0.27</td>\n",
       "      <td id=\"T_f1206_row17_col6\" class=\"data row17 col6\" >0.56</td>\n",
       "      <td id=\"T_f1206_row17_col7\" class=\"data row17 col7\" >0.39</td>\n",
       "      <td id=\"T_f1206_row17_col8\" class=\"data row17 col8\" >0.13</td>\n",
       "      <td id=\"T_f1206_row17_col9\" class=\"data row17 col9\" >0.1</td>\n",
       "      <td id=\"T_f1206_row17_col10\" class=\"data row17 col10\" >0.1</td>\n",
       "      <td id=\"T_f1206_row17_col11\" class=\"data row17 col11\" >0.015</td>\n",
       "      <td id=\"T_f1206_row17_col12\" class=\"data row17 col12\" >0.0</td>\n",
       "      <td id=\"T_f1206_row17_col13\" class=\"data row17 col13\" >0.15</td>\n",
       "      <td id=\"T_f1206_row17_col14\" class=\"data row17 col14\" >0.58</td>\n",
       "      <td id=\"T_f1206_row17_col15\" class=\"data row17 col15\" >0.41</td>\n",
       "      <td id=\"T_f1206_row17_col16\" class=\"data row17 col16\" >0.41</td>\n",
       "      <td id=\"T_f1206_row17_col17\" class=\"data row17 col17\" >1.0</td>\n",
       "    </tr>\n",
       "  </tbody>\n",
       "</table>\n"
      ],
      "text/plain": [
       "<pandas.io.formats.style.Styler at 0x7fddf1bcfbe0>"
      ]
     },
     "metadata": {},
     "output_type": "display_data"
    },
    {
     "data": {
      "text/markdown": [
       "* the calculation of $\\phi_K$ is computationally expensive"
      ],
      "text/plain": [
       "<IPython.core.display.Markdown object>"
      ]
     },
     "metadata": {},
     "output_type": "display_data"
    },
    {
     "data": {
      "text/markdown": [
       "* no indication of direction"
      ],
      "text/plain": [
       "<IPython.core.display.Markdown object>"
      ]
     },
     "metadata": {},
     "output_type": "display_data"
    },
    {
     "data": {
      "text/markdown": [
       "* no closed-form formula"
      ],
      "text/plain": [
       "<IPython.core.display.Markdown object>"
      ]
     },
     "metadata": {},
     "output_type": "display_data"
    },
    {
     "data": {
      "text/markdown": [
       "* when working with numeric-only variables, other correlation coefficients will be more precise, especially for small samples."
      ],
      "text/plain": [
       "<IPython.core.display.Markdown object>"
      ]
     },
     "metadata": {},
     "output_type": "display_data"
    },
    {
     "data": {
      "text/markdown": [
       "* it is based on several refinements to Pearson’s $\\chi^2$ contingency test"
      ],
      "text/plain": [
       "<IPython.core.display.Markdown object>"
      ]
     },
     "metadata": {},
     "output_type": "display_data"
    }
   ],
   "source": [
    "eda.correlation_phik(data_test, theory=True)"
   ]
  },
  {
   "attachments": {},
   "cell_type": "markdown",
   "metadata": {},
   "source": [
    "## Interaction <a class=\"anchor\" id=\"interaction\"></a>"
   ]
  },
  {
   "cell_type": "code",
   "execution_count": 24,
   "metadata": {},
   "outputs": [
    {
     "data": {
      "application/vnd.jupyter.widget-view+json": {
       "model_id": "95bca3d382e647e0bf27d173787a7c4f",
       "version_major": 2,
       "version_minor": 0
      },
      "text/plain": [
       "interactive(children=(Dropdown(description='column1', options=('Price', 'Distance', 'Postcode', 'Bedroom2', 'B…"
      ]
     },
     "metadata": {},
     "output_type": "display_data"
    }
   ],
   "source": [
    "eda.interaction(data_test)"
   ]
  },
  {
   "attachments": {},
   "cell_type": "markdown",
   "metadata": {},
   "source": [
    "## Inspection <a class=\"anchor\" id=\"inspection\"></a>"
   ]
  },
  {
   "cell_type": "code",
   "execution_count": 25,
   "metadata": {},
   "outputs": [
    {
     "data": {
      "application/vnd.jupyter.widget-view+json": {
       "model_id": "38b64835a2474377a805e6223b6aa657",
       "version_major": 2,
       "version_minor": 0
      },
      "text/plain": [
       "interactive(children=(Dropdown(description='column', options=('Suburb', 'Rooms', 'Type', 'Price', 'Method', 'S…"
      ]
     },
     "metadata": {},
     "output_type": "display_data"
    }
   ],
   "source": [
    "eda.inspection(data_test)"
   ]
  },
  {
   "attachments": {},
   "cell_type": "markdown",
   "metadata": {},
   "source": [
    "## Split and scaling <a class=\"anchor\" id=\"split\"></a>"
   ]
  },
  {
   "cell_type": "code",
   "execution_count": 27,
   "metadata": {},
   "outputs": [
    {
     "name": "stdout",
     "output_type": "stream",
     "text": [
      "(13580, 17)\n"
     ]
    },
    {
     "data": {
      "text/html": [
       "<div>\n",
       "<style scoped>\n",
       "    .dataframe tbody tr th:only-of-type {\n",
       "        vertical-align: middle;\n",
       "    }\n",
       "\n",
       "    .dataframe tbody tr th {\n",
       "        vertical-align: top;\n",
       "    }\n",
       "\n",
       "    .dataframe thead th {\n",
       "        text-align: right;\n",
       "    }\n",
       "</style>\n",
       "<table border=\"1\" class=\"dataframe\">\n",
       "  <thead>\n",
       "    <tr style=\"text-align: right;\">\n",
       "      <th></th>\n",
       "      <th>Suburb</th>\n",
       "      <th>Rooms</th>\n",
       "      <th>Type</th>\n",
       "      <th>Method</th>\n",
       "      <th>SellerG</th>\n",
       "      <th>Distance</th>\n",
       "      <th>Postcode</th>\n",
       "      <th>Bedroom2</th>\n",
       "      <th>Bathroom</th>\n",
       "      <th>Car</th>\n",
       "      <th>Landsize</th>\n",
       "      <th>BuildingArea</th>\n",
       "      <th>YearBuilt</th>\n",
       "      <th>Lattitude</th>\n",
       "      <th>Longtitude</th>\n",
       "      <th>Regionname</th>\n",
       "      <th>Propertycount</th>\n",
       "    </tr>\n",
       "  </thead>\n",
       "  <tbody>\n",
       "    <tr>\n",
       "      <th>0</th>\n",
       "      <td>Other</td>\n",
       "      <td>2</td>\n",
       "      <td>h</td>\n",
       "      <td>S</td>\n",
       "      <td>Other</td>\n",
       "      <td>-1.303179</td>\n",
       "      <td>-0.422415</td>\n",
       "      <td>-0.955838</td>\n",
       "      <td>-0.780235</td>\n",
       "      <td>-0.900089</td>\n",
       "      <td>-0.112757</td>\n",
       "      <td>-0.000485</td>\n",
       "      <td>0.000000</td>\n",
       "      <td>0.121160</td>\n",
       "      <td>0.030640</td>\n",
       "      <td>Northern Metropolitan</td>\n",
       "      <td>-0.784625</td>\n",
       "    </tr>\n",
       "    <tr>\n",
       "      <th>1</th>\n",
       "      <td>Other</td>\n",
       "      <td>2</td>\n",
       "      <td>h</td>\n",
       "      <td>S</td>\n",
       "      <td>Other</td>\n",
       "      <td>-1.303179</td>\n",
       "      <td>-0.422415</td>\n",
       "      <td>-0.955838</td>\n",
       "      <td>-0.780235</td>\n",
       "      <td>0.282403</td>\n",
       "      <td>-0.124303</td>\n",
       "      <td>-0.186650</td>\n",
       "      <td>-2.232709</td>\n",
       "      <td>0.016437</td>\n",
       "      <td>-0.017478</td>\n",
       "      <td>Northern Metropolitan</td>\n",
       "      <td>-0.784625</td>\n",
       "    </tr>\n",
       "    <tr>\n",
       "      <th>2</th>\n",
       "      <td>Other</td>\n",
       "      <td>3</td>\n",
       "      <td>h</td>\n",
       "      <td>SP</td>\n",
       "      <td>Other</td>\n",
       "      <td>-1.303179</td>\n",
       "      <td>-0.422415</td>\n",
       "      <td>0.085083</td>\n",
       "      <td>0.673406</td>\n",
       "      <td>0.282403</td>\n",
       "      <td>-0.129825</td>\n",
       "      <td>-0.005505</td>\n",
       "      <td>-2.232709</td>\n",
       "      <td>-0.001227</td>\n",
       "      <td>-0.007855</td>\n",
       "      <td>Northern Metropolitan</td>\n",
       "      <td>-0.784625</td>\n",
       "    </tr>\n",
       "    <tr>\n",
       "      <th>3</th>\n",
       "      <td>Other</td>\n",
       "      <td>3</td>\n",
       "      <td>h</td>\n",
       "      <td>PI</td>\n",
       "      <td>Other</td>\n",
       "      <td>-1.303179</td>\n",
       "      <td>-0.422415</td>\n",
       "      <td>0.085083</td>\n",
       "      <td>0.673406</td>\n",
       "      <td>-0.900089</td>\n",
       "      <td>-0.139865</td>\n",
       "      <td>-0.000485</td>\n",
       "      <td>0.000000</td>\n",
       "      <td>0.155226</td>\n",
       "      <td>0.016204</td>\n",
       "      <td>Northern Metropolitan</td>\n",
       "      <td>-0.784625</td>\n",
       "    </tr>\n",
       "    <tr>\n",
       "      <th>4</th>\n",
       "      <td>Other</td>\n",
       "      <td>4</td>\n",
       "      <td>h</td>\n",
       "      <td>VB</td>\n",
       "      <td>Nelson</td>\n",
       "      <td>-1.303179</td>\n",
       "      <td>-0.422415</td>\n",
       "      <td>0.085083</td>\n",
       "      <td>-0.780235</td>\n",
       "      <td>0.282403</td>\n",
       "      <td>-0.133339</td>\n",
       "      <td>-0.025916</td>\n",
       "      <td>1.702236</td>\n",
       "      <td>0.025269</td>\n",
       "      <td>-0.010742</td>\n",
       "      <td>Northern Metropolitan</td>\n",
       "      <td>-0.784625</td>\n",
       "    </tr>\n",
       "  </tbody>\n",
       "</table>\n",
       "</div>"
      ],
      "text/plain": [
       "  Suburb Rooms Type Method SellerG  Distance  Postcode  Bedroom2  Bathroom  \\\n",
       "0  Other     2    h      S   Other -1.303179 -0.422415 -0.955838 -0.780235   \n",
       "1  Other     2    h      S   Other -1.303179 -0.422415 -0.955838 -0.780235   \n",
       "2  Other     3    h     SP   Other -1.303179 -0.422415  0.085083  0.673406   \n",
       "3  Other     3    h     PI   Other -1.303179 -0.422415  0.085083  0.673406   \n",
       "4  Other     4    h     VB  Nelson -1.303179 -0.422415  0.085083 -0.780235   \n",
       "\n",
       "        Car  Landsize  BuildingArea  YearBuilt  Lattitude  Longtitude  \\\n",
       "0 -0.900089 -0.112757     -0.000485   0.000000   0.121160    0.030640   \n",
       "1  0.282403 -0.124303     -0.186650  -2.232709   0.016437   -0.017478   \n",
       "2  0.282403 -0.129825     -0.005505  -2.232709  -0.001227   -0.007855   \n",
       "3 -0.900089 -0.139865     -0.000485   0.000000   0.155226    0.016204   \n",
       "4  0.282403 -0.133339     -0.025916   1.702236   0.025269   -0.010742   \n",
       "\n",
       "              Regionname  Propertycount  \n",
       "0  Northern Metropolitan      -0.784625  \n",
       "1  Northern Metropolitan      -0.784625  \n",
       "2  Northern Metropolitan      -0.784625  \n",
       "3  Northern Metropolitan      -0.784625  \n",
       "4  Northern Metropolitan      -0.784625  "
      ]
     },
     "metadata": {},
     "output_type": "display_data"
    },
    {
     "name": "stdout",
     "output_type": "stream",
     "text": [
      "(13580,)\n"
     ]
    },
    {
     "data": {
      "text/plain": [
       "0    1480000.0\n",
       "1    1035000.0\n",
       "2    1465000.0\n",
       "3     850000.0\n",
       "4    1600000.0\n",
       "Name: Price, dtype: float64"
      ]
     },
     "metadata": {},
     "output_type": "display_data"
    }
   ],
   "source": [
    "X, y = eda.split_and_scaling(data = data_test, target='Price')\n",
    "print(X.shape)\n",
    "display(X.head())\n",
    "print(y.shape)\n",
    "display(y.head())"
   ]
  },
  {
   "attachments": {},
   "cell_type": "markdown",
   "metadata": {},
   "source": [
    "## Save the datasets"
   ]
  },
  {
   "cell_type": "code",
   "execution_count": 28,
   "metadata": {},
   "outputs": [],
   "source": [
    "X.to_csv('X.csv', index=False, sep=';')\n",
    "y.to_csv('y.csv', index=False, sep=';')"
   ]
  }
 ],
 "metadata": {
  "kernelspec": {
   "display_name": "base",
   "language": "python",
   "name": "python3"
  },
  "language_info": {
   "codemirror_mode": {
    "name": "ipython",
    "version": 3
   },
   "file_extension": ".py",
   "mimetype": "text/x-python",
   "name": "python",
   "nbconvert_exporter": "python",
   "pygments_lexer": "ipython3",
   "version": "3.9.12"
  },
  "orig_nbformat": 4,
  "vscode": {
   "interpreter": {
    "hash": "15e176b7a587bacf763a05742bf3c7db92d21fd4b7733f76dbff0ddb1181ff96"
   }
  }
 },
 "nbformat": 4,
 "nbformat_minor": 2
}
